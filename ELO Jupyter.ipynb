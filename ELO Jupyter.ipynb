{
 "cells": [
  {
   "cell_type": "markdown",
   "id": "35140867-4809-4565-b471-e73b2136535f",
   "metadata": {},
   "source": [
    "# Erstmal \"Run -> Run All Cells\"\n",
    "\n",
    "Vielleicht auch \"View -> Collaps all code\""
   ]
  },
  {
   "cell_type": "code",
   "execution_count": 1,
   "id": "ae5a6f3a",
   "metadata": {
    "jupyter": {
     "source_hidden": true
    },
    "scrolled": true,
    "tags": []
   },
   "outputs": [
    {
     "name": "stdout",
     "output_type": "stream",
     "text": [
      "Loading modules (0/3)...\n",
      "Module 1 loaded (1/3)...\n",
      "Module 2 loaded (2/3)...\n",
      "Module 3 loaded (3/3)...Done!\n",
      "\n",
      "Connection established\n",
      "You are now logged into Terraforming Mars's Leaderbord.\n"
     ]
    }
   ],
   "source": [
    "from contextlib import contextmanager\n",
    "import sys, os\n",
    "\n",
    "@contextmanager\n",
    "def suppress_stdout():\n",
    "    with open(os.devnull, \"w\") as devnull:\n",
    "        old_stdout = sys.stdout\n",
    "        sys.stdout = devnull\n",
    "        try:  \n",
    "            yield\n",
    "        finally:\n",
    "            sys.stdout = old_stdout\n",
    "\n",
    "print(\"Loading modules (0/3)...\")\n",
    "with suppress_stdout():\n",
    "    %pip install matplotlib\n",
    "print(\"Module 1 loaded (1/3)...\")\n",
    "      \n",
    "with suppress_stdout():\n",
    "    %pip install ZODB\n",
    "print(\"Module 2 loaded (2/3)...\")\n",
    "      \n",
    "with suppress_stdout():\n",
    "    %pip install PyGithub\n",
    "    %matplotlib inline\n",
    "print(\"Module 3 loaded (3/3)...Done!\")\n",
    "print()\n",
    "    \n",
    "from ipywidgets import interact, interactive, fixed, interact_manual, widgets\n",
    "from DatabaseManagement import LeaderBoard, Player, Match, dbConnection, selectLeaderBoard\n",
    "import TM_util as TM\n",
    "database = dbConnection(\"TheRealShit.fs\")\n",
    "selected = selectLeaderBoard(database.root, \"Terraforming Mars\")"
   ]
  },
  {
   "cell_type": "markdown",
   "id": "a14b8aea",
   "metadata": {
    "tags": []
   },
   "source": [
    "# Willkommen in der ELO Hell!"
   ]
  },
  {
   "cell_type": "code",
   "execution_count": 2,
   "id": "7e3040e1-25ae-46e3-940d-4c532826961e",
   "metadata": {
    "jupyter": {
     "source_hidden": true
    },
    "tags": []
   },
   "outputs": [
    {
     "data": {
      "application/vnd.jupyter.widget-view+json": {
       "model_id": "bab1fb5e949440deb71ae9022c013fe1",
       "version_major": 2,
       "version_minor": 0
      },
      "text/plain": [
       "Image(value=b'\\xff\\xd8\\xff\\xe1\\x14\\x89Exif\\x00\\x00MM\\x00*\\x00\\x00\\x00\\x08\\x00\\x0e\\x01\\x00\\x00\\x03\\x00\\x00\\x00\\…"
      ]
     },
     "metadata": {},
     "output_type": "display_data"
    }
   ],
   "source": [
    "wallpaper = open(\"Wallpaper.jpg\", \"rb\").read()\n",
    "widgets.Image(value=wallpaper, format='jpg')"
   ]
  },
  {
   "cell_type": "markdown",
   "id": "b5dfd349",
   "metadata": {
    "tags": []
   },
   "source": [
    "## Trage ein neues Spiel ein\n",
    "\n",
    "Der Reihe nach die Plätze eintragen. Punkte werden dabei nur als Zusatzinfo betrachtet. Die richtige Reihenfolge ist also entscheidend"
   ]
  },
  {
   "cell_type": "code",
   "execution_count": 3,
   "id": "284e9782",
   "metadata": {
    "jupyter": {
     "source_hidden": true
    },
    "tags": []
   },
   "outputs": [
    {
     "data": {
      "application/vnd.jupyter.widget-view+json": {
       "model_id": "2bc059339d3e4bc3946cd24f23db724b",
       "version_major": 2,
       "version_minor": 0
      },
      "text/plain": [
       "DatePicker(value=None, description='Datum:')"
      ]
     },
     "metadata": {},
     "output_type": "display_data"
    },
    {
     "data": {
      "application/vnd.jupyter.widget-view+json": {
       "model_id": "8dabcdb44f004939a8a8bba597a94d8f",
       "version_major": 2,
       "version_minor": 0
      },
      "text/plain": [
       "Box(children=(Combobox(value='', description='Erster: ', options=('Lax', 'Felix', 'Simon', 'Nick', 'Steve', 'J…"
      ]
     },
     "metadata": {},
     "output_type": "display_data"
    },
    {
     "data": {
      "application/vnd.jupyter.widget-view+json": {
       "model_id": "44b4a67d70f04e0a88e4861d695d0954",
       "version_major": 2,
       "version_minor": 0
      },
      "text/plain": [
       "Box(children=(Combobox(value='', description='Zweiter: ', options=('Lax', 'Felix', 'Simon', 'Nick', 'Steve', '…"
      ]
     },
     "metadata": {},
     "output_type": "display_data"
    },
    {
     "data": {
      "application/vnd.jupyter.widget-view+json": {
       "model_id": "45f923a3add6477aaa4c1c970c30d09a",
       "version_major": 2,
       "version_minor": 0
      },
      "text/plain": [
       "Box(children=(Combobox(value='', description='Dritter: ', options=('Lax', 'Felix', 'Simon', 'Nick', 'Steve', '…"
      ]
     },
     "metadata": {},
     "output_type": "display_data"
    },
    {
     "data": {
      "application/vnd.jupyter.widget-view+json": {
       "model_id": "740a5f16865b4171bcb8b5917f7d31ac",
       "version_major": 2,
       "version_minor": 0
      },
      "text/plain": [
       "Box(children=(Combobox(value='', description='Vierter: ', options=('Lax', 'Felix', 'Simon', 'Nick', 'Steve', '…"
      ]
     },
     "metadata": {},
     "output_type": "display_data"
    },
    {
     "data": {
      "application/vnd.jupyter.widget-view+json": {
       "model_id": "bf9933d6ac224f7bad50e00b6ff0a430",
       "version_major": 2,
       "version_minor": 0
      },
      "text/plain": [
       "Box(children=(Combobox(value='', description='Fünfter: ', options=('Lax', 'Felix', 'Simon', 'Nick', 'Steve', '…"
      ]
     },
     "metadata": {},
     "output_type": "display_data"
    },
    {
     "data": {
      "application/vnd.jupyter.widget-view+json": {
       "model_id": "5c846d243f8947b6962c768ae1092b7a",
       "version_major": 2,
       "version_minor": 0
      },
      "text/plain": [
       "Box(children=(Checkbox(value=True, description='Prelude', layout=Layout(width='20%')), Checkbox(value=True, de…"
      ]
     },
     "metadata": {},
     "output_type": "display_data"
    },
    {
     "data": {
      "application/vnd.jupyter.widget-view+json": {
       "model_id": "61d880d0b9df4e06892dd98ac59cbdb2",
       "version_major": 2,
       "version_minor": 0
      },
      "text/plain": [
       "HBox(children=(Button(description='Spiel eintragen!', style=ButtonStyle()), Button(description='Weiteres Spiel…"
      ]
     },
     "metadata": {},
     "output_type": "display_data"
    },
    {
     "data": {
      "application/vnd.jupyter.widget-view+json": {
       "model_id": "5d594f647aba4b8bbef6fc3e2e52dc68",
       "version_major": 2,
       "version_minor": 0
      },
      "text/plain": [
       "Output()"
      ]
     },
     "metadata": {},
     "output_type": "display_data"
    }
   ],
   "source": [
    "playerNames = [player.name for player in selected.sortedPlayerList(ordering=\"matches\")]\n",
    "\n",
    "matchDate  = widgets.DatePicker(description='Datum:')\n",
    "Place, ScoreBox, ScoreSlide, ScoreLink, Score, Info, Box, Exp = [[],[],[],[],[],[],[],[]]\n",
    "\n",
    "for i in range(5):\n",
    "    Place.append(widgets.Combobox(placeholder=\"Wähle Spieler\", options=playerNames, description = TM.nameOfPlaces[i+1]))\n",
    "    ScoreBox.append(widgets.IntText(description = \"Punkte:\"))\n",
    "    ScoreSlide.append(widgets.IntSlider(min=0, max=200, readout=False,  layout=widgets.Layout(width=\"70%\")))\n",
    "    ScoreLink.append(widgets.jslink((ScoreBox[i], 'value'), (ScoreSlide[i], 'value')))\n",
    "    Score.append(widgets.VBox(children=[ScoreBox[i], ScoreSlide[i]], layout=widgets.Layout(align_items=\"flex-end\")))\n",
    "    Info.append(widgets.Combobox(placeholder=\"-\", options=TM.listOfCorporations, description = \"Konzern:\"))\n",
    "    Box.append(widgets.Box(children=[Place[i], Score[i], Info[i]]))\n",
    "\n",
    "Exp.append(widgets.Checkbox(value=True, description='Prelude', layout=widgets.Layout(width='20%')))\n",
    "Exp.append(widgets.Checkbox(value=True, description='Venus', layout=widgets.Layout(width='20%')))\n",
    "Exp.append(widgets.Checkbox(value=True, description='Colonies', layout=widgets.Layout(width='20%')))\n",
    "Exp.append(widgets.Checkbox(value=False, description='Turmoil', layout=widgets.Layout(width='20%')))\n",
    "Exp.append(widgets.Dropdown(options=TM.listOfMaps, layout=widgets.Layout(width='20%')))\n",
    "ExpBox = widgets.Box(children=Exp)\n",
    "\n",
    "matchButton = widgets.Button(description=\"Spiel eintragen!\")\n",
    "matchButton2= widgets.Button(description=\"Weiteres Spiel eintragen\", disabled=True, layout = widgets.Layout(width='auto'))\n",
    "matchButtonBox = widgets.HBox(children=[matchButton, matchButton2])\n",
    "matchOutput    = widgets.Output()\n",
    "\n",
    "display(matchDate, Box[0], Box[1], Box[2] , Box[3], Box[4], ExpBox, matchButtonBox, matchOutput)\n",
    "\n",
    "def on_matchButton_clicked(b):\n",
    "    b.description=\"Submitted\"\n",
    "    b.disabled = True\n",
    "    matchButton2.disabled = False\n",
    "    b.icon=\"success\"\n",
    "    \n",
    "    inputPlace, inputScore, inputAdditionalInfo, inputExpansions = [[],[],[],[]]\n",
    "    for i in range(5):\n",
    "        if Place[i].value == \"\":\n",
    "            break\n",
    "        else:\n",
    "            inputPlace.append(Place[i].value)\n",
    "            inputScore.append(str(ScoreBox[i].value))\n",
    "            inputAdditionalInfo.append(Info[i].value)\n",
    "    \n",
    "    for i in range(4):\n",
    "        if Exp[i].value == True:\n",
    "            inputExpansions.append(Exp[i].description)\n",
    "    \n",
    "    inputExpansions.append(Exp[4].value)\n",
    "    with matchOutput:\n",
    "        selected.addMatch(str(matchDate.value), inputPlace, inputScore, inputAdditionalInfo, inputExpansions)\n",
    "    \n",
    "def on_matchButton2_clicked(b):\n",
    "    b.disabled = True\n",
    "    matchButton.disabled = False\n",
    "    matchButton.description = \"Spiel eintragen!\"\n",
    "    \n",
    "\n",
    "\n",
    "matchButton.on_click(on_matchButton_clicked)\n",
    "matchButton2.on_click(on_matchButton2_clicked)"
   ]
  },
  {
   "cell_type": "markdown",
   "id": "3d103753",
   "metadata": {},
   "source": [
    "## Die Datenbank hochladen\n",
    "\n",
    "Nicht vergessen sonst vergisst es."
   ]
  },
  {
   "cell_type": "code",
   "execution_count": 4,
   "id": "299cfb44-1804-431f-97a6-dd2dd94932a4",
   "metadata": {
    "jupyter": {
     "source_hidden": true
    },
    "tags": []
   },
   "outputs": [
    {
     "data": {
      "application/vnd.jupyter.widget-view+json": {
       "model_id": "660a41d7563d42faadbe5022ec1aa219",
       "version_major": 2,
       "version_minor": 0
      },
      "text/plain": [
       "Text(value='', description='Access:', placeholder='Gif access')"
      ]
     },
     "metadata": {},
     "output_type": "display_data"
    },
    {
     "data": {
      "application/vnd.jupyter.widget-view+json": {
       "model_id": "0edd65315cbb4cc2ad8e71977ad6aa98",
       "version_major": 2,
       "version_minor": 0
      },
      "text/plain": [
       "Button(description='Datenbank hochladen', style=ButtonStyle())"
      ]
     },
     "metadata": {},
     "output_type": "display_data"
    },
    {
     "data": {
      "application/vnd.jupyter.widget-view+json": {
       "model_id": "e883da05209442e594737eac94852cf8",
       "version_major": 2,
       "version_minor": 0
      },
      "text/plain": [
       "Output()"
      ]
     },
     "metadata": {},
     "output_type": "display_data"
    }
   ],
   "source": [
    "uploadAccess  = widgets.Text(placeholder='Gif access', description='Access:')\n",
    "uploadConfirm = widgets.Button(description='Datenbank hochladen')\n",
    "uploadOutput  = widgets.Output()\n",
    "\n",
    "display(uploadAccess, uploadConfirm, uploadOutput)\n",
    "\n",
    "def on_uploadConfirm_clicked(b):\n",
    "    b.disabled = True\n",
    "    try:\n",
    "        database.upload(uploadAccess.value)\n",
    "        b.description=\"Erfolg!\"\n",
    "        b.icon=\"success\"\n",
    "    except:\n",
    "        with uploadOutput:\n",
    "            print(\"Etwas ist schief gelaufen\")\n",
    "        b.disabled = False\n",
    "\n",
    "uploadConfirm.on_click(on_uploadConfirm_clicked)"
   ]
  },
  {
   "cell_type": "markdown",
   "id": "8ff1050f",
   "metadata": {},
   "source": [
    "## Plotte die Entwicklung des ELOs der ausgewählten Spieler\n",
    "\n",
    "Voreingestellt sind Spieler mit 5 oder mehr Spielen."
   ]
  },
  {
   "cell_type": "code",
   "execution_count": 5,
   "id": "f0bada44",
   "metadata": {
    "jupyter": {
     "source_hidden": true
    },
    "tags": []
   },
   "outputs": [
    {
     "data": {
      "application/vnd.jupyter.widget-view+json": {
       "model_id": "4993932f463348b58d9a9f0225f39320",
       "version_major": 2,
       "version_minor": 0
      },
      "text/plain": [
       "HBox(children=(VBox(children=(ToggleButton(value=False, description='Normalize'), ToggleButton(value=True, des…"
      ]
     },
     "metadata": {},
     "output_type": "display_data"
    }
   ],
   "source": [
    "playerObjects = list(selected.sortedPlayerList(ordering=\"rank\"))\n",
    "nbrPlayers = len(playerObjects)\n",
    "selPlayers = [widgets.ToggleButton(value=False, description=\"Normalize\")]\n",
    "for player in playerObjects:\n",
    "    isEstablished = True if player.nbrOfMatches >= 5 else False\n",
    "    selPlayers.append(widgets.ToggleButton(value=isEstablished, description=player.name, layout=widgets.Layout(height='4%')))\n",
    "selBox   = widgets.VBox(children=selPlayers, layout=widgets.Layout(align_items=\"flex-start\"))\n",
    "graphOut = widgets.Output()\n",
    "dispBox  = widgets.HBox(children=[selBox,graphOut])\n",
    "display(dispBox)\n",
    "with graphOut:\n",
    "    playersToPlotList = [player.description for player in selPlayers if player.value==True]\n",
    "    selected.plotSpecELO(playersToPlotList, normalized=False)\n",
    "\n",
    "def on_value_change(change):\n",
    "    with graphOut:\n",
    "        graphOut.clear_output()\n",
    "        playersToPlotList = [player.description for player in selPlayers[1:] if player.value==True]\n",
    "        selected.plotSpecELO(playersToPlotList, normalized=selPlayers[0].value)\n",
    "        \n",
    "for selection in selPlayers:\n",
    "    selection.observe(on_value_change, names='value')\n"
   ]
  },
  {
   "cell_type": "markdown",
   "id": "e6af976e",
   "metadata": {},
   "source": [
    "## Lasse dir eine Liste von gemeinsamen Spielen anzeigen\n",
    "\n",
    "Neueste Spiele zuerst.\n",
    "Den gleichen Namen einzustellen zeigt alle Spiele eines Spielers"
   ]
  },
  {
   "cell_type": "code",
   "execution_count": 6,
   "id": "16947561",
   "metadata": {
    "jupyter": {
     "source_hidden": true
    },
    "tags": []
   },
   "outputs": [
    {
     "data": {
      "application/vnd.jupyter.widget-view+json": {
       "model_id": "d38f3ace8af440129fe7b82102ffe3ed",
       "version_major": 2,
       "version_minor": 0
      },
      "text/plain": [
       "interactive(children=(Dropdown(description='Spieler 1', options=('Lax', 'Felix', 'Simon', 'Nick', 'Steve', 'Ju…"
      ]
     },
     "metadata": {},
     "output_type": "display_data"
    }
   ],
   "source": [
    "maxGamesPlayed = selected.playerList[playerNames[0]].nbrOfMatches\n",
    "interact(selected.jointMatch,\n",
    "         player1=widgets.Dropdown(options=playerNames, description='Spieler 1'),\n",
    "         player2=widgets.Dropdown(options=playerNames, description='Spieler 2'),\n",
    "         nbrOfMatches=widgets.IntSlider(min=1, max=maxGamesPlayed, value=5, description='Matches'));"
   ]
  },
  {
   "cell_type": "code",
   "execution_count": null,
   "id": "8e6b8e10-b9ff-4f7a-bf24-be452610f54e",
   "metadata": {
    "jupyter": {
     "source_hidden": true
    }
   },
   "outputs": [],
   "source": []
  },
  {
   "cell_type": "markdown",
   "id": "73a42a83",
   "metadata": {},
   "source": [
    "## Lasse dir die Gewinnchancen vorhersagen\n",
    "\n",
    "HEIZT DIE KONKURENZ AN!!!!"
   ]
  },
  {
   "cell_type": "code",
   "execution_count": 7,
   "id": "cb59dd05",
   "metadata": {
    "jupyter": {
     "source_hidden": true
    },
    "tags": []
   },
   "outputs": [
    {
     "data": {
      "application/vnd.jupyter.widget-view+json": {
       "model_id": "db8d520aa35741d6a1715b00efa05cbc",
       "version_major": 2,
       "version_minor": 0
      },
      "text/plain": [
       "interactive(children=(Dropdown(description='player1', options=('Lax', 'Felix', 'Simon', 'Nick', 'Steve', 'Jule…"
      ]
     },
     "metadata": {},
     "output_type": "display_data"
    }
   ],
   "source": [
    "interact(selected.compareMatchup, player1=playerNames, player2=playerNames);"
   ]
  },
  {
   "cell_type": "markdown",
   "id": "4b03ee63",
   "metadata": {},
   "source": [
    "## Lege einen neuen Spieler an oder verwische deine Spuren\n",
    "\n",
    "Es ist Vorsicht geboten! Vor allem beim Löschen von Spielen!!"
   ]
  },
  {
   "cell_type": "code",
   "execution_count": 8,
   "id": "7189728b",
   "metadata": {
    "jupyter": {
     "source_hidden": true
    },
    "scrolled": true,
    "tags": []
   },
   "outputs": [
    {
     "data": {
      "application/vnd.jupyter.widget-view+json": {
       "model_id": "04c5eb987ee64ef5894ea17036c27173",
       "version_major": 2,
       "version_minor": 0
      },
      "text/plain": [
       "HBox(children=(Label(value='Neuer Spieler:', layout=Layout(width='130px')), Text(value='', placeholder='Alias'…"
      ]
     },
     "metadata": {},
     "output_type": "display_data"
    },
    {
     "data": {
      "application/vnd.jupyter.widget-view+json": {
       "model_id": "4dad7108f75b4699be1cab2fecc34cf0",
       "version_major": 2,
       "version_minor": 0
      },
      "text/plain": [
       "Output()"
      ]
     },
     "metadata": {},
     "output_type": "display_data"
    },
    {
     "data": {
      "application/vnd.jupyter.widget-view+json": {
       "model_id": "5b2359c12b8e49fb821d5893776bf345",
       "version_major": 2,
       "version_minor": 0
      },
      "text/plain": [
       "HBox(children=(Label(value='Letztes Spiel löschen:', layout=Layout(width='130px')), Password(placeholder='Pass…"
      ]
     },
     "metadata": {},
     "output_type": "display_data"
    },
    {
     "data": {
      "application/vnd.jupyter.widget-view+json": {
       "model_id": "d28301e6a63a44e0ab0621fb99a2281e",
       "version_major": 2,
       "version_minor": 0
      },
      "text/plain": [
       "Output()"
      ]
     },
     "metadata": {},
     "output_type": "display_data"
    }
   ],
   "source": [
    "newPlayerLabel   = widgets.Label('Neuer Spieler:', layout=widgets.Layout(width='130px'))\n",
    "newPlayerText    = widgets.Text(placeholder='Alias')\n",
    "newPlayerButton  = widgets.Button(description='Spieler anlegen')\n",
    "newPlayerOutput  = widgets.Output()\n",
    "newPlayerBox     = widgets.HBox(children=[newPlayerLabel, newPlayerText, newPlayerButton])\n",
    "\n",
    "deleteGameLabel  = widgets.Label('Letztes Spiel löschen:', layout=widgets.Layout(width='130px'))\n",
    "deleteGamePw     = widgets.Password(placeholder='Passwort')\n",
    "deleteGameButton = widgets.Button(description='Spiel löschen')\n",
    "deleteGameBox    = widgets.HBox(children=[deleteGameLabel, deleteGamePw, deleteGameButton])\n",
    "deleteGameOutput = widgets.Output()\n",
    "\n",
    "display(newPlayerBox, newPlayerOutput, deleteGameBox, deleteGameOutput)\n",
    "\n",
    "def on_newPlaybeButton_clicked(b):\n",
    "    with newPlayerOutput:\n",
    "        selected.addPlayer(newPlayerText.value)\n",
    "\n",
    "def on_deleteGameButton_clicked(b):\n",
    "    if deleteGamePw.value==\"ORDER66\":\n",
    "        deleteGamePw.value=\"\"\n",
    "        with deleteGameOutput:\n",
    "            selected.deleteLastMatch()\n",
    "    else:\n",
    "        with deleteGameOutput:\n",
    "            print(\"Falsches Passwort\")\n",
    "\n",
    "newPlayerButton.on_click(on_newPlaybeButton_clicked)\n",
    "deleteGameButton.on_click(on_deleteGameButton_clicked)"
   ]
  }
 ],
 "metadata": {
  "kernelspec": {
   "display_name": "Python 3 (ipykernel)",
   "language": "python",
   "name": "python3"
  },
  "language_info": {
   "codemirror_mode": {
    "name": "ipython",
    "version": 3
   },
   "file_extension": ".py",
   "mimetype": "text/x-python",
   "name": "python",
   "nbconvert_exporter": "python",
   "pygments_lexer": "ipython3",
   "version": "3.9.13"
  },
  "widgets": {
   "application/vnd.jupyter.widget-state+json": {
    "state": {
     "00281e5568354ba39bc35c1963eacd8d": {
      "model_module": "@jupyter-widgets/controls",
      "model_module_version": "1.5.0",
      "model_name": "DescriptionStyleModel",
      "state": {
       "description_width": ""
      }
     },
     "007ed61b5ae042b5a84596c3001d9d93": {
      "model_module": "@jupyter-widgets/controls",
      "model_module_version": "1.5.0",
      "model_name": "SliderStyleModel",
      "state": {
       "description_width": ""
      }
     },
     "00caf85750cf4f3e82c6a3890d347e45": {
      "model_module": "@jupyter-widgets/base",
      "model_module_version": "1.2.0",
      "model_name": "LayoutModel",
      "state": {}
     },
     "00fb63e41024448e8d69547fe8efac55": {
      "model_module": "@jupyter-widgets/base",
      "model_module_version": "1.2.0",
      "model_name": "LayoutModel",
      "state": {
       "width": "70%"
      }
     },
     "011d0fadb57d415ba08246c9014a387d": {
      "model_module": "@jupyter-widgets/base",
      "model_module_version": "1.2.0",
      "model_name": "LayoutModel",
      "state": {
       "align_items": "flex-end"
      }
     },
     "0149d18cdf904c0cbfcc0f5f21199acd": {
      "model_module": "@jupyter-widgets/controls",
      "model_module_version": "1.5.0",
      "model_name": "IntSliderModel",
      "state": {
       "layout": "IPY_MODEL_4de843f912314f9c8f329c3314196b9e",
       "max": 200,
       "readout": false,
       "style": "IPY_MODEL_df9d59415cb147a38081497301729e04"
      }
     },
     "019a214340484775a1d6eb28dcaebeec": {
      "model_module": "@jupyter-widgets/controls",
      "model_module_version": "1.5.0",
      "model_name": "DescriptionStyleModel",
      "state": {
       "description_width": ""
      }
     },
     "01b062cf98a142a6b40ef0a85550940a": {
      "model_module": "@jupyter-widgets/base",
      "model_module_version": "1.2.0",
      "model_name": "LayoutModel",
      "state": {}
     },
     "01c9cf0a4c3f43979be1702341a61247": {
      "model_module": "@jupyter-widgets/base",
      "model_module_version": "1.2.0",
      "model_name": "LayoutModel",
      "state": {}
     },
     "02d9008d04db4fe7b51d6b21d413c9e3": {
      "model_module": "@jupyter-widgets/base",
      "model_module_version": "1.2.0",
      "model_name": "LayoutModel",
      "state": {}
     },
     "02dd58c531594f09b1800141ec149ba3": {
      "model_module": "@jupyter-widgets/controls",
      "model_module_version": "1.5.0",
      "model_name": "IntSliderModel",
      "state": {
       "layout": "IPY_MODEL_99ee20c6a92a4017afcc87680b903ee1",
       "max": 200,
       "readout": false,
       "style": "IPY_MODEL_fd3e259a07de4a39b1a2596d53188535"
      }
     },
     "0394dbfd3f0c4ba3af2f98c6f2889aee": {
      "model_module": "@jupyter-widgets/controls",
      "model_module_version": "1.5.0",
      "model_name": "LinkModel",
      "state": {
       "source": [
        "IPY_MODEL_a762b08cc70245839f9937b1c94f75ff",
        "value"
       ],
       "target": [
        "IPY_MODEL_9ef9af18e5794fe8ae84a2c3a09bb137",
        "value"
       ]
      }
     },
     "039556ea33354ac786374e7fe27259de": {
      "model_module": "@jupyter-widgets/controls",
      "model_module_version": "1.5.0",
      "model_name": "ComboboxModel",
      "state": {
       "description": "Fifth place: ",
       "ensure_option": false,
       "layout": "IPY_MODEL_4f75c082d2e549c39cb4b3195f4539c2",
       "options": [
        "Lax",
        "Felix",
        "Simon",
        "Nick",
        "Steve",
        "Jule",
        "Jakob",
        "Volker",
        "Kulti",
        "Marvman",
        "Elli",
        "Thomas",
        "Anna",
        "Reinhard"
       ],
       "placeholder": "Wähle Spieler",
       "style": "IPY_MODEL_cebc7863814f440e85c5790c6f4d77e2"
      }
     },
     "03f283b0114f4fd393d0a9624bc40adc": {
      "model_module": "@jupyter-widgets/controls",
      "model_module_version": "1.5.0",
      "model_name": "LinkModel",
      "state": {
       "source": [
        "IPY_MODEL_d2a6f4b181824f9a850f8b1d76a50220",
        "value"
       ],
       "target": [
        "IPY_MODEL_aeb9f56915d24dd1b1abf3d647ffc0dd",
        "value"
       ]
      }
     },
     "04000321b8de4485954a933f8b867a53": {
      "model_module": "@jupyter-widgets/base",
      "model_module_version": "1.2.0",
      "model_name": "LayoutModel",
      "state": {}
     },
     "0408951b86544dfb8fd924d1bc13d1cc": {
      "model_module": "@jupyter-widgets/controls",
      "model_module_version": "1.5.0",
      "model_name": "ButtonModel",
      "state": {
       "description": "Weiteres Spiel eintragen",
       "layout": "IPY_MODEL_8cbb6a8d60834900b05af02383bfd050",
       "style": "IPY_MODEL_7a976a06ef6c499cbefe10454f49c92b"
      }
     },
     "0421974576da49ffa96c2cee451b31c5": {
      "model_module": "@jupyter-widgets/base",
      "model_module_version": "1.2.0",
      "model_name": "LayoutModel",
      "state": {
       "height": "4%",
       "width": "100%"
      }
     },
     "042849aab03047008f10ceb5c36f10ca": {
      "model_module": "@jupyter-widgets/controls",
      "model_module_version": "1.5.0",
      "model_name": "ButtonModel",
      "state": {
       "description": "Spiel eintragen!",
       "layout": "IPY_MODEL_e5795208005e4e0e9d5b9ec53e2ca287",
       "style": "IPY_MODEL_774c7b5bcd6f4055b67f589fe19ea5ed"
      }
     },
     "043e1298866041038479f8b4338c7adc": {
      "model_module": "@jupyter-widgets/controls",
      "model_module_version": "1.5.0",
      "model_name": "DescriptionStyleModel",
      "state": {
       "description_width": ""
      }
     },
     "045177feaf1f4a84a074faec4bed89df": {
      "model_module": "@jupyter-widgets/controls",
      "model_module_version": "1.5.0",
      "model_name": "ButtonModel",
      "state": {
       "description": "Spiel eintragen!",
       "layout": "IPY_MODEL_8d60c4d27e6b43bab7bff5ec18ad079d",
       "style": "IPY_MODEL_fe9c4eb81acb4308b3e24c50e75147b9"
      }
     },
     "0472df0d98744ad59283ca63756169b6": {
      "model_module": "@jupyter-widgets/controls",
      "model_module_version": "1.5.0",
      "model_name": "DescriptionStyleModel",
      "state": {
       "description_width": ""
      }
     },
     "04e7d7f9463e47e49a105f482d6fb56a": {
      "model_module": "@jupyter-widgets/base",
      "model_module_version": "1.2.0",
      "model_name": "LayoutModel",
      "state": {}
     },
     "0505ca3b81b54e41a4903d3191e9e4cb": {
      "model_module": "@jupyter-widgets/controls",
      "model_module_version": "1.5.0",
      "model_name": "IntSliderModel",
      "state": {
       "layout": "IPY_MODEL_15678712092f478fa6e84b4e7083aaf5",
       "max": 200,
       "readout": false,
       "style": "IPY_MODEL_f222b023b8914ac480b497d0318e3144"
      }
     },
     "054ffae0d3d8452c850e671015def3e8": {
      "model_module": "@jupyter-widgets/base",
      "model_module_version": "1.2.0",
      "model_name": "LayoutModel",
      "state": {}
     },
     "0550c37fa0d849f1b493560114c98f7b": {
      "model_module": "@jupyter-widgets/controls",
      "model_module_version": "1.5.0",
      "model_name": "ButtonModel",
      "state": {
       "description": "Spiel eintragen!",
       "layout": "IPY_MODEL_2c847bf2e15648db841b77d951f66f72",
       "style": "IPY_MODEL_d4f09715970d47039ec3068da6293b19"
      }
     },
     "05aa05dbbac74ef2b86a564c25925b45": {
      "model_module": "@jupyter-widgets/base",
      "model_module_version": "1.2.0",
      "model_name": "LayoutModel",
      "state": {}
     },
     "05b073607cc74d2e9d4f00e2551619b7": {
      "model_module": "@jupyter-widgets/controls",
      "model_module_version": "1.5.0",
      "model_name": "ButtonModel",
      "state": {
       "description": "Weiteres Spiel eintragen",
       "layout": "IPY_MODEL_d5570f06bf5e47e9bc998d10a80250bf",
       "style": "IPY_MODEL_35ec730b787543e2b598d64c644c35ec"
      }
     },
     "05bd9a1d1569407496af327049a8bcb7": {
      "model_module": "@jupyter-widgets/controls",
      "model_module_version": "1.5.0",
      "model_name": "DescriptionStyleModel",
      "state": {
       "description_width": ""
      }
     },
     "05ecedbc0e3f463da118b6da824c04b2": {
      "model_module": "@jupyter-widgets/controls",
      "model_module_version": "1.5.0",
      "model_name": "VBoxModel",
      "state": {
       "children": [
        "IPY_MODEL_daa2c34e34044d2bbca8b97682e02297",
        "IPY_MODEL_f4a976e9754c4a27861dc939a9f0cc18"
       ],
       "layout": "IPY_MODEL_ac293c9a27d94d93810fb1574c27e50c"
      }
     },
     "0611f0d609dc4c95a07366d193d573d5": {
      "model_module": "@jupyter-widgets/base",
      "model_module_version": "1.2.0",
      "model_name": "LayoutModel",
      "state": {}
     },
     "06d86938dbe64301bcdc0ed160cb490a": {
      "model_module": "@jupyter-widgets/controls",
      "model_module_version": "1.5.0",
      "model_name": "DescriptionStyleModel",
      "state": {
       "description_width": ""
      }
     },
     "07294687a0a046ae95bd5182569f75cf": {
      "model_module": "@jupyter-widgets/base",
      "model_module_version": "1.2.0",
      "model_name": "LayoutModel",
      "state": {}
     },
     "07d697a09762421782e5b060290ecfd8": {
      "model_module": "@jupyter-widgets/controls",
      "model_module_version": "1.5.0",
      "model_name": "ToggleButtonModel",
      "state": {
       "description": "Elli",
       "layout": "IPY_MODEL_bfdd071e4bdd4fd1b0a65f17bee8648a",
       "style": "IPY_MODEL_4b251a62c8fd4c298a22c1faceac1719"
      }
     },
     "07fd0ec6ca7d4c33ac83837249fff92f": {
      "model_module": "@jupyter-widgets/base",
      "model_module_version": "1.2.0",
      "model_name": "LayoutModel",
      "state": {
       "width": "70%"
      }
     },
     "081cc4be5b0a44ae9c3c6e4a54bcc1bc": {
      "model_module": "@jupyter-widgets/controls",
      "model_module_version": "1.5.0",
      "model_name": "ToggleButtonModel",
      "state": {
       "description": "Kulti",
       "layout": "IPY_MODEL_cd7da7b197b44f389d4bb2bbac7e119f",
       "style": "IPY_MODEL_6acde1609d924ce290f823c231d59fee",
       "value": true
      }
     },
     "0896330f3fec40ae9a85b9f261435d28": {
      "model_module": "@jupyter-widgets/controls",
      "model_module_version": "1.5.0",
      "model_name": "ComboboxModel",
      "state": {
       "description": "Konzern:",
       "ensure_option": false,
       "layout": "IPY_MODEL_f106afff345e41a78ff471b27ef0a9c7",
       "options": [
        "Ace",
        "Aphrodite",
        "Astrodrill",
        "Arcadian Communities",
        "Arklight",
        "Aridor",
        "Astro Alliance",
        "Celestic",
        "Cheung Shing Mars",
        "Credicor",
        "Ecoline",
        "Factorum",
        "Fractal",
        "Helion",
        "Interplanetare Filmgesellschaft",
        "Inventrix",
        "Lakefront Resorts",
        "Manutec",
        "Marsanto",
        "Mining Guild",
        "Mons Insurance",
        "Morning Star Inc.",
        "Pharmacy Union",
        "Philares",
        "PhoboLog",
        "Point Luna",
        "Polyphemos",
        "Poseidon",
        "Pristar",
        "Recylon",
        "Republik Tharsis",
        "Robinson Industries",
        "Satrun Systems",
        "Septem Tribus",
        "Splice",
        "Stormcraft",
        "Teractor",
        "Terralabs",
        "Thermex",
        "Thorgate",
        "Tycho",
        "United Nations Mars Initiative",
        "Utopia Invest",
        "Valles Trust",
        "Viron",
        "Vitor"
       ],
       "placeholder": "-",
       "style": "IPY_MODEL_4b9b543c474441f085e7aca811a044b6"
      }
     },
     "0945ee1ec40241b0ad54f16f3321f2e0": {
      "model_module": "@jupyter-widgets/controls",
      "model_module_version": "1.5.0",
      "model_name": "BoxModel",
      "state": {
       "children": [
        "IPY_MODEL_7c07625dbd5e478ba39db21495cb419b",
        "IPY_MODEL_6d41e679ea08415280c3bca13292f806",
        "IPY_MODEL_a62fdb2818ce4342b0553bde79374f6e"
       ],
       "layout": "IPY_MODEL_2f70a5d383644a67a7c217caab5e6d24"
      }
     },
     "09a88063662f4b1186a6ee26ba906e19": {
      "model_module": "@jupyter-widgets/base",
      "model_module_version": "1.2.0",
      "model_name": "LayoutModel",
      "state": {}
     },
     "09bea37bc22542cd9d94ec6cff6d5e6f": {
      "model_module": "@jupyter-widgets/controls",
      "model_module_version": "1.5.0",
      "model_name": "ComboboxModel",
      "state": {
       "description": "Third place: ",
       "ensure_option": false,
       "layout": "IPY_MODEL_2b808712668f4590825f8fbc74d12264",
       "options": [
        "Lax",
        "Felix",
        "Simon",
        "Nick",
        "Steve",
        "Jule",
        "Jakob",
        "Volker",
        "Kulti",
        "Marvman",
        "Elli",
        "Thomas",
        "Anna",
        "Reinhard"
       ],
       "placeholder": "Wähle Spieler",
       "style": "IPY_MODEL_76ec69816ccb470aa02227a79731195f"
      }
     },
     "09e67c2e3b9e41d49872a2f90d8404ae": {
      "model_module": "@jupyter-widgets/base",
      "model_module_version": "1.2.0",
      "model_name": "LayoutModel",
      "state": {
       "align_items": "flex-end"
      }
     },
     "0a0730ad32434065a2b30a5a70dc52bd": {
      "model_module": "@jupyter-widgets/controls",
      "model_module_version": "1.5.0",
      "model_name": "DescriptionStyleModel",
      "state": {
       "description_width": ""
      }
     },
     "0a83787c5ba3482496cedee536e47ae3": {
      "model_module": "@jupyter-widgets/controls",
      "model_module_version": "1.5.0",
      "model_name": "DropdownModel",
      "state": {
       "_options_labels": [
        "Tharsis",
        "Elysium",
        "Hellas"
       ],
       "index": 0,
       "layout": "IPY_MODEL_49ee472922514726a1f41658b516dd3d",
       "style": "IPY_MODEL_143c613dab584639a29d82e31d62b1a5"
      }
     },
     "0a9f08646cc2440aa45d61f9c2d3ddfc": {
      "model_module": "@jupyter-widgets/base",
      "model_module_version": "1.2.0",
      "model_name": "LayoutModel",
      "state": {
       "height": "4%",
       "width": "100%"
      }
     },
     "0ab593f8da2d4ba8b5fad2d9b001101d": {
      "model_module": "@jupyter-widgets/base",
      "model_module_version": "1.2.0",
      "model_name": "LayoutModel",
      "state": {}
     },
     "0b12cba7b36e4778af0b26d9c0b2a354": {
      "model_module": "@jupyter-widgets/base",
      "model_module_version": "1.2.0",
      "model_name": "LayoutModel",
      "state": {}
     },
     "0b7561d033a347a6af4ebda7988dc973": {
      "model_module": "@jupyter-widgets/controls",
      "model_module_version": "1.5.0",
      "model_name": "IntTextModel",
      "state": {
       "description": "Punkte:",
       "layout": "IPY_MODEL_27715bc3b6dc4b73a7381ad9c7d58f0c",
       "step": 1,
       "style": "IPY_MODEL_53cdb16ff9c3401285a964a5fd3aeab1"
      }
     },
     "0ba090975ef045d5ba3cbeb160a31444": {
      "model_module": "@jupyter-widgets/controls",
      "model_module_version": "1.5.0",
      "model_name": "DescriptionStyleModel",
      "state": {
       "description_width": ""
      }
     },
     "0c12c21c5d7f498793d2caebd7800c6f": {
      "model_module": "@jupyter-widgets/base",
      "model_module_version": "1.2.0",
      "model_name": "LayoutModel",
      "state": {}
     },
     "0c95fbcca27840bbbba95265cb278252": {
      "model_module": "@jupyter-widgets/controls",
      "model_module_version": "1.5.0",
      "model_name": "VBoxModel",
      "state": {
       "_dom_classes": [
        "widget-interact"
       ],
       "children": [
        "IPY_MODEL_d1e9102d7edb4405a021ee0c367cb454",
        "IPY_MODEL_0d8a48c44b8844df9d0a835fd8531a1b",
        "IPY_MODEL_5432edb44b2e413db3f1f74f66361475"
       ],
       "layout": "IPY_MODEL_9c8bbb12d96e466e9fbb9d54399dcbd9"
      }
     },
     "0d8a48c44b8844df9d0a835fd8531a1b": {
      "model_module": "@jupyter-widgets/controls",
      "model_module_version": "1.5.0",
      "model_name": "DropdownModel",
      "state": {
       "_options_labels": [
        "Lax",
        "Felix",
        "Simon",
        "Nick",
        "Steve",
        "Jule",
        "Jakob",
        "Volker",
        "Kulti",
        "Marvman",
        "Elli",
        "Thomas",
        "Anna",
        "Reinhard"
       ],
       "description": "player2",
       "index": 1,
       "layout": "IPY_MODEL_d1e26c0fbbce48e193be15b4a25e1bea",
       "style": "IPY_MODEL_371c2450f4754913b84655cf40ea7819"
      }
     },
     "0d8d9b507ef341888e592246172b4f7b": {
      "model_module": "@jupyter-widgets/base",
      "model_module_version": "1.2.0",
      "model_name": "LayoutModel",
      "state": {}
     },
     "0d9df07fa4354a08996ad8d89b658530": {
      "model_module": "@jupyter-widgets/controls",
      "model_module_version": "1.5.0",
      "model_name": "ComboboxModel",
      "state": {
       "description": "Forth place: ",
       "ensure_option": false,
       "layout": "IPY_MODEL_17edc58203d2419bb20df4d1e8e03ba6",
       "options": [
        "Lax",
        "Felix",
        "Simon",
        "Nick",
        "Steve",
        "Jule",
        "Jakob",
        "Volker",
        "Kulti",
        "Marvman",
        "Elli",
        "Thomas",
        "Anna",
        "Reinhard"
       ],
       "placeholder": "Wähle Spieler",
       "style": "IPY_MODEL_dad2953d9ba94b19b2934160208be7c1"
      }
     },
     "0db6e9f2ea8743aa828ec69d93776622": {
      "model_module": "@jupyter-widgets/base",
      "model_module_version": "1.2.0",
      "model_name": "LayoutModel",
      "state": {}
     },
     "0dbb637673cc4513bcf16fb623616c17": {
      "model_module": "@jupyter-widgets/controls",
      "model_module_version": "1.5.0",
      "model_name": "DescriptionStyleModel",
      "state": {
       "description_width": ""
      }
     },
     "0df12006118844218db471d7bfdde6f5": {
      "model_module": "@jupyter-widgets/controls",
      "model_module_version": "1.5.0",
      "model_name": "DescriptionStyleModel",
      "state": {
       "description_width": ""
      }
     },
     "0e0ae1034a724253aec25b4fb2012b88": {
      "model_module": "@jupyter-widgets/base",
      "model_module_version": "1.2.0",
      "model_name": "LayoutModel",
      "state": {
       "align_items": "flex-end"
      }
     },
     "0e0e473596d24668bd10d0b210a3caef": {
      "model_module": "@jupyter-widgets/controls",
      "model_module_version": "1.5.0",
      "model_name": "DescriptionStyleModel",
      "state": {
       "description_width": ""
      }
     },
     "0f0804d4c5674c039ec57eaf68f4aaaf": {
      "model_module": "@jupyter-widgets/controls",
      "model_module_version": "1.5.0",
      "model_name": "HBoxModel",
      "state": {
       "children": [
        "IPY_MODEL_045177feaf1f4a84a074faec4bed89df",
        "IPY_MODEL_05b073607cc74d2e9d4f00e2551619b7"
       ],
       "layout": "IPY_MODEL_99661fe765d3411cb93b8736d22ade02"
      }
     },
     "0f2877bce91e4358905a079c4bb1f70d": {
      "model_module": "@jupyter-widgets/controls",
      "model_module_version": "1.5.0",
      "model_name": "IntSliderModel",
      "state": {
       "layout": "IPY_MODEL_3673e713e4ad4b048b247e13e72d2ffa",
       "max": 200,
       "readout": false,
       "style": "IPY_MODEL_968415b6430145118fe902ba35deece5",
       "value": 100
      }
     },
     "0f30d9d88d364e789cfc1a1f337e7548": {
      "model_module": "@jupyter-widgets/base",
      "model_module_version": "1.2.0",
      "model_name": "LayoutModel",
      "state": {
       "width": "70%"
      }
     },
     "0f37d6b6779a4bd78fb3a7b9ca0d909a": {
      "model_module": "@jupyter-widgets/controls",
      "model_module_version": "1.5.0",
      "model_name": "DescriptionStyleModel",
      "state": {
       "description_width": ""
      }
     },
     "0f6f8b1210da47df869b4c1f09021110": {
      "model_module": "@jupyter-widgets/controls",
      "model_module_version": "1.5.0",
      "model_name": "DescriptionStyleModel",
      "state": {
       "description_width": ""
      }
     },
     "1032a746d8f548d997860f812ea39ed7": {
      "model_module": "@jupyter-widgets/controls",
      "model_module_version": "1.5.0",
      "model_name": "LinkModel",
      "state": {
       "source": [
        "IPY_MODEL_4bca90383e1848f9b2d16745c77f055d",
        "value"
       ],
       "target": [
        "IPY_MODEL_5e2a9a95b0f94bc58520ebc5992e3bfc",
        "value"
       ]
      }
     },
     "10428d9d198a4f4380358c2662478ecb": {
      "model_module": "@jupyter-widgets/controls",
      "model_module_version": "1.5.0",
      "model_name": "ComboboxModel",
      "state": {
       "description": "Konzern:",
       "ensure_option": false,
       "layout": "IPY_MODEL_481e2747adc7449db5bbccb76032f2c9",
       "options": [
        "Ace",
        "Aphrodite",
        "Astrodrill",
        "Arcadian Communities",
        "Arklight",
        "Aridor",
        "Astro Alliance",
        "Celestic",
        "Cheung Shing Mars",
        "Credicor",
        "Ecoline",
        "Factorum",
        "Fractal",
        "Helion",
        "Interplanetare Filmgesellschaft",
        "Inventrix",
        "Lakefront Resorts",
        "Manutec",
        "Marsanto",
        "Mining Guild",
        "Mons Insurance",
        "Morning Star Inc.",
        "Pharmacy Union",
        "Philares",
        "PhoboLog",
        "Point Luna",
        "Polyphemos",
        "Poseidon",
        "Pristar",
        "Recylon",
        "Republik Tharsis",
        "Robinson Industries",
        "Satrun Systems",
        "Septem Tribus",
        "Splice",
        "Stormcraft",
        "Teractor",
        "Terralabs",
        "Thermex",
        "Thorgate",
        "Tycho",
        "United Nations Mars Initiative",
        "Utopia Invest",
        "Valles Trust",
        "Viron",
        "Vitor"
       ],
       "placeholder": "-",
       "style": "IPY_MODEL_a62768a3d0af43db99d57bc39a41e057"
      }
     },
     "104994fea627486cb666aa807ae3ed70": {
      "model_module": "@jupyter-widgets/controls",
      "model_module_version": "1.5.0",
      "model_name": "ComboboxModel",
      "state": {
       "description": "Konzern:",
       "ensure_option": false,
       "layout": "IPY_MODEL_56b04fb2872440d1b2ec7132e5b2c742",
       "options": [
        "Ace",
        "Aphrodite",
        "Astrodrill",
        "Arcadian Communities",
        "Arklight",
        "Aridor",
        "Astro Alliance",
        "Celestic",
        "Cheung Shing Mars",
        "Credicor",
        "Ecoline",
        "Factorum",
        "Fractal",
        "Helion",
        "Interplanetare Filmgesellschaft",
        "Inventrix",
        "Lakefront Resorts",
        "Manutec",
        "Marsanto",
        "Mining Guild",
        "Mons Insurance",
        "Morning Star Inc.",
        "Pharmacy Union",
        "Philares",
        "PhoboLog",
        "Point Luna",
        "Polyphemos",
        "Poseidon",
        "Pristar",
        "Recylon",
        "Republik Tharsis",
        "Robinson Industries",
        "Satrun Systems",
        "Septem Tribus",
        "Splice",
        "Stormcraft",
        "Teractor",
        "Terralabs",
        "Thermex",
        "Thorgate",
        "Tycho",
        "United Nations Mars Initiative",
        "Utopia Invest",
        "Valles Trust",
        "Viron",
        "Vitor"
       ],
       "placeholder": "-",
       "style": "IPY_MODEL_df41d88518104dc296f96752469bf843"
      }
     },
     "104b923764894c29b92b9676ec7f9f2c": {
      "model_module": "@jupyter-widgets/controls",
      "model_module_version": "1.5.0",
      "model_name": "BoxModel",
      "state": {
       "children": [
        "IPY_MODEL_f0fffa7264a942d49ba402fb54b36a7c",
        "IPY_MODEL_f02ad5311d364b00bd8a65b8ec1d4292",
        "IPY_MODEL_0896330f3fec40ae9a85b9f261435d28"
       ],
       "layout": "IPY_MODEL_e615e3d575d14dc3b1679e30711f9bef"
      }
     },
     "10b306297a0a4836b4fa1da2ff653341": {
      "model_module": "@jupyter-widgets/controls",
      "model_module_version": "1.5.0",
      "model_name": "DescriptionStyleModel",
      "state": {
       "description_width": ""
      }
     },
     "10d8ddbfa87340e980d69bd0e5cbe56c": {
      "model_module": "@jupyter-widgets/base",
      "model_module_version": "1.2.0",
      "model_name": "LayoutModel",
      "state": {}
     },
     "114c84dd22e14366b55cbe6a74d64a3c": {
      "model_module": "@jupyter-widgets/controls",
      "model_module_version": "1.5.0",
      "model_name": "HBoxModel",
      "state": {
       "children": [
        "IPY_MODEL_2aa43b469e314c31a4005a0f483022ee",
        "IPY_MODEL_783f29cf1b884caaa8f2ce83ab59b294"
       ],
       "layout": "IPY_MODEL_09a88063662f4b1186a6ee26ba906e19"
      }
     },
     "116239fdecbc4a4b971c199b1d972e27": {
      "model_module": "@jupyter-widgets/controls",
      "model_module_version": "1.5.0",
      "model_name": "ComboboxModel",
      "state": {
       "description": "Konzern:",
       "ensure_option": false,
       "layout": "IPY_MODEL_1ff83fb8c44e483d867cd9887dbe64e1",
       "options": [
        "Ace",
        "Aphrodite",
        "Astrodrill",
        "Arcadian Communities",
        "Arklight",
        "Aridor",
        "Astro Alliance",
        "Celestic",
        "Cheung Shing Mars",
        "Credicor",
        "Ecoline",
        "Factorum",
        "Fractal",
        "Helion",
        "Interplanetare Filmgesellschaft",
        "Inventrix",
        "Lakefront Resorts",
        "Manutec",
        "Marsanto",
        "Mining Guild",
        "Mons Insurance",
        "Morning Star Inc.",
        "Pharmacy Union",
        "Philares",
        "PhoboLog",
        "Point Luna",
        "Polyphemos",
        "Poseidon",
        "Pristar",
        "Recylon",
        "Republik Tharsis",
        "Robinson Industries",
        "Satrun Systems",
        "Septem Tribus",
        "Splice",
        "Stormcraft",
        "Teractor",
        "Terralabs",
        "Thermex",
        "Thorgate",
        "Tycho",
        "United Nations Mars Initiative",
        "Utopia Invest",
        "Valles Trust",
        "Viron",
        "Vitor"
       ],
       "placeholder": "-",
       "style": "IPY_MODEL_7f78d81c644c48f69bda9d99618063c8"
      }
     },
     "11c030e24cf644df8dce9a5ef94453e0": {
      "model_module": "@jupyter-widgets/controls",
      "model_module_version": "1.5.0",
      "model_name": "DescriptionStyleModel",
      "state": {
       "description_width": ""
      }
     },
     "11f0186ba5f04fc5aee40520ffec773c": {
      "model_module": "@jupyter-widgets/base",
      "model_module_version": "1.2.0",
      "model_name": "LayoutModel",
      "state": {}
     },
     "126a3cab8d33487bbb4b72bc6756c1b4": {
      "model_module": "@jupyter-widgets/base",
      "model_module_version": "1.2.0",
      "model_name": "LayoutModel",
      "state": {
       "width": "70%"
      }
     },
     "126beb24fb58458faf25528222991b81": {
      "model_module": "@jupyter-widgets/base",
      "model_module_version": "1.2.0",
      "model_name": "LayoutModel",
      "state": {}
     },
     "12ac5244f85744c7a316ba5db7890df8": {
      "model_module": "@jupyter-widgets/controls",
      "model_module_version": "1.5.0",
      "model_name": "IntTextModel",
      "state": {
       "description": "Punkte:",
       "layout": "IPY_MODEL_5d7069b30d2142da81565646d16d92db",
       "step": 1,
       "style": "IPY_MODEL_ac742f4440ae4fa5a10da85f0e40ed1b"
      }
     },
     "12c145e88b984c4f9c34cb935e2c33c7": {
      "model_module": "@jupyter-widgets/controls",
      "model_module_version": "1.5.0",
      "model_name": "DescriptionStyleModel",
      "state": {
       "description_width": ""
      }
     },
     "12ec8e0996d84eb6bf3fc4b5c62bcb45": {
      "model_module": "@jupyter-widgets/base",
      "model_module_version": "1.2.0",
      "model_name": "LayoutModel",
      "state": {
       "width": "70%"
      }
     },
     "131a240106924c4689fe1e46803a5cc3": {
      "model_module": "@jupyter-widgets/base",
      "model_module_version": "1.2.0",
      "model_name": "LayoutModel",
      "state": {}
     },
     "1333ea07c4cc4409b87f77fea99a4948": {
      "model_module": "@jupyter-widgets/base",
      "model_module_version": "1.2.0",
      "model_name": "LayoutModel",
      "state": {}
     },
     "1374ab30122748189d8bf11dd9692d25": {
      "model_module": "@jupyter-widgets/controls",
      "model_module_version": "1.5.0",
      "model_name": "SliderStyleModel",
      "state": {
       "description_width": ""
      }
     },
     "13d732b6bde94a1b8e3f205684985cca": {
      "model_module": "@jupyter-widgets/controls",
      "model_module_version": "1.5.0",
      "model_name": "DescriptionStyleModel",
      "state": {
       "description_width": ""
      }
     },
     "13e0dd35ea6b43f6af4332a9001c5cfc": {
      "model_module": "@jupyter-widgets/base",
      "model_module_version": "1.2.0",
      "model_name": "LayoutModel",
      "state": {}
     },
     "13f50a72562948abbd568fe626b522fb": {
      "model_module": "@jupyter-widgets/base",
      "model_module_version": "1.2.0",
      "model_name": "LayoutModel",
      "state": {}
     },
     "143c613dab584639a29d82e31d62b1a5": {
      "model_module": "@jupyter-widgets/controls",
      "model_module_version": "1.5.0",
      "model_name": "DescriptionStyleModel",
      "state": {
       "description_width": ""
      }
     },
     "14a777325c6d4b1fbfcc5a2e1af64327": {
      "model_module": "@jupyter-widgets/base",
      "model_module_version": "1.2.0",
      "model_name": "LayoutModel",
      "state": {}
     },
     "14d64fcfe01645c6b28d44a2c484cda3": {
      "model_module": "@jupyter-widgets/controls",
      "model_module_version": "1.5.0",
      "model_name": "DescriptionStyleModel",
      "state": {
       "description_width": ""
      }
     },
     "1560ae5dcd804a9d9214b05b3f604b76": {
      "model_module": "@jupyter-widgets/controls",
      "model_module_version": "1.5.0",
      "model_name": "IntSliderModel",
      "state": {
       "layout": "IPY_MODEL_f61f5d57347b4b5fb10fec40f6a63dac",
       "max": 200,
       "readout": false,
       "style": "IPY_MODEL_eec0f097835d431da9a6c8b110729696"
      }
     },
     "15678712092f478fa6e84b4e7083aaf5": {
      "model_module": "@jupyter-widgets/base",
      "model_module_version": "1.2.0",
      "model_name": "LayoutModel",
      "state": {
       "width": "70%"
      }
     },
     "15ad0b7b7a434205becae7473db1f230": {
      "model_module": "@jupyter-widgets/base",
      "model_module_version": "1.2.0",
      "model_name": "LayoutModel",
      "state": {
       "width": "70%"
      }
     },
     "15b4437a3d944770820c30df35839ad2": {
      "model_module": "@jupyter-widgets/controls",
      "model_module_version": "1.5.0",
      "model_name": "BoxModel",
      "state": {
       "children": [
        "IPY_MODEL_a1c3f122fdfc427aafe66e0b32e5c834",
        "IPY_MODEL_b8790b4f7aaf4135a468b591e150e9ad",
        "IPY_MODEL_e1a80941e11a4e6e91d5f5c004afd059"
       ],
       "layout": "IPY_MODEL_8d8ab82f0a9f435d9e25e0c02381d710"
      }
     },
     "15ba2eef0cda4a1ba4c760af0040d763": {
      "model_module": "@jupyter-widgets/controls",
      "model_module_version": "1.5.0",
      "model_name": "CheckboxModel",
      "state": {
       "description": "Venus",
       "disabled": false,
       "layout": "IPY_MODEL_c31812da7cf24a549f86bc759ec5bc70",
       "style": "IPY_MODEL_9efd367d7ac94473bba51acced150842",
       "value": true
      }
     },
     "161c49fa93ce44508f9f008b8cc84a06": {
      "model_module": "@jupyter-widgets/base",
      "model_module_version": "1.2.0",
      "model_name": "LayoutModel",
      "state": {
       "align_items": "flex-end"
      }
     },
     "162b00c8768b41528e80952c42dcedbb": {
      "model_module": "@jupyter-widgets/base",
      "model_module_version": "1.2.0",
      "model_name": "LayoutModel",
      "state": {}
     },
     "1693926678fd4d82a1e958af440570d7": {
      "model_module": "@jupyter-widgets/base",
      "model_module_version": "1.2.0",
      "model_name": "LayoutModel",
      "state": {}
     },
     "16d41ca1092d4f76b8e19e8ab0590301": {
      "model_module": "@jupyter-widgets/controls",
      "model_module_version": "1.5.0",
      "model_name": "VBoxModel",
      "state": {
       "children": [
        "IPY_MODEL_d29ceb4019b64c89840423500376b2b0",
        "IPY_MODEL_c7daa65c739743029e6957adb40285b1"
       ],
       "layout": "IPY_MODEL_9eeb7aaf34f142e0aa34e0264f68edcc"
      }
     },
     "16e1f56a876a4b679c9a1445c1c7d204": {
      "model_module": "@jupyter-widgets/base",
      "model_module_version": "1.2.0",
      "model_name": "LayoutModel",
      "state": {
       "align_items": "flex-end"
      }
     },
     "16fb90abcad441099114693abd13d244": {
      "model_module": "@jupyter-widgets/controls",
      "model_module_version": "1.5.0",
      "model_name": "DescriptionStyleModel",
      "state": {
       "description_width": ""
      }
     },
     "172c03a5d88845af8f8eb7e5140b007c": {
      "model_module": "@jupyter-widgets/base",
      "model_module_version": "1.2.0",
      "model_name": "LayoutModel",
      "state": {}
     },
     "1780ac782e27479484671998b5ef8a4a": {
      "model_module": "@jupyter-widgets/base",
      "model_module_version": "1.2.0",
      "model_name": "LayoutModel",
      "state": {
       "height": "4%",
       "width": "100%"
      }
     },
     "17edc58203d2419bb20df4d1e8e03ba6": {
      "model_module": "@jupyter-widgets/base",
      "model_module_version": "1.2.0",
      "model_name": "LayoutModel",
      "state": {}
     },
     "18f64bc546ed426ead21a3f529c27672": {
      "model_module": "@jupyter-widgets/base",
      "model_module_version": "1.2.0",
      "model_name": "LayoutModel",
      "state": {
       "width": "70%"
      }
     },
     "1958508df3714bf5b4ecbfb659bbcbb4": {
      "model_module": "@jupyter-widgets/controls",
      "model_module_version": "1.5.0",
      "model_name": "IntTextModel",
      "state": {
       "description": "Punkte:",
       "layout": "IPY_MODEL_3b4d52e3be6e47c6b8ba0960cbe9312f",
       "step": 1,
       "style": "IPY_MODEL_5af9c172dd3a475798bac8ecf1448a00"
      }
     },
     "1972fde7d0524eaca4d1b0340c03ea91": {
      "model_module": "@jupyter-widgets/controls",
      "model_module_version": "1.5.0",
      "model_name": "BoxModel",
      "state": {
       "children": [
        "IPY_MODEL_2314a7cd9be24141b2debca1aca6283b",
        "IPY_MODEL_760ca068080946d49f6de170c9476d4a",
        "IPY_MODEL_57d90c3cbfee431b9311f8b1d803a5e6",
        "IPY_MODEL_33b7b1e1bd2e4c9fbcad148fcf974635",
        "IPY_MODEL_1cea1610dc924d3988878318e044214d"
       ],
       "layout": "IPY_MODEL_d9cdc5b428e548fb9cc8af98abe3489c"
      }
     },
     "1979cb7812344ca591e00d979d5855ab": {
      "model_module": "@jupyter-widgets/controls",
      "model_module_version": "1.5.0",
      "model_name": "ButtonStyleModel",
      "state": {}
     },
     "19cb4bdac1ff457eaeb4b1f5cb8d4dfe": {
      "model_module": "@jupyter-widgets/controls",
      "model_module_version": "1.5.0",
      "model_name": "ButtonModel",
      "state": {
       "description": "Weiteres Spiel eintragen",
       "layout": "IPY_MODEL_9b5d4e9f1fa94bd289c5ea8bdac74f65",
       "style": "IPY_MODEL_deeb3cc33f624667b2fd7874ec0fd7d7"
      }
     },
     "1a596cbf68cc4317a35e16764784968e": {
      "model_module": "@jupyter-widgets/controls",
      "model_module_version": "1.5.0",
      "model_name": "DescriptionStyleModel",
      "state": {
       "description_width": ""
      }
     },
     "1a76be2a2241464995bc6f6b31ba7b12": {
      "model_module": "@jupyter-widgets/controls",
      "model_module_version": "1.5.0",
      "model_name": "VBoxModel",
      "state": {
       "children": [
        "IPY_MODEL_4691581ed05c44c3b941f7abf1494e7c",
        "IPY_MODEL_84d6f76c148d4f6892cda9884fff367a"
       ],
       "layout": "IPY_MODEL_991afb8500fb4c36b0c8178c3396f03c"
      }
     },
     "1ae3cd7730d24afda02d8c432c81f1b7": {
      "model_module": "@jupyter-widgets/controls",
      "model_module_version": "1.5.0",
      "model_name": "DescriptionStyleModel",
      "state": {
       "description_width": ""
      }
     },
     "1b82a9a7173a4494bea6b8542ea2f156": {
      "model_module": "@jupyter-widgets/controls",
      "model_module_version": "1.5.0",
      "model_name": "DescriptionStyleModel",
      "state": {
       "description_width": ""
      }
     },
     "1bc713ebc006424294e6750f87322e28": {
      "model_module": "@jupyter-widgets/base",
      "model_module_version": "1.2.0",
      "model_name": "LayoutModel",
      "state": {}
     },
     "1bc9b89dbaef4da9b48e0be47c81bab3": {
      "model_module": "@jupyter-widgets/controls",
      "model_module_version": "1.5.0",
      "model_name": "IntTextModel",
      "state": {
       "description": "Punkte:",
       "layout": "IPY_MODEL_32aa40d3e3674755aeac41a38a4bce62",
       "step": 1,
       "style": "IPY_MODEL_a86db680dd3740f69fb707a206545c38"
      }
     },
     "1beeae1b5d72436c92eae24d83cddb80": {
      "model_module": "@jupyter-widgets/base",
      "model_module_version": "1.2.0",
      "model_name": "LayoutModel",
      "state": {}
     },
     "1c20dc0bc76441a79a2224b12c325ccb": {
      "model_module": "@jupyter-widgets/base",
      "model_module_version": "1.2.0",
      "model_name": "LayoutModel",
      "state": {}
     },
     "1c44ed8e3b3e40d3b1f59c3328d811e0": {
      "model_module": "@jupyter-widgets/base",
      "model_module_version": "1.2.0",
      "model_name": "LayoutModel",
      "state": {}
     },
     "1caa8d7bc9184ad59391dbc15498d756": {
      "model_module": "@jupyter-widgets/controls",
      "model_module_version": "1.5.0",
      "model_name": "DescriptionStyleModel",
      "state": {
       "description_width": ""
      }
     },
     "1cb602d2af8d48be83370fc33aedf100": {
      "model_module": "@jupyter-widgets/controls",
      "model_module_version": "1.5.0",
      "model_name": "CheckboxModel",
      "state": {
       "description": "Prelude",
       "disabled": false,
       "layout": "IPY_MODEL_c4b6d018802b4b36a042874f57f18c58",
       "style": "IPY_MODEL_8ffd580ede9345b69acd31aafe70edb3",
       "value": true
      }
     },
     "1cea1610dc924d3988878318e044214d": {
      "model_module": "@jupyter-widgets/controls",
      "model_module_version": "1.5.0",
      "model_name": "DropdownModel",
      "state": {
       "_options_labels": [
        "Tharsis",
        "Elysium",
        "Hellas"
       ],
       "index": 0,
       "layout": "IPY_MODEL_3c8bf1b5263845d7b3f47971d3400f8f",
       "style": "IPY_MODEL_870515de0c8346dc97e7b066f39aa3ec"
      }
     },
     "1da7ef50097345998ad6a2cfb09e6c63": {
      "model_module": "@jupyter-widgets/controls",
      "model_module_version": "1.5.0",
      "model_name": "DescriptionStyleModel",
      "state": {
       "description_width": ""
      }
     },
     "1db37f99fceb4dc49c0d2b7bd66c4818": {
      "model_module": "@jupyter-widgets/controls",
      "model_module_version": "1.5.0",
      "model_name": "DescriptionStyleModel",
      "state": {
       "description_width": ""
      }
     },
     "1de3589ddae14c1cbbe4520daf5f6eea": {
      "model_module": "@jupyter-widgets/controls",
      "model_module_version": "1.5.0",
      "model_name": "VBoxModel",
      "state": {
       "children": [
        "IPY_MODEL_c4d5de9726b74ccc8d1378932015aaae",
        "IPY_MODEL_3a9f4142c46b479eba74eed26182147c"
       ],
       "layout": "IPY_MODEL_6006ae1ec6d24cbe8c304bfb7e9f8cbb"
      }
     },
     "1e400704b9ed48c4be0a6fca5ed9c408": {
      "model_module": "@jupyter-widgets/controls",
      "model_module_version": "1.5.0",
      "model_name": "DescriptionStyleModel",
      "state": {
       "description_width": ""
      }
     },
     "1e7e38f65d684fb6bd3488d8834f2cef": {
      "model_module": "@jupyter-widgets/controls",
      "model_module_version": "1.5.0",
      "model_name": "DescriptionStyleModel",
      "state": {
       "description_width": ""
      }
     },
     "1f130aae616e4fe9b4a6dc053c4c4220": {
      "model_module": "@jupyter-widgets/controls",
      "model_module_version": "1.5.0",
      "model_name": "ComboboxModel",
      "state": {
       "description": "Konzern:",
       "ensure_option": false,
       "layout": "IPY_MODEL_f1601dd315dd4dbd98921443ec13d525",
       "options": [
        "Ace",
        "Aphrodite",
        "Astrodrill",
        "Arcadian Communities",
        "Arklight",
        "Aridor",
        "Astro Alliance",
        "Celestic",
        "Cheung Shing Mars",
        "Credicor",
        "Ecoline",
        "Factorum",
        "Fractal",
        "Helion",
        "Interplanetare Filmgesellschaft",
        "Inventrix",
        "Lakefront Resorts",
        "Manutec",
        "Marsanto",
        "Mining Guild",
        "Mons Insurance",
        "Morning Star Inc.",
        "Pharmacy Union",
        "Philares",
        "PhoboLog",
        "Point Luna",
        "Polyphemos",
        "Poseidon",
        "Pristar",
        "Recylon",
        "Republik Tharsis",
        "Robinson Industries",
        "Satrun Systems",
        "Septem Tribus",
        "Splice",
        "Stormcraft",
        "Teractor",
        "Terralabs",
        "Thermex",
        "Thorgate",
        "Tycho",
        "United Nations Mars Initiative",
        "Utopia Invest",
        "Valles Trust",
        "Viron",
        "Vitor"
       ],
       "placeholder": "-",
       "style": "IPY_MODEL_3a916e65d4634ccfb493921b92e2b3d6"
      }
     },
     "1f467e7aa9f1499cbd2e90ab3da37397": {
      "model_module": "@jupyter-widgets/base",
      "model_module_version": "1.2.0",
      "model_name": "LayoutModel",
      "state": {}
     },
     "1f4df44bb3ad4655971f13ce74baf5c5": {
      "model_module": "@jupyter-widgets/controls",
      "model_module_version": "1.5.0",
      "model_name": "VBoxModel",
      "state": {
       "children": [
        "IPY_MODEL_cc17de6374fa411f987f5954b0f39e2e",
        "IPY_MODEL_4bbf9b485b1a4500a263e9e9ccc28d72"
       ],
       "layout": "IPY_MODEL_b7f428fca4d54ef6903b0314de08b634"
      }
     },
     "1f5499cca6264f0d884f01981fbb80f5": {
      "model_module": "@jupyter-widgets/base",
      "model_module_version": "1.2.0",
      "model_name": "LayoutModel",
      "state": {
       "align_items": "flex-end"
      }
     },
     "1fd24e45ec3e494eb6d0e6a7df2795ab": {
      "model_module": "@jupyter-widgets/base",
      "model_module_version": "1.2.0",
      "model_name": "LayoutModel",
      "state": {}
     },
     "1ff2881940aa47caadbf41935fd8424d": {
      "model_module": "@jupyter-widgets/controls",
      "model_module_version": "1.5.0",
      "model_name": "DescriptionStyleModel",
      "state": {
       "description_width": ""
      }
     },
     "1ff83fb8c44e483d867cd9887dbe64e1": {
      "model_module": "@jupyter-widgets/base",
      "model_module_version": "1.2.0",
      "model_name": "LayoutModel",
      "state": {}
     },
     "2040a204e6d447bca4a55fa3e35c8c5a": {
      "model_module": "@jupyter-widgets/controls",
      "model_module_version": "1.5.0",
      "model_name": "IntTextModel",
      "state": {
       "description": "Punkte:",
       "layout": "IPY_MODEL_b75eb1883b5c49e7922d6002115c423c",
       "step": 1,
       "style": "IPY_MODEL_22e4e76bfe8247c6b937a446c8829eb0"
      }
     },
     "20c8684d326f4a178590b9c60da05773": {
      "model_module": "@jupyter-widgets/controls",
      "model_module_version": "1.5.0",
      "model_name": "DescriptionStyleModel",
      "state": {
       "description_width": ""
      }
     },
     "211181e7ce9546c5ab8d09e0d00e06e8": {
      "model_module": "@jupyter-widgets/controls",
      "model_module_version": "1.5.0",
      "model_name": "IntSliderModel",
      "state": {
       "layout": "IPY_MODEL_6f18d5e35480419faa9554ded3287c68",
       "max": 200,
       "readout": false,
       "style": "IPY_MODEL_517b97d0f48147938a4b2cb95147e1ab"
      }
     },
     "21153859195247eb83496ba81cb0457a": {
      "model_module": "@jupyter-widgets/base",
      "model_module_version": "1.2.0",
      "model_name": "LayoutModel",
      "state": {
       "height": "4%",
       "width": "100%"
      }
     },
     "214e59373b654c87b116e736f9a6207b": {
      "model_module": "@jupyter-widgets/base",
      "model_module_version": "1.2.0",
      "model_name": "LayoutModel",
      "state": {
       "align_items": "flex-end"
      }
     },
     "2161396d71834bc7bf773328bf022ca8": {
      "model_module": "@jupyter-widgets/base",
      "model_module_version": "1.2.0",
      "model_name": "LayoutModel",
      "state": {}
     },
     "21aecabbf9994a2cb5f26aaf9c3edf38": {
      "model_module": "@jupyter-widgets/controls",
      "model_module_version": "1.5.0",
      "model_name": "BoxModel",
      "state": {
       "children": [
        "IPY_MODEL_f92b6c951acf4bc1954d9d032718f290",
        "IPY_MODEL_1a76be2a2241464995bc6f6b31ba7b12",
        "IPY_MODEL_9d6da3928cba467cac0c2fdc5c0480b5"
       ],
       "layout": "IPY_MODEL_fc83bc50b4784ecdbdb890913795ed90"
      }
     },
     "21b47581a7f34dcbbe8f897ab9bebf39": {
      "model_module": "@jupyter-widgets/controls",
      "model_module_version": "1.5.0",
      "model_name": "BoxModel",
      "state": {
       "children": [
        "IPY_MODEL_56949d5a8d9a4f178901b463d602184a",
        "IPY_MODEL_e90a23f112e844dfa922ed2e8f7b760d",
        "IPY_MODEL_80f284b80fdd4a44b2ca7e28ee508acc",
        "IPY_MODEL_7c19aeb91fed4326a006e06c708de7c2",
        "IPY_MODEL_27d33a1f942e4b5bafda87ba231a9a61"
       ],
       "layout": "IPY_MODEL_c3b3b9e023bf4e1a84d3cb67253a350f"
      }
     },
     "21c2f757a9124a1580890e1358568fb0": {
      "model_module": "@jupyter-widgets/controls",
      "model_module_version": "1.5.0",
      "model_name": "ComboboxModel",
      "state": {
       "description": "Konzern:",
       "ensure_option": false,
       "layout": "IPY_MODEL_07294687a0a046ae95bd5182569f75cf",
       "options": [
        "Ace",
        "Aphrodite",
        "Astrodrill",
        "Arcadian Communities",
        "Arklight",
        "Aridor",
        "Astro Alliance",
        "Celestic",
        "Cheung Shing Mars",
        "Credicor",
        "Ecoline",
        "Factorum",
        "Fractal",
        "Helion",
        "Interplanetare Filmgesellschaft",
        "Inventrix",
        "Lakefront Resorts",
        "Manutec",
        "Marsanto",
        "Mining Guild",
        "Mons Insurance",
        "Morning Star Inc.",
        "Pharmacy Union",
        "Philares",
        "PhoboLog",
        "Point Luna",
        "Polyphemos",
        "Poseidon",
        "Pristar",
        "Recylon",
        "Republik Tharsis",
        "Robinson Industries",
        "Satrun Systems",
        "Septem Tribus",
        "Splice",
        "Stormcraft",
        "Teractor",
        "Terralabs",
        "Thermex",
        "Thorgate",
        "Tycho",
        "United Nations Mars Initiative",
        "Utopia Invest",
        "Valles Trust",
        "Viron",
        "Vitor"
       ],
       "placeholder": "-",
       "style": "IPY_MODEL_51161314eb974ab69cfeabf53e6388ad"
      }
     },
     "224e25593a18437f8bd3007477175b34": {
      "model_module": "@jupyter-widgets/controls",
      "model_module_version": "1.5.0",
      "model_name": "HBoxModel",
      "state": {
       "children": [
        "IPY_MODEL_7622c7de122040788ca7279a919cb306",
        "IPY_MODEL_5814bd0f59ef45dba6df597020c9de45"
       ],
       "layout": "IPY_MODEL_d705be6fbb0742efbf5ecabd3f9d68bc"
      }
     },
     "2288ab82ff3e495cab4e982c49ea470a": {
      "model_module": "@jupyter-widgets/base",
      "model_module_version": "1.2.0",
      "model_name": "LayoutModel",
      "state": {}
     },
     "22e4e76bfe8247c6b937a446c8829eb0": {
      "model_module": "@jupyter-widgets/controls",
      "model_module_version": "1.5.0",
      "model_name": "DescriptionStyleModel",
      "state": {
       "description_width": ""
      }
     },
     "2314a7cd9be24141b2debca1aca6283b": {
      "model_module": "@jupyter-widgets/controls",
      "model_module_version": "1.5.0",
      "model_name": "CheckboxModel",
      "state": {
       "description": "Prelude",
       "disabled": false,
       "layout": "IPY_MODEL_f17cc81b6b434ef78a637a409a960063",
       "style": "IPY_MODEL_1da7ef50097345998ad6a2cfb09e6c63",
       "value": true
      }
     },
     "231fc0e9be5642cfb7b26fc53921f846": {
      "model_module": "@jupyter-widgets/base",
      "model_module_version": "1.2.0",
      "model_name": "LayoutModel",
      "state": {}
     },
     "232d881b83a5491f8cd876a3521a388d": {
      "model_module": "@jupyter-widgets/controls",
      "model_module_version": "1.5.0",
      "model_name": "DescriptionStyleModel",
      "state": {
       "description_width": ""
      }
     },
     "23435042917944fdad657353e011538b": {
      "model_module": "@jupyter-widgets/base",
      "model_module_version": "1.2.0",
      "model_name": "LayoutModel",
      "state": {}
     },
     "23492811fa2a456d8a8ac058133a1f59": {
      "model_module": "@jupyter-widgets/controls",
      "model_module_version": "1.5.0",
      "model_name": "IntTextModel",
      "state": {
       "description": "Punkte:",
       "layout": "IPY_MODEL_9c250603e5d2426ca45e32af2228d3ec",
       "step": 1,
       "style": "IPY_MODEL_5f30aadb8ea6405cae3960c2e8f8eb2d"
      }
     },
     "235a6c07406b47bfa89db1e0c1c2915f": {
      "model_module": "@jupyter-widgets/controls",
      "model_module_version": "1.5.0",
      "model_name": "BoxModel",
      "state": {
       "children": [
        "IPY_MODEL_f4fd2593ba5a45359ddf248ca070fc83",
        "IPY_MODEL_1f4df44bb3ad4655971f13ce74baf5c5",
        "IPY_MODEL_3102dcd3a0a4435484aa65c688c1c264"
       ],
       "layout": "IPY_MODEL_7504a4e9db6a41e4a8d1b448e141f7c2"
      }
     },
     "237bd3bb09dd4011b05cb3bee601e3b2": {
      "model_module": "@jupyter-widgets/base",
      "model_module_version": "1.2.0",
      "model_name": "LayoutModel",
      "state": {}
     },
     "23c8d6721105423394888bbeb870354c": {
      "model_module": "@jupyter-widgets/base",
      "model_module_version": "1.2.0",
      "model_name": "LayoutModel",
      "state": {
       "width": "70%"
      }
     },
     "241cede60ffb45ea9adc09e87c652cb4": {
      "model_module": "@jupyter-widgets/controls",
      "model_module_version": "1.5.0",
      "model_name": "DescriptionStyleModel",
      "state": {
       "description_width": ""
      }
     },
     "24b9ade4e764436cbe2518c7aff2c9b3": {
      "model_module": "@jupyter-widgets/controls",
      "model_module_version": "1.5.0",
      "model_name": "BoxModel",
      "state": {
       "children": [
        "IPY_MODEL_5936407aec364476a3e8d62b1d7a0981",
        "IPY_MODEL_c6cc00ed75644fbcaa3deef0d669ca52",
        "IPY_MODEL_49435d537ce54d39bf7c8153c0e09fa3"
       ],
       "layout": "IPY_MODEL_162b00c8768b41528e80952c42dcedbb"
      }
     },
     "24f232fb6c0c4c3ba8b00d39572dfd2f": {
      "model_module": "@jupyter-widgets/controls",
      "model_module_version": "1.5.0",
      "model_name": "BoxModel",
      "state": {
       "children": [
        "IPY_MODEL_09bea37bc22542cd9d94ec6cff6d5e6f",
        "IPY_MODEL_3d79f9e55f9a4737b46dd6fdf383a142",
        "IPY_MODEL_87bc24692a91497ea96c11a5148f245b"
       ],
       "layout": "IPY_MODEL_6561f64f66af42ed85e278815d2db89c"
      }
     },
     "2516e09593854e9ab1dc62caa36ee404": {
      "model_module": "@jupyter-widgets/controls",
      "model_module_version": "1.5.0",
      "model_name": "DescriptionStyleModel",
      "state": {
       "description_width": ""
      }
     },
     "253f3b0b599a4da29586a889d12125aa": {
      "model_module": "@jupyter-widgets/base",
      "model_module_version": "1.2.0",
      "model_name": "LayoutModel",
      "state": {}
     },
     "2564da8c4c0843e893651c3055f119a3": {
      "model_module": "@jupyter-widgets/controls",
      "model_module_version": "1.5.0",
      "model_name": "ComboboxModel",
      "state": {
       "description": "Konzern:",
       "ensure_option": false,
       "layout": "IPY_MODEL_3510b0a90069430686ee7c8384dd8948",
       "options": [
        "Ace",
        "Aphrodite",
        "Astrodrill",
        "Arcadian Communities",
        "Arklight",
        "Aridor",
        "Astro Alliance",
        "Celestic",
        "Cheung Shing Mars",
        "Credicor",
        "Ecoline",
        "Factorum",
        "Fractal",
        "Helion",
        "Interplanetare Filmgesellschaft",
        "Inventrix",
        "Lakefront Resorts",
        "Manutec",
        "Marsanto",
        "Mining Guild",
        "Mons Insurance",
        "Morning Star Inc.",
        "Pharmacy Union",
        "Philares",
        "PhoboLog",
        "Point Luna",
        "Polyphemos",
        "Poseidon",
        "Pristar",
        "Recylon",
        "Republik Tharsis",
        "Robinson Industries",
        "Satrun Systems",
        "Septem Tribus",
        "Splice",
        "Stormcraft",
        "Teractor",
        "Terralabs",
        "Thermex",
        "Thorgate",
        "Tycho",
        "United Nations Mars Initiative",
        "Utopia Invest",
        "Valles Trust",
        "Viron",
        "Vitor"
       ],
       "placeholder": "-",
       "style": "IPY_MODEL_70416c0049ef4ea4b055109bf0c5c0d0"
      }
     },
     "2597eaa7f31e412789e7c39547497651": {
      "model_module": "@jupyter-widgets/base",
      "model_module_version": "1.2.0",
      "model_name": "LayoutModel",
      "state": {}
     },
     "25d423f751b44f69b67e56410e566feb": {
      "model_module": "@jupyter-widgets/base",
      "model_module_version": "1.2.0",
      "model_name": "LayoutModel",
      "state": {}
     },
     "25fa360008df4d8d89f23e1b27a1c34c": {
      "model_module": "@jupyter-widgets/controls",
      "model_module_version": "1.5.0",
      "model_name": "ButtonStyleModel",
      "state": {}
     },
     "26849fbbc0d845d387f820a0eeef7a5d": {
      "model_module": "@jupyter-widgets/base",
      "model_module_version": "1.2.0",
      "model_name": "LayoutModel",
      "state": {}
     },
     "27715bc3b6dc4b73a7381ad9c7d58f0c": {
      "model_module": "@jupyter-widgets/base",
      "model_module_version": "1.2.0",
      "model_name": "LayoutModel",
      "state": {}
     },
     "278d027508c047d5b15bfb742fe0a1d1": {
      "model_module": "@jupyter-widgets/controls",
      "model_module_version": "1.5.0",
      "model_name": "BoxModel",
      "state": {
       "children": [
        "IPY_MODEL_e96b639cfc49460daf3634b57e401876",
        "IPY_MODEL_35d6c72ec7724cb1bedaa17b12027588",
        "IPY_MODEL_f26cbc59e69f473a9e59986c56143219",
        "IPY_MODEL_a30703852b304337b0499c9b2ef42833",
        "IPY_MODEL_4fbf83d630da4dabbd3e7813d280fa61"
       ],
       "layout": "IPY_MODEL_430a4b20086b40c681ec6bd593cf94c7"
      }
     },
     "27c128eb336549f6bc17bcd469b3dc88": {
      "model_module": "@jupyter-widgets/controls",
      "model_module_version": "1.5.0",
      "model_name": "VBoxModel",
      "state": {
       "children": [
        "IPY_MODEL_9aed49347c614217bfa98ea3c5d8ad0a",
        "IPY_MODEL_962656d040384e2fa83966ca7f8d9c56"
       ],
       "layout": "IPY_MODEL_b6a56af5d6b74c51af3e37ec26ff1f69"
      }
     },
     "27d33a1f942e4b5bafda87ba231a9a61": {
      "model_module": "@jupyter-widgets/controls",
      "model_module_version": "1.5.0",
      "model_name": "DropdownModel",
      "state": {
       "_options_labels": [
        "Tharsis",
        "Elysium",
        "Hellas"
       ],
       "index": 0,
       "layout": "IPY_MODEL_b6d75e91d48247a9a7a5e3eef8dffcfd",
       "style": "IPY_MODEL_2f66ecc866234547bdc9071740b2fb72"
      }
     },
     "27f629d40f354788b44df1a789d746d1": {
      "model_module": "@jupyter-widgets/controls",
      "model_module_version": "1.5.0",
      "model_name": "DescriptionStyleModel",
      "state": {
       "description_width": ""
      }
     },
     "28115c255a7741458d65a625c894429c": {
      "model_module": "@jupyter-widgets/base",
      "model_module_version": "1.2.0",
      "model_name": "LayoutModel",
      "state": {
       "height": "4%",
       "width": "100%"
      }
     },
     "28247acb90eb4b61acc98f711e036af7": {
      "model_module": "@jupyter-widgets/controls",
      "model_module_version": "1.5.0",
      "model_name": "CheckboxModel",
      "state": {
       "description": "Turmoil",
       "disabled": false,
       "layout": "IPY_MODEL_705110ef832c4529bba033d2e41b2353",
       "style": "IPY_MODEL_941da47326f54ddb8987f9af2e3b5b39",
       "value": true
      }
     },
     "2879d755331243139c5364accc028079": {
      "model_module": "@jupyter-widgets/base",
      "model_module_version": "1.2.0",
      "model_name": "LayoutModel",
      "state": {}
     },
     "29905cefb3ef4f27b1adb35b7a1120a6": {
      "model_module": "@jupyter-widgets/base",
      "model_module_version": "1.2.0",
      "model_name": "LayoutModel",
      "state": {}
     },
     "29d80432f018468f8cd175835f8b08e9": {
      "model_module": "@jupyter-widgets/controls",
      "model_module_version": "1.5.0",
      "model_name": "DescriptionStyleModel",
      "state": {
       "description_width": ""
      }
     },
     "2a34bc23dae34749b49debb6d12e0e6d": {
      "model_module": "@jupyter-widgets/base",
      "model_module_version": "1.2.0",
      "model_name": "LayoutModel",
      "state": {}
     },
     "2aa43b469e314c31a4005a0f483022ee": {
      "model_module": "@jupyter-widgets/controls",
      "model_module_version": "1.5.0",
      "model_name": "VBoxModel",
      "state": {
       "children": [
        "IPY_MODEL_d605196f1154482e88be3e9ef06de20c",
        "IPY_MODEL_a8a643b1487d4d6b8875b54223b8c422",
        "IPY_MODEL_e89af333e52a4f67a52ac59f4c613a83",
        "IPY_MODEL_e4d265ac715645f9ac8a55eae323397c",
        "IPY_MODEL_c0f619754a4e416db23b5f7d1240e3a2",
        "IPY_MODEL_a437e252f5a2483da754a48b91bc1452",
        "IPY_MODEL_827065b5e7694f2387cc3c82046bb8cd",
        "IPY_MODEL_d3678d4275c043b5a700dbf50cd83247",
        "IPY_MODEL_941ed479238a4b18af76b267410188c6",
        "IPY_MODEL_9f79b1cacc264bf19cf61884b2f7a3d3",
        "IPY_MODEL_af442c061d174224949660087f7084ce",
        "IPY_MODEL_f7d68869d9504b2da16e18f298edbd5d",
        "IPY_MODEL_bc23b8ab59b84190a8e8a88961573a64",
        "IPY_MODEL_081cc4be5b0a44ae9c3c6e4a54bcc1bc",
        "IPY_MODEL_a1099acc09f24ee38018211042fe29df"
       ],
       "layout": "IPY_MODEL_778a37a7eb3f4747b5c4d6158c9be064"
      }
     },
     "2acac1ba90ea4e299d6408b7946ecd93": {
      "model_module": "@jupyter-widgets/base",
      "model_module_version": "1.2.0",
      "model_name": "LayoutModel",
      "state": {}
     },
     "2ae09b3102b2458eb1b3c3f245718011": {
      "model_module": "@jupyter-widgets/controls",
      "model_module_version": "1.5.0",
      "model_name": "CheckboxModel",
      "state": {
       "description": "Colonies",
       "disabled": false,
       "layout": "IPY_MODEL_659fdd4a62ed47889efbe4c00aa3c90b",
       "style": "IPY_MODEL_20c8684d326f4a178590b9c60da05773",
       "value": true
      }
     },
     "2b7a00c847d64579b3f14c7b69dd93ce": {
      "model_module": "@jupyter-widgets/controls",
      "model_module_version": "1.5.0",
      "model_name": "ComboboxModel",
      "state": {
       "description": "Corporation:",
       "ensure_option": false,
       "layout": "IPY_MODEL_8221de8305e342a1aac07353384642df",
       "options": [
        "Ace",
        "Aphrodite",
        "Astrodrill",
        "Arcadian Communities",
        "Arklight",
        "Aridor",
        "Astro Alliance",
        "Celestic",
        "Cheung Shing Mars",
        "Credicor",
        "Ecoline",
        "Factorum",
        "Fractal",
        "Helion",
        "Interplanetare Filmgesellschaft",
        "Inventrix",
        "Lakefront Resorts",
        "Manutec",
        "Marsanto",
        "Mining Guild",
        "Mons Insurance",
        "Morning Star Inc.",
        "Pharmacy Union",
        "Philares",
        "PhoboLog",
        "Point Luna",
        "Polyphemos",
        "Poseidon",
        "Pristar",
        "Recylon",
        "Republik Tharsis",
        "Robinson Industries",
        "Satrun Systems",
        "Septem Tribus",
        "Splice",
        "Stormcraft",
        "Teractor",
        "Terralabs",
        "Thermex",
        "Thorgate",
        "Tycho",
        "United Nations Mars Initiative",
        "Utopia Invest",
        "Valles Trust",
        "Viron",
        "Vitor"
       ],
       "placeholder": "-",
       "style": "IPY_MODEL_76a38587e88e4af188cdeb8d55940e43"
      }
     },
     "2b808712668f4590825f8fbc74d12264": {
      "model_module": "@jupyter-widgets/base",
      "model_module_version": "1.2.0",
      "model_name": "LayoutModel",
      "state": {}
     },
     "2b85d237404042c0b693fa2614ee4d13": {
      "model_module": "@jupyter-widgets/controls",
      "model_module_version": "1.5.0",
      "model_name": "BoxModel",
      "state": {
       "children": [
        "IPY_MODEL_996bb2d2cb7f45688552af4202dbb201",
        "IPY_MODEL_35ffaf059a2340e0aba11d17fa376b44",
        "IPY_MODEL_2b7a00c847d64579b3f14c7b69dd93ce"
       ],
       "layout": "IPY_MODEL_253f3b0b599a4da29586a889d12125aa"
      }
     },
     "2be65269e305459b9c863df27a91a8a6": {
      "model_module": "@jupyter-widgets/controls",
      "model_module_version": "1.5.0",
      "model_name": "LinkModel",
      "state": {
       "source": [
        "IPY_MODEL_4f68060d115549d68abfd1bbe0bdfae5",
        "value"
       ],
       "target": [
        "IPY_MODEL_fdeeb51f5fe748f88738a42462f3407f",
        "value"
       ]
      }
     },
     "2c0518c5e8fc48908b291d1906be1478": {
      "model_module": "@jupyter-widgets/controls",
      "model_module_version": "1.5.0",
      "model_name": "DescriptionStyleModel",
      "state": {
       "description_width": ""
      }
     },
     "2c6c8985ff564b09bd6e9674b7b1fc86": {
      "model_module": "@jupyter-widgets/controls",
      "model_module_version": "1.5.0",
      "model_name": "LinkModel",
      "state": {
       "source": [
        "IPY_MODEL_8791a61cc16540009ba477ab3ed1a74b",
        "value"
       ],
       "target": [
        "IPY_MODEL_1560ae5dcd804a9d9214b05b3f604b76",
        "value"
       ]
      }
     },
     "2c7d7beb0ef24ca5ac3a2a075c9b53e6": {
      "model_module": "@jupyter-widgets/base",
      "model_module_version": "1.2.0",
      "model_name": "LayoutModel",
      "state": {
       "width": "70%"
      }
     },
     "2c847bf2e15648db841b77d951f66f72": {
      "model_module": "@jupyter-widgets/base",
      "model_module_version": "1.2.0",
      "model_name": "LayoutModel",
      "state": {}
     },
     "2cd111ebd68a48b2a9fa0ff29081ea8d": {
      "model_module": "@jupyter-widgets/base",
      "model_module_version": "1.2.0",
      "model_name": "LayoutModel",
      "state": {
       "width": "70%"
      }
     },
     "2d3c00a3a1e24073bb9cb88d41f167e1": {
      "model_module": "@jupyter-widgets/controls",
      "model_module_version": "1.5.0",
      "model_name": "LinkModel",
      "state": {
       "source": [
        "IPY_MODEL_ad3cc82383044f6ab17b382707d77f0e",
        "value"
       ],
       "target": [
        "IPY_MODEL_0505ca3b81b54e41a4903d3191e9e4cb",
        "value"
       ]
      }
     },
     "2d3dc37809b0426bbd67dfe86409d9e0": {
      "model_module": "@jupyter-widgets/controls",
      "model_module_version": "1.5.0",
      "model_name": "SliderStyleModel",
      "state": {
       "description_width": ""
      }
     },
     "2d8e4d66b7f34c3d95b08b12a6c7b9d9": {
      "model_module": "@jupyter-widgets/controls",
      "model_module_version": "1.5.0",
      "model_name": "IntSliderModel",
      "state": {
       "layout": "IPY_MODEL_ec7e9b90701d4da581aea7df90715e87",
       "max": 200,
       "readout": false,
       "style": "IPY_MODEL_a937309594c742b7a975700d9b9314f5"
      }
     },
     "2e34f910bddf4ef7b70f241c842d1adc": {
      "model_module": "@jupyter-widgets/controls",
      "model_module_version": "1.5.0",
      "model_name": "IntSliderModel",
      "state": {
       "layout": "IPY_MODEL_50f3f6bd9c6443c9952202e5e93a858c",
       "max": 200,
       "readout": false,
       "style": "IPY_MODEL_007ed61b5ae042b5a84596c3001d9d93"
      }
     },
     "2e4c6c90f23d430baf8d370bc53675b9": {
      "model_module": "@jupyter-widgets/base",
      "model_module_version": "1.2.0",
      "model_name": "LayoutModel",
      "state": {}
     },
     "2e7ca0fcd1774f7ebf413ed65e66c5a1": {
      "model_module": "@jupyter-widgets/controls",
      "model_module_version": "1.5.0",
      "model_name": "DescriptionStyleModel",
      "state": {
       "description_width": ""
      }
     },
     "2ed25852303844989a8cb2ecbcffa50b": {
      "model_module": "@jupyter-widgets/controls",
      "model_module_version": "1.5.0",
      "model_name": "VBoxModel",
      "state": {
       "children": [
        "IPY_MODEL_2040a204e6d447bca4a55fa3e35c8c5a",
        "IPY_MODEL_211181e7ce9546c5ab8d09e0d00e06e8"
       ],
       "layout": "IPY_MODEL_acf9cdf1e44e4a5fbbbd60451905d31a"
      }
     },
     "2edae26a326a47f69c603d6dfef4cbb2": {
      "model_module": "@jupyter-widgets/base",
      "model_module_version": "1.2.0",
      "model_name": "LayoutModel",
      "state": {}
     },
     "2f5d5e5ebda3445e94095dd85b368c9b": {
      "model_module": "@jupyter-widgets/controls",
      "model_module_version": "1.5.0",
      "model_name": "DescriptionStyleModel",
      "state": {
       "description_width": ""
      }
     },
     "2f66ecc866234547bdc9071740b2fb72": {
      "model_module": "@jupyter-widgets/controls",
      "model_module_version": "1.5.0",
      "model_name": "DescriptionStyleModel",
      "state": {
       "description_width": ""
      }
     },
     "2f70a5d383644a67a7c217caab5e6d24": {
      "model_module": "@jupyter-widgets/base",
      "model_module_version": "1.2.0",
      "model_name": "LayoutModel",
      "state": {}
     },
     "2f8bda4269004d4486658c718fb942a5": {
      "model_module": "@jupyter-widgets/controls",
      "model_module_version": "1.5.0",
      "model_name": "DescriptionStyleModel",
      "state": {
       "description_width": ""
      }
     },
     "3018e6d2aa2f4805b20abf6038f73809": {
      "model_module": "@jupyter-widgets/controls",
      "model_module_version": "1.5.0",
      "model_name": "DescriptionStyleModel",
      "state": {
       "description_width": ""
      }
     },
     "302e49e408f1428189eb96f19da78485": {
      "model_module": "@jupyter-widgets/base",
      "model_module_version": "1.2.0",
      "model_name": "LayoutModel",
      "state": {
       "width": "70%"
      }
     },
     "304d592e7d084485867347ac3c91dcea": {
      "model_module": "@jupyter-widgets/controls",
      "model_module_version": "1.5.0",
      "model_name": "DescriptionStyleModel",
      "state": {
       "description_width": ""
      }
     },
     "307805f41b1844aba0b6a40c07acad68": {
      "model_module": "@jupyter-widgets/base",
      "model_module_version": "1.2.0",
      "model_name": "LayoutModel",
      "state": {}
     },
     "3102dcd3a0a4435484aa65c688c1c264": {
      "model_module": "@jupyter-widgets/controls",
      "model_module_version": "1.5.0",
      "model_name": "ComboboxModel",
      "state": {
       "description": "Konzern:",
       "ensure_option": false,
       "layout": "IPY_MODEL_04e7d7f9463e47e49a105f482d6fb56a",
       "options": [
        "Ace",
        "Aphrodite",
        "Astrodrill",
        "Arcadian Communities",
        "Arklight",
        "Aridor",
        "Astro Alliance",
        "Celestic",
        "Cheung Shing Mars",
        "Credicor",
        "Ecoline",
        "Factorum",
        "Fractal",
        "Helion",
        "Interplanetare Filmgesellschaft",
        "Inventrix",
        "Lakefront Resorts",
        "Manutec",
        "Marsanto",
        "Mining Guild",
        "Mons Insurance",
        "Morning Star Inc.",
        "Pharmacy Union",
        "Philares",
        "PhoboLog",
        "Point Luna",
        "Polyphemos",
        "Poseidon",
        "Pristar",
        "Recylon",
        "Republik Tharsis",
        "Robinson Industries",
        "Satrun Systems",
        "Septem Tribus",
        "Splice",
        "Stormcraft",
        "Teractor",
        "Terralabs",
        "Thermex",
        "Thorgate",
        "Tycho",
        "United Nations Mars Initiative",
        "Utopia Invest",
        "Valles Trust",
        "Viron",
        "Vitor"
       ],
       "placeholder": "-",
       "style": "IPY_MODEL_9fd945358efc4f02992289cff6a0a534"
      }
     },
     "311156e10de24a68b78e8c41d216a9ab": {
      "model_module": "@jupyter-widgets/base",
      "model_module_version": "1.2.0",
      "model_name": "LayoutModel",
      "state": {}
     },
     "315caea153364b88a0080cbf0952e1a0": {
      "model_module": "@jupyter-widgets/controls",
      "model_module_version": "1.5.0",
      "model_name": "DescriptionStyleModel",
      "state": {
       "description_width": ""
      }
     },
     "318020a2d5914d43807b3d50a16690a7": {
      "model_module": "@jupyter-widgets/base",
      "model_module_version": "1.2.0",
      "model_name": "LayoutModel",
      "state": {
       "align_items": "flex-end"
      }
     },
     "31de0857abfb493889411795f502f5e5": {
      "model_module": "@jupyter-widgets/controls",
      "model_module_version": "1.5.0",
      "model_name": "BoxModel",
      "state": {
       "children": [
        "IPY_MODEL_83cd5ad62aa4400b8372a47ba86663ee",
        "IPY_MODEL_da5581b80b6249e28538a385e49f706e",
        "IPY_MODEL_3c9afbd6213f41188b3f89fa298caf34"
       ],
       "layout": "IPY_MODEL_4a66fee69eef4f92a38a7eebc1363412"
      }
     },
     "31f16756992545a586473f0ae1526cb4": {
      "model_module": "@jupyter-widgets/base",
      "model_module_version": "1.2.0",
      "model_name": "LayoutModel",
      "state": {}
     },
     "3264d3c204434648bc847198f4c8f8cd": {
      "model_module": "@jupyter-widgets/controls",
      "model_module_version": "1.5.0",
      "model_name": "DescriptionStyleModel",
      "state": {
       "description_width": ""
      }
     },
     "32aa40d3e3674755aeac41a38a4bce62": {
      "model_module": "@jupyter-widgets/base",
      "model_module_version": "1.2.0",
      "model_name": "LayoutModel",
      "state": {}
     },
     "32f9e9c852ba422ba4d06bfea0359ab5": {
      "model_module": "@jupyter-widgets/controls",
      "model_module_version": "1.5.0",
      "model_name": "IntSliderModel",
      "state": {
       "layout": "IPY_MODEL_7f877cb5773942c1a8be81cd0668525e",
       "max": 200,
       "readout": false,
       "style": "IPY_MODEL_7d40d7240d724c369f0e0004252f38ac"
      }
     },
     "334e23101bf74dc08136c7c6a5f7a113": {
      "model_module": "@jupyter-widgets/controls",
      "model_module_version": "1.5.0",
      "model_name": "DescriptionStyleModel",
      "state": {
       "description_width": ""
      }
     },
     "33649b4c89304a14aa3845234ed8d059": {
      "model_module": "@jupyter-widgets/controls",
      "model_module_version": "1.5.0",
      "model_name": "DropdownModel",
      "state": {
       "_options_labels": [
        "Tharsis",
        "Elysium",
        "Hellas"
       ],
       "index": 0,
       "layout": "IPY_MODEL_cf75a809854642fbb98fe02481fcff35",
       "style": "IPY_MODEL_2f8bda4269004d4486658c718fb942a5"
      }
     },
     "33b7b1e1bd2e4c9fbcad148fcf974635": {
      "model_module": "@jupyter-widgets/controls",
      "model_module_version": "1.5.0",
      "model_name": "CheckboxModel",
      "state": {
       "description": "Turmoil",
       "disabled": false,
       "layout": "IPY_MODEL_86c6b7a772014467a7b78773982ea295",
       "style": "IPY_MODEL_652f76dafc8d438ab147ffa5e23c2cdb",
       "value": false
      }
     },
     "34bcf0601fdf4bda91696fdaed5521f4": {
      "model_module": "@jupyter-widgets/base",
      "model_module_version": "1.2.0",
      "model_name": "LayoutModel",
      "state": {
       "width": "70%"
      }
     },
     "3510b0a90069430686ee7c8384dd8948": {
      "model_module": "@jupyter-widgets/base",
      "model_module_version": "1.2.0",
      "model_name": "LayoutModel",
      "state": {}
     },
     "352b64152f274788a6dc4c9f0a49c17c": {
      "model_module": "@jupyter-widgets/controls",
      "model_module_version": "1.5.0",
      "model_name": "CheckboxModel",
      "state": {
       "description": "Colonies",
       "disabled": false,
       "layout": "IPY_MODEL_c80766c70d5b4b19a6fd7bbc81c60b8c",
       "style": "IPY_MODEL_e5641c70f52c4919b1754055f978b1a6",
       "value": true
      }
     },
     "3549ab3f4f63420387fa70425d6cdbd9": {
      "model_module": "@jupyter-widgets/controls",
      "model_module_version": "1.5.0",
      "model_name": "BoxModel",
      "state": {
       "children": [
        "IPY_MODEL_c10341b2f8d749ac8c34bcb579816eac",
        "IPY_MODEL_f48e144d2d914eff8fa469c16b731283",
        "IPY_MODEL_95fc0063494e42eb896e3aa9b6d84b7b"
       ],
       "layout": "IPY_MODEL_77b4795d5d664909837d54bb648670d2"
      }
     },
     "354dfe5e688a412d9c2ac8dd39afcb7b": {
      "model_module": "@jupyter-widgets/controls",
      "model_module_version": "1.5.0",
      "model_name": "DescriptionStyleModel",
      "state": {
       "description_width": ""
      }
     },
     "35d6c72ec7724cb1bedaa17b12027588": {
      "model_module": "@jupyter-widgets/controls",
      "model_module_version": "1.5.0",
      "model_name": "CheckboxModel",
      "state": {
       "description": "Venus",
       "disabled": false,
       "layout": "IPY_MODEL_2a34bc23dae34749b49debb6d12e0e6d",
       "style": "IPY_MODEL_a2948e442f6342f2b4a624fcb0190a59",
       "value": true
      }
     },
     "35dd1b61ea1049b7b4ce7f3055d7dcf6": {
      "model_module": "@jupyter-widgets/controls",
      "model_module_version": "1.5.0",
      "model_name": "DescriptionStyleModel",
      "state": {
       "description_width": ""
      }
     },
     "35ec730b787543e2b598d64c644c35ec": {
      "model_module": "@jupyter-widgets/controls",
      "model_module_version": "1.5.0",
      "model_name": "ButtonStyleModel",
      "state": {}
     },
     "35ffaf059a2340e0aba11d17fa376b44": {
      "model_module": "@jupyter-widgets/controls",
      "model_module_version": "1.5.0",
      "model_name": "VBoxModel",
      "state": {
       "children": [
        "IPY_MODEL_a762b08cc70245839f9937b1c94f75ff",
        "IPY_MODEL_9ef9af18e5794fe8ae84a2c3a09bb137"
       ],
       "layout": "IPY_MODEL_9cd319cabee748f5a10a7710947ec20b"
      }
     },
     "3673e713e4ad4b048b247e13e72d2ffa": {
      "model_module": "@jupyter-widgets/base",
      "model_module_version": "1.2.0",
      "model_name": "LayoutModel",
      "state": {
       "width": "70%"
      }
     },
     "36b43d84a0884218af438adfac57cdda": {
      "model_module": "@jupyter-widgets/controls",
      "model_module_version": "1.5.0",
      "model_name": "LinkModel",
      "state": {
       "source": [
        "IPY_MODEL_ecb82ff2fc1b425da902cb876e5e91b5",
        "value"
       ],
       "target": [
        "IPY_MODEL_32f9e9c852ba422ba4d06bfea0359ab5",
        "value"
       ]
      }
     },
     "36c5d9ab1d1c497c8ae67aec865733d6": {
      "model_module": "@jupyter-widgets/controls",
      "model_module_version": "1.5.0",
      "model_name": "BoxModel",
      "state": {
       "children": [
        "IPY_MODEL_b01fa2e3908f4f0cbc65f101cefb1f3c",
        "IPY_MODEL_9073350a692340b089fb2f54682e6461",
        "IPY_MODEL_cebe2faa00874d1d9b9708af9539aa2c"
       ],
       "layout": "IPY_MODEL_ff90592032f548e494afad0495972e69"
      }
     },
     "36db86d31b784263a9fe155cf6d30af1": {
      "model_module": "@jupyter-widgets/controls",
      "model_module_version": "1.5.0",
      "model_name": "HBoxModel",
      "state": {
       "children": [
        "IPY_MODEL_0550c37fa0d849f1b493560114c98f7b",
        "IPY_MODEL_19cb4bdac1ff457eaeb4b1f5cb8d4dfe"
       ],
       "layout": "IPY_MODEL_1bc713ebc006424294e6750f87322e28"
      }
     },
     "371c2450f4754913b84655cf40ea7819": {
      "model_module": "@jupyter-widgets/controls",
      "model_module_version": "1.5.0",
      "model_name": "DescriptionStyleModel",
      "state": {
       "description_width": ""
      }
     },
     "384430bd535148a18a3a840a288d5301": {
      "model_module": "@jupyter-widgets/controls",
      "model_module_version": "1.5.0",
      "model_name": "DescriptionStyleModel",
      "state": {
       "description_width": ""
      }
     },
     "384a30050d8c42d3a222b6b7b9685935": {
      "model_module": "@jupyter-widgets/controls",
      "model_module_version": "1.5.0",
      "model_name": "LinkModel",
      "state": {
       "source": [
        "IPY_MODEL_c4d5de9726b74ccc8d1378932015aaae",
        "value"
       ],
       "target": [
        "IPY_MODEL_3a9f4142c46b479eba74eed26182147c",
        "value"
       ]
      }
     },
     "392e0a9b21da464789f4781952d58d3c": {
      "model_module": "@jupyter-widgets/base",
      "model_module_version": "1.2.0",
      "model_name": "LayoutModel",
      "state": {}
     },
     "3978b5d8d4a349719e341c5e82c4015a": {
      "model_module": "@jupyter-widgets/base",
      "model_module_version": "1.2.0",
      "model_name": "LayoutModel",
      "state": {}
     },
     "3993ed5c590c44a6acfb528aba9035a3": {
      "model_module": "@jupyter-widgets/controls",
      "model_module_version": "1.5.0",
      "model_name": "VBoxModel",
      "state": {
       "children": [
        "IPY_MODEL_d2a6f4b181824f9a850f8b1d76a50220",
        "IPY_MODEL_aeb9f56915d24dd1b1abf3d647ffc0dd"
       ],
       "layout": "IPY_MODEL_a3cdf65181d04bb784db89178b4439b2"
      }
     },
     "39fb6324e327453cb7dcf4021cc4bc22": {
      "model_module": "@jupyter-widgets/base",
      "model_module_version": "1.2.0",
      "model_name": "LayoutModel",
      "state": {
       "align_items": "flex-end"
      }
     },
     "3a076213e0f84cf19c6ee5b8502d4094": {
      "model_module": "@jupyter-widgets/controls",
      "model_module_version": "1.5.0",
      "model_name": "SliderStyleModel",
      "state": {
       "description_width": ""
      }
     },
     "3a4656c7343e41ac9276f1c9252a1fdb": {
      "model_module": "@jupyter-widgets/controls",
      "model_module_version": "1.5.0",
      "model_name": "ToggleButtonModel",
      "state": {
       "description": "Normalize",
       "layout": "IPY_MODEL_1beeae1b5d72436c92eae24d83cddb80",
       "style": "IPY_MODEL_1b82a9a7173a4494bea6b8542ea2f156"
      }
     },
     "3a53ffe89e934c9fa13e992860c39197": {
      "model_module": "@jupyter-widgets/controls",
      "model_module_version": "1.5.0",
      "model_name": "IntSliderModel",
      "state": {
       "layout": "IPY_MODEL_8f3419360f3e461c8440f6d6d6eacdf1",
       "max": 200,
       "readout": false,
       "style": "IPY_MODEL_6afc6894253846bb91783c53a92b42be"
      }
     },
     "3a916e65d4634ccfb493921b92e2b3d6": {
      "model_module": "@jupyter-widgets/controls",
      "model_module_version": "1.5.0",
      "model_name": "DescriptionStyleModel",
      "state": {
       "description_width": ""
      }
     },
     "3a9f4142c46b479eba74eed26182147c": {
      "model_module": "@jupyter-widgets/controls",
      "model_module_version": "1.5.0",
      "model_name": "IntSliderModel",
      "state": {
       "layout": "IPY_MODEL_07fd0ec6ca7d4c33ac83837249fff92f",
       "max": 200,
       "readout": false,
       "style": "IPY_MODEL_de646752af78435a846fa6651d6bdb8c"
      }
     },
     "3ad55574ef164677aaff71a7086b960c": {
      "model_module": "@jupyter-widgets/controls",
      "model_module_version": "1.5.0",
      "model_name": "DescriptionStyleModel",
      "state": {
       "description_width": ""
      }
     },
     "3b302ba0ddf34883b635c2b85f065957": {
      "model_module": "@jupyter-widgets/controls",
      "model_module_version": "1.5.0",
      "model_name": "BoxModel",
      "state": {
       "children": [
        "IPY_MODEL_039556ea33354ac786374e7fe27259de",
        "IPY_MODEL_88e228567df9472d9006ceb85d6bf263",
        "IPY_MODEL_62df320caede45cc87d6698380776551"
       ],
       "layout": "IPY_MODEL_5e342e91afa74e558f9a1a45e107ef9e"
      }
     },
     "3b4d52e3be6e47c6b8ba0960cbe9312f": {
      "model_module": "@jupyter-widgets/base",
      "model_module_version": "1.2.0",
      "model_name": "LayoutModel",
      "state": {}
     },
     "3b88e01fa3254a63933f496fbbb5c256": {
      "model_module": "@jupyter-widgets/controls",
      "model_module_version": "1.5.0",
      "model_name": "IntTextModel",
      "state": {
       "description": "Score:",
       "layout": "IPY_MODEL_2161396d71834bc7bf773328bf022ca8",
       "step": 1,
       "style": "IPY_MODEL_1caa8d7bc9184ad59391dbc15498d756",
       "value": 100
      }
     },
     "3c4ba9c8ad4042ee840b7a72e47092d1": {
      "model_module": "@jupyter-widgets/output",
      "model_module_version": "1.0.0",
      "model_name": "OutputModel",
      "state": {
       "layout": "IPY_MODEL_d524c202816d42fd9e0b17b220d7a675",
       "outputs": [
        {
         "name": "stdout",
         "output_type": "stream",
         "text": "\nDate: 2023-01-01\nLax             80   Inventrix           \nFelix           78   Valley Trust        \nSteve           73   Vitor               \nKulti           60   Robinson Industries \n\nDate: 2022-12-30\nLax             73   Republik Tharsis    \nFelix           71   Saturn Systems      \nSteve           57   Helion              \nKulti           57   Valley Trust        \n\nDate: 2022-12-30\nSteve           96   Vitor               \nFelix           92   Posidon             \nLax             92   Stormcraft          \nKulti           84   Valley Trust        \n\nDate: 2022-12-29\nFelix           90   Point Luna          \nLax             78   PhoboLog            \nSteve           78   Repubik Thasis      \nKulti           73   Aridor              \n\nDate: 2022-12-26\nFelix           119  Monts Insurances    \nLax             107  Credicor            \n\nDate: 2022-12-25\nFelix           101  Point Luna          \nLax             94   Recyclon            \n\nDate: 2022-12-24\nFelix           135  Astro Alliance      \nLax             109  Phobolog            \n"
        }
       ]
      }
     },
     "3c891d6cdc3a459ab998e2a6acb5ef17": {
      "model_module": "@jupyter-widgets/base",
      "model_module_version": "1.2.0",
      "model_name": "LayoutModel",
      "state": {}
     },
     "3c8bf1b5263845d7b3f47971d3400f8f": {
      "model_module": "@jupyter-widgets/base",
      "model_module_version": "1.2.0",
      "model_name": "LayoutModel",
      "state": {}
     },
     "3c9afbd6213f41188b3f89fa298caf34": {
      "model_module": "@jupyter-widgets/controls",
      "model_module_version": "1.5.0",
      "model_name": "ComboboxModel",
      "state": {
       "description": "Konzern:",
       "ensure_option": false,
       "layout": "IPY_MODEL_64bb07c735054c238206db869bbf365a",
       "options": [
        "Ace",
        "Aphrodite",
        "Astrodrill",
        "Arcadian Communities",
        "Arklight",
        "Aridor",
        "Astro Alliance",
        "Celestic",
        "Cheung Shing Mars",
        "Credicor",
        "Ecoline",
        "Factorum",
        "Fractal",
        "Helion",
        "Interplanetare Filmgesellschaft",
        "Inventrix",
        "Lakefront Resorts",
        "Manutec",
        "Marsanto",
        "Mining Guild",
        "Mons Insurance",
        "Morning Star Inc.",
        "Pharmacy Union",
        "Philares",
        "PhoboLog",
        "Point Luna",
        "Polyphemos",
        "Poseidon",
        "Pristar",
        "Recylon",
        "Republik Tharsis",
        "Robinson Industries",
        "Satrun Systems",
        "Septem Tribus",
        "Splice",
        "Stormcraft",
        "Teractor",
        "Terralabs",
        "Thermex",
        "Thorgate",
        "Tycho",
        "United Nations Mars Initiative",
        "Utopia Invest",
        "Valles Trust",
        "Viron",
        "Vitor"
       ],
       "placeholder": "-",
       "style": "IPY_MODEL_7fc9650e008a4ba3951303b6efd26a53"
      }
     },
     "3cbfe3866e0d4401882cb107889f9be8": {
      "model_module": "@jupyter-widgets/controls",
      "model_module_version": "1.5.0",
      "model_name": "DescriptionStyleModel",
      "state": {
       "description_width": ""
      }
     },
     "3cf89cc773854d87aac6976ae931ceee": {
      "model_module": "@jupyter-widgets/controls",
      "model_module_version": "1.5.0",
      "model_name": "VBoxModel",
      "state": {
       "children": [
        "IPY_MODEL_12ac5244f85744c7a316ba5db7890df8",
        "IPY_MODEL_3a53ffe89e934c9fa13e992860c39197"
       ],
       "layout": "IPY_MODEL_39fb6324e327453cb7dcf4021cc4bc22"
      }
     },
     "3d79f9e55f9a4737b46dd6fdf383a142": {
      "model_module": "@jupyter-widgets/controls",
      "model_module_version": "1.5.0",
      "model_name": "VBoxModel",
      "state": {
       "children": [
        "IPY_MODEL_8c44aa2191384a46b4dc34845b01802a",
        "IPY_MODEL_e61bcf1a3f5a48159e63c72178caccb1"
       ],
       "layout": "IPY_MODEL_011d0fadb57d415ba08246c9014a387d"
      }
     },
     "3e5d1ddf7ad64417b344503eef96efcb": {
      "model_module": "@jupyter-widgets/controls",
      "model_module_version": "1.5.0",
      "model_name": "DatePickerModel",
      "state": {
       "description": "Wann wurde gespielt?",
       "disabled": false,
       "layout": "IPY_MODEL_a3bfc0f5e18d4ce19713e4015146ea29",
       "style": "IPY_MODEL_68edcf8f52e9413b894f3cbde37aeceb"
      }
     },
     "3e978f36a1fb49be9a001e3dfb7203ed": {
      "model_module": "@jupyter-widgets/controls",
      "model_module_version": "1.5.0",
      "model_name": "DescriptionStyleModel",
      "state": {
       "description_width": ""
      }
     },
     "3f0421da3249483f8582bfd65b1697df": {
      "model_module": "@jupyter-widgets/controls",
      "model_module_version": "1.5.0",
      "model_name": "ComboboxModel",
      "state": {
       "description": "Konzern:",
       "ensure_option": false,
       "layout": "IPY_MODEL_ffefd0dd4dca42df8afbc65bf57351c4",
       "options": [
        "Ace",
        "Aphrodite",
        "Astrodrill",
        "Arcadian Communities",
        "Arklight",
        "Aridor",
        "Astro Alliance",
        "Celestic",
        "Cheung Shing Mars",
        "Credicor",
        "Ecoline",
        "Factorum",
        "Fractal",
        "Helion",
        "Interplanetare Filmgesellschaft",
        "Inventrix",
        "Lakefront Resorts",
        "Manutec",
        "Marsanto",
        "Mining Guild",
        "Mons Insurance",
        "Morning Star Inc.",
        "Pharmacy Union",
        "Philares",
        "PhoboLog",
        "Point Luna",
        "Polyphemos",
        "Poseidon",
        "Pristar",
        "Recylon",
        "Republik Tharsis",
        "Robinson Industries",
        "Satrun Systems",
        "Septem Tribus",
        "Splice",
        "Stormcraft",
        "Teractor",
        "Terralabs",
        "Thermex",
        "Thorgate",
        "Tycho",
        "United Nations Mars Initiative",
        "Utopia Invest",
        "Valles Trust",
        "Viron",
        "Vitor"
       ],
       "placeholder": "-",
       "style": "IPY_MODEL_cfea3d32f95a41c3b708e160001f88fa"
      }
     },
     "3f30996b742e4579bd9bf1f2a42b76df": {
      "model_module": "@jupyter-widgets/base",
      "model_module_version": "1.2.0",
      "model_name": "LayoutModel",
      "state": {}
     },
     "3f516bce68094ccfbcd39a21c6e764b6": {
      "model_module": "@jupyter-widgets/base",
      "model_module_version": "1.2.0",
      "model_name": "LayoutModel",
      "state": {
       "width": "70%"
      }
     },
     "3fa22c8a66b3483eb21c66db4041bf18": {
      "model_module": "@jupyter-widgets/controls",
      "model_module_version": "1.5.0",
      "model_name": "ComboboxModel",
      "state": {
       "description": "First place: ",
       "ensure_option": false,
       "layout": "IPY_MODEL_6b18c88aff0449f7aec38b89f81cf579",
       "options": [
        "Lax",
        "Felix",
        "Simon",
        "Nick",
        "Steve",
        "Jule",
        "Jakob",
        "Volker",
        "Kulti",
        "Marvman",
        "Elli",
        "Thomas",
        "Anna",
        "Reinhard"
       ],
       "placeholder": "Wähle Spieler",
       "style": "IPY_MODEL_6d3e5e6521e74ac9b7e56d0144617675"
      }
     },
     "3fbb2b946bae4320be10be9d14434ab4": {
      "model_module": "@jupyter-widgets/base",
      "model_module_version": "1.2.0",
      "model_name": "LayoutModel",
      "state": {
       "width": "70%"
      }
     },
     "3fbbe3434f514fada8a210f1a8e9b3e7": {
      "model_module": "@jupyter-widgets/base",
      "model_module_version": "1.2.0",
      "model_name": "LayoutModel",
      "state": {
       "align_items": "flex-end"
      }
     },
     "40a74692949c440caaa0653aed442dc3": {
      "model_module": "@jupyter-widgets/base",
      "model_module_version": "1.2.0",
      "model_name": "LayoutModel",
      "state": {}
     },
     "415f6870ea504e888a4b4c724acc8e19": {
      "model_module": "@jupyter-widgets/controls",
      "model_module_version": "1.5.0",
      "model_name": "DropdownModel",
      "state": {
       "_options_labels": [
        "Tharsis",
        "Elysium",
        "Hellas"
       ],
       "index": 0,
       "layout": "IPY_MODEL_26849fbbc0d845d387f820a0eeef7a5d",
       "style": "IPY_MODEL_232d881b83a5491f8cd876a3521a388d"
      }
     },
     "41ab95f75fc34b41b0fb5946b4e17b27": {
      "model_module": "@jupyter-widgets/controls",
      "model_module_version": "1.5.0",
      "model_name": "IntTextModel",
      "state": {
       "description": "Punkte:",
       "layout": "IPY_MODEL_1c44ed8e3b3e40d3b1f59c3328d811e0",
       "step": 1,
       "style": "IPY_MODEL_be5e66b73fde4ad49030139612775db8"
      }
     },
     "424ff781d6604a009ebafbac84b3a42a": {
      "model_module": "@jupyter-widgets/controls",
      "model_module_version": "1.5.0",
      "model_name": "ComboboxModel",
      "state": {
       "description": "Konzern:",
       "ensure_option": false,
       "layout": "IPY_MODEL_c135ff2d80844772ba2365c1a62d205c",
       "options": [
        "Ace",
        "Aphrodite",
        "Astrodrill",
        "Arcadian Communities",
        "Arklight",
        "Aridor",
        "Astro Alliance",
        "Celestic",
        "Cheung Shing Mars",
        "Credicor",
        "Ecoline",
        "Factorum",
        "Fractal",
        "Helion",
        "Interplanetare Filmgesellschaft",
        "Inventrix",
        "Lakefront Resorts",
        "Manutec",
        "Marsanto",
        "Mining Guild",
        "Mons Insurance",
        "Morning Star Inc.",
        "Pharmacy Union",
        "Philares",
        "PhoboLog",
        "Point Luna",
        "Polyphemos",
        "Poseidon",
        "Pristar",
        "Recylon",
        "Republik Tharsis",
        "Robinson Industries",
        "Satrun Systems",
        "Septem Tribus",
        "Splice",
        "Stormcraft",
        "Teractor",
        "Terralabs",
        "Thermex",
        "Thorgate",
        "Tycho",
        "United Nations Mars Initiative",
        "Utopia Invest",
        "Valles Trust",
        "Viron",
        "Vitor"
       ],
       "placeholder": "-",
       "style": "IPY_MODEL_f4f548b2ac4b465ea1e4d5fe58e01917"
      }
     },
     "4262b3dee2ec46589015c0f791b3c81a": {
      "model_module": "@jupyter-widgets/base",
      "model_module_version": "1.2.0",
      "model_name": "LayoutModel",
      "state": {
       "height": "4%",
       "width": "100%"
      }
     },
     "42754f48576242e2a8546ced057dce96": {
      "model_module": "@jupyter-widgets/controls",
      "model_module_version": "1.5.0",
      "model_name": "DescriptionStyleModel",
      "state": {
       "description_width": ""
      }
     },
     "428858c481cd49eb9cded624710c988b": {
      "model_module": "@jupyter-widgets/base",
      "model_module_version": "1.2.0",
      "model_name": "LayoutModel",
      "state": {}
     },
     "42c587d791d4450c8a9d63cec7086095": {
      "model_module": "@jupyter-widgets/controls",
      "model_module_version": "1.5.0",
      "model_name": "IntSliderModel",
      "state": {
       "layout": "IPY_MODEL_12ec8e0996d84eb6bf3fc4b5c62bcb45",
       "max": 200,
       "readout": false,
       "style": "IPY_MODEL_ec1457dcc58a4ff693de840861a98f5a"
      }
     },
     "42c830a3837848f7a64e407b2a4a4eed": {
      "model_module": "@jupyter-widgets/controls",
      "model_module_version": "1.5.0",
      "model_name": "DescriptionStyleModel",
      "state": {
       "description_width": ""
      }
     },
     "42d769d6e127467e88723667fcc29b90": {
      "model_module": "@jupyter-widgets/controls",
      "model_module_version": "1.5.0",
      "model_name": "BoxModel",
      "state": {
       "children": [
        "IPY_MODEL_bc0a6acc0fbc47948617787d43fad211",
        "IPY_MODEL_818703f3b61c4c0bad2287009f5db5a7",
        "IPY_MODEL_21c2f757a9124a1580890e1358568fb0"
       ],
       "layout": "IPY_MODEL_bf9247fe5194494f962d4faffa983782"
      }
     },
     "430a4b20086b40c681ec6bd593cf94c7": {
      "model_module": "@jupyter-widgets/base",
      "model_module_version": "1.2.0",
      "model_name": "LayoutModel",
      "state": {}
     },
     "43a8bc35e0d84b889b222bdcd1d1d4ee": {
      "model_module": "@jupyter-widgets/controls",
      "model_module_version": "1.5.0",
      "model_name": "IntSliderModel",
      "state": {
       "layout": "IPY_MODEL_f8736d28574a4e6b9e933b00f2ee503c",
       "max": 200,
       "readout": false,
       "style": "IPY_MODEL_57dcf5bafed846cebbe1ea0ed00e3fe5"
      }
     },
     "43af19f0ceed4fe6b5a26decdbe04031": {
      "model_module": "@jupyter-widgets/base",
      "model_module_version": "1.2.0",
      "model_name": "LayoutModel",
      "state": {}
     },
     "43ec653890474b84bf803093fac9d5b8": {
      "model_module": "@jupyter-widgets/controls",
      "model_module_version": "1.5.0",
      "model_name": "DescriptionStyleModel",
      "state": {
       "description_width": ""
      }
     },
     "440bae690f384f8cba2fed490319f93e": {
      "model_module": "@jupyter-widgets/base",
      "model_module_version": "1.2.0",
      "model_name": "LayoutModel",
      "state": {}
     },
     "44d7b66b205347f49f5fdcc88a9cc9a8": {
      "model_module": "@jupyter-widgets/controls",
      "model_module_version": "1.5.0",
      "model_name": "ComboboxModel",
      "state": {
       "description": "Third place: ",
       "ensure_option": false,
       "layout": "IPY_MODEL_13e0dd35ea6b43f6af4332a9001c5cfc",
       "options": [
        "Lax",
        "Felix",
        "Simon",
        "Nick",
        "Steve",
        "Jule",
        "Jakob",
        "Volker",
        "Kulti",
        "Marvman",
        "Elli",
        "Thomas",
        "Anna",
        "Reinhard"
       ],
       "placeholder": "Wähle Spieler",
       "style": "IPY_MODEL_ef65127cffc94ccfa6ae09ca48929680"
      }
     },
     "450cabd3c160491c969b3e088e118ebe": {
      "model_module": "@jupyter-widgets/controls",
      "model_module_version": "1.5.0",
      "model_name": "DescriptionStyleModel",
      "state": {
       "description_width": ""
      }
     },
     "45200a014b5c4e8e9fba31ed5651f819": {
      "model_module": "@jupyter-widgets/base",
      "model_module_version": "1.2.0",
      "model_name": "LayoutModel",
      "state": {}
     },
     "4530525d342f4f9296a87d78b49c1200": {
      "model_module": "@jupyter-widgets/controls",
      "model_module_version": "1.5.0",
      "model_name": "SliderStyleModel",
      "state": {
       "description_width": ""
      }
     },
     "455f2f2a6b004d6f8a248ba6e3ef7e43": {
      "model_module": "@jupyter-widgets/controls",
      "model_module_version": "1.5.0",
      "model_name": "DescriptionStyleModel",
      "state": {
       "description_width": ""
      }
     },
     "45f1d5dddf9243b4ba94c01519a3a061": {
      "model_module": "@jupyter-widgets/controls",
      "model_module_version": "1.5.0",
      "model_name": "ComboboxModel",
      "state": {
       "description": "Konzern:",
       "ensure_option": false,
       "layout": "IPY_MODEL_d536100c23e34bfea79dd94e282e5590",
       "options": [
        "Ace",
        "Aphrodite",
        "Astrodrill",
        "Arcadian Communities",
        "Arklight",
        "Aridor",
        "Astro Alliance",
        "Celestic",
        "Cheung Shing Mars",
        "Credicor",
        "Ecoline",
        "Factorum",
        "Fractal",
        "Helion",
        "Interplanetare Filmgesellschaft",
        "Inventrix",
        "Lakefront Resorts",
        "Manutec",
        "Marsanto",
        "Mining Guild",
        "Mons Insurance",
        "Morning Star Inc.",
        "Pharmacy Union",
        "Philares",
        "PhoboLog",
        "Point Luna",
        "Polyphemos",
        "Poseidon",
        "Pristar",
        "Recylon",
        "Republik Tharsis",
        "Robinson Industries",
        "Satrun Systems",
        "Septem Tribus",
        "Splice",
        "Stormcraft",
        "Teractor",
        "Terralabs",
        "Thermex",
        "Thorgate",
        "Tycho",
        "United Nations Mars Initiative",
        "Utopia Invest",
        "Valles Trust",
        "Viron",
        "Vitor"
       ],
       "placeholder": "-",
       "style": "IPY_MODEL_e5fa0da5a326441898a957f1f16a12ec"
      }
     },
     "46670eb4eee04f7aa6a11c569044c753": {
      "model_module": "@jupyter-widgets/base",
      "model_module_version": "1.2.0",
      "model_name": "LayoutModel",
      "state": {}
     },
     "4691581ed05c44c3b941f7abf1494e7c": {
      "model_module": "@jupyter-widgets/controls",
      "model_module_version": "1.5.0",
      "model_name": "IntTextModel",
      "state": {
       "description": "Score:",
       "layout": "IPY_MODEL_e8061ec404dc41b5b2dfe1af758832d9",
       "step": 1,
       "style": "IPY_MODEL_d0d894b6504349bcbd523673ad5df9c4"
      }
     },
     "46922a9f62dd4955aacb4e0355a9bf77": {
      "model_module": "@jupyter-widgets/controls",
      "model_module_version": "1.5.0",
      "model_name": "VBoxModel",
      "state": {
       "children": [
        "IPY_MODEL_97fb5b1f44314d58bef12a7e0627f293",
        "IPY_MODEL_43a8bc35e0d84b889b222bdcd1d1d4ee"
       ],
       "layout": "IPY_MODEL_161c49fa93ce44508f9f008b8cc84a06"
      }
     },
     "469a1d912a8a4f79bf7594c32f6bd47b": {
      "model_module": "@jupyter-widgets/controls",
      "model_module_version": "1.5.0",
      "model_name": "DescriptionStyleModel",
      "state": {
       "description_width": ""
      }
     },
     "474e0918621e4fc6978e69d9d09a77e8": {
      "model_module": "@jupyter-widgets/controls",
      "model_module_version": "1.5.0",
      "model_name": "IntTextModel",
      "state": {
       "description": "Punkte:",
       "layout": "IPY_MODEL_f5fafd55b0d4444ead7d9e0d617c3d21",
       "step": 1,
       "style": "IPY_MODEL_57e6bef50e8d45ddb0e24bef7fabe69a"
      }
     },
     "47675bdb599e4f2aa539c9d36f8b0e58": {
      "model_module": "@jupyter-widgets/base",
      "model_module_version": "1.2.0",
      "model_name": "LayoutModel",
      "state": {}
     },
     "4768058e214a406680b5f9bbed50a9d5": {
      "model_module": "@jupyter-widgets/controls",
      "model_module_version": "1.5.0",
      "model_name": "IntSliderModel",
      "state": {
       "layout": "IPY_MODEL_3f516bce68094ccfbcd39a21c6e764b6",
       "max": 200,
       "readout": false,
       "style": "IPY_MODEL_dfb266ec3e43496fb6cad68126ce7ad6"
      }
     },
     "4775d501c5ff4c31af9a330034a7a000": {
      "model_module": "@jupyter-widgets/controls",
      "model_module_version": "1.5.0",
      "model_name": "ButtonStyleModel",
      "state": {}
     },
     "477f6e05107246c38019499bb7277817": {
      "model_module": "@jupyter-widgets/controls",
      "model_module_version": "1.5.0",
      "model_name": "BoxModel",
      "state": {
       "children": [
        "IPY_MODEL_4f612599334a44cfb5903d22a9a2b1f1",
        "IPY_MODEL_9d00f2b5b132439297e00beb2d7c086a",
        "IPY_MODEL_9316d23d020a4cd08b58b8ace3c8f058"
       ],
       "layout": "IPY_MODEL_b89709c7421d4325af87159a86260e56"
      }
     },
     "47863a6567c54c7a935b83743156367c": {
      "model_module": "@jupyter-widgets/controls",
      "model_module_version": "1.5.0",
      "model_name": "DescriptionStyleModel",
      "state": {
       "description_width": ""
      }
     },
     "47f0d60a7453436b91b305f1b494e1fc": {
      "model_module": "@jupyter-widgets/controls",
      "model_module_version": "1.5.0",
      "model_name": "ButtonStyleModel",
      "state": {}
     },
     "47f45de45e5748b5afcdf32832874c06": {
      "model_module": "@jupyter-widgets/controls",
      "model_module_version": "1.5.0",
      "model_name": "LinkModel",
      "state": {
       "source": [
        "IPY_MODEL_4691581ed05c44c3b941f7abf1494e7c",
        "value"
       ],
       "target": [
        "IPY_MODEL_84d6f76c148d4f6892cda9884fff367a",
        "value"
       ]
      }
     },
     "481e2747adc7449db5bbccb76032f2c9": {
      "model_module": "@jupyter-widgets/base",
      "model_module_version": "1.2.0",
      "model_name": "LayoutModel",
      "state": {}
     },
     "4822fdd338db455896303807b0240173": {
      "model_module": "@jupyter-widgets/base",
      "model_module_version": "1.2.0",
      "model_name": "LayoutModel",
      "state": {
       "align_items": "flex-end"
      }
     },
     "48435a552c144b23a038fea3b706c2ad": {
      "model_module": "@jupyter-widgets/controls",
      "model_module_version": "1.5.0",
      "model_name": "VBoxModel",
      "state": {
       "children": [
        "IPY_MODEL_41ab95f75fc34b41b0fb5946b4e17b27",
        "IPY_MODEL_837761e27a2b4f00985e728814cc6428"
       ],
       "layout": "IPY_MODEL_eb04f7bd7c51481fbdb79e876c37cd66"
      }
     },
     "489a808d5a5d4029a141fdc0b838e8d1": {
      "model_module": "@jupyter-widgets/base",
      "model_module_version": "1.2.0",
      "model_name": "LayoutModel",
      "state": {}
     },
     "48cec7d56a294879ab9238133e9690e2": {
      "model_module": "@jupyter-widgets/base",
      "model_module_version": "1.2.0",
      "model_name": "LayoutModel",
      "state": {}
     },
     "48ee1ff2fca24762b7fb5ec5acb9633c": {
      "model_module": "@jupyter-widgets/controls",
      "model_module_version": "1.5.0",
      "model_name": "LinkModel",
      "state": {
       "source": [
        "IPY_MODEL_f721cbd498a044bf915cc8a72979543f",
        "value"
       ],
       "target": [
        "IPY_MODEL_9abef15048304d0f96a6ffcef80b54d0",
        "value"
       ]
      }
     },
     "48f461f82eb74678a28ac1cbd49bf24f": {
      "model_module": "@jupyter-widgets/controls",
      "model_module_version": "1.5.0",
      "model_name": "ComboboxModel",
      "state": {
       "description": "Konzern:",
       "ensure_option": false,
       "layout": "IPY_MODEL_77e650e1bbbf4b288bfd818ee07c00eb",
       "options": [
        "Ace",
        "Aphrodite",
        "Astrodrill",
        "Arcadian Communities",
        "Arklight",
        "Aridor",
        "Astro Alliance",
        "Celestic",
        "Cheung Shing Mars",
        "Credicor",
        "Ecoline",
        "Factorum",
        "Fractal",
        "Helion",
        "Interplanetare Filmgesellschaft",
        "Inventrix",
        "Lakefront Resorts",
        "Manutec",
        "Marsanto",
        "Mining Guild",
        "Mons Insurance",
        "Morning Star Inc.",
        "Pharmacy Union",
        "Philares",
        "PhoboLog",
        "Point Luna",
        "Polyphemos",
        "Poseidon",
        "Pristar",
        "Recylon",
        "Republik Tharsis",
        "Robinson Industries",
        "Satrun Systems",
        "Septem Tribus",
        "Splice",
        "Stormcraft",
        "Teractor",
        "Terralabs",
        "Thermex",
        "Thorgate",
        "Tycho",
        "United Nations Mars Initiative",
        "Utopia Invest",
        "Valles Trust",
        "Viron",
        "Vitor"
       ],
       "placeholder": "-",
       "style": "IPY_MODEL_1ff2881940aa47caadbf41935fd8424d"
      }
     },
     "49435d537ce54d39bf7c8153c0e09fa3": {
      "model_module": "@jupyter-widgets/controls",
      "model_module_version": "1.5.0",
      "model_name": "ComboboxModel",
      "state": {
       "description": "Konzern:",
       "ensure_option": false,
       "layout": "IPY_MODEL_ffa79dbc54ab4bfcaf5c27eea7f7b446",
       "options": [
        "Ace",
        "Aphrodite",
        "Astrodrill",
        "Arcadian Communities",
        "Arklight",
        "Aridor",
        "Astro Alliance",
        "Celestic",
        "Cheung Shing Mars",
        "Credicor",
        "Ecoline",
        "Factorum",
        "Fractal",
        "Helion",
        "Interplanetare Filmgesellschaft",
        "Inventrix",
        "Lakefront Resorts",
        "Manutec",
        "Marsanto",
        "Mining Guild",
        "Mons Insurance",
        "Morning Star Inc.",
        "Pharmacy Union",
        "Philares",
        "PhoboLog",
        "Point Luna",
        "Polyphemos",
        "Poseidon",
        "Pristar",
        "Recylon",
        "Republik Tharsis",
        "Robinson Industries",
        "Satrun Systems",
        "Septem Tribus",
        "Splice",
        "Stormcraft",
        "Teractor",
        "Terralabs",
        "Thermex",
        "Thorgate",
        "Tycho",
        "United Nations Mars Initiative",
        "Utopia Invest",
        "Valles Trust",
        "Viron",
        "Vitor"
       ],
       "placeholder": "-",
       "style": "IPY_MODEL_05bd9a1d1569407496af327049a8bcb7"
      }
     },
     "49837799da0c40eaae221d5d4dbaa91b": {
      "model_module": "@jupyter-widgets/controls",
      "model_module_version": "1.5.0",
      "model_name": "DescriptionStyleModel",
      "state": {
       "description_width": ""
      }
     },
     "498d0a2a82f14a65b0e5717bbfd0b9c1": {
      "model_module": "@jupyter-widgets/controls",
      "model_module_version": "1.5.0",
      "model_name": "SliderStyleModel",
      "state": {
       "description_width": ""
      }
     },
     "499f10bb02304307a6fa7a71f66e9097": {
      "model_module": "@jupyter-widgets/controls",
      "model_module_version": "1.5.0",
      "model_name": "LinkModel",
      "state": {
       "source": [
        "IPY_MODEL_89a05fa347524b93b82fe50c84e0bd3d",
        "value"
       ],
       "target": [
        "IPY_MODEL_79a3a6a49a744dbfb298f675b3869ca9",
        "value"
       ]
      }
     },
     "49e6a69dd1564e989409508feb97891f": {
      "model_module": "@jupyter-widgets/controls",
      "model_module_version": "1.5.0",
      "model_name": "DescriptionStyleModel",
      "state": {
       "description_width": ""
      }
     },
     "49ee472922514726a1f41658b516dd3d": {
      "model_module": "@jupyter-widgets/base",
      "model_module_version": "1.2.0",
      "model_name": "LayoutModel",
      "state": {}
     },
     "4a66fee69eef4f92a38a7eebc1363412": {
      "model_module": "@jupyter-widgets/base",
      "model_module_version": "1.2.0",
      "model_name": "LayoutModel",
      "state": {}
     },
     "4a681534a97c446aad53e5daaa4c684b": {
      "model_module": "@jupyter-widgets/controls",
      "model_module_version": "1.5.0",
      "model_name": "DescriptionStyleModel",
      "state": {
       "description_width": ""
      }
     },
     "4a9abc14327942329f2a22d8d5762017": {
      "model_module": "@jupyter-widgets/controls",
      "model_module_version": "1.5.0",
      "model_name": "IntSliderModel",
      "state": {
       "layout": "IPY_MODEL_18f64bc546ed426ead21a3f529c27672",
       "max": 200,
       "readout": false,
       "style": "IPY_MODEL_b9d84ad786d14c8db024fd824712e9ac"
      }
     },
     "4b22fade16994658bb7058ab4731604b": {
      "model_module": "@jupyter-widgets/controls",
      "model_module_version": "1.5.0",
      "model_name": "DescriptionStyleModel",
      "state": {
       "description_width": ""
      }
     },
     "4b251a62c8fd4c298a22c1faceac1719": {
      "model_module": "@jupyter-widgets/controls",
      "model_module_version": "1.5.0",
      "model_name": "DescriptionStyleModel",
      "state": {
       "description_width": ""
      }
     },
     "4b3473d47d6947a698a080df63e30318": {
      "model_module": "@jupyter-widgets/base",
      "model_module_version": "1.2.0",
      "model_name": "LayoutModel",
      "state": {}
     },
     "4b5256b1161943caa0f7db30b6ed5a31": {
      "model_module": "@jupyter-widgets/base",
      "model_module_version": "1.2.0",
      "model_name": "LayoutModel",
      "state": {
       "align_items": "flex-end"
      }
     },
     "4b78cb66d8e94ba98782b8001997bc6f": {
      "model_module": "@jupyter-widgets/controls",
      "model_module_version": "1.5.0",
      "model_name": "SliderStyleModel",
      "state": {
       "description_width": ""
      }
     },
     "4b9b543c474441f085e7aca811a044b6": {
      "model_module": "@jupyter-widgets/controls",
      "model_module_version": "1.5.0",
      "model_name": "DescriptionStyleModel",
      "state": {
       "description_width": ""
      }
     },
     "4bbf9b485b1a4500a263e9e9ccc28d72": {
      "model_module": "@jupyter-widgets/controls",
      "model_module_version": "1.5.0",
      "model_name": "IntSliderModel",
      "state": {
       "layout": "IPY_MODEL_3fbb2b946bae4320be10be9d14434ab4",
       "max": 200,
       "readout": false,
       "style": "IPY_MODEL_4f7ce1c8e25f454ebd1597f7bb4149a5"
      }
     },
     "4bca90383e1848f9b2d16745c77f055d": {
      "model_module": "@jupyter-widgets/controls",
      "model_module_version": "1.5.0",
      "model_name": "IntTextModel",
      "state": {
       "description": "Punkte:",
       "layout": "IPY_MODEL_df6cecdaeeee42869d71fa6b53da8417",
       "step": 1,
       "style": "IPY_MODEL_455f2f2a6b004d6f8a248ba6e3ef7e43"
      }
     },
     "4c33da91d83b4419b6fe8b9ef0077dd1": {
      "model_module": "@jupyter-widgets/base",
      "model_module_version": "1.2.0",
      "model_name": "LayoutModel",
      "state": {}
     },
     "4c38f694249e45c0a5bc9c2a6863d21e": {
      "model_module": "@jupyter-widgets/controls",
      "model_module_version": "1.5.0",
      "model_name": "CheckboxModel",
      "state": {
       "description": "Prelude",
       "disabled": false,
       "layout": "IPY_MODEL_0b12cba7b36e4778af0b26d9c0b2a354",
       "style": "IPY_MODEL_703ceeaed8724cf1b0ec425afcb713f2",
       "value": true
      }
     },
     "4c398391adc34fa89e136bc4c473ff4b": {
      "model_module": "@jupyter-widgets/controls",
      "model_module_version": "1.5.0",
      "model_name": "CheckboxModel",
      "state": {
       "description": "Venus",
       "disabled": false,
       "layout": "IPY_MODEL_fb64b159de45485d85e5fdf35318373e",
       "style": "IPY_MODEL_ba15061253114c7bbc36b10f9cffd97a",
       "value": true
      }
     },
     "4c5b79f7b58542dbb95ae8e7b495de36": {
      "model_module": "@jupyter-widgets/controls",
      "model_module_version": "1.5.0",
      "model_name": "DescriptionStyleModel",
      "state": {
       "description_width": ""
      }
     },
     "4c7e19410da640668411b4cef2800a7d": {
      "model_module": "@jupyter-widgets/base",
      "model_module_version": "1.2.0",
      "model_name": "LayoutModel",
      "state": {
       "align_items": "flex-end"
      }
     },
     "4c833d636c674cdbb77cf5db224e88ed": {
      "model_module": "@jupyter-widgets/controls",
      "model_module_version": "1.5.0",
      "model_name": "LinkModel",
      "state": {
       "source": [
        "IPY_MODEL_0b7561d033a347a6af4ebda7988dc973",
        "value"
       ],
       "target": [
        "IPY_MODEL_02dd58c531594f09b1800141ec149ba3",
        "value"
       ]
      }
     },
     "4d1367378a154c3490619a1e49484a04": {
      "model_module": "@jupyter-widgets/controls",
      "model_module_version": "1.5.0",
      "model_name": "ToggleButtonModel",
      "state": {
       "description": "Simon",
       "layout": "IPY_MODEL_824d80858afb4b328972782157d2836a",
       "style": "IPY_MODEL_be057122e80f4b128feadb5551bf1ad2",
       "value": true
      }
     },
     "4de7c3fa330244ffb128d0ee33db2462": {
      "model_module": "@jupyter-widgets/controls",
      "model_module_version": "1.5.0",
      "model_name": "DescriptionStyleModel",
      "state": {
       "description_width": ""
      }
     },
     "4de843f912314f9c8f329c3314196b9e": {
      "model_module": "@jupyter-widgets/base",
      "model_module_version": "1.2.0",
      "model_name": "LayoutModel",
      "state": {
       "width": "70%"
      }
     },
     "4e0f5a8916374c5cb4a3d0510f8a4583": {
      "model_module": "@jupyter-widgets/base",
      "model_module_version": "1.2.0",
      "model_name": "LayoutModel",
      "state": {}
     },
     "4e4adbcc876947f7b55ebc61b6f0a801": {
      "model_module": "@jupyter-widgets/base",
      "model_module_version": "1.2.0",
      "model_name": "LayoutModel",
      "state": {}
     },
     "4ea0b7ca1940437aa3e7a7bf37dafdb1": {
      "model_module": "@jupyter-widgets/base",
      "model_module_version": "1.2.0",
      "model_name": "LayoutModel",
      "state": {
       "align_items": "flex-end"
      }
     },
     "4f1589a7a39649d6945461ecddba5783": {
      "model_module": "@jupyter-widgets/base",
      "model_module_version": "1.2.0",
      "model_name": "LayoutModel",
      "state": {}
     },
     "4f398d0ae50242eb851d1202d143cc8a": {
      "model_module": "@jupyter-widgets/base",
      "model_module_version": "1.2.0",
      "model_name": "LayoutModel",
      "state": {}
     },
     "4f612599334a44cfb5903d22a9a2b1f1": {
      "model_module": "@jupyter-widgets/controls",
      "model_module_version": "1.5.0",
      "model_name": "ComboboxModel",
      "state": {
       "description": "First place: ",
       "ensure_option": false,
       "layout": "IPY_MODEL_c365da33ec134680952f87f644da1247",
       "options": [
        "Lax",
        "Felix",
        "Simon",
        "Nick",
        "Steve",
        "Jule",
        "Jakob",
        "Volker",
        "Kulti",
        "Marvman",
        "Elli",
        "Thomas",
        "Anna",
        "Reinhard"
       ],
       "placeholder": "Wähle Spieler",
       "style": "IPY_MODEL_b147b162d9ce4c9c9aff2a38880282b0"
      }
     },
     "4f68060d115549d68abfd1bbe0bdfae5": {
      "model_module": "@jupyter-widgets/controls",
      "model_module_version": "1.5.0",
      "model_name": "IntTextModel",
      "state": {
       "description": "Punkte:",
       "layout": "IPY_MODEL_95f08959a0b646e8b2ea352b1016731d",
       "step": 1,
       "style": "IPY_MODEL_9d88f5f8976b4110972f6324e8179260"
      }
     },
     "4f6bc1ffd8064d01b62e39214e3db3d2": {
      "model_module": "@jupyter-widgets/controls",
      "model_module_version": "1.5.0",
      "model_name": "IntTextModel",
      "state": {
       "description": "Score:",
       "layout": "IPY_MODEL_ea5fdefb263b4210b205f6fd50b4c559",
       "step": 1,
       "style": "IPY_MODEL_caf77574eab845409674bfc30c3f0537",
       "value": 119
      }
     },
     "4f75c082d2e549c39cb4b3195f4539c2": {
      "model_module": "@jupyter-widgets/base",
      "model_module_version": "1.2.0",
      "model_name": "LayoutModel",
      "state": {}
     },
     "4f7ce1c8e25f454ebd1597f7bb4149a5": {
      "model_module": "@jupyter-widgets/controls",
      "model_module_version": "1.5.0",
      "model_name": "SliderStyleModel",
      "state": {
       "description_width": ""
      }
     },
     "4fbf83d630da4dabbd3e7813d280fa61": {
      "model_module": "@jupyter-widgets/controls",
      "model_module_version": "1.5.0",
      "model_name": "DropdownModel",
      "state": {
       "_options_labels": [
        "Tharsis",
        "Elysium",
        "Hellas"
       ],
       "index": 0,
       "layout": "IPY_MODEL_3f30996b742e4579bd9bf1f2a42b76df",
       "style": "IPY_MODEL_7705978a1b6b4ba696b6d4e5659f6dda"
      }
     },
     "5033810d60464399a3c4037d6d358018": {
      "model_module": "@jupyter-widgets/controls",
      "model_module_version": "1.5.0",
      "model_name": "DescriptionStyleModel",
      "state": {
       "description_width": ""
      }
     },
     "507af827fee1432cb945e701ec907138": {
      "model_module": "@jupyter-widgets/controls",
      "model_module_version": "1.5.0",
      "model_name": "BoxModel",
      "state": {
       "children": [
        "IPY_MODEL_c31e4a87a81446f98ee5a6c41277109d",
        "IPY_MODEL_7e9f954e47be4670963939584e9971fd",
        "IPY_MODEL_f4a5dfb6fc624871a68cb8c1c6b23de7"
       ],
       "layout": "IPY_MODEL_3c891d6cdc3a459ab998e2a6acb5ef17"
      }
     },
     "50f3f6bd9c6443c9952202e5e93a858c": {
      "model_module": "@jupyter-widgets/base",
      "model_module_version": "1.2.0",
      "model_name": "LayoutModel",
      "state": {
       "width": "70%"
      }
     },
     "51161314eb974ab69cfeabf53e6388ad": {
      "model_module": "@jupyter-widgets/controls",
      "model_module_version": "1.5.0",
      "model_name": "DescriptionStyleModel",
      "state": {
       "description_width": ""
      }
     },
     "5136122067a94a0f9f769543576ca232": {
      "model_module": "@jupyter-widgets/controls",
      "model_module_version": "1.5.0",
      "model_name": "BoxModel",
      "state": {
       "children": [
        "IPY_MODEL_e4497e0988ab4237a98e53588feb2571",
        "IPY_MODEL_2ed25852303844989a8cb2ecbcffa50b",
        "IPY_MODEL_f9f751bdc1484ae4a1ef43ea60f0221e"
       ],
       "layout": "IPY_MODEL_a7641e068b284e928dc32f05e2f7de9e"
      }
     },
     "5178c11332594ece83e1584711b28fb9": {
      "model_module": "@jupyter-widgets/controls",
      "model_module_version": "1.5.0",
      "model_name": "CheckboxModel",
      "state": {
       "description": "Prelude",
       "disabled": false,
       "layout": "IPY_MODEL_8bb2f885971b4558abaaadcb882c5047",
       "style": "IPY_MODEL_cdf4649a9a4e4ff4a9908e5ecd46fa2c",
       "value": true
      }
     },
     "517b97d0f48147938a4b2cb95147e1ab": {
      "model_module": "@jupyter-widgets/controls",
      "model_module_version": "1.5.0",
      "model_name": "SliderStyleModel",
      "state": {
       "description_width": ""
      }
     },
     "51aeec614f5d4f55a02dbcf738e78428": {
      "model_module": "@jupyter-widgets/controls",
      "model_module_version": "1.5.0",
      "model_name": "DescriptionStyleModel",
      "state": {
       "description_width": ""
      }
     },
     "51d975529c4245fba4cc8df1e51d51dd": {
      "model_module": "@jupyter-widgets/controls",
      "model_module_version": "1.5.0",
      "model_name": "BoxModel",
      "state": {
       "children": [
        "IPY_MODEL_44d7b66b205347f49f5fdcc88a9cc9a8",
        "IPY_MODEL_46922a9f62dd4955aacb4e0355a9bf77",
        "IPY_MODEL_5c4b98667a3c4851a58c129e7aa161e1"
       ],
       "layout": "IPY_MODEL_e9c9ca958edd400ab2090c420f40a1b0"
      }
     },
     "51e32170959c481aa81db97ee3d462cb": {
      "model_module": "@jupyter-widgets/base",
      "model_module_version": "1.2.0",
      "model_name": "LayoutModel",
      "state": {
       "width": "70%"
      }
     },
     "524d8ff04e224639a36e1e9937c08d37": {
      "model_module": "@jupyter-widgets/controls",
      "model_module_version": "1.5.0",
      "model_name": "DescriptionStyleModel",
      "state": {
       "description_width": ""
      }
     },
     "5288f81e8c744dab8fe11ad045ffcbc2": {
      "model_module": "@jupyter-widgets/controls",
      "model_module_version": "1.5.0",
      "model_name": "ComboboxModel",
      "state": {
       "description": "Forth place: ",
       "ensure_option": false,
       "layout": "IPY_MODEL_1fd24e45ec3e494eb6d0e6a7df2795ab",
       "options": [
        "Lax",
        "Felix",
        "Simon",
        "Nick",
        "Steve",
        "Jule",
        "Jakob",
        "Volker",
        "Kulti",
        "Marvman",
        "Elli",
        "Thomas",
        "Anna",
        "Reinhard"
       ],
       "placeholder": "Wähle Spieler",
       "style": "IPY_MODEL_d942d0666ef842089905a98c350ec530"
      }
     },
     "52899e3cd58f4763bdd9b5487b1b0555": {
      "model_module": "@jupyter-widgets/base",
      "model_module_version": "1.2.0",
      "model_name": "LayoutModel",
      "state": {}
     },
     "52f1948b5a99457098903c1036b2b468": {
      "model_module": "@jupyter-widgets/base",
      "model_module_version": "1.2.0",
      "model_name": "LayoutModel",
      "state": {}
     },
     "53ac3f6d3e634acfafea7ec7827ff87e": {
      "model_module": "@jupyter-widgets/base",
      "model_module_version": "1.2.0",
      "model_name": "LayoutModel",
      "state": {}
     },
     "53c9785d8a2c4d5da3fff2ef9d788935": {
      "model_module": "@jupyter-widgets/controls",
      "model_module_version": "1.5.0",
      "model_name": "DescriptionStyleModel",
      "state": {
       "description_width": ""
      }
     },
     "53cdb16ff9c3401285a964a5fd3aeab1": {
      "model_module": "@jupyter-widgets/controls",
      "model_module_version": "1.5.0",
      "model_name": "DescriptionStyleModel",
      "state": {
       "description_width": ""
      }
     },
     "540a5c9d702544c4b9ea4ab0fcc6c503": {
      "model_module": "@jupyter-widgets/base",
      "model_module_version": "1.2.0",
      "model_name": "LayoutModel",
      "state": {}
     },
     "542a47021891490da5ce67d1e65d1f81": {
      "model_module": "@jupyter-widgets/controls",
      "model_module_version": "1.5.0",
      "model_name": "BoxModel",
      "state": {
       "children": [
        "IPY_MODEL_601fefb3af664814a09cffaf55ed6449",
        "IPY_MODEL_c14b9d2e89fe4a988a3d75bb6ebf0216",
        "IPY_MODEL_e00ed5da0e244207b9240de5c7badf64"
       ],
       "layout": "IPY_MODEL_e715ce455ae24b1f920686506215475e"
      }
     },
     "5432edb44b2e413db3f1f74f66361475": {
      "model_module": "@jupyter-widgets/output",
      "model_module_version": "1.0.0",
      "model_name": "OutputModel",
      "state": {
       "layout": "IPY_MODEL_6b848a4c62f44c36bab80d65b451c2ef",
       "outputs": [
        {
         "name": "stdout",
         "output_type": "stream",
         "text": "Predicted winrates: Lax 39 : 61 Felix\n"
        }
       ]
      }
     },
     "5433436398534d749eb33a237269a745": {
      "model_module": "@jupyter-widgets/controls",
      "model_module_version": "1.5.0",
      "model_name": "ButtonStyleModel",
      "state": {}
     },
     "5511693c9de4457a8279cf34e1cf1d73": {
      "model_module": "@jupyter-widgets/controls",
      "model_module_version": "1.5.0",
      "model_name": "DescriptionStyleModel",
      "state": {
       "description_width": ""
      }
     },
     "55da73fed2424865af2d69a4faccec7d": {
      "model_module": "@jupyter-widgets/controls",
      "model_module_version": "1.5.0",
      "model_name": "BoxModel",
      "state": {
       "children": [
        "IPY_MODEL_5288f81e8c744dab8fe11ad045ffcbc2",
        "IPY_MODEL_1de3589ddae14c1cbbe4520daf5f6eea",
        "IPY_MODEL_7dafa789cfb0418bb4e5dcebf98dc51a"
       ],
       "layout": "IPY_MODEL_e3406294327a4008898c526aa6d54ca8"
      }
     },
     "55e2f0ba65214dfcaeee0da57c5d4eeb": {
      "model_module": "@jupyter-widgets/controls",
      "model_module_version": "1.5.0",
      "model_name": "LinkModel",
      "state": {
       "source": [
        "IPY_MODEL_4f6bc1ffd8064d01b62e39214e3db3d2",
        "value"
       ],
       "target": [
        "IPY_MODEL_c7464f2da2394ebeb61278c122b6ce07",
        "value"
       ]
      }
     },
     "56949d5a8d9a4f178901b463d602184a": {
      "model_module": "@jupyter-widgets/controls",
      "model_module_version": "1.5.0",
      "model_name": "CheckboxModel",
      "state": {
       "description": "Prelude",
       "disabled": false,
       "layout": "IPY_MODEL_5af2357f936c4f198577416623c7f144",
       "style": "IPY_MODEL_f08b99cca0f840dba3356d79fd1d5d19",
       "value": true
      }
     },
     "56b04fb2872440d1b2ec7132e5b2c742": {
      "model_module": "@jupyter-widgets/base",
      "model_module_version": "1.2.0",
      "model_name": "LayoutModel",
      "state": {}
     },
     "56e496e07a63429f82d24abe64c2ddf6": {
      "model_module": "@jupyter-widgets/controls",
      "model_module_version": "1.5.0",
      "model_name": "DescriptionStyleModel",
      "state": {
       "description_width": ""
      }
     },
     "56eef38d35b14e6d891f5279dd4972d2": {
      "model_module": "@jupyter-widgets/controls",
      "model_module_version": "1.5.0",
      "model_name": "IntTextModel",
      "state": {
       "description": "Punkte:",
       "layout": "IPY_MODEL_40a74692949c440caaa0653aed442dc3",
       "step": 1,
       "style": "IPY_MODEL_c463bd573ee8477daf4d69fed085a149"
      }
     },
     "56f8aff658ee420aa6bf683d5e48da0b": {
      "model_module": "@jupyter-widgets/controls",
      "model_module_version": "1.5.0",
      "model_name": "SliderStyleModel",
      "state": {
       "description_width": ""
      }
     },
     "572794aedaf7480fb533df0f83113cd0": {
      "model_module": "@jupyter-widgets/controls",
      "model_module_version": "1.5.0",
      "model_name": "SliderStyleModel",
      "state": {
       "description_width": ""
      }
     },
     "574200b3a9544aeaa8d0c4421e89074c": {
      "model_module": "@jupyter-widgets/controls",
      "model_module_version": "1.5.0",
      "model_name": "DescriptionStyleModel",
      "state": {
       "description_width": ""
      }
     },
     "578b2b8b3beb479c98ae707200a9579e": {
      "model_module": "@jupyter-widgets/controls",
      "model_module_version": "1.5.0",
      "model_name": "DescriptionStyleModel",
      "state": {
       "description_width": ""
      }
     },
     "57d90c3cbfee431b9311f8b1d803a5e6": {
      "model_module": "@jupyter-widgets/controls",
      "model_module_version": "1.5.0",
      "model_name": "CheckboxModel",
      "state": {
       "description": "Colonies",
       "disabled": false,
       "layout": "IPY_MODEL_b4fb5711fd3648cb96d914ff83e0e3e4",
       "style": "IPY_MODEL_304d592e7d084485867347ac3c91dcea",
       "value": true
      }
     },
     "57dcf5bafed846cebbe1ea0ed00e3fe5": {
      "model_module": "@jupyter-widgets/controls",
      "model_module_version": "1.5.0",
      "model_name": "SliderStyleModel",
      "state": {
       "description_width": ""
      }
     },
     "57e6bef50e8d45ddb0e24bef7fabe69a": {
      "model_module": "@jupyter-widgets/controls",
      "model_module_version": "1.5.0",
      "model_name": "DescriptionStyleModel",
      "state": {
       "description_width": ""
      }
     },
     "57f27d4cf9c14582a7d1a512f5665a27": {
      "model_module": "@jupyter-widgets/controls",
      "model_module_version": "1.5.0",
      "model_name": "CheckboxModel",
      "state": {
       "description": "Colonies",
       "disabled": false,
       "layout": "IPY_MODEL_0db6e9f2ea8743aa828ec69d93776622",
       "style": "IPY_MODEL_a9575d81ccbc4db0be110e854bf74ae8",
       "value": true
      }
     },
     "5814bd0f59ef45dba6df597020c9de45": {
      "model_module": "@jupyter-widgets/controls",
      "model_module_version": "1.5.0",
      "model_name": "ButtonModel",
      "state": {
       "description": "Weiteres Spiel eintragen",
       "disabled": true,
       "layout": "IPY_MODEL_78cbc90ff9d14379bf6a50ed6270bdf9",
       "style": "IPY_MODEL_4775d501c5ff4c31af9a330034a7a000"
      }
     },
     "58bbc5f61b5642eeb75f510452b0ff62": {
      "model_module": "@jupyter-widgets/controls",
      "model_module_version": "1.5.0",
      "model_name": "VBoxModel",
      "state": {
       "children": [
        "IPY_MODEL_4f6bc1ffd8064d01b62e39214e3db3d2",
        "IPY_MODEL_c7464f2da2394ebeb61278c122b6ce07"
       ],
       "layout": "IPY_MODEL_73abc647d92b49e5a9d3040940a13d96"
      }
     },
     "58bf3d5c3de847969ee390768a36fc47": {
      "model_module": "@jupyter-widgets/base",
      "model_module_version": "1.2.0",
      "model_name": "LayoutModel",
      "state": {
       "height": "4%",
       "width": "100%"
      }
     },
     "58c1fc27caf14c67b0f870485dff1944": {
      "model_module": "@jupyter-widgets/controls",
      "model_module_version": "1.5.0",
      "model_name": "DescriptionStyleModel",
      "state": {
       "description_width": ""
      }
     },
     "58febfafd2294e92a90597840d22fe51": {
      "model_module": "@jupyter-widgets/base",
      "model_module_version": "1.2.0",
      "model_name": "LayoutModel",
      "state": {
       "height": "4%",
       "width": "100%"
      }
     },
     "590643095b934e13bb6689ebdcc50ff5": {
      "model_module": "@jupyter-widgets/controls",
      "model_module_version": "1.5.0",
      "model_name": "DescriptionStyleModel",
      "state": {
       "description_width": ""
      }
     },
     "5936407aec364476a3e8d62b1d7a0981": {
      "model_module": "@jupyter-widgets/controls",
      "model_module_version": "1.5.0",
      "model_name": "ComboboxModel",
      "state": {
       "description": "Fifth place: ",
       "ensure_option": false,
       "layout": "IPY_MODEL_2acac1ba90ea4e299d6408b7946ecd93",
       "options": [
        "Lax",
        "Felix",
        "Simon",
        "Nick",
        "Steve",
        "Jule",
        "Jakob",
        "Volker",
        "Kulti",
        "Marvman",
        "Elli",
        "Thomas",
        "Anna",
        "Reinhard"
       ],
       "placeholder": "Wähle Spieler",
       "style": "IPY_MODEL_10b306297a0a4836b4fa1da2ff653341"
      }
     },
     "59476c65111c47b2b0bf7f609c865cfa": {
      "model_module": "@jupyter-widgets/controls",
      "model_module_version": "1.5.0",
      "model_name": "LinkModel",
      "state": {
       "source": [
        "IPY_MODEL_cc17de6374fa411f987f5954b0f39e2e",
        "value"
       ],
       "target": [
        "IPY_MODEL_4bbf9b485b1a4500a263e9e9ccc28d72",
        "value"
       ]
      }
     },
     "5953eb7240464c32be7f1b1f41acb65d": {
      "model_module": "@jupyter-widgets/controls",
      "model_module_version": "1.5.0",
      "model_name": "DescriptionStyleModel",
      "state": {
       "description_width": ""
      }
     },
     "5962dedf1465484d9e84905e3387cddc": {
      "model_module": "@jupyter-widgets/controls",
      "model_module_version": "1.5.0",
      "model_name": "DescriptionStyleModel",
      "state": {
       "description_width": ""
      }
     },
     "597a0ee1a2064b5ca9b455d69e06cdc0": {
      "model_module": "@jupyter-widgets/base",
      "model_module_version": "1.2.0",
      "model_name": "LayoutModel",
      "state": {}
     },
     "599ce85bcea447fd887e5e36f303cbcb": {
      "model_module": "@jupyter-widgets/controls",
      "model_module_version": "1.5.0",
      "model_name": "DropdownModel",
      "state": {
       "_options_labels": [
        "Tharsis",
        "Elysium",
        "Hellas"
       ],
       "index": 0,
       "layout": "IPY_MODEL_dcc6399b4ef5497a9002b57853ad12c1",
       "style": "IPY_MODEL_a6b3936d401b4981b7266c0adcbf9e94"
      }
     },
     "59b888caf960413c888634e8889a203b": {
      "model_module": "@jupyter-widgets/controls",
      "model_module_version": "1.5.0",
      "model_name": "ComboboxModel",
      "state": {
       "description": "Fifth place: ",
       "ensure_option": false,
       "layout": "IPY_MODEL_90a7073316084cdb8686be7f06f0e637",
       "options": [
        "Lax",
        "Felix",
        "Simon",
        "Nick",
        "Steve",
        "Jule",
        "Jakob",
        "Volker",
        "Kulti",
        "Marvman",
        "Elli",
        "Thomas",
        "Anna",
        "Reinhard"
       ],
       "placeholder": "Choose Someone",
       "style": "IPY_MODEL_8563a1d110cf433e8c62015438a5cd94"
      }
     },
     "59ec7edd1dd1454ba84adf2efec3b59f": {
      "model_module": "@jupyter-widgets/base",
      "model_module_version": "1.2.0",
      "model_name": "LayoutModel",
      "state": {}
     },
     "59fb037b4bcd478f9f37c3fa9e86e3ca": {
      "model_module": "@jupyter-widgets/controls",
      "model_module_version": "1.5.0",
      "model_name": "DescriptionStyleModel",
      "state": {
       "description_width": ""
      }
     },
     "5a4e0fecbcb64892b36487b4d9fb0e33": {
      "model_module": "@jupyter-widgets/controls",
      "model_module_version": "1.5.0",
      "model_name": "ButtonModel",
      "state": {
       "description": "Submitted",
       "icon": "success",
       "layout": "IPY_MODEL_782bef1be01b45d38cbb170e3d9cfd4e",
       "style": "IPY_MODEL_6352222ffa3f485281b6a5fce110f36c"
      }
     },
     "5af2357f936c4f198577416623c7f144": {
      "model_module": "@jupyter-widgets/base",
      "model_module_version": "1.2.0",
      "model_name": "LayoutModel",
      "state": {}
     },
     "5af9c172dd3a475798bac8ecf1448a00": {
      "model_module": "@jupyter-widgets/controls",
      "model_module_version": "1.5.0",
      "model_name": "DescriptionStyleModel",
      "state": {
       "description_width": ""
      }
     },
     "5c0e25aec9e94efc85a8f5022bd990d8": {
      "model_module": "@jupyter-widgets/controls",
      "model_module_version": "1.5.0",
      "model_name": "SliderStyleModel",
      "state": {
       "description_width": ""
      }
     },
     "5c169f32c8aa476dac09e618504fcaaa": {
      "model_module": "@jupyter-widgets/controls",
      "model_module_version": "1.5.0",
      "model_name": "IntTextModel",
      "state": {
       "description": "Score:",
       "layout": "IPY_MODEL_52899e3cd58f4763bdd9b5487b1b0555",
       "step": 1,
       "style": "IPY_MODEL_7a5745e510e24a07b1bd91ff262d1d7a"
      }
     },
     "5c4b98667a3c4851a58c129e7aa161e1": {
      "model_module": "@jupyter-widgets/controls",
      "model_module_version": "1.5.0",
      "model_name": "ComboboxModel",
      "state": {
       "description": "Konzern:",
       "ensure_option": false,
       "layout": "IPY_MODEL_4f1589a7a39649d6945461ecddba5783",
       "options": [
        "Ace",
        "Aphrodite",
        "Astrodrill",
        "Arcadian Communities",
        "Arklight",
        "Aridor",
        "Astro Alliance",
        "Celestic",
        "Cheung Shing Mars",
        "Credicor",
        "Ecoline",
        "Factorum",
        "Fractal",
        "Helion",
        "Interplanetare Filmgesellschaft",
        "Inventrix",
        "Lakefront Resorts",
        "Manutec",
        "Marsanto",
        "Mining Guild",
        "Mons Insurance",
        "Morning Star Inc.",
        "Pharmacy Union",
        "Philares",
        "PhoboLog",
        "Point Luna",
        "Polyphemos",
        "Poseidon",
        "Pristar",
        "Recylon",
        "Republik Tharsis",
        "Robinson Industries",
        "Satrun Systems",
        "Septem Tribus",
        "Splice",
        "Stormcraft",
        "Teractor",
        "Terralabs",
        "Thermex",
        "Thorgate",
        "Tycho",
        "United Nations Mars Initiative",
        "Utopia Invest",
        "Valles Trust",
        "Viron",
        "Vitor"
       ],
       "placeholder": "-",
       "style": "IPY_MODEL_d114f207ae9e4f38972d5611c81b7446"
      }
     },
     "5c5d5bff43a24de884f7ea45270e68e9": {
      "model_module": "@jupyter-widgets/controls",
      "model_module_version": "1.5.0",
      "model_name": "CheckboxModel",
      "state": {
       "description": "Turmoil",
       "disabled": false,
       "layout": "IPY_MODEL_9fa505c0788d4c9aafc8450d0bf47f2d",
       "style": "IPY_MODEL_b9492d667ba3481c877b44118be8691c",
       "value": false
      }
     },
     "5ce18101d43f47458fec1d21b612e071": {
      "model_module": "@jupyter-widgets/controls",
      "model_module_version": "1.5.0",
      "model_name": "LinkModel",
      "state": {
       "source": [
        "IPY_MODEL_23492811fa2a456d8a8ac058133a1f59",
        "value"
       ],
       "target": [
        "IPY_MODEL_42c587d791d4450c8a9d63cec7086095",
        "value"
       ]
      }
     },
     "5d7069b30d2142da81565646d16d92db": {
      "model_module": "@jupyter-widgets/base",
      "model_module_version": "1.2.0",
      "model_name": "LayoutModel",
      "state": {}
     },
     "5dded353723445288b7ea66e85c629f3": {
      "model_module": "@jupyter-widgets/base",
      "model_module_version": "1.2.0",
      "model_name": "LayoutModel",
      "state": {}
     },
     "5dfd6a6e0242488d89ae84280c1fa385": {
      "model_module": "@jupyter-widgets/controls",
      "model_module_version": "1.5.0",
      "model_name": "BoxModel",
      "state": {
       "children": [
        "IPY_MODEL_b4b1b277bf534d91907e1abf93f13f0b",
        "IPY_MODEL_f6d82ad3e2944ff6ab2f8e8435597896",
        "IPY_MODEL_2ae09b3102b2458eb1b3c3f245718011",
        "IPY_MODEL_5c5d5bff43a24de884f7ea45270e68e9",
        "IPY_MODEL_599ce85bcea447fd887e5e36f303cbcb"
       ],
       "layout": "IPY_MODEL_e4c0d342059d4d02826f18334363d823"
      }
     },
     "5e2a9a95b0f94bc58520ebc5992e3bfc": {
      "model_module": "@jupyter-widgets/controls",
      "model_module_version": "1.5.0",
      "model_name": "IntSliderModel",
      "state": {
       "layout": "IPY_MODEL_126a3cab8d33487bbb4b72bc6756c1b4",
       "max": 200,
       "readout": false,
       "style": "IPY_MODEL_498d0a2a82f14a65b0e5717bbfd0b9c1"
      }
     },
     "5e342e91afa74e558f9a1a45e107ef9e": {
      "model_module": "@jupyter-widgets/base",
      "model_module_version": "1.2.0",
      "model_name": "LayoutModel",
      "state": {}
     },
     "5ee2869f95d94b428eca4a11bc97aafd": {
      "model_module": "@jupyter-widgets/controls",
      "model_module_version": "1.5.0",
      "model_name": "ComboboxModel",
      "state": {
       "description": "Second place: ",
       "ensure_option": false,
       "layout": "IPY_MODEL_10d8ddbfa87340e980d69bd0e5cbe56c",
       "options": [
        "Lax",
        "Felix",
        "Simon",
        "Nick",
        "Steve",
        "Jule",
        "Jakob",
        "Volker",
        "Kulti",
        "Marvman",
        "Elli",
        "Thomas",
        "Anna",
        "Reinhard"
       ],
       "placeholder": "Wähle Spieler",
       "style": "IPY_MODEL_590643095b934e13bb6689ebdcc50ff5"
      }
     },
     "5f2421883d584c47a53b429479ecf12b": {
      "model_module": "@jupyter-widgets/base",
      "model_module_version": "1.2.0",
      "model_name": "LayoutModel",
      "state": {}
     },
     "5f30aadb8ea6405cae3960c2e8f8eb2d": {
      "model_module": "@jupyter-widgets/controls",
      "model_module_version": "1.5.0",
      "model_name": "DescriptionStyleModel",
      "state": {
       "description_width": ""
      }
     },
     "5f8baa10050e4703bf2bac6659edd01b": {
      "model_module": "@jupyter-widgets/base",
      "model_module_version": "1.2.0",
      "model_name": "LayoutModel",
      "state": {}
     },
     "5fc06dfbc3aa4a7a974170bdc641f5d4": {
      "model_module": "@jupyter-widgets/controls",
      "model_module_version": "1.5.0",
      "model_name": "BoxModel",
      "state": {
       "children": [
        "IPY_MODEL_59b888caf960413c888634e8889a203b",
        "IPY_MODEL_b52e80b04a8647b0b9881999d82c37b6",
        "IPY_MODEL_974dc04b9db34171bd66508efc81e2d9"
       ],
       "layout": "IPY_MODEL_85ff4d09ac1b43978166c88ef39353db"
      }
     },
     "6006ae1ec6d24cbe8c304bfb7e9f8cbb": {
      "model_module": "@jupyter-widgets/base",
      "model_module_version": "1.2.0",
      "model_name": "LayoutModel",
      "state": {
       "align_items": "flex-end"
      }
     },
     "601fefb3af664814a09cffaf55ed6449": {
      "model_module": "@jupyter-widgets/controls",
      "model_module_version": "1.5.0",
      "model_name": "ComboboxModel",
      "state": {
       "description": "Third place: ",
       "ensure_option": false,
       "layout": "IPY_MODEL_8a28ec3bea304217acafdf2a7c226fca",
       "options": [
        "Lax",
        "Felix",
        "Simon",
        "Nick",
        "Steve",
        "Jule",
        "Jakob",
        "Volker",
        "Kulti",
        "Marvman",
        "Elli",
        "Thomas",
        "Anna",
        "Reinhard"
       ],
       "placeholder": "Wähle Spieler",
       "style": "IPY_MODEL_8ef35778cfca46a4b9cd8a9b5daa9660"
      }
     },
     "62064638c43d46c4ab6d142211e982b6": {
      "model_module": "@jupyter-widgets/controls",
      "model_module_version": "1.5.0",
      "model_name": "HBoxModel",
      "state": {
       "children": [
        "IPY_MODEL_dd9ad23c5f1b4a709f25b38552c52cf8",
        "IPY_MODEL_aed4ab977289416b83dc61fd3b45b9e6"
       ],
       "layout": "IPY_MODEL_01c9cf0a4c3f43979be1702341a61247"
      }
     },
     "62791eeca3184e47af87fddead72e0e6": {
      "model_module": "@jupyter-widgets/base",
      "model_module_version": "1.2.0",
      "model_name": "LayoutModel",
      "state": {
       "height": "4%",
       "width": "100%"
      }
     },
     "6288a33241a9460fa7b0976ac1facfb9": {
      "model_module": "@jupyter-widgets/controls",
      "model_module_version": "1.5.0",
      "model_name": "ToggleButtonModel",
      "state": {
       "description": "Felix",
       "layout": "IPY_MODEL_f7a0d6a7b5b6472fa4e084a5ae5206b8",
       "style": "IPY_MODEL_334e23101bf74dc08136c7c6a5f7a113",
       "value": true
      }
     },
     "62df320caede45cc87d6698380776551": {
      "model_module": "@jupyter-widgets/controls",
      "model_module_version": "1.5.0",
      "model_name": "ComboboxModel",
      "state": {
       "description": "Konzern:",
       "ensure_option": false,
       "layout": "IPY_MODEL_edce9cbf81f54eeca7a8ed6e547c7ea6",
       "options": [
        "Ace",
        "Aphrodite",
        "Astrodrill",
        "Arcadian Communities",
        "Arklight",
        "Aridor",
        "Astro Alliance",
        "Celestic",
        "Cheung Shing Mars",
        "Credicor",
        "Ecoline",
        "Factorum",
        "Fractal",
        "Helion",
        "Interplanetare Filmgesellschaft",
        "Inventrix",
        "Lakefront Resorts",
        "Manutec",
        "Marsanto",
        "Mining Guild",
        "Mons Insurance",
        "Morning Star Inc.",
        "Pharmacy Union",
        "Philares",
        "PhoboLog",
        "Point Luna",
        "Polyphemos",
        "Poseidon",
        "Pristar",
        "Recylon",
        "Republik Tharsis",
        "Robinson Industries",
        "Satrun Systems",
        "Septem Tribus",
        "Splice",
        "Stormcraft",
        "Teractor",
        "Terralabs",
        "Thermex",
        "Thorgate",
        "Tycho",
        "United Nations Mars Initiative",
        "Utopia Invest",
        "Valles Trust",
        "Viron",
        "Vitor"
       ],
       "placeholder": "-",
       "style": "IPY_MODEL_51aeec614f5d4f55a02dbcf738e78428"
      }
     },
     "62f6edf16aaa4e049f1419b4416c0455": {
      "model_module": "@jupyter-widgets/controls",
      "model_module_version": "1.5.0",
      "model_name": "DescriptionStyleModel",
      "state": {
       "description_width": ""
      }
     },
     "62fb0dc48d374cf79f9bd3f2bcf7e97b": {
      "model_module": "@jupyter-widgets/base",
      "model_module_version": "1.2.0",
      "model_name": "LayoutModel",
      "state": {}
     },
     "6352222ffa3f485281b6a5fce110f36c": {
      "model_module": "@jupyter-widgets/controls",
      "model_module_version": "1.5.0",
      "model_name": "ButtonStyleModel",
      "state": {}
     },
     "63b7fdbbac044b898436f8db9d5d2050": {
      "model_module": "@jupyter-widgets/controls",
      "model_module_version": "1.5.0",
      "model_name": "BoxModel",
      "state": {
       "children": [
        "IPY_MODEL_5178c11332594ece83e1584711b28fb9",
        "IPY_MODEL_15ba2eef0cda4a1ba4c760af0040d763",
        "IPY_MODEL_57f27d4cf9c14582a7d1a512f5665a27",
        "IPY_MODEL_911948a61d10459796c07df096235828",
        "IPY_MODEL_415f6870ea504e888a4b4c724acc8e19"
       ],
       "layout": "IPY_MODEL_1f467e7aa9f1499cbd2e90ab3da37397"
      }
     },
     "63de2b7093de4eb094263d5a98327ce8": {
      "model_module": "@jupyter-widgets/base",
      "model_module_version": "1.2.0",
      "model_name": "LayoutModel",
      "state": {}
     },
     "6427997f6565497ea7d138b4c4374ab4": {
      "model_module": "@jupyter-widgets/base",
      "model_module_version": "1.2.0",
      "model_name": "LayoutModel",
      "state": {
       "height": "4%",
       "width": "100%"
      }
     },
     "64af429386004703b266602da002b3d8": {
      "model_module": "@jupyter-widgets/controls",
      "model_module_version": "1.5.0",
      "model_name": "LinkModel",
      "state": {
       "source": [
        "IPY_MODEL_b574fd32e1df4ad185317afb810a2adf",
        "value"
       ],
       "target": [
        "IPY_MODEL_9956c87d10eb4d36af9afbbdaaf2aa28",
        "value"
       ]
      }
     },
     "64bb07c735054c238206db869bbf365a": {
      "model_module": "@jupyter-widgets/base",
      "model_module_version": "1.2.0",
      "model_name": "LayoutModel",
      "state": {}
     },
     "652f76dafc8d438ab147ffa5e23c2cdb": {
      "model_module": "@jupyter-widgets/controls",
      "model_module_version": "1.5.0",
      "model_name": "DescriptionStyleModel",
      "state": {
       "description_width": ""
      }
     },
     "6561f64f66af42ed85e278815d2db89c": {
      "model_module": "@jupyter-widgets/base",
      "model_module_version": "1.2.0",
      "model_name": "LayoutModel",
      "state": {}
     },
     "658a43d40e2c46ce88cb0708643dba81": {
      "model_module": "@jupyter-widgets/controls",
      "model_module_version": "1.5.0",
      "model_name": "DatePickerModel",
      "state": {
       "description": "Wann wurde gespielt?",
       "disabled": false,
       "layout": "IPY_MODEL_70fafdfe794d45fcb370962e3f63fac6",
       "style": "IPY_MODEL_354dfe5e688a412d9c2ac8dd39afcb7b"
      }
     },
     "659fdd4a62ed47889efbe4c00aa3c90b": {
      "model_module": "@jupyter-widgets/base",
      "model_module_version": "1.2.0",
      "model_name": "LayoutModel",
      "state": {}
     },
     "6654ddaee4c94e4f89a1319df984b24a": {
      "model_module": "@jupyter-widgets/controls",
      "model_module_version": "1.5.0",
      "model_name": "BoxModel",
      "state": {
       "children": [
        "IPY_MODEL_f3086f754e83416197d3bab9ae77e593",
        "IPY_MODEL_58bbc5f61b5642eeb75f510452b0ff62",
        "IPY_MODEL_9f478a9b390a4535a6b9f2bfd6b284c1"
       ],
       "layout": "IPY_MODEL_897e1acfc8af4993a54ef2defd38339d"
      }
     },
     "66ecfaad24964fe1b74d27393ca46321": {
      "model_module": "@jupyter-widgets/base",
      "model_module_version": "1.2.0",
      "model_name": "LayoutModel",
      "state": {
       "width": "70%"
      }
     },
     "67fa3beb32464620aa92fcd1f25d91a5": {
      "model_module": "@jupyter-widgets/base",
      "model_module_version": "1.2.0",
      "model_name": "LayoutModel",
      "state": {
       "width": "auto"
      }
     },
     "68264b3a37024e81840548c8f4e33318": {
      "model_module": "@jupyter-widgets/controls",
      "model_module_version": "1.5.0",
      "model_name": "DescriptionStyleModel",
      "state": {
       "description_width": ""
      }
     },
     "682a8d9e25c1443492859aa2dd70cd88": {
      "model_module": "@jupyter-widgets/base",
      "model_module_version": "1.2.0",
      "model_name": "LayoutModel",
      "state": {}
     },
     "68342f2cbf5c432ba3b598b9793f13c2": {
      "model_module": "@jupyter-widgets/base",
      "model_module_version": "1.2.0",
      "model_name": "LayoutModel",
      "state": {
       "align_items": "flex-end"
      }
     },
     "685e76b89e5947c7bd4f14dfa8e7c174": {
      "model_module": "@jupyter-widgets/controls",
      "model_module_version": "1.5.0",
      "model_name": "DescriptionStyleModel",
      "state": {
       "description_width": ""
      }
     },
     "68976147372c4d95820bb4faaf26506b": {
      "model_module": "@jupyter-widgets/controls",
      "model_module_version": "1.5.0",
      "model_name": "VBoxModel",
      "state": {
       "children": [
        "IPY_MODEL_3a4656c7343e41ac9276f1c9252a1fdb",
        "IPY_MODEL_6288a33241a9460fa7b0976ac1facfb9",
        "IPY_MODEL_a3d22a6db5344e009dbbddda5cf15ac2",
        "IPY_MODEL_a7a8de1e03d64e8993bdc4712967f4f7",
        "IPY_MODEL_ab3c1a295c654b5c9b3e98b9178dfd4c",
        "IPY_MODEL_db8fd458b6d640bea29019ac45da1077",
        "IPY_MODEL_4d1367378a154c3490619a1e49484a04",
        "IPY_MODEL_07d697a09762421782e5b060290ecfd8",
        "IPY_MODEL_f758e998e0e44b00b3310a78ab6ee033",
        "IPY_MODEL_ac9258ba97c84cafb8dbab577efb114c",
        "IPY_MODEL_87b0c38de25346df88f3ca2da6c82fcf",
        "IPY_MODEL_c1daefef527948418ec46dc0800bc2c9",
        "IPY_MODEL_ef31f463c30048aba1a67f866dccf52d",
        "IPY_MODEL_9fefd14e77fe462e94b5bebf6fa86962",
        "IPY_MODEL_cf5b1ff22e9741a883a8d1ff8ec42c93"
       ],
       "layout": "IPY_MODEL_9a12236655b347b0b67308c284c37fc4"
      }
     },
     "6898a79a827548ddb98dfc0615f5fdef": {
      "model_module": "@jupyter-widgets/base",
      "model_module_version": "1.2.0",
      "model_name": "LayoutModel",
      "state": {
       "align_items": "flex-end"
      }
     },
     "68c98b5e56b64ef7bb547b0d1be059bd": {
      "model_module": "@jupyter-widgets/base",
      "model_module_version": "1.2.0",
      "model_name": "LayoutModel",
      "state": {}
     },
     "68edcf8f52e9413b894f3cbde37aeceb": {
      "model_module": "@jupyter-widgets/controls",
      "model_module_version": "1.5.0",
      "model_name": "DescriptionStyleModel",
      "state": {
       "description_width": ""
      }
     },
     "6a573cf9182e4748b53a61e1ad11a14e": {
      "model_module": "@jupyter-widgets/base",
      "model_module_version": "1.2.0",
      "model_name": "LayoutModel",
      "state": {
       "width": "70%"
      }
     },
     "6a97bf73daa04d18911eb005a31791bc": {
      "model_module": "@jupyter-widgets/controls",
      "model_module_version": "1.5.0",
      "model_name": "BoxModel",
      "state": {
       "children": [
        "IPY_MODEL_4c38f694249e45c0a5bc9c2a6863d21e",
        "IPY_MODEL_4c398391adc34fa89e136bc4c473ff4b",
        "IPY_MODEL_6de155b1d30543afaf0f697eb7a4bf42",
        "IPY_MODEL_28247acb90eb4b61acc98f711e036af7",
        "IPY_MODEL_33649b4c89304a14aa3845234ed8d059"
       ],
       "layout": "IPY_MODEL_14a777325c6d4b1fbfcc5a2e1af64327"
      }
     },
     "6acde1609d924ce290f823c231d59fee": {
      "model_module": "@jupyter-widgets/controls",
      "model_module_version": "1.5.0",
      "model_name": "DescriptionStyleModel",
      "state": {
       "description_width": ""
      }
     },
     "6afc6894253846bb91783c53a92b42be": {
      "model_module": "@jupyter-widgets/controls",
      "model_module_version": "1.5.0",
      "model_name": "SliderStyleModel",
      "state": {
       "description_width": ""
      }
     },
     "6b18c88aff0449f7aec38b89f81cf579": {
      "model_module": "@jupyter-widgets/base",
      "model_module_version": "1.2.0",
      "model_name": "LayoutModel",
      "state": {}
     },
     "6b601b4af9254fe6a63969bc57c65495": {
      "model_module": "@jupyter-widgets/controls",
      "model_module_version": "1.5.0",
      "model_name": "BoxModel",
      "state": {
       "children": [
        "IPY_MODEL_e657c1205b574c4499456febe0a57a30",
        "IPY_MODEL_a0c6e9e6d2f6482d8037e41d47369a61",
        "IPY_MODEL_c268348428684b56a025563868d30174",
        "IPY_MODEL_96d9f0b2b090491393bd249763ae11ac",
        "IPY_MODEL_adfa9cc8f96842dea4bc1e3b01dcb797"
       ],
       "layout": "IPY_MODEL_87977f170b58465897d2603be9858900"
      }
     },
     "6b66f8b490e745a595c034df029c11c2": {
      "model_module": "@jupyter-widgets/controls",
      "model_module_version": "1.5.0",
      "model_name": "DescriptionStyleModel",
      "state": {
       "description_width": ""
      }
     },
     "6b848a4c62f44c36bab80d65b451c2ef": {
      "model_module": "@jupyter-widgets/base",
      "model_module_version": "1.2.0",
      "model_name": "LayoutModel",
      "state": {}
     },
     "6c08f04e22fa4d498a1139bcc09559dc": {
      "model_module": "@jupyter-widgets/controls",
      "model_module_version": "1.5.0",
      "model_name": "IntTextModel",
      "state": {
       "description": "Punkte:",
       "layout": "IPY_MODEL_93bebc54f1d8458c90e35f99d4c6e776",
       "step": 1,
       "style": "IPY_MODEL_c7d90cd95eb6409da995c0d6aabb31cd"
      }
     },
     "6d3e5e6521e74ac9b7e56d0144617675": {
      "model_module": "@jupyter-widgets/controls",
      "model_module_version": "1.5.0",
      "model_name": "DescriptionStyleModel",
      "state": {
       "description_width": ""
      }
     },
     "6d41e679ea08415280c3bca13292f806": {
      "model_module": "@jupyter-widgets/controls",
      "model_module_version": "1.5.0",
      "model_name": "VBoxModel",
      "state": {
       "children": [
        "IPY_MODEL_3b88e01fa3254a63933f496fbbb5c256",
        "IPY_MODEL_0f2877bce91e4358905a079c4bb1f70d"
       ],
       "layout": "IPY_MODEL_7f4120b92bf444138c903e9fd5e830c5"
      }
     },
     "6de155b1d30543afaf0f697eb7a4bf42": {
      "model_module": "@jupyter-widgets/controls",
      "model_module_version": "1.5.0",
      "model_name": "CheckboxModel",
      "state": {
       "description": "Colonies",
       "disabled": false,
       "layout": "IPY_MODEL_2879d755331243139c5364accc028079",
       "style": "IPY_MODEL_b49740a9abb74cf7a3e33f81a481f4ea",
       "value": true
      }
     },
     "6f154160db6c4279a732a6f26e4c39f0": {
      "model_module": "@jupyter-widgets/base",
      "model_module_version": "1.2.0",
      "model_name": "LayoutModel",
      "state": {}
     },
     "6f18d5e35480419faa9554ded3287c68": {
      "model_module": "@jupyter-widgets/base",
      "model_module_version": "1.2.0",
      "model_name": "LayoutModel",
      "state": {
       "width": "70%"
      }
     },
     "6f9516383d0d4c099b1eabbe791be619": {
      "model_module": "@jupyter-widgets/controls",
      "model_module_version": "1.5.0",
      "model_name": "DescriptionStyleModel",
      "state": {
       "description_width": ""
      }
     },
     "703ceeaed8724cf1b0ec425afcb713f2": {
      "model_module": "@jupyter-widgets/controls",
      "model_module_version": "1.5.0",
      "model_name": "DescriptionStyleModel",
      "state": {
       "description_width": ""
      }
     },
     "70416c0049ef4ea4b055109bf0c5c0d0": {
      "model_module": "@jupyter-widgets/controls",
      "model_module_version": "1.5.0",
      "model_name": "DescriptionStyleModel",
      "state": {
       "description_width": ""
      }
     },
     "705110ef832c4529bba033d2e41b2353": {
      "model_module": "@jupyter-widgets/base",
      "model_module_version": "1.2.0",
      "model_name": "LayoutModel",
      "state": {}
     },
     "7083e49723af411eb639613e1e73047d": {
      "model_module": "@jupyter-widgets/controls",
      "model_module_version": "1.5.0",
      "model_name": "DescriptionStyleModel",
      "state": {
       "description_width": ""
      }
     },
     "70fafdfe794d45fcb370962e3f63fac6": {
      "model_module": "@jupyter-widgets/base",
      "model_module_version": "1.2.0",
      "model_name": "LayoutModel",
      "state": {}
     },
     "7117c728e0244d318df59955e834d0f8": {
      "model_module": "@jupyter-widgets/controls",
      "model_module_version": "1.5.0",
      "model_name": "DescriptionStyleModel",
      "state": {
       "description_width": ""
      }
     },
     "720fb1b4694645bf8f258ce93a98ffad": {
      "model_module": "@jupyter-widgets/base",
      "model_module_version": "1.2.0",
      "model_name": "LayoutModel",
      "state": {
       "height": "4%",
       "width": "100%"
      }
     },
     "7292d80f963c494f948b69eee1bde071": {
      "model_module": "@jupyter-widgets/controls",
      "model_module_version": "1.5.0",
      "model_name": "CheckboxModel",
      "state": {
       "description": "Turmoil",
       "disabled": false,
       "layout": "IPY_MODEL_a0d48c72c2b94c4a893c32477745fe2a",
       "style": "IPY_MODEL_5953eb7240464c32be7f1b1f41acb65d",
       "value": false
      }
     },
     "72c8d663ecc146d5890c24a218d996f8": {
      "model_module": "@jupyter-widgets/base",
      "model_module_version": "1.2.0",
      "model_name": "LayoutModel",
      "state": {
       "align_items": "flex-end"
      }
     },
     "72f9316760ee4f2889368f64e89b2069": {
      "model_module": "@jupyter-widgets/controls",
      "model_module_version": "1.5.0",
      "model_name": "ComboboxModel",
      "state": {
       "description": "First place: ",
       "ensure_option": false,
       "layout": "IPY_MODEL_d4c2ce667e664059947d71297ba0c4a8",
       "options": [
        "Lax",
        "Felix",
        "Simon",
        "Nick",
        "Steve",
        "Jule",
        "Jakob",
        "Volker",
        "Kulti",
        "Marvman",
        "Elli",
        "Thomas",
        "Anna",
        "Reinhard"
       ],
       "placeholder": "Wähle Spieler",
       "style": "IPY_MODEL_eeba26badd7c4003b71d0093469d4945"
      }
     },
     "7398c37dcb1345f1a4c9aca4e27a50ac": {
      "model_module": "@jupyter-widgets/controls",
      "model_module_version": "1.5.0",
      "model_name": "LinkModel",
      "state": {
       "source": [
        "IPY_MODEL_97fb5b1f44314d58bef12a7e0627f293",
        "value"
       ],
       "target": [
        "IPY_MODEL_43a8bc35e0d84b889b222bdcd1d1d4ee",
        "value"
       ]
      }
     },
     "73abc647d92b49e5a9d3040940a13d96": {
      "model_module": "@jupyter-widgets/base",
      "model_module_version": "1.2.0",
      "model_name": "LayoutModel",
      "state": {
       "align_items": "flex-end"
      }
     },
     "74669e59cb7e4d12847a1a6d4ea6cf8b": {
      "model_module": "@jupyter-widgets/controls",
      "model_module_version": "1.5.0",
      "model_name": "LinkModel",
      "state": {
       "source": [
        "IPY_MODEL_1bc9b89dbaef4da9b48e0be47c81bab3",
        "value"
       ],
       "target": [
        "IPY_MODEL_e846ab75d00741b8b5fbd327069fa5a6",
        "value"
       ]
      }
     },
     "74739146c6254f918cf0c094be84e00c": {
      "model_module": "@jupyter-widgets/base",
      "model_module_version": "1.2.0",
      "model_name": "LayoutModel",
      "state": {}
     },
     "74faaef050d747d2a1ec069674a23fbb": {
      "model_module": "@jupyter-widgets/controls",
      "model_module_version": "1.5.0",
      "model_name": "BoxModel",
      "state": {
       "children": [
        "IPY_MODEL_3fa22c8a66b3483eb21c66db4041bf18",
        "IPY_MODEL_3993ed5c590c44a6acfb528aba9035a3",
        "IPY_MODEL_a1f3a1f9df4a4c80af1b08e1290c396d"
       ],
       "layout": "IPY_MODEL_5f2421883d584c47a53b429479ecf12b"
      }
     },
     "7504a4e9db6a41e4a8d1b448e141f7c2": {
      "model_module": "@jupyter-widgets/base",
      "model_module_version": "1.2.0",
      "model_name": "LayoutModel",
      "state": {}
     },
     "751d55987d844d1daaa581047e824472": {
      "model_module": "@jupyter-widgets/controls",
      "model_module_version": "1.5.0",
      "model_name": "BoxModel",
      "state": {
       "children": [
        "IPY_MODEL_904614a1f8fe4055b3acbe5407a99ef2",
        "IPY_MODEL_ca85d859e23645ba9321bb5bac3c23a0",
        "IPY_MODEL_2564da8c4c0843e893651c3055f119a3"
       ],
       "layout": "IPY_MODEL_d2744daf994e42d8918261536fb31a01"
      }
     },
     "75c47cd9617342df8f91f062b04e8a60": {
      "model_module": "@jupyter-widgets/controls",
      "model_module_version": "1.5.0",
      "model_name": "SliderStyleModel",
      "state": {
       "description_width": ""
      }
     },
     "75db20389a5e41008f7f7c8bb0ba274b": {
      "model_module": "@jupyter-widgets/base",
      "model_module_version": "1.2.0",
      "model_name": "LayoutModel",
      "state": {
       "height": "4%",
       "width": "100%"
      }
     },
     "75dc9a4e4d50430e9b28e327718b1fae": {
      "model_module": "@jupyter-widgets/controls",
      "model_module_version": "1.5.0",
      "model_name": "IntTextModel",
      "state": {
       "description": "Punkte:",
       "layout": "IPY_MODEL_978ae1f60f014d66918c883c1a3c34bf",
       "step": 1,
       "style": "IPY_MODEL_0ba090975ef045d5ba3cbeb160a31444"
      }
     },
     "760ca068080946d49f6de170c9476d4a": {
      "model_module": "@jupyter-widgets/controls",
      "model_module_version": "1.5.0",
      "model_name": "CheckboxModel",
      "state": {
       "description": "Venus",
       "disabled": false,
       "layout": "IPY_MODEL_a7c260f53d5a4c338c268248428b9ddf",
       "style": "IPY_MODEL_9b3606f7720d4717b99bd901fb4d51ce",
       "value": true
      }
     },
     "7622c7de122040788ca7279a919cb306": {
      "model_module": "@jupyter-widgets/controls",
      "model_module_version": "1.5.0",
      "model_name": "ButtonModel",
      "state": {
       "description": "Spiel eintragen!",
       "layout": "IPY_MODEL_bca699c472de45d5853c96b1e8401515",
       "style": "IPY_MODEL_fb95ca1836834842a28326c19d8d7e7c"
      }
     },
     "76a38587e88e4af188cdeb8d55940e43": {
      "model_module": "@jupyter-widgets/controls",
      "model_module_version": "1.5.0",
      "model_name": "DescriptionStyleModel",
      "state": {
       "description_width": ""
      }
     },
     "76ec69816ccb470aa02227a79731195f": {
      "model_module": "@jupyter-widgets/controls",
      "model_module_version": "1.5.0",
      "model_name": "DescriptionStyleModel",
      "state": {
       "description_width": ""
      }
     },
     "7705978a1b6b4ba696b6d4e5659f6dda": {
      "model_module": "@jupyter-widgets/controls",
      "model_module_version": "1.5.0",
      "model_name": "DescriptionStyleModel",
      "state": {
       "description_width": ""
      }
     },
     "774c7b5bcd6f4055b67f589fe19ea5ed": {
      "model_module": "@jupyter-widgets/controls",
      "model_module_version": "1.5.0",
      "model_name": "ButtonStyleModel",
      "state": {}
     },
     "778a37a7eb3f4747b5c4d6158c9be064": {
      "model_module": "@jupyter-widgets/base",
      "model_module_version": "1.2.0",
      "model_name": "LayoutModel",
      "state": {
       "align_items": "flex-start"
      }
     },
     "77b3226bc93547a596486e8a201ad0a8": {
      "model_module": "@jupyter-widgets/base",
      "model_module_version": "1.2.0",
      "model_name": "LayoutModel",
      "state": {
       "width": "70%"
      }
     },
     "77b4795d5d664909837d54bb648670d2": {
      "model_module": "@jupyter-widgets/base",
      "model_module_version": "1.2.0",
      "model_name": "LayoutModel",
      "state": {}
     },
     "77d33ca1c23b4639bbc30cdb86590abd": {
      "model_module": "@jupyter-widgets/base",
      "model_module_version": "1.2.0",
      "model_name": "LayoutModel",
      "state": {}
     },
     "77e650e1bbbf4b288bfd818ee07c00eb": {
      "model_module": "@jupyter-widgets/base",
      "model_module_version": "1.2.0",
      "model_name": "LayoutModel",
      "state": {}
     },
     "782bef1be01b45d38cbb170e3d9cfd4e": {
      "model_module": "@jupyter-widgets/base",
      "model_module_version": "1.2.0",
      "model_name": "LayoutModel",
      "state": {}
     },
     "783f29cf1b884caaa8f2ce83ab59b294": {
      "model_module": "@jupyter-widgets/output",
      "model_module_version": "1.0.0",
      "model_name": "OutputModel",
      "state": {
       "layout": "IPY_MODEL_392e0a9b21da464789f4781952d58d3c",
       "outputs": [
        {
         "data": {
          "image/png": "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\n",
          "text/plain": "<Figure size 640x480 with 1 Axes>"
         },
         "metadata": {},
         "output_type": "display_data"
        }
       ]
      }
     },
     "786fbbc08ab44872ba9412ac89cd5de0": {
      "model_module": "@jupyter-widgets/controls",
      "model_module_version": "1.5.0",
      "model_name": "LinkModel",
      "state": {
       "source": [
        "IPY_MODEL_2040a204e6d447bca4a55fa3e35c8c5a",
        "value"
       ],
       "target": [
        "IPY_MODEL_211181e7ce9546c5ab8d09e0d00e06e8",
        "value"
       ]
      }
     },
     "78cbc90ff9d14379bf6a50ed6270bdf9": {
      "model_module": "@jupyter-widgets/base",
      "model_module_version": "1.2.0",
      "model_name": "LayoutModel",
      "state": {
       "width": "auto"
      }
     },
     "790d3d518c08497cb3e5a32b82df9c2b": {
      "model_module": "@jupyter-widgets/controls",
      "model_module_version": "1.5.0",
      "model_name": "IntSliderModel",
      "state": {
       "layout": "IPY_MODEL_f8517e9c8b974d61bd4a3efc5c59fb92",
       "max": 200,
       "readout": false,
       "style": "IPY_MODEL_b07a084162c84c5ba7e30c9b50cf4f57"
      }
     },
     "7915aa7611f345c783b3011b9527845d": {
      "model_module": "@jupyter-widgets/base",
      "model_module_version": "1.2.0",
      "model_name": "LayoutModel",
      "state": {}
     },
     "79a3a6a49a744dbfb298f675b3869ca9": {
      "model_module": "@jupyter-widgets/controls",
      "model_module_version": "1.5.0",
      "model_name": "IntSliderModel",
      "state": {
       "layout": "IPY_MODEL_ba0fb6221cb74f31aa8baa4acfd20f1f",
       "max": 200,
       "readout": false,
       "style": "IPY_MODEL_4b78cb66d8e94ba98782b8001997bc6f"
      }
     },
     "79bff7960aad40ce85a78fcea2c29e0f": {
      "model_module": "@jupyter-widgets/controls",
      "model_module_version": "1.5.0",
      "model_name": "LinkModel",
      "state": {
       "source": [
        "IPY_MODEL_8c44aa2191384a46b4dc34845b01802a",
        "value"
       ],
       "target": [
        "IPY_MODEL_e61bcf1a3f5a48159e63c72178caccb1",
        "value"
       ]
      }
     },
     "7a4ba6aefa9b4035a1455e8f90336f75": {
      "model_module": "@jupyter-widgets/controls",
      "model_module_version": "1.5.0",
      "model_name": "VBoxModel",
      "state": {
       "children": [
        "IPY_MODEL_8791a61cc16540009ba477ab3ed1a74b",
        "IPY_MODEL_1560ae5dcd804a9d9214b05b3f604b76"
       ],
       "layout": "IPY_MODEL_4b5256b1161943caa0f7db30b6ed5a31"
      }
     },
     "7a5745e510e24a07b1bd91ff262d1d7a": {
      "model_module": "@jupyter-widgets/controls",
      "model_module_version": "1.5.0",
      "model_name": "DescriptionStyleModel",
      "state": {
       "description_width": ""
      }
     },
     "7a976a06ef6c499cbefe10454f49c92b": {
      "model_module": "@jupyter-widgets/controls",
      "model_module_version": "1.5.0",
      "model_name": "ButtonStyleModel",
      "state": {}
     },
     "7abf0daa52474845894334c291748350": {
      "model_module": "@jupyter-widgets/base",
      "model_module_version": "1.2.0",
      "model_name": "LayoutModel",
      "state": {}
     },
     "7b2c413248f84251850e4524ff00b231": {
      "model_module": "@jupyter-widgets/controls",
      "model_module_version": "1.5.0",
      "model_name": "DescriptionStyleModel",
      "state": {
       "description_width": ""
      }
     },
     "7c07625dbd5e478ba39db21495cb419b": {
      "model_module": "@jupyter-widgets/controls",
      "model_module_version": "1.5.0",
      "model_name": "ComboboxModel",
      "state": {
       "description": "Second place: ",
       "ensure_option": false,
       "layout": "IPY_MODEL_c4acbe6b098f4220847b839b5a474a4c",
       "options": [
        "Lax",
        "Felix",
        "Simon",
        "Nick",
        "Steve",
        "Jule",
        "Jakob",
        "Volker",
        "Kulti",
        "Marvman",
        "Elli",
        "Thomas",
        "Anna",
        "Reinhard"
       ],
       "placeholder": "Choose Someone",
       "style": "IPY_MODEL_3e978f36a1fb49be9a001e3dfb7203ed",
       "value": "Felix"
      }
     },
     "7c19aeb91fed4326a006e06c708de7c2": {
      "model_module": "@jupyter-widgets/controls",
      "model_module_version": "1.5.0",
      "model_name": "CheckboxModel",
      "state": {
       "description": "Turmoil",
       "disabled": false,
       "layout": "IPY_MODEL_2597eaa7f31e412789e7c39547497651",
       "style": "IPY_MODEL_524d8ff04e224639a36e1e9937c08d37",
       "value": false
      }
     },
     "7c714de5167849b99951c90e220fa58f": {
      "model_module": "@jupyter-widgets/base",
      "model_module_version": "1.2.0",
      "model_name": "LayoutModel",
      "state": {}
     },
     "7ce7f1f3b7564fd48f3bcb49a82dd0de": {
      "model_module": "@jupyter-widgets/controls",
      "model_module_version": "1.5.0",
      "model_name": "DescriptionStyleModel",
      "state": {
       "description_width": ""
      }
     },
     "7cf4a986bfb94e23aa7b2364cc9579ce": {
      "model_module": "@jupyter-widgets/controls",
      "model_module_version": "1.5.0",
      "model_name": "ButtonModel",
      "state": {
       "description": "Weiteres Spiel eintragen",
       "disabled": true,
       "layout": "IPY_MODEL_67fa3beb32464620aa92fcd1f25d91a5",
       "style": "IPY_MODEL_fa2a39168563446ea546fd83d7c7904f"
      }
     },
     "7d40d7240d724c369f0e0004252f38ac": {
      "model_module": "@jupyter-widgets/controls",
      "model_module_version": "1.5.0",
      "model_name": "SliderStyleModel",
      "state": {
       "description_width": ""
      }
     },
     "7dafa789cfb0418bb4e5dcebf98dc51a": {
      "model_module": "@jupyter-widgets/controls",
      "model_module_version": "1.5.0",
      "model_name": "ComboboxModel",
      "state": {
       "description": "Konzern:",
       "ensure_option": false,
       "layout": "IPY_MODEL_db115f526f614354b648c2381e2c0d25",
       "options": [
        "Ace",
        "Aphrodite",
        "Astrodrill",
        "Arcadian Communities",
        "Arklight",
        "Aridor",
        "Astro Alliance",
        "Celestic",
        "Cheung Shing Mars",
        "Credicor",
        "Ecoline",
        "Factorum",
        "Fractal",
        "Helion",
        "Interplanetare Filmgesellschaft",
        "Inventrix",
        "Lakefront Resorts",
        "Manutec",
        "Marsanto",
        "Mining Guild",
        "Mons Insurance",
        "Morning Star Inc.",
        "Pharmacy Union",
        "Philares",
        "PhoboLog",
        "Point Luna",
        "Polyphemos",
        "Poseidon",
        "Pristar",
        "Recylon",
        "Republik Tharsis",
        "Robinson Industries",
        "Satrun Systems",
        "Septem Tribus",
        "Splice",
        "Stormcraft",
        "Teractor",
        "Terralabs",
        "Thermex",
        "Thorgate",
        "Tycho",
        "United Nations Mars Initiative",
        "Utopia Invest",
        "Valles Trust",
        "Viron",
        "Vitor"
       ],
       "placeholder": "-",
       "style": "IPY_MODEL_c7fa192a4c5f4bfea75dcc270e1bc145"
      }
     },
     "7e35e658be3f46ee85cdeee670bcde04": {
      "model_module": "@jupyter-widgets/controls",
      "model_module_version": "1.5.0",
      "model_name": "LinkModel",
      "state": {
       "source": [
        "IPY_MODEL_75dc9a4e4d50430e9b28e327718b1fae",
        "value"
       ],
       "target": [
        "IPY_MODEL_2d8e4d66b7f34c3d95b08b12a6c7b9d9",
        "value"
       ]
      }
     },
     "7e9f954e47be4670963939584e9971fd": {
      "model_module": "@jupyter-widgets/controls",
      "model_module_version": "1.5.0",
      "model_name": "VBoxModel",
      "state": {
       "children": [
        "IPY_MODEL_1958508df3714bf5b4ecbfb659bbcbb4",
        "IPY_MODEL_4a9abc14327942329f2a22d8d5762017"
       ],
       "layout": "IPY_MODEL_b1d4c9fdaf684105ae6476e49ef95522"
      }
     },
     "7ed15e2119944bc989a2f7be70462bba": {
      "model_module": "@jupyter-widgets/controls",
      "model_module_version": "1.5.0",
      "model_name": "SliderStyleModel",
      "state": {
       "description_width": ""
      }
     },
     "7f379c77753c451481acf01ad6caf473": {
      "model_module": "@jupyter-widgets/base",
      "model_module_version": "1.2.0",
      "model_name": "LayoutModel",
      "state": {
       "width": "70%"
      }
     },
     "7f4120b92bf444138c903e9fd5e830c5": {
      "model_module": "@jupyter-widgets/base",
      "model_module_version": "1.2.0",
      "model_name": "LayoutModel",
      "state": {
       "align_items": "flex-end"
      }
     },
     "7f78d81c644c48f69bda9d99618063c8": {
      "model_module": "@jupyter-widgets/controls",
      "model_module_version": "1.5.0",
      "model_name": "DescriptionStyleModel",
      "state": {
       "description_width": ""
      }
     },
     "7f877cb5773942c1a8be81cd0668525e": {
      "model_module": "@jupyter-widgets/base",
      "model_module_version": "1.2.0",
      "model_name": "LayoutModel",
      "state": {
       "width": "70%"
      }
     },
     "7fc9650e008a4ba3951303b6efd26a53": {
      "model_module": "@jupyter-widgets/controls",
      "model_module_version": "1.5.0",
      "model_name": "DescriptionStyleModel",
      "state": {
       "description_width": ""
      }
     },
     "803108b179944af7a2c62ce47bac815c": {
      "model_module": "@jupyter-widgets/base",
      "model_module_version": "1.2.0",
      "model_name": "LayoutModel",
      "state": {}
     },
     "809f09839d284215b2227009397ec5c0": {
      "model_module": "@jupyter-widgets/base",
      "model_module_version": "1.2.0",
      "model_name": "LayoutModel",
      "state": {}
     },
     "80f284b80fdd4a44b2ca7e28ee508acc": {
      "model_module": "@jupyter-widgets/controls",
      "model_module_version": "1.5.0",
      "model_name": "CheckboxModel",
      "state": {
       "description": "Colonies",
       "disabled": false,
       "layout": "IPY_MODEL_1693926678fd4d82a1e958af440570d7",
       "style": "IPY_MODEL_9de2f90da73f464a80c7d0e4a328802e",
       "value": true
      }
     },
     "80f57b75bad648488be3e94b21df1f3f": {
      "model_module": "@jupyter-widgets/base",
      "model_module_version": "1.2.0",
      "model_name": "LayoutModel",
      "state": {
       "align_items": "flex-end"
      }
     },
     "818703f3b61c4c0bad2287009f5db5a7": {
      "model_module": "@jupyter-widgets/controls",
      "model_module_version": "1.5.0",
      "model_name": "VBoxModel",
      "state": {
       "children": [
        "IPY_MODEL_b574fd32e1df4ad185317afb810a2adf",
        "IPY_MODEL_9956c87d10eb4d36af9afbbdaaf2aa28"
       ],
       "layout": "IPY_MODEL_3fbbe3434f514fada8a210f1a8e9b3e7"
      }
     },
     "8221de8305e342a1aac07353384642df": {
      "model_module": "@jupyter-widgets/base",
      "model_module_version": "1.2.0",
      "model_name": "LayoutModel",
      "state": {}
     },
     "824d80858afb4b328972782157d2836a": {
      "model_module": "@jupyter-widgets/base",
      "model_module_version": "1.2.0",
      "model_name": "LayoutModel",
      "state": {
       "height": "4%",
       "width": "100%"
      }
     },
     "827065b5e7694f2387cc3c82046bb8cd": {
      "model_module": "@jupyter-widgets/controls",
      "model_module_version": "1.5.0",
      "model_name": "ToggleButtonModel",
      "state": {
       "description": "Simon",
       "layout": "IPY_MODEL_cdbe3954cdbb4168bd33ff3b2ad57bb6",
       "style": "IPY_MODEL_1e400704b9ed48c4be0a6fca5ed9c408",
       "value": true
      }
     },
     "82acb99aa3d54e92b8102aad3828e8bb": {
      "model_module": "@jupyter-widgets/base",
      "model_module_version": "1.2.0",
      "model_name": "LayoutModel",
      "state": {}
     },
     "82bc99570a234236ba5eb31b068d3617": {
      "model_module": "@jupyter-widgets/controls",
      "model_module_version": "1.5.0",
      "model_name": "ComboboxModel",
      "state": {
       "description": "Konzern:",
       "ensure_option": false,
       "layout": "IPY_MODEL_25d423f751b44f69b67e56410e566feb",
       "options": [
        "Ace",
        "Aphrodite",
        "Astrodrill",
        "Arcadian Communities",
        "Arklight",
        "Aridor",
        "Astro Alliance",
        "Celestic",
        "Cheung Shing Mars",
        "Credicor",
        "Ecoline",
        "Factorum",
        "Fractal",
        "Helion",
        "Interplanetare Filmgesellschaft",
        "Inventrix",
        "Lakefront Resorts",
        "Manutec",
        "Marsanto",
        "Mining Guild",
        "Mons Insurance",
        "Morning Star Inc.",
        "Pharmacy Union",
        "Philares",
        "PhoboLog",
        "Point Luna",
        "Polyphemos",
        "Poseidon",
        "Pristar",
        "Recylon",
        "Republik Tharsis",
        "Robinson Industries",
        "Satrun Systems",
        "Septem Tribus",
        "Splice",
        "Stormcraft",
        "Teractor",
        "Terralabs",
        "Thermex",
        "Thorgate",
        "Tycho",
        "United Nations Mars Initiative",
        "Utopia Invest",
        "Valles Trust",
        "Viron",
        "Vitor"
       ],
       "placeholder": "-",
       "style": "IPY_MODEL_49837799da0c40eaae221d5d4dbaa91b"
      }
     },
     "837761e27a2b4f00985e728814cc6428": {
      "model_module": "@jupyter-widgets/controls",
      "model_module_version": "1.5.0",
      "model_name": "IntSliderModel",
      "state": {
       "layout": "IPY_MODEL_ec6750f0e8c8431db8546cfb43d58008",
       "max": 200,
       "readout": false,
       "style": "IPY_MODEL_7ed15e2119944bc989a2f7be70462bba"
      }
     },
     "83cd5ad62aa4400b8372a47ba86663ee": {
      "model_module": "@jupyter-widgets/controls",
      "model_module_version": "1.5.0",
      "model_name": "ComboboxModel",
      "state": {
       "description": "First place: ",
       "ensure_option": false,
       "layout": "IPY_MODEL_ab6b27cd77cb4e7a89ce532ecef3ab47",
       "options": [
        "Lax",
        "Felix",
        "Simon",
        "Nick",
        "Steve",
        "Jule",
        "Jakob",
        "Volker",
        "Kulti",
        "Marvman",
        "Elli",
        "Thomas",
        "Anna",
        "Reinhard"
       ],
       "placeholder": "Wähle Spieler",
       "style": "IPY_MODEL_ab44bacaf95a4c608b6565ab46269686"
      }
     },
     "83ebfdae600b429db051908f21b1e4d3": {
      "model_module": "@jupyter-widgets/controls",
      "model_module_version": "1.5.0",
      "model_name": "VBoxModel",
      "state": {
       "children": [
        "IPY_MODEL_89e85eb923e342caa428ad7a91e2a754",
        "IPY_MODEL_f38ca4de69164ab48f4029da3e702e10"
       ],
       "layout": "IPY_MODEL_16e1f56a876a4b679c9a1445c1c7d204"
      }
     },
     "847cae3db04244579bf68cb9797c5d2f": {
      "model_module": "@jupyter-widgets/controls",
      "model_module_version": "1.5.0",
      "model_name": "ButtonStyleModel",
      "state": {}
     },
     "849d42456adf45358c32c88c9113595c": {
      "model_module": "@jupyter-widgets/controls",
      "model_module_version": "1.5.0",
      "model_name": "ComboboxModel",
      "state": {
       "description": "Konzern:",
       "ensure_option": false,
       "layout": "IPY_MODEL_89168a9c86f64dcc82e69a070bd1de37",
       "options": [
        "Ace",
        "Aphrodite",
        "Astrodrill",
        "Arcadian Communities",
        "Arklight",
        "Aridor",
        "Astro Alliance",
        "Celestic",
        "Cheung Shing Mars",
        "Credicor",
        "Ecoline",
        "Factorum",
        "Fractal",
        "Helion",
        "Interplanetare Filmgesellschaft",
        "Inventrix",
        "Lakefront Resorts",
        "Manutec",
        "Marsanto",
        "Mining Guild",
        "Mons Insurance",
        "Morning Star Inc.",
        "Pharmacy Union",
        "Philares",
        "PhoboLog",
        "Point Luna",
        "Polyphemos",
        "Poseidon",
        "Pristar",
        "Recylon",
        "Republik Tharsis",
        "Robinson Industries",
        "Satrun Systems",
        "Septem Tribus",
        "Splice",
        "Stormcraft",
        "Teractor",
        "Terralabs",
        "Thermex",
        "Thorgate",
        "Tycho",
        "United Nations Mars Initiative",
        "Utopia Invest",
        "Valles Trust",
        "Viron",
        "Vitor"
       ],
       "placeholder": "-",
       "style": "IPY_MODEL_c8d379ccbe8c476caa88df988d279c77"
      }
     },
     "84a91fad2b0e4a8282ba10e6258311ff": {
      "model_module": "@jupyter-widgets/base",
      "model_module_version": "1.2.0",
      "model_name": "LayoutModel",
      "state": {}
     },
     "84d6f76c148d4f6892cda9884fff367a": {
      "model_module": "@jupyter-widgets/controls",
      "model_module_version": "1.5.0",
      "model_name": "IntSliderModel",
      "state": {
       "layout": "IPY_MODEL_66ecfaad24964fe1b74d27393ca46321",
       "max": 200,
       "readout": false,
       "style": "IPY_MODEL_fbf495638939468d8828caf185814683"
      }
     },
     "8525af873486428cafc29be7ee813d55": {
      "model_module": "@jupyter-widgets/output",
      "model_module_version": "1.0.0",
      "model_name": "OutputModel",
      "state": {
       "layout": "IPY_MODEL_682a8d9e25c1443492859aa2dd70cd88",
       "outputs": [
        {
         "data": {
          "image/png": "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\n",
          "text/plain": "<Figure size 640x480 with 1 Axes>"
         },
         "metadata": {},
         "output_type": "display_data"
        }
       ]
      }
     },
     "8563a1d110cf433e8c62015438a5cd94": {
      "model_module": "@jupyter-widgets/controls",
      "model_module_version": "1.5.0",
      "model_name": "DescriptionStyleModel",
      "state": {
       "description_width": ""
      }
     },
     "857d151531b24ff4adf0edc09c40208e": {
      "model_module": "@jupyter-widgets/controls",
      "model_module_version": "1.5.0",
      "model_name": "DescriptionStyleModel",
      "state": {
       "description_width": ""
      }
     },
     "859db853c97f4165a6f7e4417c2a9d45": {
      "model_module": "@jupyter-widgets/controls",
      "model_module_version": "1.5.0",
      "model_name": "DescriptionStyleModel",
      "state": {
       "description_width": ""
      }
     },
     "85ff4d09ac1b43978166c88ef39353db": {
      "model_module": "@jupyter-widgets/base",
      "model_module_version": "1.2.0",
      "model_name": "LayoutModel",
      "state": {}
     },
     "863345cbf3524a35be0477859f4c06eb": {
      "model_module": "@jupyter-widgets/base",
      "model_module_version": "1.2.0",
      "model_name": "LayoutModel",
      "state": {}
     },
     "866049bedc204333a84704dc3cca7aa5": {
      "model_module": "@jupyter-widgets/base",
      "model_module_version": "1.2.0",
      "model_name": "LayoutModel",
      "state": {}
     },
     "869ba71be3674a46b554651057f32b14": {
      "model_module": "@jupyter-widgets/base",
      "model_module_version": "1.2.0",
      "model_name": "LayoutModel",
      "state": {}
     },
     "86c6b7a772014467a7b78773982ea295": {
      "model_module": "@jupyter-widgets/base",
      "model_module_version": "1.2.0",
      "model_name": "LayoutModel",
      "state": {}
     },
     "86c8ba16107a4e6c809559f7f8848e9b": {
      "model_module": "@jupyter-widgets/base",
      "model_module_version": "1.2.0",
      "model_name": "LayoutModel",
      "state": {}
     },
     "870515de0c8346dc97e7b066f39aa3ec": {
      "model_module": "@jupyter-widgets/controls",
      "model_module_version": "1.5.0",
      "model_name": "DescriptionStyleModel",
      "state": {
       "description_width": ""
      }
     },
     "872e5a0c64664dba9e32d2ce732c0553": {
      "model_module": "@jupyter-widgets/controls",
      "model_module_version": "1.5.0",
      "model_name": "DescriptionStyleModel",
      "state": {
       "description_width": ""
      }
     },
     "873fb8e928c14244bee698e40bd7f842": {
      "model_module": "@jupyter-widgets/controls",
      "model_module_version": "1.5.0",
      "model_name": "DescriptionStyleModel",
      "state": {
       "description_width": ""
      }
     },
     "874c400de62e4d4abf3b3766ca273563": {
      "model_module": "@jupyter-widgets/base",
      "model_module_version": "1.2.0",
      "model_name": "LayoutModel",
      "state": {
       "height": "4%",
       "width": "100%"
      }
     },
     "8791a61cc16540009ba477ab3ed1a74b": {
      "model_module": "@jupyter-widgets/controls",
      "model_module_version": "1.5.0",
      "model_name": "IntTextModel",
      "state": {
       "description": "Punkte:",
       "layout": "IPY_MODEL_b05ea5eb290d40a3aaad41a22b1685ce",
       "step": 1,
       "style": "IPY_MODEL_90dd3e6b0f60416284dc56723894cbba"
      }
     },
     "87977f170b58465897d2603be9858900": {
      "model_module": "@jupyter-widgets/base",
      "model_module_version": "1.2.0",
      "model_name": "LayoutModel",
      "state": {}
     },
     "87b0c38de25346df88f3ca2da6c82fcf": {
      "model_module": "@jupyter-widgets/controls",
      "model_module_version": "1.5.0",
      "model_name": "ToggleButtonModel",
      "state": {
       "description": "Jakob",
       "layout": "IPY_MODEL_1780ac782e27479484671998b5ef8a4a",
       "style": "IPY_MODEL_e7b07fa28419428fb03a3f89979cad96"
      }
     },
     "87bc24692a91497ea96c11a5148f245b": {
      "model_module": "@jupyter-widgets/controls",
      "model_module_version": "1.5.0",
      "model_name": "ComboboxModel",
      "state": {
       "description": "Konzern:",
       "ensure_option": false,
       "layout": "IPY_MODEL_d87daf25890d4e0eada6ed9c3b7caf19",
       "options": [
        "Ace",
        "Aphrodite",
        "Astrodrill",
        "Arcadian Communities",
        "Arklight",
        "Aridor",
        "Astro Alliance",
        "Celestic",
        "Cheung Shing Mars",
        "Credicor",
        "Ecoline",
        "Factorum",
        "Fractal",
        "Helion",
        "Interplanetare Filmgesellschaft",
        "Inventrix",
        "Lakefront Resorts",
        "Manutec",
        "Marsanto",
        "Mining Guild",
        "Mons Insurance",
        "Morning Star Inc.",
        "Pharmacy Union",
        "Philares",
        "PhoboLog",
        "Point Luna",
        "Polyphemos",
        "Poseidon",
        "Pristar",
        "Recylon",
        "Republik Tharsis",
        "Robinson Industries",
        "Satrun Systems",
        "Septem Tribus",
        "Splice",
        "Stormcraft",
        "Teractor",
        "Terralabs",
        "Thermex",
        "Thorgate",
        "Tycho",
        "United Nations Mars Initiative",
        "Utopia Invest",
        "Valles Trust",
        "Viron",
        "Vitor"
       ],
       "placeholder": "-",
       "style": "IPY_MODEL_cc5c147d4d6c40aabe72ee66143888ec"
      }
     },
     "88124f3d3d814a91a6b9b96e66eb8636": {
      "model_module": "@jupyter-widgets/controls",
      "model_module_version": "1.5.0",
      "model_name": "SliderStyleModel",
      "state": {
       "description_width": ""
      }
     },
     "887d73e8246446d2b99db597c0c59d88": {
      "model_module": "@jupyter-widgets/base",
      "model_module_version": "1.2.0",
      "model_name": "LayoutModel",
      "state": {}
     },
     "88ad21932da34de5af2e9cd1027df28e": {
      "model_module": "@jupyter-widgets/controls",
      "model_module_version": "1.5.0",
      "model_name": "BoxModel",
      "state": {
       "children": [
        "IPY_MODEL_5ee2869f95d94b428eca4a11bc97aafd",
        "IPY_MODEL_27c128eb336549f6bc17bcd469b3dc88",
        "IPY_MODEL_c55369d9fc52436188d0d29ad5ab0c14"
       ],
       "layout": "IPY_MODEL_ee0708fcffa3445e91cfd706da9c340b"
      }
     },
     "88e228567df9472d9006ceb85d6bf263": {
      "model_module": "@jupyter-widgets/controls",
      "model_module_version": "1.5.0",
      "model_name": "VBoxModel",
      "state": {
       "children": [
        "IPY_MODEL_1bc9b89dbaef4da9b48e0be47c81bab3",
        "IPY_MODEL_e846ab75d00741b8b5fbd327069fa5a6"
       ],
       "layout": "IPY_MODEL_4c7e19410da640668411b4cef2800a7d"
      }
     },
     "89168a9c86f64dcc82e69a070bd1de37": {
      "model_module": "@jupyter-widgets/base",
      "model_module_version": "1.2.0",
      "model_name": "LayoutModel",
      "state": {}
     },
     "89192d92686246fd9542c7e466b95827": {
      "model_module": "@jupyter-widgets/controls",
      "model_module_version": "1.5.0",
      "model_name": "VBoxModel",
      "state": {
       "children": [
        "IPY_MODEL_e01f8767f09b4f4ab237cf100968e5c4",
        "IPY_MODEL_2e34f910bddf4ef7b70f241c842d1adc"
       ],
       "layout": "IPY_MODEL_6898a79a827548ddb98dfc0615f5fdef"
      }
     },
     "897e1acfc8af4993a54ef2defd38339d": {
      "model_module": "@jupyter-widgets/base",
      "model_module_version": "1.2.0",
      "model_name": "LayoutModel",
      "state": {}
     },
     "8989e001f78f441183c1ea482f686ba1": {
      "model_module": "@jupyter-widgets/controls",
      "model_module_version": "1.5.0",
      "model_name": "LinkModel",
      "state": {
       "source": [
        "IPY_MODEL_474e0918621e4fc6978e69d9d09a77e8",
        "value"
       ],
       "target": [
        "IPY_MODEL_e5fc3433c9ab4a429c5fae5531e37325",
        "value"
       ]
      }
     },
     "89a05fa347524b93b82fe50c84e0bd3d": {
      "model_module": "@jupyter-widgets/controls",
      "model_module_version": "1.5.0",
      "model_name": "IntTextModel",
      "state": {
       "description": "Punkte:",
       "layout": "IPY_MODEL_f1fd8f19a01d4f3fa1564d994e1cf718",
       "step": 1,
       "style": "IPY_MODEL_be1dd2283dba47c9a6ef3c407c764978"
      }
     },
     "89e85eb923e342caa428ad7a91e2a754": {
      "model_module": "@jupyter-widgets/controls",
      "model_module_version": "1.5.0",
      "model_name": "IntTextModel",
      "state": {
       "description": "Punkte:",
       "layout": "IPY_MODEL_489a808d5a5d4029a141fdc0b838e8d1",
       "step": 1,
       "style": "IPY_MODEL_450cabd3c160491c969b3e088e118ebe"
      }
     },
     "8a28ec3bea304217acafdf2a7c226fca": {
      "model_module": "@jupyter-widgets/base",
      "model_module_version": "1.2.0",
      "model_name": "LayoutModel",
      "state": {}
     },
     "8a7d607e9f904770a1f39292d68f07e2": {
      "model_module": "@jupyter-widgets/controls",
      "model_module_version": "1.5.0",
      "model_name": "DescriptionStyleModel",
      "state": {
       "description_width": ""
      }
     },
     "8a88f14c42694c1981d4fc1f0a711bf2": {
      "model_module": "@jupyter-widgets/base",
      "model_module_version": "1.2.0",
      "model_name": "LayoutModel",
      "state": {}
     },
     "8ad161fb41a342dca2e1a5b1ae3a1cfc": {
      "model_module": "@jupyter-widgets/base",
      "model_module_version": "1.2.0",
      "model_name": "LayoutModel",
      "state": {
       "height": "4%",
       "width": "100%"
      }
     },
     "8ae23178162d4736819c8f81f47976d4": {
      "model_module": "@jupyter-widgets/controls",
      "model_module_version": "1.5.0",
      "model_name": "DescriptionStyleModel",
      "state": {
       "description_width": ""
      }
     },
     "8b22b044404b467f9bd47900888d1eda": {
      "model_module": "@jupyter-widgets/controls",
      "model_module_version": "1.5.0",
      "model_name": "DescriptionStyleModel",
      "state": {
       "description_width": ""
      }
     },
     "8b5973ec370e439cb87421b2831d8a13": {
      "model_module": "@jupyter-widgets/controls",
      "model_module_version": "1.5.0",
      "model_name": "DatePickerModel",
      "state": {
       "description": "Wann wurde gespielt?",
       "disabled": false,
       "layout": "IPY_MODEL_c7443e6743224834b2a3aa1008278811",
       "style": "IPY_MODEL_fd4ccfe824b747eb8bd327cdb3d940e3"
      }
     },
     "8bacbfa9a924443295714eb748413f59": {
      "model_module": "@jupyter-widgets/controls",
      "model_module_version": "1.5.0",
      "model_name": "ComboboxModel",
      "state": {
       "description": "Konzern:",
       "ensure_option": false,
       "layout": "IPY_MODEL_131a240106924c4689fe1e46803a5cc3",
       "options": [
        "Ace",
        "Aphrodite",
        "Astrodrill",
        "Arcadian Communities",
        "Arklight",
        "Aridor",
        "Astro Alliance",
        "Celestic",
        "Cheung Shing Mars",
        "Credicor",
        "Ecoline",
        "Factorum",
        "Fractal",
        "Helion",
        "Interplanetare Filmgesellschaft",
        "Inventrix",
        "Lakefront Resorts",
        "Manutec",
        "Marsanto",
        "Mining Guild",
        "Mons Insurance",
        "Morning Star Inc.",
        "Pharmacy Union",
        "Philares",
        "PhoboLog",
        "Point Luna",
        "Polyphemos",
        "Poseidon",
        "Pristar",
        "Recylon",
        "Republik Tharsis",
        "Robinson Industries",
        "Satrun Systems",
        "Septem Tribus",
        "Splice",
        "Stormcraft",
        "Teractor",
        "Terralabs",
        "Thermex",
        "Thorgate",
        "Tycho",
        "United Nations Mars Initiative",
        "Utopia Invest",
        "Valles Trust",
        "Viron",
        "Vitor"
       ],
       "placeholder": "-",
       "style": "IPY_MODEL_6f9516383d0d4c099b1eabbe791be619"
      }
     },
     "8bb2f885971b4558abaaadcb882c5047": {
      "model_module": "@jupyter-widgets/base",
      "model_module_version": "1.2.0",
      "model_name": "LayoutModel",
      "state": {}
     },
     "8c44aa2191384a46b4dc34845b01802a": {
      "model_module": "@jupyter-widgets/controls",
      "model_module_version": "1.5.0",
      "model_name": "IntTextModel",
      "state": {
       "description": "Punkte:",
       "layout": "IPY_MODEL_ee6f0f7437c843599d870d793c4089d3",
       "step": 1,
       "style": "IPY_MODEL_384430bd535148a18a3a840a288d5301"
      }
     },
     "8cbb6a8d60834900b05af02383bfd050": {
      "model_module": "@jupyter-widgets/base",
      "model_module_version": "1.2.0",
      "model_name": "LayoutModel",
      "state": {}
     },
     "8d60c4d27e6b43bab7bff5ec18ad079d": {
      "model_module": "@jupyter-widgets/base",
      "model_module_version": "1.2.0",
      "model_name": "LayoutModel",
      "state": {}
     },
     "8d8ab82f0a9f435d9e25e0c02381d710": {
      "model_module": "@jupyter-widgets/base",
      "model_module_version": "1.2.0",
      "model_name": "LayoutModel",
      "state": {}
     },
     "8da8404baf794977bdf89ee4ff60a579": {
      "model_module": "@jupyter-widgets/controls",
      "model_module_version": "1.5.0",
      "model_name": "DropdownModel",
      "state": {
       "_options_labels": [
        "Lax",
        "Felix",
        "Simon",
        "Nick",
        "Steve",
        "Jule",
        "Jakob",
        "Volker",
        "Kulti",
        "Marvman",
        "Elli",
        "Thomas",
        "Anna",
        "Reinhard"
       ],
       "description": "player1",
       "index": 0,
       "layout": "IPY_MODEL_c54591813dc949d8be51a5e70542ebe2",
       "style": "IPY_MODEL_11c030e24cf644df8dce9a5ef94453e0"
      }
     },
     "8dd46cac8218411bb838fa26a317fd90": {
      "model_module": "@jupyter-widgets/controls",
      "model_module_version": "1.5.0",
      "model_name": "IntTextModel",
      "state": {
       "description": "Punkte:",
       "layout": "IPY_MODEL_46670eb4eee04f7aa6a11c569044c753",
       "step": 1,
       "style": "IPY_MODEL_eae93b0467aa4bb0ab7154130d508005"
      }
     },
     "8dfd709efa8e4926b574a924d00c0c9a": {
      "model_module": "@jupyter-widgets/controls",
      "model_module_version": "1.5.0",
      "model_name": "ComboboxModel",
      "state": {
       "description": "Second place: ",
       "ensure_option": false,
       "layout": "IPY_MODEL_a790a825efb241f5a75bab0932f78fdb",
       "options": [
        "Lax",
        "Felix",
        "Simon",
        "Nick",
        "Steve",
        "Jule",
        "Jakob",
        "Volker",
        "Kulti",
        "Marvman",
        "Elli",
        "Thomas",
        "Anna",
        "Reinhard"
       ],
       "placeholder": "Wähle Spieler",
       "style": "IPY_MODEL_b961444b58534e92bb8e0b9a7fae58d1"
      }
     },
     "8e2598bc44c045c9bd3f101af07e01ce": {
      "model_module": "@jupyter-widgets/controls",
      "model_module_version": "1.5.0",
      "model_name": "SliderStyleModel",
      "state": {
       "description_width": ""
      }
     },
     "8e7bbdd776d24b2c9fbfd25ac8c3bc8b": {
      "model_module": "@jupyter-widgets/base",
      "model_module_version": "1.2.0",
      "model_name": "LayoutModel",
      "state": {}
     },
     "8ef35778cfca46a4b9cd8a9b5daa9660": {
      "model_module": "@jupyter-widgets/controls",
      "model_module_version": "1.5.0",
      "model_name": "DescriptionStyleModel",
      "state": {
       "description_width": ""
      }
     },
     "8f3419360f3e461c8440f6d6d6eacdf1": {
      "model_module": "@jupyter-widgets/base",
      "model_module_version": "1.2.0",
      "model_name": "LayoutModel",
      "state": {
       "width": "70%"
      }
     },
     "8f3a3b005e1e44da89048294cc7fa4f5": {
      "model_module": "@jupyter-widgets/controls",
      "model_module_version": "1.5.0",
      "model_name": "LinkModel",
      "state": {
       "source": [
        "IPY_MODEL_93d4ebbd656349d4a6584bec7bfc9778",
        "value"
       ],
       "target": [
        "IPY_MODEL_b14186c01e4c4a94b9959211271735a2",
        "value"
       ]
      }
     },
     "8ffd580ede9345b69acd31aafe70edb3": {
      "model_module": "@jupyter-widgets/controls",
      "model_module_version": "1.5.0",
      "model_name": "DescriptionStyleModel",
      "state": {
       "description_width": ""
      }
     },
     "902223faed3347219f9458a2a6aedf5e": {
      "model_module": "@jupyter-widgets/base",
      "model_module_version": "1.2.0",
      "model_name": "LayoutModel",
      "state": {}
     },
     "903b3fde108140a4b633cbd4d45d4b3c": {
      "model_module": "@jupyter-widgets/base",
      "model_module_version": "1.2.0",
      "model_name": "LayoutModel",
      "state": {}
     },
     "904614a1f8fe4055b3acbe5407a99ef2": {
      "model_module": "@jupyter-widgets/controls",
      "model_module_version": "1.5.0",
      "model_name": "ComboboxModel",
      "state": {
       "description": "First place: ",
       "ensure_option": false,
       "layout": "IPY_MODEL_7915aa7611f345c783b3011b9527845d",
       "options": [
        "Lax",
        "Felix",
        "Simon",
        "Nick",
        "Steve",
        "Jule",
        "Jakob",
        "Volker",
        "Kulti",
        "Marvman",
        "Elli",
        "Thomas",
        "Anna",
        "Reinhard"
       ],
       "placeholder": "Wähle Spieler",
       "style": "IPY_MODEL_920fc0eb20cc4f62b553abce8346571d"
      }
     },
     "9073350a692340b089fb2f54682e6461": {
      "model_module": "@jupyter-widgets/controls",
      "model_module_version": "1.5.0",
      "model_name": "VBoxModel",
      "state": {
       "children": [
        "IPY_MODEL_ecb82ff2fc1b425da902cb876e5e91b5",
        "IPY_MODEL_32f9e9c852ba422ba4d06bfea0359ab5"
       ],
       "layout": "IPY_MODEL_68342f2cbf5c432ba3b598b9793f13c2"
      }
     },
     "90806234f655444898dc4c976098981b": {
      "model_module": "@jupyter-widgets/base",
      "model_module_version": "1.2.0",
      "model_name": "LayoutModel",
      "state": {}
     },
     "90a7073316084cdb8686be7f06f0e637": {
      "model_module": "@jupyter-widgets/base",
      "model_module_version": "1.2.0",
      "model_name": "LayoutModel",
      "state": {}
     },
     "90dd3e6b0f60416284dc56723894cbba": {
      "model_module": "@jupyter-widgets/controls",
      "model_module_version": "1.5.0",
      "model_name": "DescriptionStyleModel",
      "state": {
       "description_width": ""
      }
     },
     "911948a61d10459796c07df096235828": {
      "model_module": "@jupyter-widgets/controls",
      "model_module_version": "1.5.0",
      "model_name": "CheckboxModel",
      "state": {
       "description": "Turmoil",
       "disabled": false,
       "layout": "IPY_MODEL_597a0ee1a2064b5ca9b455d69e06cdc0",
       "style": "IPY_MODEL_0dbb637673cc4513bcf16fb623616c17",
       "value": false
      }
     },
     "91386cd9a9a1403b9bb5e5948932d7df": {
      "model_module": "@jupyter-widgets/controls",
      "model_module_version": "1.5.0",
      "model_name": "DescriptionStyleModel",
      "state": {
       "description_width": ""
      }
     },
     "917b2d6fb9164aa4ab973c0207b705dc": {
      "model_module": "@jupyter-widgets/base",
      "model_module_version": "1.2.0",
      "model_name": "LayoutModel",
      "state": {}
     },
     "91a6a0e067454efaa42157a467da9401": {
      "model_module": "@jupyter-widgets/controls",
      "model_module_version": "1.5.0",
      "model_name": "DescriptionStyleModel",
      "state": {
       "description_width": ""
      }
     },
     "920fc0eb20cc4f62b553abce8346571d": {
      "model_module": "@jupyter-widgets/controls",
      "model_module_version": "1.5.0",
      "model_name": "DescriptionStyleModel",
      "state": {
       "description_width": ""
      }
     },
     "9222b19353eb4e35aa9edd61d69b27d9": {
      "model_module": "@jupyter-widgets/controls",
      "model_module_version": "1.5.0",
      "model_name": "LinkModel",
      "state": {
       "source": [
        "IPY_MODEL_6c08f04e22fa4d498a1139bcc09559dc",
        "value"
       ],
       "target": [
        "IPY_MODEL_790d3d518c08497cb3e5a32b82df9c2b",
        "value"
       ]
      }
     },
     "925937438dca48cab56888664007abac": {
      "model_module": "@jupyter-widgets/controls",
      "model_module_version": "1.5.0",
      "model_name": "IntSliderModel",
      "state": {
       "layout": "IPY_MODEL_6a573cf9182e4748b53a61e1ad11a14e",
       "max": 200,
       "readout": false,
       "style": "IPY_MODEL_a94f467bb35c40e8adcf5d73adcfecab"
      }
     },
     "927a16c6c4314b5694bf764e1feda2e1": {
      "model_module": "@jupyter-widgets/controls",
      "model_module_version": "1.5.0",
      "model_name": "ComboboxModel",
      "state": {
       "description": "Fifth place: ",
       "ensure_option": false,
       "layout": "IPY_MODEL_9e6bbdc4c73f4689ab856fb2075b2c20",
       "options": [
        "Lax",
        "Felix",
        "Simon",
        "Nick",
        "Steve",
        "Jule",
        "Jakob",
        "Volker",
        "Kulti",
        "Marvman",
        "Elli",
        "Thomas",
        "Anna",
        "Reinhard"
       ],
       "placeholder": "Wähle Spieler",
       "style": "IPY_MODEL_0df12006118844218db471d7bfdde6f5"
      }
     },
     "9316d23d020a4cd08b58b8ace3c8f058": {
      "model_module": "@jupyter-widgets/controls",
      "model_module_version": "1.5.0",
      "model_name": "ComboboxModel",
      "state": {
       "description": "Konzern:",
       "ensure_option": false,
       "layout": "IPY_MODEL_4e0f5a8916374c5cb4a3d0510f8a4583",
       "options": [
        "Ace",
        "Aphrodite",
        "Astrodrill",
        "Arcadian Communities",
        "Arklight",
        "Aridor",
        "Astro Alliance",
        "Celestic",
        "Cheung Shing Mars",
        "Credicor",
        "Ecoline",
        "Factorum",
        "Fractal",
        "Helion",
        "Interplanetare Filmgesellschaft",
        "Inventrix",
        "Lakefront Resorts",
        "Manutec",
        "Marsanto",
        "Mining Guild",
        "Mons Insurance",
        "Morning Star Inc.",
        "Pharmacy Union",
        "Philares",
        "PhoboLog",
        "Point Luna",
        "Polyphemos",
        "Poseidon",
        "Pristar",
        "Recylon",
        "Republik Tharsis",
        "Robinson Industries",
        "Satrun Systems",
        "Septem Tribus",
        "Splice",
        "Stormcraft",
        "Teractor",
        "Terralabs",
        "Thermex",
        "Thorgate",
        "Tycho",
        "United Nations Mars Initiative",
        "Utopia Invest",
        "Valles Trust",
        "Viron",
        "Vitor"
       ],
       "placeholder": "-",
       "style": "IPY_MODEL_4a681534a97c446aad53e5daaa4c684b"
      }
     },
     "933303b4fdc54c94af012083329bb449": {
      "model_module": "@jupyter-widgets/base",
      "model_module_version": "1.2.0",
      "model_name": "LayoutModel",
      "state": {
       "align_items": "flex-end"
      }
     },
     "93bebc54f1d8458c90e35f99d4c6e776": {
      "model_module": "@jupyter-widgets/base",
      "model_module_version": "1.2.0",
      "model_name": "LayoutModel",
      "state": {}
     },
     "93d4ebbd656349d4a6584bec7bfc9778": {
      "model_module": "@jupyter-widgets/controls",
      "model_module_version": "1.5.0",
      "model_name": "IntTextModel",
      "state": {
       "description": "Punkte:",
       "layout": "IPY_MODEL_863345cbf3524a35be0477859f4c06eb",
       "step": 1,
       "style": "IPY_MODEL_3cbfe3866e0d4401882cb107889f9be8"
      }
     },
     "940c00b237f3469482b46e4f377ae3b0": {
      "model_module": "@jupyter-widgets/base",
      "model_module_version": "1.2.0",
      "model_name": "LayoutModel",
      "state": {}
     },
     "941da47326f54ddb8987f9af2e3b5b39": {
      "model_module": "@jupyter-widgets/controls",
      "model_module_version": "1.5.0",
      "model_name": "DescriptionStyleModel",
      "state": {
       "description_width": ""
      }
     },
     "941ed479238a4b18af76b267410188c6": {
      "model_module": "@jupyter-widgets/controls",
      "model_module_version": "1.5.0",
      "model_name": "ToggleButtonModel",
      "state": {
       "description": "Thomas",
       "layout": "IPY_MODEL_28115c255a7741458d65a625c894429c",
       "style": "IPY_MODEL_1db37f99fceb4dc49c0d2b7bd66c4818",
       "value": true
      }
     },
     "943b6a0c329f4f95a9e6077f03cfe28b": {
      "model_module": "@jupyter-widgets/controls",
      "model_module_version": "1.5.0",
      "model_name": "DescriptionStyleModel",
      "state": {
       "description_width": ""
      }
     },
     "94a9399a1cab4a9bb6b142606a3b4ee7": {
      "model_module": "@jupyter-widgets/base",
      "model_module_version": "1.2.0",
      "model_name": "LayoutModel",
      "state": {}
     },
     "94c79298936140139856c3294b77fcc8": {
      "model_module": "@jupyter-widgets/base",
      "model_module_version": "1.2.0",
      "model_name": "LayoutModel",
      "state": {
       "align_items": "flex-end"
      }
     },
     "94fe98da8bb84014bde53eaef49a6997": {
      "model_module": "@jupyter-widgets/base",
      "model_module_version": "1.2.0",
      "model_name": "LayoutModel",
      "state": {
       "align_items": "flex-end"
      }
     },
     "951d4c97373f46a38080616a6b77a363": {
      "model_module": "@jupyter-widgets/controls",
      "model_module_version": "1.5.0",
      "model_name": "BoxModel",
      "state": {
       "children": [
        "IPY_MODEL_72f9316760ee4f2889368f64e89b2069",
        "IPY_MODEL_3cf89cc773854d87aac6976ae931ceee",
        "IPY_MODEL_48f461f82eb74678a28ac1cbd49bf24f"
       ],
       "layout": "IPY_MODEL_94a9399a1cab4a9bb6b142606a3b4ee7"
      }
     },
     "95d67fb50ad44efe9e16d84e347c94c8": {
      "model_module": "@jupyter-widgets/controls",
      "model_module_version": "1.5.0",
      "model_name": "ComboboxModel",
      "state": {
       "description": "Forth place: ",
       "ensure_option": false,
       "layout": "IPY_MODEL_63de2b7093de4eb094263d5a98327ce8",
       "options": [
        "Lax",
        "Felix",
        "Simon",
        "Nick",
        "Steve",
        "Jule",
        "Jakob",
        "Volker",
        "Kulti",
        "Marvman",
        "Elli",
        "Thomas",
        "Anna",
        "Reinhard"
       ],
       "placeholder": "Wähle Spieler",
       "style": "IPY_MODEL_3ad55574ef164677aaff71a7086b960c"
      }
     },
     "95f08959a0b646e8b2ea352b1016731d": {
      "model_module": "@jupyter-widgets/base",
      "model_module_version": "1.2.0",
      "model_name": "LayoutModel",
      "state": {}
     },
     "95fc0063494e42eb896e3aa9b6d84b7b": {
      "model_module": "@jupyter-widgets/controls",
      "model_module_version": "1.5.0",
      "model_name": "ComboboxModel",
      "state": {
       "description": "Konzern:",
       "ensure_option": false,
       "layout": "IPY_MODEL_11f0186ba5f04fc5aee40520ffec773c",
       "options": [
        "Ace",
        "Aphrodite",
        "Astrodrill",
        "Arcadian Communities",
        "Arklight",
        "Aridor",
        "Astro Alliance",
        "Celestic",
        "Cheung Shing Mars",
        "Credicor",
        "Ecoline",
        "Factorum",
        "Fractal",
        "Helion",
        "Interplanetare Filmgesellschaft",
        "Inventrix",
        "Lakefront Resorts",
        "Manutec",
        "Marsanto",
        "Mining Guild",
        "Mons Insurance",
        "Morning Star Inc.",
        "Pharmacy Union",
        "Philares",
        "PhoboLog",
        "Point Luna",
        "Polyphemos",
        "Poseidon",
        "Pristar",
        "Recylon",
        "Republik Tharsis",
        "Robinson Industries",
        "Satrun Systems",
        "Septem Tribus",
        "Splice",
        "Stormcraft",
        "Teractor",
        "Terralabs",
        "Thermex",
        "Thorgate",
        "Tycho",
        "United Nations Mars Initiative",
        "Utopia Invest",
        "Valles Trust",
        "Viron",
        "Vitor"
       ],
       "placeholder": "-",
       "style": "IPY_MODEL_00281e5568354ba39bc35c1963eacd8d"
      }
     },
     "962656d040384e2fa83966ca7f8d9c56": {
      "model_module": "@jupyter-widgets/controls",
      "model_module_version": "1.5.0",
      "model_name": "IntSliderModel",
      "state": {
       "layout": "IPY_MODEL_2cd111ebd68a48b2a9fa0ff29081ea8d",
       "max": 200,
       "readout": false,
       "style": "IPY_MODEL_a8df3e73af474d65b5ccf70a17ff21c4"
      }
     },
     "968415b6430145118fe902ba35deece5": {
      "model_module": "@jupyter-widgets/controls",
      "model_module_version": "1.5.0",
      "model_name": "SliderStyleModel",
      "state": {
       "description_width": ""
      }
     },
     "968a0e0b841140a697a87628f0674e12": {
      "model_module": "@jupyter-widgets/controls",
      "model_module_version": "1.5.0",
      "model_name": "VBoxModel",
      "state": {
       "children": [
        "IPY_MODEL_9a6265b9e4a1428da01e16153424e27a",
        "IPY_MODEL_c8d1507a36af457c9499516f281466ea"
       ],
       "layout": "IPY_MODEL_318020a2d5914d43807b3d50a16690a7"
      }
     },
     "96948ad022de46589af13463e4083adf": {
      "model_module": "@jupyter-widgets/controls",
      "model_module_version": "1.5.0",
      "model_name": "ComboboxModel",
      "state": {
       "description": "Konzern:",
       "ensure_option": false,
       "layout": "IPY_MODEL_05aa05dbbac74ef2b86a564c25925b45",
       "options": [
        "Ace",
        "Aphrodite",
        "Astrodrill",
        "Arcadian Communities",
        "Arklight",
        "Aridor",
        "Astro Alliance",
        "Celestic",
        "Cheung Shing Mars",
        "Credicor",
        "Ecoline",
        "Factorum",
        "Fractal",
        "Helion",
        "Interplanetare Filmgesellschaft",
        "Inventrix",
        "Lakefront Resorts",
        "Manutec",
        "Marsanto",
        "Mining Guild",
        "Mons Insurance",
        "Morning Star Inc.",
        "Pharmacy Union",
        "Philares",
        "PhoboLog",
        "Point Luna",
        "Polyphemos",
        "Poseidon",
        "Pristar",
        "Recylon",
        "Republik Tharsis",
        "Robinson Industries",
        "Satrun Systems",
        "Septem Tribus",
        "Splice",
        "Stormcraft",
        "Teractor",
        "Terralabs",
        "Thermex",
        "Thorgate",
        "Tycho",
        "United Nations Mars Initiative",
        "Utopia Invest",
        "Valles Trust",
        "Viron",
        "Vitor"
       ],
       "placeholder": "-",
       "style": "IPY_MODEL_3264d3c204434648bc847198f4c8f8cd"
      }
     },
     "96a976ab6e984e8ab7983c7b22247ae6": {
      "model_module": "@jupyter-widgets/controls",
      "model_module_version": "1.5.0",
      "model_name": "SliderStyleModel",
      "state": {
       "description_width": ""
      }
     },
     "96b1c3fd49b14eec8f3a8e7ba3137e85": {
      "model_module": "@jupyter-widgets/base",
      "model_module_version": "1.2.0",
      "model_name": "LayoutModel",
      "state": {}
     },
     "96d9f0b2b090491393bd249763ae11ac": {
      "model_module": "@jupyter-widgets/controls",
      "model_module_version": "1.5.0",
      "model_name": "CheckboxModel",
      "state": {
       "description": "Turmoil",
       "disabled": false,
       "layout": "IPY_MODEL_231fc0e9be5642cfb7b26fc53921f846",
       "style": "IPY_MODEL_7117c728e0244d318df59955e834d0f8",
       "value": false
      }
     },
     "97168370c7324b2f80c6409b10ef78e1": {
      "model_module": "@jupyter-widgets/base",
      "model_module_version": "1.2.0",
      "model_name": "LayoutModel",
      "state": {
       "height": "4%",
       "width": "100%"
      }
     },
     "974dc04b9db34171bd66508efc81e2d9": {
      "model_module": "@jupyter-widgets/controls",
      "model_module_version": "1.5.0",
      "model_name": "ComboboxModel",
      "state": {
       "description": "Corporation:",
       "ensure_option": false,
       "layout": "IPY_MODEL_86c8ba16107a4e6c809559f7f8848e9b",
       "options": [
        "Ace",
        "Aphrodite",
        "Astrodrill",
        "Arcadian Communities",
        "Arklight",
        "Aridor",
        "Astro Alliance",
        "Celestic",
        "Cheung Shing Mars",
        "Credicor",
        "Ecoline",
        "Factorum",
        "Fractal",
        "Helion",
        "Interplanetare Filmgesellschaft",
        "Inventrix",
        "Lakefront Resorts",
        "Manutec",
        "Marsanto",
        "Mining Guild",
        "Mons Insurance",
        "Morning Star Inc.",
        "Pharmacy Union",
        "Philares",
        "PhoboLog",
        "Point Luna",
        "Polyphemos",
        "Poseidon",
        "Pristar",
        "Recylon",
        "Republik Tharsis",
        "Robinson Industries",
        "Satrun Systems",
        "Septem Tribus",
        "Splice",
        "Stormcraft",
        "Teractor",
        "Terralabs",
        "Thermex",
        "Thorgate",
        "Tycho",
        "United Nations Mars Initiative",
        "Utopia Invest",
        "Valles Trust",
        "Viron",
        "Vitor"
       ],
       "placeholder": "-",
       "style": "IPY_MODEL_29d80432f018468f8cd175835f8b08e9"
      }
     },
     "97608ef3999e40b7a3459b21b1a74d46": {
      "model_module": "@jupyter-widgets/base",
      "model_module_version": "1.2.0",
      "model_name": "LayoutModel",
      "state": {}
     },
     "978ae1f60f014d66918c883c1a3c34bf": {
      "model_module": "@jupyter-widgets/base",
      "model_module_version": "1.2.0",
      "model_name": "LayoutModel",
      "state": {}
     },
     "97fb5b1f44314d58bef12a7e0627f293": {
      "model_module": "@jupyter-widgets/controls",
      "model_module_version": "1.5.0",
      "model_name": "IntTextModel",
      "state": {
       "description": "Punkte:",
       "layout": "IPY_MODEL_0d8d9b507ef341888e592246172b4f7b",
       "step": 1,
       "style": "IPY_MODEL_3018e6d2aa2f4805b20abf6038f73809"
      }
     },
     "9849cb433c4e473e9ab0a642434a541d": {
      "model_module": "@jupyter-widgets/controls",
      "model_module_version": "1.5.0",
      "model_name": "DescriptionStyleModel",
      "state": {
       "description_width": ""
      }
     },
     "98c31e7bed6e4076b3e71d5994dc7976": {
      "model_module": "@jupyter-widgets/controls",
      "model_module_version": "1.5.0",
      "model_name": "BoxModel",
      "state": {
       "children": [
        "IPY_MODEL_d214116ce972415881f1c2643259e9df",
        "IPY_MODEL_c57a9447ab5346f2be4406dd5e075a41",
        "IPY_MODEL_82bc99570a234236ba5eb31b068d3617"
       ],
       "layout": "IPY_MODEL_b5bbfca38f9b4bda8fb8f241e900e283"
      }
     },
     "991afb8500fb4c36b0c8178c3396f03c": {
      "model_module": "@jupyter-widgets/base",
      "model_module_version": "1.2.0",
      "model_name": "LayoutModel",
      "state": {
       "align_items": "flex-end"
      }
     },
     "9956c87d10eb4d36af9afbbdaaf2aa28": {
      "model_module": "@jupyter-widgets/controls",
      "model_module_version": "1.5.0",
      "model_name": "IntSliderModel",
      "state": {
       "layout": "IPY_MODEL_77b3226bc93547a596486e8a201ad0a8",
       "max": 200,
       "readout": false,
       "style": "IPY_MODEL_4530525d342f4f9296a87d78b49c1200"
      }
     },
     "99661fe765d3411cb93b8736d22ade02": {
      "model_module": "@jupyter-widgets/base",
      "model_module_version": "1.2.0",
      "model_name": "LayoutModel",
      "state": {}
     },
     "996bb2d2cb7f45688552af4202dbb201": {
      "model_module": "@jupyter-widgets/controls",
      "model_module_version": "1.5.0",
      "model_name": "ComboboxModel",
      "state": {
       "description": "Third place: ",
       "ensure_option": false,
       "layout": "IPY_MODEL_fe20211ffa484be3a1770617ffe0f1f0",
       "options": [
        "Lax",
        "Felix",
        "Simon",
        "Nick",
        "Steve",
        "Jule",
        "Jakob",
        "Volker",
        "Kulti",
        "Marvman",
        "Elli",
        "Thomas",
        "Anna",
        "Reinhard"
       ],
       "placeholder": "Choose Someone",
       "style": "IPY_MODEL_12c145e88b984c4f9c34cb935e2c33c7"
      }
     },
     "996c271849e0419793b38a6d2b095e6f": {
      "model_module": "@jupyter-widgets/controls",
      "model_module_version": "1.5.0",
      "model_name": "DescriptionStyleModel",
      "state": {
       "description_width": ""
      }
     },
     "99ee20c6a92a4017afcc87680b903ee1": {
      "model_module": "@jupyter-widgets/base",
      "model_module_version": "1.2.0",
      "model_name": "LayoutModel",
      "state": {
       "width": "70%"
      }
     },
     "9a12236655b347b0b67308c284c37fc4": {
      "model_module": "@jupyter-widgets/base",
      "model_module_version": "1.2.0",
      "model_name": "LayoutModel",
      "state": {
       "align_items": "flex-start"
      }
     },
     "9a60eea6e25b4295bd8e2a54d391e168": {
      "model_module": "@jupyter-widgets/controls",
      "model_module_version": "1.5.0",
      "model_name": "LinkModel",
      "state": {
       "source": [
        "IPY_MODEL_3b88e01fa3254a63933f496fbbb5c256",
        "value"
       ],
       "target": [
        "IPY_MODEL_0f2877bce91e4358905a079c4bb1f70d",
        "value"
       ]
      }
     },
     "9a6265b9e4a1428da01e16153424e27a": {
      "model_module": "@jupyter-widgets/controls",
      "model_module_version": "1.5.0",
      "model_name": "IntTextModel",
      "state": {
       "description": "Punkte:",
       "layout": "IPY_MODEL_9b7d462fca1247a58a39b9604dace646",
       "step": 1,
       "style": "IPY_MODEL_dd45fd6cf29e4f1d850060791212d221"
      }
     },
     "9abef15048304d0f96a6ffcef80b54d0": {
      "model_module": "@jupyter-widgets/controls",
      "model_module_version": "1.5.0",
      "model_name": "IntSliderModel",
      "state": {
       "layout": "IPY_MODEL_aa49417a542a4da59c9137fce10837a9",
       "max": 200,
       "readout": false,
       "style": "IPY_MODEL_2d3dc37809b0426bbd67dfe86409d9e0"
      }
     },
     "9aed49347c614217bfa98ea3c5d8ad0a": {
      "model_module": "@jupyter-widgets/controls",
      "model_module_version": "1.5.0",
      "model_name": "IntTextModel",
      "state": {
       "description": "Punkte:",
       "layout": "IPY_MODEL_45200a014b5c4e8e9fba31ed5651f819",
       "step": 1,
       "style": "IPY_MODEL_996c271849e0419793b38a6d2b095e6f"
      }
     },
     "9b3606f7720d4717b99bd901fb4d51ce": {
      "model_module": "@jupyter-widgets/controls",
      "model_module_version": "1.5.0",
      "model_name": "DescriptionStyleModel",
      "state": {
       "description_width": ""
      }
     },
     "9b4952c6687d4bb68472443b74cbab3c": {
      "model_module": "@jupyter-widgets/controls",
      "model_module_version": "1.5.0",
      "model_name": "LinkModel",
      "state": {
       "source": [
        "IPY_MODEL_a617c1341b494341a23ef06458c059a0",
        "value"
       ],
       "target": [
        "IPY_MODEL_a8713d7b9ac5432ba0ad23a483d552c1",
        "value"
       ]
      }
     },
     "9b5d4e9f1fa94bd289c5ea8bdac74f65": {
      "model_module": "@jupyter-widgets/base",
      "model_module_version": "1.2.0",
      "model_name": "LayoutModel",
      "state": {
       "width": "auto"
      }
     },
     "9b758d6348864719a07b775153bbd49d": {
      "model_module": "@jupyter-widgets/controls",
      "model_module_version": "1.5.0",
      "model_name": "LinkModel",
      "state": {
       "source": [
        "IPY_MODEL_bd5e7dc66c3a4c0bb8d0159c4c1666c1",
        "value"
       ],
       "target": [
        "IPY_MODEL_ec1065e9fec447ee8c385864e0c8fa7a",
        "value"
       ]
      }
     },
     "9b7d462fca1247a58a39b9604dace646": {
      "model_module": "@jupyter-widgets/base",
      "model_module_version": "1.2.0",
      "model_name": "LayoutModel",
      "state": {}
     },
     "9c250603e5d2426ca45e32af2228d3ec": {
      "model_module": "@jupyter-widgets/base",
      "model_module_version": "1.2.0",
      "model_name": "LayoutModel",
      "state": {}
     },
     "9c57fd35cfbe45eea0df20b09a720eb1": {
      "model_module": "@jupyter-widgets/controls",
      "model_module_version": "1.5.0",
      "model_name": "DescriptionStyleModel",
      "state": {
       "description_width": ""
      }
     },
     "9c8bbb12d96e466e9fbb9d54399dcbd9": {
      "model_module": "@jupyter-widgets/base",
      "model_module_version": "1.2.0",
      "model_name": "LayoutModel",
      "state": {}
     },
     "9cac92f5bfd645f79f72f7ee6d2b4d39": {
      "model_module": "@jupyter-widgets/base",
      "model_module_version": "1.2.0",
      "model_name": "LayoutModel",
      "state": {}
     },
     "9cd319cabee748f5a10a7710947ec20b": {
      "model_module": "@jupyter-widgets/base",
      "model_module_version": "1.2.0",
      "model_name": "LayoutModel",
      "state": {
       "align_items": "flex-end"
      }
     },
     "9cd6b0f809a14b7385fc4328c7326a3e": {
      "model_module": "@jupyter-widgets/controls",
      "model_module_version": "1.5.0",
      "model_name": "ComboboxModel",
      "state": {
       "description": "Konzern:",
       "ensure_option": false,
       "layout": "IPY_MODEL_01b062cf98a142a6b40ef0a85550940a",
       "options": [
        "Ace",
        "Aphrodite",
        "Astrodrill",
        "Arcadian Communities",
        "Arklight",
        "Aridor",
        "Astro Alliance",
        "Celestic",
        "Cheung Shing Mars",
        "Credicor",
        "Ecoline",
        "Factorum",
        "Fractal",
        "Helion",
        "Interplanetare Filmgesellschaft",
        "Inventrix",
        "Lakefront Resorts",
        "Manutec",
        "Marsanto",
        "Mining Guild",
        "Mons Insurance",
        "Morning Star Inc.",
        "Pharmacy Union",
        "Philares",
        "PhoboLog",
        "Point Luna",
        "Polyphemos",
        "Poseidon",
        "Pristar",
        "Recylon",
        "Republik Tharsis",
        "Robinson Industries",
        "Satrun Systems",
        "Septem Tribus",
        "Splice",
        "Stormcraft",
        "Teractor",
        "Terralabs",
        "Thermex",
        "Thorgate",
        "Tycho",
        "United Nations Mars Initiative",
        "Utopia Invest",
        "Valles Trust",
        "Viron",
        "Vitor"
       ],
       "placeholder": "-",
       "style": "IPY_MODEL_8b22b044404b467f9bd47900888d1eda"
      }
     },
     "9d00f2b5b132439297e00beb2d7c086a": {
      "model_module": "@jupyter-widgets/controls",
      "model_module_version": "1.5.0",
      "model_name": "VBoxModel",
      "state": {
       "children": [
        "IPY_MODEL_89a05fa347524b93b82fe50c84e0bd3d",
        "IPY_MODEL_79a3a6a49a744dbfb298f675b3869ca9"
       ],
       "layout": "IPY_MODEL_94c79298936140139856c3294b77fcc8"
      }
     },
     "9d6da3928cba467cac0c2fdc5c0480b5": {
      "model_module": "@jupyter-widgets/controls",
      "model_module_version": "1.5.0",
      "model_name": "ComboboxModel",
      "state": {
       "description": "Corporation:",
       "ensure_option": false,
       "layout": "IPY_MODEL_a62dc5fdc7c046718b05c52bf087c423",
       "options": [
        "Ace",
        "Aphrodite",
        "Astrodrill",
        "Arcadian Communities",
        "Arklight",
        "Aridor",
        "Astro Alliance",
        "Celestic",
        "Cheung Shing Mars",
        "Credicor",
        "Ecoline",
        "Factorum",
        "Fractal",
        "Helion",
        "Interplanetare Filmgesellschaft",
        "Inventrix",
        "Lakefront Resorts",
        "Manutec",
        "Marsanto",
        "Mining Guild",
        "Mons Insurance",
        "Morning Star Inc.",
        "Pharmacy Union",
        "Philares",
        "PhoboLog",
        "Point Luna",
        "Polyphemos",
        "Poseidon",
        "Pristar",
        "Recylon",
        "Republik Tharsis",
        "Robinson Industries",
        "Satrun Systems",
        "Septem Tribus",
        "Splice",
        "Stormcraft",
        "Teractor",
        "Terralabs",
        "Thermex",
        "Thorgate",
        "Tycho",
        "United Nations Mars Initiative",
        "Utopia Invest",
        "Valles Trust",
        "Viron",
        "Vitor"
       ],
       "placeholder": "-",
       "style": "IPY_MODEL_e854da097e8e4820908fc447c3f83e1c"
      }
     },
     "9d88f5f8976b4110972f6324e8179260": {
      "model_module": "@jupyter-widgets/controls",
      "model_module_version": "1.5.0",
      "model_name": "DescriptionStyleModel",
      "state": {
       "description_width": ""
      }
     },
     "9de2f90da73f464a80c7d0e4a328802e": {
      "model_module": "@jupyter-widgets/controls",
      "model_module_version": "1.5.0",
      "model_name": "DescriptionStyleModel",
      "state": {
       "description_width": ""
      }
     },
     "9e6bbdc4c73f4689ab856fb2075b2c20": {
      "model_module": "@jupyter-widgets/base",
      "model_module_version": "1.2.0",
      "model_name": "LayoutModel",
      "state": {}
     },
     "9eeb7aaf34f142e0aa34e0264f68edcc": {
      "model_module": "@jupyter-widgets/base",
      "model_module_version": "1.2.0",
      "model_name": "LayoutModel",
      "state": {
       "align_items": "flex-end"
      }
     },
     "9ef9af18e5794fe8ae84a2c3a09bb137": {
      "model_module": "@jupyter-widgets/controls",
      "model_module_version": "1.5.0",
      "model_name": "IntSliderModel",
      "state": {
       "layout": "IPY_MODEL_c1eb2aa8a0cb492dbf7db4f9f1122e7c",
       "max": 200,
       "readout": false,
       "style": "IPY_MODEL_75c47cd9617342df8f91f062b04e8a60"
      }
     },
     "9efd367d7ac94473bba51acced150842": {
      "model_module": "@jupyter-widgets/controls",
      "model_module_version": "1.5.0",
      "model_name": "DescriptionStyleModel",
      "state": {
       "description_width": ""
      }
     },
     "9f2f48eff3944363abd429f7f6234fa0": {
      "model_module": "@jupyter-widgets/controls",
      "model_module_version": "1.5.0",
      "model_name": "BoxModel",
      "state": {
       "children": [
        "IPY_MODEL_bf8d8fd944b541f5a5e90d5b2999c77f",
        "IPY_MODEL_de8ca48cac3940c098799b82c5e92cac",
        "IPY_MODEL_d72a935123064ecc8b6c42b010336ede"
       ],
       "layout": "IPY_MODEL_c4cbc927fb9c46a2be01ff882372f3f4"
      }
     },
     "9f478a9b390a4535a6b9f2bfd6b284c1": {
      "model_module": "@jupyter-widgets/controls",
      "model_module_version": "1.5.0",
      "model_name": "ComboboxModel",
      "state": {
       "description": "Corporation:",
       "ensure_option": false,
       "layout": "IPY_MODEL_f4485c36c2104b45850aeccbc8033bea",
       "options": [
        "Ace",
        "Aphrodite",
        "Astrodrill",
        "Arcadian Communities",
        "Arklight",
        "Aridor",
        "Astro Alliance",
        "Celestic",
        "Cheung Shing Mars",
        "Credicor",
        "Ecoline",
        "Factorum",
        "Fractal",
        "Helion",
        "Interplanetare Filmgesellschaft",
        "Inventrix",
        "Lakefront Resorts",
        "Manutec",
        "Marsanto",
        "Mining Guild",
        "Mons Insurance",
        "Morning Star Inc.",
        "Pharmacy Union",
        "Philares",
        "PhoboLog",
        "Point Luna",
        "Polyphemos",
        "Poseidon",
        "Pristar",
        "Recylon",
        "Republik Tharsis",
        "Robinson Industries",
        "Satrun Systems",
        "Septem Tribus",
        "Splice",
        "Stormcraft",
        "Teractor",
        "Terralabs",
        "Thermex",
        "Thorgate",
        "Tycho",
        "United Nations Mars Initiative",
        "Utopia Invest",
        "Valles Trust",
        "Viron",
        "Vitor"
       ],
       "placeholder": "-",
       "style": "IPY_MODEL_e2c93b98d0ad4a4b81d575e12e6ffb96",
       "value": "Helion"
      }
     },
     "9f79b1cacc264bf19cf61884b2f7a3d3": {
      "model_module": "@jupyter-widgets/controls",
      "model_module_version": "1.5.0",
      "model_name": "ToggleButtonModel",
      "state": {
       "description": "Marvman",
       "layout": "IPY_MODEL_874c400de62e4d4abf3b3766ca273563",
       "style": "IPY_MODEL_e3757f3ea55e4940993479bc321f43b6",
       "value": true
      }
     },
     "9f9fb9582bad413f8e7d2ff262f8bf2a": {
      "model_module": "@jupyter-widgets/base",
      "model_module_version": "1.2.0",
      "model_name": "LayoutModel",
      "state": {}
     },
     "9fa4c0e7d0d541e0a4ebc9011843d16c": {
      "model_module": "@jupyter-widgets/base",
      "model_module_version": "1.2.0",
      "model_name": "LayoutModel",
      "state": {
       "width": "70%"
      }
     },
     "9fa505c0788d4c9aafc8450d0bf47f2d": {
      "model_module": "@jupyter-widgets/base",
      "model_module_version": "1.2.0",
      "model_name": "LayoutModel",
      "state": {}
     },
     "9fd945358efc4f02992289cff6a0a534": {
      "model_module": "@jupyter-widgets/controls",
      "model_module_version": "1.5.0",
      "model_name": "DescriptionStyleModel",
      "state": {
       "description_width": ""
      }
     },
     "9fefd14e77fe462e94b5bebf6fa86962": {
      "model_module": "@jupyter-widgets/controls",
      "model_module_version": "1.5.0",
      "model_name": "ToggleButtonModel",
      "state": {
       "description": "Kulti",
       "layout": "IPY_MODEL_dfad3b9b70ca4685a877fe983fb89415",
       "style": "IPY_MODEL_bf26dd2b640e44f7b406feaea8c4222f"
      }
     },
     "a0afadee164b4aa3bdc7dc52d0b17621": {
      "model_module": "@jupyter-widgets/controls",
      "model_module_version": "1.5.0",
      "model_name": "DescriptionStyleModel",
      "state": {
       "description_width": ""
      }
     },
     "a0c6e9e6d2f6482d8037e41d47369a61": {
      "model_module": "@jupyter-widgets/controls",
      "model_module_version": "1.5.0",
      "model_name": "CheckboxModel",
      "state": {
       "description": "Venus",
       "disabled": false,
       "layout": "IPY_MODEL_00caf85750cf4f3e82c6a3890d347e45",
       "style": "IPY_MODEL_68264b3a37024e81840548c8f4e33318",
       "value": true
      }
     },
     "a0d48c72c2b94c4a893c32477745fe2a": {
      "model_module": "@jupyter-widgets/base",
      "model_module_version": "1.2.0",
      "model_name": "LayoutModel",
      "state": {}
     },
     "a1099acc09f24ee38018211042fe29df": {
      "model_module": "@jupyter-widgets/controls",
      "model_module_version": "1.5.0",
      "model_name": "ToggleButtonModel",
      "state": {
       "description": "Anna",
       "layout": "IPY_MODEL_f3c84fd1d14145e08d15d75d8a297433",
       "style": "IPY_MODEL_a59d5934a8f64dd8bd515801495d4c02",
       "value": true
      }
     },
     "a14799724f2a491682eb7759a272a22d": {
      "model_module": "@jupyter-widgets/controls",
      "model_module_version": "1.5.0",
      "model_name": "DescriptionStyleModel",
      "state": {
       "description_width": ""
      }
     },
     "a1c3f122fdfc427aafe66e0b32e5c834": {
      "model_module": "@jupyter-widgets/controls",
      "model_module_version": "1.5.0",
      "model_name": "ComboboxModel",
      "state": {
       "description": "Second place: ",
       "ensure_option": false,
       "layout": "IPY_MODEL_d9c574ef8f964163bb57c3878cdc1da8",
       "options": [
        "Lax",
        "Felix",
        "Simon",
        "Nick",
        "Steve",
        "Jule",
        "Jakob",
        "Volker",
        "Kulti",
        "Marvman",
        "Elli",
        "Thomas",
        "Anna",
        "Reinhard"
       ],
       "placeholder": "Wähle Spieler",
       "style": "IPY_MODEL_27f629d40f354788b44df1a789d746d1"
      }
     },
     "a1f3a1f9df4a4c80af1b08e1290c396d": {
      "model_module": "@jupyter-widgets/controls",
      "model_module_version": "1.5.0",
      "model_name": "ComboboxModel",
      "state": {
       "description": "Konzern:",
       "ensure_option": false,
       "layout": "IPY_MODEL_84a91fad2b0e4a8282ba10e6258311ff",
       "options": [
        "Ace",
        "Aphrodite",
        "Astrodrill",
        "Arcadian Communities",
        "Arklight",
        "Aridor",
        "Astro Alliance",
        "Celestic",
        "Cheung Shing Mars",
        "Credicor",
        "Ecoline",
        "Factorum",
        "Fractal",
        "Helion",
        "Interplanetare Filmgesellschaft",
        "Inventrix",
        "Lakefront Resorts",
        "Manutec",
        "Marsanto",
        "Mining Guild",
        "Mons Insurance",
        "Morning Star Inc.",
        "Pharmacy Union",
        "Philares",
        "PhoboLog",
        "Point Luna",
        "Polyphemos",
        "Poseidon",
        "Pristar",
        "Recylon",
        "Republik Tharsis",
        "Robinson Industries",
        "Satrun Systems",
        "Septem Tribus",
        "Splice",
        "Stormcraft",
        "Teractor",
        "Terralabs",
        "Thermex",
        "Thorgate",
        "Tycho",
        "United Nations Mars Initiative",
        "Utopia Invest",
        "Valles Trust",
        "Viron",
        "Vitor"
       ],
       "placeholder": "-",
       "style": "IPY_MODEL_aa2e23b5963648409669bc7837c3913a"
      }
     },
     "a2948e442f6342f2b4a624fcb0190a59": {
      "model_module": "@jupyter-widgets/controls",
      "model_module_version": "1.5.0",
      "model_name": "DescriptionStyleModel",
      "state": {
       "description_width": ""
      }
     },
     "a29ac2808b484a9ba4602a41823ef5b6": {
      "model_module": "@jupyter-widgets/controls",
      "model_module_version": "1.5.0",
      "model_name": "BoxModel",
      "state": {
       "children": [
        "IPY_MODEL_b5a075db7ab040fa818dafe24eb175b7",
        "IPY_MODEL_968a0e0b841140a697a87628f0674e12",
        "IPY_MODEL_45f1d5dddf9243b4ba94c01519a3a061"
       ],
       "layout": "IPY_MODEL_540a5c9d702544c4b9ea4ab0fcc6c503"
      }
     },
     "a30703852b304337b0499c9b2ef42833": {
      "model_module": "@jupyter-widgets/controls",
      "model_module_version": "1.5.0",
      "model_name": "CheckboxModel",
      "state": {
       "description": "Turmoil",
       "disabled": false,
       "layout": "IPY_MODEL_311156e10de24a68b78e8c41d216a9ab",
       "style": "IPY_MODEL_42c830a3837848f7a64e407b2a4a4eed",
       "value": false
      }
     },
     "a32a0f91070a4e2487171d8f2b8acbf7": {
      "model_module": "@jupyter-widgets/base",
      "model_module_version": "1.2.0",
      "model_name": "LayoutModel",
      "state": {
       "height": "4%",
       "width": "100%"
      }
     },
     "a32ad64036a148f6993fa75d14e7de71": {
      "model_module": "@jupyter-widgets/controls",
      "model_module_version": "1.5.0",
      "model_name": "ButtonModel",
      "state": {
       "description": "Weiteres Spiel eintragen",
       "layout": "IPY_MODEL_e3820033663944a08d7b91637c018b31",
       "style": "IPY_MODEL_847cae3db04244579bf68cb9797c5d2f"
      }
     },
     "a35164c51dac41738254b43dc25526a3": {
      "model_module": "@jupyter-widgets/controls",
      "model_module_version": "1.5.0",
      "model_name": "DescriptionStyleModel",
      "state": {
       "description_width": ""
      }
     },
     "a35b982f7b8945d98abb4b7e07858567": {
      "model_module": "@jupyter-widgets/base",
      "model_module_version": "1.2.0",
      "model_name": "LayoutModel",
      "state": {
       "height": "4%",
       "width": "100%"
      }
     },
     "a3bfc0f5e18d4ce19713e4015146ea29": {
      "model_module": "@jupyter-widgets/base",
      "model_module_version": "1.2.0",
      "model_name": "LayoutModel",
      "state": {}
     },
     "a3cdf65181d04bb784db89178b4439b2": {
      "model_module": "@jupyter-widgets/base",
      "model_module_version": "1.2.0",
      "model_name": "LayoutModel",
      "state": {
       "align_items": "flex-end"
      }
     },
     "a3d22a6db5344e009dbbddda5cf15ac2": {
      "model_module": "@jupyter-widgets/controls",
      "model_module_version": "1.5.0",
      "model_name": "ToggleButtonModel",
      "state": {
       "description": "Nick",
       "layout": "IPY_MODEL_4262b3dee2ec46589015c0f791b3c81a",
       "style": "IPY_MODEL_2f5d5e5ebda3445e94095dd85b368c9b",
       "value": true
      }
     },
     "a41dbb67add14ac49c41f9fed902d376": {
      "model_module": "@jupyter-widgets/controls",
      "model_module_version": "1.5.0",
      "model_name": "DescriptionStyleModel",
      "state": {
       "description_width": ""
      }
     },
     "a43027495cfa4ad3ac6221bc582343d9": {
      "model_module": "@jupyter-widgets/controls",
      "model_module_version": "1.5.0",
      "model_name": "SliderStyleModel",
      "state": {
       "description_width": ""
      }
     },
     "a437e252f5a2483da754a48b91bc1452": {
      "model_module": "@jupyter-widgets/controls",
      "model_module_version": "1.5.0",
      "model_name": "ToggleButtonModel",
      "state": {
       "description": "Volker",
       "layout": "IPY_MODEL_62791eeca3184e47af87fddead72e0e6",
       "style": "IPY_MODEL_2516e09593854e9ab1dc62caa36ee404",
       "value": true
      }
     },
     "a439a01810604c089008a46c19313d3b": {
      "model_module": "@jupyter-widgets/controls",
      "model_module_version": "1.5.0",
      "model_name": "SliderStyleModel",
      "state": {
       "description_width": ""
      }
     },
     "a450b316b85d4da58d870e10134690cd": {
      "model_module": "@jupyter-widgets/base",
      "model_module_version": "1.2.0",
      "model_name": "LayoutModel",
      "state": {}
     },
     "a499780296dd4710a9e9121ebc526dfc": {
      "model_module": "@jupyter-widgets/controls",
      "model_module_version": "1.5.0",
      "model_name": "BoxModel",
      "state": {
       "children": [
        "IPY_MODEL_f936a68866374167b842a0b3e0e9e996",
        "IPY_MODEL_05ecedbc0e3f463da118b6da824c04b2",
        "IPY_MODEL_8bacbfa9a924443295714eb748413f59"
       ],
       "layout": "IPY_MODEL_0ab593f8da2d4ba8b5fad2d9b001101d"
      }
     },
     "a4c78d2e81524a739693f806f2a37495": {
      "model_module": "@jupyter-widgets/controls",
      "model_module_version": "1.5.0",
      "model_name": "VBoxModel",
      "state": {
       "children": [
        "IPY_MODEL_d3745dc2be71460b91cbc4f4089f69b8",
        "IPY_MODEL_b977b5bb4d6d48d382cb1ca065497db9"
       ],
       "layout": "IPY_MODEL_4822fdd338db455896303807b0240173"
      }
     },
     "a59d5934a8f64dd8bd515801495d4c02": {
      "model_module": "@jupyter-widgets/controls",
      "model_module_version": "1.5.0",
      "model_name": "DescriptionStyleModel",
      "state": {
       "description_width": ""
      }
     },
     "a5b2e02fdaef459f8c599af9f9b9664a": {
      "model_module": "@jupyter-widgets/base",
      "model_module_version": "1.2.0",
      "model_name": "LayoutModel",
      "state": {}
     },
     "a617c1341b494341a23ef06458c059a0": {
      "model_module": "@jupyter-widgets/controls",
      "model_module_version": "1.5.0",
      "model_name": "IntTextModel",
      "state": {
       "description": "Punkte:",
       "layout": "IPY_MODEL_8a88f14c42694c1981d4fc1f0a711bf2",
       "step": 1,
       "style": "IPY_MODEL_873fb8e928c14244bee698e40bd7f842"
      }
     },
     "a62768a3d0af43db99d57bc39a41e057": {
      "model_module": "@jupyter-widgets/controls",
      "model_module_version": "1.5.0",
      "model_name": "DescriptionStyleModel",
      "state": {
       "description_width": ""
      }
     },
     "a62dc5fdc7c046718b05c52bf087c423": {
      "model_module": "@jupyter-widgets/base",
      "model_module_version": "1.2.0",
      "model_name": "LayoutModel",
      "state": {}
     },
     "a62fdb2818ce4342b0553bde79374f6e": {
      "model_module": "@jupyter-widgets/controls",
      "model_module_version": "1.5.0",
      "model_name": "ComboboxModel",
      "state": {
       "description": "Corporation:",
       "ensure_option": false,
       "layout": "IPY_MODEL_2288ab82ff3e495cab4e982c49ea470a",
       "options": [
        "Ace",
        "Aphrodite",
        "Astrodrill",
        "Arcadian Communities",
        "Arklight",
        "Aridor",
        "Astro Alliance",
        "Celestic",
        "Cheung Shing Mars",
        "Credicor",
        "Ecoline",
        "Factorum",
        "Fractal",
        "Helion",
        "Interplanetare Filmgesellschaft",
        "Inventrix",
        "Lakefront Resorts",
        "Manutec",
        "Marsanto",
        "Mining Guild",
        "Mons Insurance",
        "Morning Star Inc.",
        "Pharmacy Union",
        "Philares",
        "PhoboLog",
        "Point Luna",
        "Polyphemos",
        "Poseidon",
        "Pristar",
        "Recylon",
        "Republik Tharsis",
        "Robinson Industries",
        "Satrun Systems",
        "Septem Tribus",
        "Splice",
        "Stormcraft",
        "Teractor",
        "Terralabs",
        "Thermex",
        "Thorgate",
        "Tycho",
        "United Nations Mars Initiative",
        "Utopia Invest",
        "Valles Trust",
        "Viron",
        "Vitor"
       ],
       "placeholder": "-",
       "style": "IPY_MODEL_0f6f8b1210da47df869b4c1f09021110",
       "value": "Republik Tharsis"
      }
     },
     "a64761c49e9b4a5db185b9a0526a88a1": {
      "model_module": "@jupyter-widgets/controls",
      "model_module_version": "1.5.0",
      "model_name": "DatePickerModel",
      "state": {
       "description": "Wann wurde gespielt?",
       "disabled": false,
       "layout": "IPY_MODEL_e3b4c859e384428fab6797cd852ee682",
       "style": "IPY_MODEL_be22ccbf0e914cfe9d1b223d9e0153be"
      }
     },
     "a6b3936d401b4981b7266c0adcbf9e94": {
      "model_module": "@jupyter-widgets/controls",
      "model_module_version": "1.5.0",
      "model_name": "DescriptionStyleModel",
      "state": {
       "description_width": ""
      }
     },
     "a6bfdb26a82a4bc18451b86adf587cd1": {
      "model_module": "@jupyter-widgets/controls",
      "model_module_version": "1.5.0",
      "model_name": "VBoxModel",
      "state": {
       "children": [
        "IPY_MODEL_4bca90383e1848f9b2d16745c77f055d",
        "IPY_MODEL_5e2a9a95b0f94bc58520ebc5992e3bfc"
       ],
       "layout": "IPY_MODEL_09e67c2e3b9e41d49872a2f90d8404ae"
      }
     },
     "a762b08cc70245839f9937b1c94f75ff": {
      "model_module": "@jupyter-widgets/controls",
      "model_module_version": "1.5.0",
      "model_name": "IntTextModel",
      "state": {
       "description": "Score:",
       "layout": "IPY_MODEL_054ffae0d3d8452c850e671015def3e8",
       "step": 1,
       "style": "IPY_MODEL_ff6009ee987d47a1bbb17f2299506ea3"
      }
     },
     "a7641e068b284e928dc32f05e2f7de9e": {
      "model_module": "@jupyter-widgets/base",
      "model_module_version": "1.2.0",
      "model_name": "LayoutModel",
      "state": {}
     },
     "a790a825efb241f5a75bab0932f78fdb": {
      "model_module": "@jupyter-widgets/base",
      "model_module_version": "1.2.0",
      "model_name": "LayoutModel",
      "state": {}
     },
     "a7a8de1e03d64e8993bdc4712967f4f7": {
      "model_module": "@jupyter-widgets/controls",
      "model_module_version": "1.5.0",
      "model_name": "ToggleButtonModel",
      "state": {
       "description": "Lax",
       "layout": "IPY_MODEL_58febfafd2294e92a90597840d22fe51",
       "style": "IPY_MODEL_1a596cbf68cc4317a35e16764784968e",
       "value": true
      }
     },
     "a7c260f53d5a4c338c268248428b9ddf": {
      "model_module": "@jupyter-widgets/base",
      "model_module_version": "1.2.0",
      "model_name": "LayoutModel",
      "state": {}
     },
     "a7e65cdd01be4565b855f6c24d4e2e43": {
      "model_module": "@jupyter-widgets/controls",
      "model_module_version": "1.5.0",
      "model_name": "ComboboxModel",
      "state": {
       "description": "Third place: ",
       "ensure_option": false,
       "layout": "IPY_MODEL_bd591ff0697d458ab2fb08ded4f18932",
       "options": [
        "Lax",
        "Felix",
        "Simon",
        "Nick",
        "Steve",
        "Jule",
        "Jakob",
        "Volker",
        "Kulti",
        "Marvman",
        "Elli",
        "Thomas",
        "Anna",
        "Reinhard"
       ],
       "placeholder": "Wähle Spieler",
       "style": "IPY_MODEL_7083e49723af411eb639613e1e73047d"
      }
     },
     "a86db680dd3740f69fb707a206545c38": {
      "model_module": "@jupyter-widgets/controls",
      "model_module_version": "1.5.0",
      "model_name": "DescriptionStyleModel",
      "state": {
       "description_width": ""
      }
     },
     "a8713d7b9ac5432ba0ad23a483d552c1": {
      "model_module": "@jupyter-widgets/controls",
      "model_module_version": "1.5.0",
      "model_name": "IntSliderModel",
      "state": {
       "layout": "IPY_MODEL_9fa4c0e7d0d541e0a4ebc9011843d16c",
       "max": 200,
       "readout": false,
       "style": "IPY_MODEL_572794aedaf7480fb533df0f83113cd0"
      }
     },
     "a87be2cf6f3a47f2a4a302fe7384cdda": {
      "model_module": "@jupyter-widgets/controls",
      "model_module_version": "1.5.0",
      "model_name": "DescriptionStyleModel",
      "state": {
       "description_width": ""
      }
     },
     "a89855bc14b8465aa9fac251d8867b0e": {
      "model_module": "@jupyter-widgets/base",
      "model_module_version": "1.2.0",
      "model_name": "LayoutModel",
      "state": {}
     },
     "a8a643b1487d4d6b8875b54223b8c422": {
      "model_module": "@jupyter-widgets/controls",
      "model_module_version": "1.5.0",
      "model_name": "ToggleButtonModel",
      "state": {
       "description": "Felix",
       "layout": "IPY_MODEL_97168370c7324b2f80c6409b10ef78e1",
       "style": "IPY_MODEL_f08d20166f7d410888b3ca62e1febdd0"
      }
     },
     "a8df3e73af474d65b5ccf70a17ff21c4": {
      "model_module": "@jupyter-widgets/controls",
      "model_module_version": "1.5.0",
      "model_name": "SliderStyleModel",
      "state": {
       "description_width": ""
      }
     },
     "a937309594c742b7a975700d9b9314f5": {
      "model_module": "@jupyter-widgets/controls",
      "model_module_version": "1.5.0",
      "model_name": "SliderStyleModel",
      "state": {
       "description_width": ""
      }
     },
     "a94f467bb35c40e8adcf5d73adcfecab": {
      "model_module": "@jupyter-widgets/controls",
      "model_module_version": "1.5.0",
      "model_name": "SliderStyleModel",
      "state": {
       "description_width": ""
      }
     },
     "a9575d81ccbc4db0be110e854bf74ae8": {
      "model_module": "@jupyter-widgets/controls",
      "model_module_version": "1.5.0",
      "model_name": "DescriptionStyleModel",
      "state": {
       "description_width": ""
      }
     },
     "aa2e23b5963648409669bc7837c3913a": {
      "model_module": "@jupyter-widgets/controls",
      "model_module_version": "1.5.0",
      "model_name": "DescriptionStyleModel",
      "state": {
       "description_width": ""
      }
     },
     "aa49417a542a4da59c9137fce10837a9": {
      "model_module": "@jupyter-widgets/base",
      "model_module_version": "1.2.0",
      "model_name": "LayoutModel",
      "state": {
       "width": "70%"
      }
     },
     "aad7481ab86b42318131278ef0334813": {
      "model_module": "@jupyter-widgets/base",
      "model_module_version": "1.2.0",
      "model_name": "LayoutModel",
      "state": {
       "align_items": "flex-end"
      }
     },
     "ab3c1a295c654b5c9b3e98b9178dfd4c": {
      "model_module": "@jupyter-widgets/controls",
      "model_module_version": "1.5.0",
      "model_name": "ToggleButtonModel",
      "state": {
       "description": "Steve",
       "layout": "IPY_MODEL_0421974576da49ffa96c2cee451b31c5",
       "style": "IPY_MODEL_cd6ed9bab7044225b0453dd55542a42f",
       "value": true
      }
     },
     "ab44bacaf95a4c608b6565ab46269686": {
      "model_module": "@jupyter-widgets/controls",
      "model_module_version": "1.5.0",
      "model_name": "DescriptionStyleModel",
      "state": {
       "description_width": ""
      }
     },
     "ab6b27cd77cb4e7a89ce532ecef3ab47": {
      "model_module": "@jupyter-widgets/base",
      "model_module_version": "1.2.0",
      "model_name": "LayoutModel",
      "state": {}
     },
     "ab6bc106fa894abca779a88056094987": {
      "model_module": "@jupyter-widgets/base",
      "model_module_version": "1.2.0",
      "model_name": "LayoutModel",
      "state": {
       "align_items": "flex-end"
      }
     },
     "ab6d6db9cfba4c2ea97c20b0fef666b9": {
      "model_module": "@jupyter-widgets/controls",
      "model_module_version": "1.5.0",
      "model_name": "BoxModel",
      "state": {
       "children": [
        "IPY_MODEL_e572be47a4f74243953cfcdb9db3eb96",
        "IPY_MODEL_48435a552c144b23a038fea3b706c2ad",
        "IPY_MODEL_f82dde534b39403ab4d545d07a97408d"
       ],
       "layout": "IPY_MODEL_172c03a5d88845af8f8eb7e5140b007c"
      }
     },
     "ab83c5b06c394160990d3532a3d040f1": {
      "model_module": "@jupyter-widgets/controls",
      "model_module_version": "1.5.0",
      "model_name": "HBoxModel",
      "state": {
       "children": [
        "IPY_MODEL_042849aab03047008f10ceb5c36f10ca",
        "IPY_MODEL_a32ad64036a148f6993fa75d14e7de71"
       ],
       "layout": "IPY_MODEL_29905cefb3ef4f27b1adb35b7a1120a6"
      }
     },
     "ac293c9a27d94d93810fb1574c27e50c": {
      "model_module": "@jupyter-widgets/base",
      "model_module_version": "1.2.0",
      "model_name": "LayoutModel",
      "state": {
       "align_items": "flex-end"
      }
     },
     "ac742f4440ae4fa5a10da85f0e40ed1b": {
      "model_module": "@jupyter-widgets/controls",
      "model_module_version": "1.5.0",
      "model_name": "DescriptionStyleModel",
      "state": {
       "description_width": ""
      }
     },
     "ac9258ba97c84cafb8dbab577efb114c": {
      "model_module": "@jupyter-widgets/controls",
      "model_module_version": "1.5.0",
      "model_name": "ToggleButtonModel",
      "state": {
       "description": "Marvman",
       "layout": "IPY_MODEL_58bf3d5c3de847969ee390768a36fc47",
       "style": "IPY_MODEL_a14799724f2a491682eb7759a272a22d"
      }
     },
     "acd8fa27d3a4497fa7d0985f30fe9f6e": {
      "model_module": "@jupyter-widgets/controls",
      "model_module_version": "1.5.0",
      "model_name": "DropdownModel",
      "state": {
       "_options_labels": [
        "Lax",
        "Felix",
        "Simon",
        "Nick",
        "Steve",
        "Jule",
        "Jakob",
        "Volker",
        "Kulti",
        "Marvman",
        "Elli",
        "Thomas",
        "Anna",
        "Reinhard"
       ],
       "description": "player2",
       "index": 1,
       "layout": "IPY_MODEL_96b1c3fd49b14eec8f3a8e7ba3137e85",
       "style": "IPY_MODEL_4c5b79f7b58542dbb95ae8e7b495de36"
      }
     },
     "acf9cdf1e44e4a5fbbbd60451905d31a": {
      "model_module": "@jupyter-widgets/base",
      "model_module_version": "1.2.0",
      "model_name": "LayoutModel",
      "state": {
       "align_items": "flex-end"
      }
     },
     "ad3cc82383044f6ab17b382707d77f0e": {
      "model_module": "@jupyter-widgets/controls",
      "model_module_version": "1.5.0",
      "model_name": "IntTextModel",
      "state": {
       "description": "Punkte:",
       "layout": "IPY_MODEL_dbcb33e47ca1415881bda4c6d7307cc8",
       "step": 1,
       "style": "IPY_MODEL_35dd1b61ea1049b7b4ce7f3055d7dcf6"
      }
     },
     "adfa9cc8f96842dea4bc1e3b01dcb797": {
      "model_module": "@jupyter-widgets/controls",
      "model_module_version": "1.5.0",
      "model_name": "DropdownModel",
      "state": {
       "_options_labels": [
        "Tharsis",
        "Elysium",
        "Hellas"
       ],
       "index": 0,
       "layout": "IPY_MODEL_68c98b5e56b64ef7bb547b0d1be059bd",
       "style": "IPY_MODEL_a41dbb67add14ac49c41f9fed902d376"
      }
     },
     "aeb9f56915d24dd1b1abf3d647ffc0dd": {
      "model_module": "@jupyter-widgets/controls",
      "model_module_version": "1.5.0",
      "model_name": "IntSliderModel",
      "state": {
       "layout": "IPY_MODEL_2c7d7beb0ef24ca5ac3a2a075c9b53e6",
       "max": 200,
       "readout": false,
       "style": "IPY_MODEL_d9fc092ac3a04538840002addc74461d"
      }
     },
     "aed4ab977289416b83dc61fd3b45b9e6": {
      "model_module": "@jupyter-widgets/controls",
      "model_module_version": "1.5.0",
      "model_name": "ButtonModel",
      "state": {
       "description": "Weiteres Spiel eintragen",
       "layout": "IPY_MODEL_a450b316b85d4da58d870e10134690cd",
       "style": "IPY_MODEL_1979cb7812344ca591e00d979d5855ab"
      }
     },
     "af442c061d174224949660087f7084ce": {
      "model_module": "@jupyter-widgets/controls",
      "model_module_version": "1.5.0",
      "model_name": "ToggleButtonModel",
      "state": {
       "description": "Jakob",
       "layout": "IPY_MODEL_720fb1b4694645bf8f258ce93a98ffad",
       "style": "IPY_MODEL_53c9785d8a2c4d5da3fff2ef9d788935",
       "value": true
      }
     },
     "b01fa2e3908f4f0cbc65f101cefb1f3c": {
      "model_module": "@jupyter-widgets/controls",
      "model_module_version": "1.5.0",
      "model_name": "ComboboxModel",
      "state": {
       "description": "Fifth place: ",
       "ensure_option": false,
       "layout": "IPY_MODEL_917b2d6fb9164aa4ab973c0207b705dc",
       "options": [
        "Lax",
        "Felix",
        "Simon",
        "Nick",
        "Steve",
        "Jule",
        "Jakob",
        "Volker",
        "Kulti",
        "Marvman",
        "Elli",
        "Thomas",
        "Anna",
        "Reinhard"
       ],
       "placeholder": "Wähle Spieler",
       "style": "IPY_MODEL_62f6edf16aaa4e049f1419b4416c0455"
      }
     },
     "b05ea5eb290d40a3aaad41a22b1685ce": {
      "model_module": "@jupyter-widgets/base",
      "model_module_version": "1.2.0",
      "model_name": "LayoutModel",
      "state": {}
     },
     "b07a084162c84c5ba7e30c9b50cf4f57": {
      "model_module": "@jupyter-widgets/controls",
      "model_module_version": "1.5.0",
      "model_name": "SliderStyleModel",
      "state": {
       "description_width": ""
      }
     },
     "b0d50f86e67249549b131610e94ff63d": {
      "model_module": "@jupyter-widgets/base",
      "model_module_version": "1.2.0",
      "model_name": "LayoutModel",
      "state": {}
     },
     "b14186c01e4c4a94b9959211271735a2": {
      "model_module": "@jupyter-widgets/controls",
      "model_module_version": "1.5.0",
      "model_name": "IntSliderModel",
      "state": {
       "layout": "IPY_MODEL_7f379c77753c451481acf01ad6caf473",
       "max": 200,
       "readout": false,
       "style": "IPY_MODEL_3a076213e0f84cf19c6ee5b8502d4094"
      }
     },
     "b147b162d9ce4c9c9aff2a38880282b0": {
      "model_module": "@jupyter-widgets/controls",
      "model_module_version": "1.5.0",
      "model_name": "DescriptionStyleModel",
      "state": {
       "description_width": ""
      }
     },
     "b1d4c9fdaf684105ae6476e49ef95522": {
      "model_module": "@jupyter-widgets/base",
      "model_module_version": "1.2.0",
      "model_name": "LayoutModel",
      "state": {
       "align_items": "flex-end"
      }
     },
     "b25a378e65194346bed1f06a390c61db": {
      "model_module": "@jupyter-widgets/controls",
      "model_module_version": "1.5.0",
      "model_name": "VBoxModel",
      "state": {
       "children": [
        "IPY_MODEL_bd5e7dc66c3a4c0bb8d0159c4c1666c1",
        "IPY_MODEL_ec1065e9fec447ee8c385864e0c8fa7a"
       ],
       "layout": "IPY_MODEL_aad7481ab86b42318131278ef0334813"
      }
     },
     "b262bbb7e90f4a8f8dacc7f9fd5ea625": {
      "model_module": "@jupyter-widgets/controls",
      "model_module_version": "1.5.0",
      "model_name": "ComboboxModel",
      "state": {
       "description": "Forth place: ",
       "ensure_option": false,
       "layout": "IPY_MODEL_c74fb2306b9f4531b42cc4cc3575d7ad",
       "options": [
        "Lax",
        "Felix",
        "Simon",
        "Nick",
        "Steve",
        "Jule",
        "Jakob",
        "Volker",
        "Kulti",
        "Marvman",
        "Elli",
        "Thomas",
        "Anna",
        "Reinhard"
       ],
       "placeholder": "Wähle Spieler",
       "style": "IPY_MODEL_7b2c413248f84251850e4524ff00b231"
      }
     },
     "b29468c01bde46e5a5bef48cf3bdc1a5": {
      "model_module": "@jupyter-widgets/base",
      "model_module_version": "1.2.0",
      "model_name": "LayoutModel",
      "state": {}
     },
     "b3567600e85a442ea2e35400b961294f": {
      "model_module": "@jupyter-widgets/controls",
      "model_module_version": "1.5.0",
      "model_name": "ComboboxModel",
      "state": {
       "description": "Forth place: ",
       "ensure_option": false,
       "layout": "IPY_MODEL_9cac92f5bfd645f79f72f7ee6d2b4d39",
       "options": [
        "Lax",
        "Felix",
        "Simon",
        "Nick",
        "Steve",
        "Jule",
        "Jakob",
        "Volker",
        "Kulti",
        "Marvman",
        "Elli",
        "Thomas",
        "Anna",
        "Reinhard"
       ],
       "placeholder": "Wähle Spieler",
       "style": "IPY_MODEL_58c1fc27caf14c67b0f870485dff1944"
      }
     },
     "b4559c175b994d8eb50b2b40a24f5804": {
      "model_module": "@jupyter-widgets/base",
      "model_module_version": "1.2.0",
      "model_name": "LayoutModel",
      "state": {
       "width": "70%"
      }
     },
     "b49740a9abb74cf7a3e33f81a481f4ea": {
      "model_module": "@jupyter-widgets/controls",
      "model_module_version": "1.5.0",
      "model_name": "DescriptionStyleModel",
      "state": {
       "description_width": ""
      }
     },
     "b4b1b277bf534d91907e1abf93f13f0b": {
      "model_module": "@jupyter-widgets/controls",
      "model_module_version": "1.5.0",
      "model_name": "CheckboxModel",
      "state": {
       "description": "Prelude",
       "disabled": false,
       "layout": "IPY_MODEL_0c12c21c5d7f498793d2caebd7800c6f",
       "style": "IPY_MODEL_043e1298866041038479f8b4338c7adc",
       "value": true
      }
     },
     "b4fb5711fd3648cb96d914ff83e0e3e4": {
      "model_module": "@jupyter-widgets/base",
      "model_module_version": "1.2.0",
      "model_name": "LayoutModel",
      "state": {}
     },
     "b52e80b04a8647b0b9881999d82c37b6": {
      "model_module": "@jupyter-widgets/controls",
      "model_module_version": "1.5.0",
      "model_name": "VBoxModel",
      "state": {
       "children": [
        "IPY_MODEL_5c169f32c8aa476dac09e618504fcaaa",
        "IPY_MODEL_925937438dca48cab56888664007abac"
       ],
       "layout": "IPY_MODEL_ab6bc106fa894abca779a88056094987"
      }
     },
     "b574fd32e1df4ad185317afb810a2adf": {
      "model_module": "@jupyter-widgets/controls",
      "model_module_version": "1.5.0",
      "model_name": "IntTextModel",
      "state": {
       "description": "Punkte:",
       "layout": "IPY_MODEL_23435042917944fdad657353e011538b",
       "step": 1,
       "style": "IPY_MODEL_42754f48576242e2a8546ced057dce96"
      }
     },
     "b5a075db7ab040fa818dafe24eb175b7": {
      "model_module": "@jupyter-widgets/controls",
      "model_module_version": "1.5.0",
      "model_name": "ComboboxModel",
      "state": {
       "description": "Fifth place: ",
       "ensure_option": false,
       "layout": "IPY_MODEL_887d73e8246446d2b99db597c0c59d88",
       "options": [
        "Lax",
        "Felix",
        "Simon",
        "Nick",
        "Steve",
        "Jule",
        "Jakob",
        "Volker",
        "Kulti",
        "Marvman",
        "Elli",
        "Thomas",
        "Anna",
        "Reinhard"
       ],
       "placeholder": "Wähle Spieler",
       "style": "IPY_MODEL_4de7c3fa330244ffb128d0ee33db2462"
      }
     },
     "b5acdb56285a43ecaced22867e15e205": {
      "model_module": "@jupyter-widgets/controls",
      "model_module_version": "1.5.0",
      "model_name": "DatePickerModel",
      "state": {
       "description": "Wann wurde gespielt?",
       "disabled": false,
       "layout": "IPY_MODEL_43af19f0ceed4fe6b5a26decdbe04031",
       "style": "IPY_MODEL_91386cd9a9a1403b9bb5e5948932d7df"
      }
     },
     "b5bbfca38f9b4bda8fb8f241e900e283": {
      "model_module": "@jupyter-widgets/base",
      "model_module_version": "1.2.0",
      "model_name": "LayoutModel",
      "state": {}
     },
     "b6a56af5d6b74c51af3e37ec26ff1f69": {
      "model_module": "@jupyter-widgets/base",
      "model_module_version": "1.2.0",
      "model_name": "LayoutModel",
      "state": {
       "align_items": "flex-end"
      }
     },
     "b6d75e91d48247a9a7a5e3eef8dffcfd": {
      "model_module": "@jupyter-widgets/base",
      "model_module_version": "1.2.0",
      "model_name": "LayoutModel",
      "state": {}
     },
     "b75eb1883b5c49e7922d6002115c423c": {
      "model_module": "@jupyter-widgets/base",
      "model_module_version": "1.2.0",
      "model_name": "LayoutModel",
      "state": {}
     },
     "b765bb735adf408989cbc4353650b95d": {
      "model_module": "@jupyter-widgets/controls",
      "model_module_version": "1.5.0",
      "model_name": "ButtonStyleModel",
      "state": {}
     },
     "b7f428fca4d54ef6903b0314de08b634": {
      "model_module": "@jupyter-widgets/base",
      "model_module_version": "1.2.0",
      "model_name": "LayoutModel",
      "state": {
       "align_items": "flex-end"
      }
     },
     "b856390e1b3147d1a08a5c763222cea0": {
      "model_module": "@jupyter-widgets/controls",
      "model_module_version": "1.5.0",
      "model_name": "HBoxModel",
      "state": {
       "children": [
        "IPY_MODEL_68976147372c4d95820bb4faaf26506b",
        "IPY_MODEL_8525af873486428cafc29be7ee813d55"
       ],
       "layout": "IPY_MODEL_edc8ce8f59c74528b3ce27b143093f72"
      }
     },
     "b8790b4f7aaf4135a468b591e150e9ad": {
      "model_module": "@jupyter-widgets/controls",
      "model_module_version": "1.5.0",
      "model_name": "VBoxModel",
      "state": {
       "children": [
        "IPY_MODEL_8dd46cac8218411bb838fa26a317fd90",
        "IPY_MODEL_0149d18cdf904c0cbfcc0f5f21199acd"
       ],
       "layout": "IPY_MODEL_933303b4fdc54c94af012083329bb449"
      }
     },
     "b89709c7421d4325af87159a86260e56": {
      "model_module": "@jupyter-widgets/base",
      "model_module_version": "1.2.0",
      "model_name": "LayoutModel",
      "state": {}
     },
     "b9492d667ba3481c877b44118be8691c": {
      "model_module": "@jupyter-widgets/controls",
      "model_module_version": "1.5.0",
      "model_name": "DescriptionStyleModel",
      "state": {
       "description_width": ""
      }
     },
     "b961444b58534e92bb8e0b9a7fae58d1": {
      "model_module": "@jupyter-widgets/controls",
      "model_module_version": "1.5.0",
      "model_name": "DescriptionStyleModel",
      "state": {
       "description_width": ""
      }
     },
     "b977b5bb4d6d48d382cb1ca065497db9": {
      "model_module": "@jupyter-widgets/controls",
      "model_module_version": "1.5.0",
      "model_name": "IntSliderModel",
      "state": {
       "layout": "IPY_MODEL_302e49e408f1428189eb96f19da78485",
       "max": 200,
       "readout": false,
       "style": "IPY_MODEL_a439a01810604c089008a46c19313d3b"
      }
     },
     "b97e1a53d14641d9aa112f09fe198050": {
      "model_module": "@jupyter-widgets/base",
      "model_module_version": "1.2.0",
      "model_name": "LayoutModel",
      "state": {
       "align_items": "flex-end"
      }
     },
     "b9d84ad786d14c8db024fd824712e9ac": {
      "model_module": "@jupyter-widgets/controls",
      "model_module_version": "1.5.0",
      "model_name": "SliderStyleModel",
      "state": {
       "description_width": ""
      }
     },
     "ba0fb6221cb74f31aa8baa4acfd20f1f": {
      "model_module": "@jupyter-widgets/base",
      "model_module_version": "1.2.0",
      "model_name": "LayoutModel",
      "state": {
       "width": "70%"
      }
     },
     "ba15061253114c7bbc36b10f9cffd97a": {
      "model_module": "@jupyter-widgets/controls",
      "model_module_version": "1.5.0",
      "model_name": "DescriptionStyleModel",
      "state": {
       "description_width": ""
      }
     },
     "ba333dced6d74b2bac2edba9e2b1484e": {
      "model_module": "@jupyter-widgets/controls",
      "model_module_version": "1.5.0",
      "model_name": "LinkModel",
      "state": {
       "source": [
        "IPY_MODEL_e01f8767f09b4f4ab237cf100968e5c4",
        "value"
       ],
       "target": [
        "IPY_MODEL_2e34f910bddf4ef7b70f241c842d1adc",
        "value"
       ]
      }
     },
     "ba8f006cfba9462ca5d2f1e32318144e": {
      "model_module": "@jupyter-widgets/controls",
      "model_module_version": "1.5.0",
      "model_name": "DescriptionStyleModel",
      "state": {
       "description_width": ""
      }
     },
     "bb6e9b99433442eabf9d62a175d59508": {
      "model_module": "@jupyter-widgets/controls",
      "model_module_version": "1.5.0",
      "model_name": "DescriptionStyleModel",
      "state": {
       "description_width": ""
      }
     },
     "bc0a6acc0fbc47948617787d43fad211": {
      "model_module": "@jupyter-widgets/controls",
      "model_module_version": "1.5.0",
      "model_name": "ComboboxModel",
      "state": {
       "description": "Fifth place: ",
       "ensure_option": false,
       "layout": "IPY_MODEL_b29468c01bde46e5a5bef48cf3bdc1a5",
       "options": [
        "Lax",
        "Felix",
        "Simon",
        "Nick",
        "Steve",
        "Jule",
        "Jakob",
        "Volker",
        "Kulti",
        "Marvman",
        "Elli",
        "Thomas",
        "Anna",
        "Reinhard"
       ],
       "placeholder": "Wähle Spieler",
       "style": "IPY_MODEL_5033810d60464399a3c4037d6d358018"
      }
     },
     "bc23b8ab59b84190a8e8a88961573a64": {
      "model_module": "@jupyter-widgets/controls",
      "model_module_version": "1.5.0",
      "model_name": "ToggleButtonModel",
      "state": {
       "description": "Jule",
       "layout": "IPY_MODEL_75db20389a5e41008f7f7c8bb0ba274b",
       "style": "IPY_MODEL_bb6e9b99433442eabf9d62a175d59508",
       "value": true
      }
     },
     "bc78ec2502934fea9bbb59b4d00a09f1": {
      "model_module": "@jupyter-widgets/base",
      "model_module_version": "1.2.0",
      "model_name": "LayoutModel",
      "state": {}
     },
     "bca699c472de45d5853c96b1e8401515": {
      "model_module": "@jupyter-widgets/base",
      "model_module_version": "1.2.0",
      "model_name": "LayoutModel",
      "state": {}
     },
     "bd3ddd306d784bc18384562e03de57ee": {
      "model_module": "@jupyter-widgets/controls",
      "model_module_version": "1.5.0",
      "model_name": "DescriptionStyleModel",
      "state": {
       "description_width": ""
      }
     },
     "bd591ff0697d458ab2fb08ded4f18932": {
      "model_module": "@jupyter-widgets/base",
      "model_module_version": "1.2.0",
      "model_name": "LayoutModel",
      "state": {}
     },
     "bd5e7dc66c3a4c0bb8d0159c4c1666c1": {
      "model_module": "@jupyter-widgets/controls",
      "model_module_version": "1.5.0",
      "model_name": "IntTextModel",
      "state": {
       "description": "Punkte:",
       "layout": "IPY_MODEL_daacb767a5054cd1bc1a2940234684be",
       "step": 1,
       "style": "IPY_MODEL_06d86938dbe64301bcdc0ed160cb490a"
      }
     },
     "be057122e80f4b128feadb5551bf1ad2": {
      "model_module": "@jupyter-widgets/controls",
      "model_module_version": "1.5.0",
      "model_name": "DescriptionStyleModel",
      "state": {
       "description_width": ""
      }
     },
     "be1dd2283dba47c9a6ef3c407c764978": {
      "model_module": "@jupyter-widgets/controls",
      "model_module_version": "1.5.0",
      "model_name": "DescriptionStyleModel",
      "state": {
       "description_width": ""
      }
     },
     "be22ccbf0e914cfe9d1b223d9e0153be": {
      "model_module": "@jupyter-widgets/controls",
      "model_module_version": "1.5.0",
      "model_name": "DescriptionStyleModel",
      "state": {
       "description_width": ""
      }
     },
     "be2fff0cd15d4b3d865218e5182e3d3d": {
      "model_module": "@jupyter-widgets/controls",
      "model_module_version": "1.5.0",
      "model_name": "ComboboxModel",
      "state": {
       "description": "Third place: ",
       "ensure_option": false,
       "layout": "IPY_MODEL_869ba71be3674a46b554651057f32b14",
       "options": [
        "Lax",
        "Felix",
        "Simon",
        "Nick",
        "Steve",
        "Jule",
        "Jakob",
        "Volker",
        "Kulti",
        "Marvman",
        "Elli",
        "Thomas",
        "Anna",
        "Reinhard"
       ],
       "placeholder": "Wähle Spieler",
       "style": "IPY_MODEL_dc8bc8a5ee78420896456ecc7e626f43"
      }
     },
     "be5e66b73fde4ad49030139612775db8": {
      "model_module": "@jupyter-widgets/controls",
      "model_module_version": "1.5.0",
      "model_name": "DescriptionStyleModel",
      "state": {
       "description_width": ""
      }
     },
     "bf08fcd912344aa09d4b2ee295384da6": {
      "model_module": "@jupyter-widgets/controls",
      "model_module_version": "1.5.0",
      "model_name": "LinkModel",
      "state": {
       "source": [
        "IPY_MODEL_12ac5244f85744c7a316ba5db7890df8",
        "value"
       ],
       "target": [
        "IPY_MODEL_3a53ffe89e934c9fa13e992860c39197",
        "value"
       ]
      }
     },
     "bf26dd2b640e44f7b406feaea8c4222f": {
      "model_module": "@jupyter-widgets/controls",
      "model_module_version": "1.5.0",
      "model_name": "DescriptionStyleModel",
      "state": {
       "description_width": ""
      }
     },
     "bf8d8fd944b541f5a5e90d5b2999c77f": {
      "model_module": "@jupyter-widgets/controls",
      "model_module_version": "1.5.0",
      "model_name": "ComboboxModel",
      "state": {
       "description": "Second place: ",
       "ensure_option": false,
       "layout": "IPY_MODEL_7abf0daa52474845894334c291748350",
       "options": [
        "Lax",
        "Felix",
        "Simon",
        "Nick",
        "Steve",
        "Jule",
        "Jakob",
        "Volker",
        "Kulti",
        "Marvman",
        "Elli",
        "Thomas",
        "Anna",
        "Reinhard"
       ],
       "placeholder": "Wähle Spieler",
       "style": "IPY_MODEL_859db853c97f4165a6f7e4417c2a9d45"
      }
     },
     "bf9247fe5194494f962d4faffa983782": {
      "model_module": "@jupyter-widgets/base",
      "model_module_version": "1.2.0",
      "model_name": "LayoutModel",
      "state": {}
     },
     "bfdd071e4bdd4fd1b0a65f17bee8648a": {
      "model_module": "@jupyter-widgets/base",
      "model_module_version": "1.2.0",
      "model_name": "LayoutModel",
      "state": {
       "height": "4%",
       "width": "100%"
      }
     },
     "c0f619754a4e416db23b5f7d1240e3a2": {
      "model_module": "@jupyter-widgets/controls",
      "model_module_version": "1.5.0",
      "model_name": "ToggleButtonModel",
      "state": {
       "description": "Steve",
       "layout": "IPY_MODEL_cf849bfc50614247b8de949aa27a8746",
       "style": "IPY_MODEL_315caea153364b88a0080cbf0952e1a0"
      }
     },
     "c10341b2f8d749ac8c34bcb579816eac": {
      "model_module": "@jupyter-widgets/controls",
      "model_module_version": "1.5.0",
      "model_name": "ComboboxModel",
      "state": {
       "description": "Third place: ",
       "ensure_option": false,
       "layout": "IPY_MODEL_3978b5d8d4a349719e341c5e82c4015a",
       "options": [
        "Lax",
        "Felix",
        "Simon",
        "Nick",
        "Steve",
        "Jule",
        "Jakob",
        "Volker",
        "Kulti",
        "Marvman",
        "Elli",
        "Thomas",
        "Anna",
        "Reinhard"
       ],
       "placeholder": "Wähle Spieler",
       "style": "IPY_MODEL_9849cb433c4e473e9ab0a642434a541d"
      }
     },
     "c135ff2d80844772ba2365c1a62d205c": {
      "model_module": "@jupyter-widgets/base",
      "model_module_version": "1.2.0",
      "model_name": "LayoutModel",
      "state": {}
     },
     "c14b9d2e89fe4a988a3d75bb6ebf0216": {
      "model_module": "@jupyter-widgets/controls",
      "model_module_version": "1.5.0",
      "model_name": "VBoxModel",
      "state": {
       "children": [
        "IPY_MODEL_474e0918621e4fc6978e69d9d09a77e8",
        "IPY_MODEL_e5fc3433c9ab4a429c5fae5531e37325"
       ],
       "layout": "IPY_MODEL_214e59373b654c87b116e736f9a6207b"
      }
     },
     "c170469480e04344803a5127d11a0ff8": {
      "model_module": "@jupyter-widgets/controls",
      "model_module_version": "1.5.0",
      "model_name": "VBoxModel",
      "state": {
       "children": [
        "IPY_MODEL_f721cbd498a044bf915cc8a72979543f",
        "IPY_MODEL_9abef15048304d0f96a6ffcef80b54d0"
       ],
       "layout": "IPY_MODEL_80f57b75bad648488be3e94b21df1f3f"
      }
     },
     "c1cdbd18d81f4e10b9c6d72239fd8c58": {
      "model_module": "@jupyter-widgets/controls",
      "model_module_version": "1.5.0",
      "model_name": "DescriptionStyleModel",
      "state": {
       "description_width": ""
      }
     },
     "c1daefef527948418ec46dc0800bc2c9": {
      "model_module": "@jupyter-widgets/controls",
      "model_module_version": "1.5.0",
      "model_name": "ToggleButtonModel",
      "state": {
       "description": "Reinhard",
       "layout": "IPY_MODEL_21153859195247eb83496ba81cb0457a",
       "style": "IPY_MODEL_c42e506484244c92b22036b94ce3f2f6"
      }
     },
     "c1eb2aa8a0cb492dbf7db4f9f1122e7c": {
      "model_module": "@jupyter-widgets/base",
      "model_module_version": "1.2.0",
      "model_name": "LayoutModel",
      "state": {
       "width": "70%"
      }
     },
     "c224cdd0802a4c35b6a163a1f9c5ed77": {
      "model_module": "@jupyter-widgets/controls",
      "model_module_version": "1.5.0",
      "model_name": "ComboboxModel",
      "state": {
       "description": "Konzern:",
       "ensure_option": false,
       "layout": "IPY_MODEL_02d9008d04db4fe7b51d6b21d413c9e3",
       "options": [
        "Ace",
        "Aphrodite",
        "Astrodrill",
        "Arcadian Communities",
        "Arklight",
        "Aridor",
        "Astro Alliance",
        "Celestic",
        "Cheung Shing Mars",
        "Credicor",
        "Ecoline",
        "Factorum",
        "Fractal",
        "Helion",
        "Interplanetare Filmgesellschaft",
        "Inventrix",
        "Lakefront Resorts",
        "Manutec",
        "Marsanto",
        "Mining Guild",
        "Mons Insurance",
        "Morning Star Inc.",
        "Pharmacy Union",
        "Philares",
        "PhoboLog",
        "Point Luna",
        "Polyphemos",
        "Poseidon",
        "Pristar",
        "Recylon",
        "Republik Tharsis",
        "Robinson Industries",
        "Satrun Systems",
        "Septem Tribus",
        "Splice",
        "Stormcraft",
        "Teractor",
        "Terralabs",
        "Thermex",
        "Thorgate",
        "Tycho",
        "United Nations Mars Initiative",
        "Utopia Invest",
        "Valles Trust",
        "Viron",
        "Vitor"
       ],
       "placeholder": "-",
       "style": "IPY_MODEL_56e496e07a63429f82d24abe64c2ddf6"
      }
     },
     "c240cda15bac45c8a840b0f54d5212cf": {
      "model_module": "@jupyter-widgets/controls",
      "model_module_version": "1.5.0",
      "model_name": "LinkModel",
      "state": {
       "source": [
        "IPY_MODEL_daa2c34e34044d2bbca8b97682e02297",
        "value"
       ],
       "target": [
        "IPY_MODEL_f4a976e9754c4a27861dc939a9f0cc18",
        "value"
       ]
      }
     },
     "c268348428684b56a025563868d30174": {
      "model_module": "@jupyter-widgets/controls",
      "model_module_version": "1.5.0",
      "model_name": "CheckboxModel",
      "state": {
       "description": "Colonies",
       "disabled": false,
       "layout": "IPY_MODEL_77d33ca1c23b4639bbc30cdb86590abd",
       "style": "IPY_MODEL_0a0730ad32434065a2b30a5a70dc52bd",
       "value": true
      }
     },
     "c31812da7cf24a549f86bc759ec5bc70": {
      "model_module": "@jupyter-widgets/base",
      "model_module_version": "1.2.0",
      "model_name": "LayoutModel",
      "state": {}
     },
     "c31e4a87a81446f98ee5a6c41277109d": {
      "model_module": "@jupyter-widgets/controls",
      "model_module_version": "1.5.0",
      "model_name": "ComboboxModel",
      "state": {
       "description": "Forth place: ",
       "ensure_option": false,
       "layout": "IPY_MODEL_126beb24fb58458faf25528222991b81",
       "options": [
        "Lax",
        "Felix",
        "Simon",
        "Nick",
        "Steve",
        "Jule",
        "Jakob",
        "Volker",
        "Kulti",
        "Marvman",
        "Elli",
        "Thomas",
        "Anna",
        "Reinhard"
       ],
       "placeholder": "Wähle Spieler",
       "style": "IPY_MODEL_7ce7f1f3b7564fd48f3bcb49a82dd0de"
      }
     },
     "c365da33ec134680952f87f644da1247": {
      "model_module": "@jupyter-widgets/base",
      "model_module_version": "1.2.0",
      "model_name": "LayoutModel",
      "state": {}
     },
     "c391b0fa46e64421811419fbb75c67ef": {
      "model_module": "@jupyter-widgets/controls",
      "model_module_version": "1.5.0",
      "model_name": "DescriptionStyleModel",
      "state": {
       "description_width": ""
      }
     },
     "c3b3b9e023bf4e1a84d3cb67253a350f": {
      "model_module": "@jupyter-widgets/base",
      "model_module_version": "1.2.0",
      "model_name": "LayoutModel",
      "state": {}
     },
     "c42e506484244c92b22036b94ce3f2f6": {
      "model_module": "@jupyter-widgets/controls",
      "model_module_version": "1.5.0",
      "model_name": "DescriptionStyleModel",
      "state": {
       "description_width": ""
      }
     },
     "c463bd573ee8477daf4d69fed085a149": {
      "model_module": "@jupyter-widgets/controls",
      "model_module_version": "1.5.0",
      "model_name": "DescriptionStyleModel",
      "state": {
       "description_width": ""
      }
     },
     "c4acbe6b098f4220847b839b5a474a4c": {
      "model_module": "@jupyter-widgets/base",
      "model_module_version": "1.2.0",
      "model_name": "LayoutModel",
      "state": {}
     },
     "c4b6d018802b4b36a042874f57f18c58": {
      "model_module": "@jupyter-widgets/base",
      "model_module_version": "1.2.0",
      "model_name": "LayoutModel",
      "state": {}
     },
     "c4cbc927fb9c46a2be01ff882372f3f4": {
      "model_module": "@jupyter-widgets/base",
      "model_module_version": "1.2.0",
      "model_name": "LayoutModel",
      "state": {}
     },
     "c4d5de9726b74ccc8d1378932015aaae": {
      "model_module": "@jupyter-widgets/controls",
      "model_module_version": "1.5.0",
      "model_name": "IntTextModel",
      "state": {
       "description": "Punkte:",
       "layout": "IPY_MODEL_307805f41b1844aba0b6a40c07acad68",
       "step": 1,
       "style": "IPY_MODEL_8a7d607e9f904770a1f39292d68f07e2"
      }
     },
     "c54591813dc949d8be51a5e70542ebe2": {
      "model_module": "@jupyter-widgets/base",
      "model_module_version": "1.2.0",
      "model_name": "LayoutModel",
      "state": {}
     },
     "c55369d9fc52436188d0d29ad5ab0c14": {
      "model_module": "@jupyter-widgets/controls",
      "model_module_version": "1.5.0",
      "model_name": "ComboboxModel",
      "state": {
       "description": "Konzern:",
       "ensure_option": false,
       "layout": "IPY_MODEL_8e7bbdd776d24b2c9fbfd25ac8c3bc8b",
       "options": [
        "Ace",
        "Aphrodite",
        "Astrodrill",
        "Arcadian Communities",
        "Arklight",
        "Aridor",
        "Astro Alliance",
        "Celestic",
        "Cheung Shing Mars",
        "Credicor",
        "Ecoline",
        "Factorum",
        "Fractal",
        "Helion",
        "Interplanetare Filmgesellschaft",
        "Inventrix",
        "Lakefront Resorts",
        "Manutec",
        "Marsanto",
        "Mining Guild",
        "Mons Insurance",
        "Morning Star Inc.",
        "Pharmacy Union",
        "Philares",
        "PhoboLog",
        "Point Luna",
        "Polyphemos",
        "Poseidon",
        "Pristar",
        "Recylon",
        "Republik Tharsis",
        "Robinson Industries",
        "Satrun Systems",
        "Septem Tribus",
        "Splice",
        "Stormcraft",
        "Teractor",
        "Terralabs",
        "Thermex",
        "Thorgate",
        "Tycho",
        "United Nations Mars Initiative",
        "Utopia Invest",
        "Valles Trust",
        "Viron",
        "Vitor"
       ],
       "placeholder": "-",
       "style": "IPY_MODEL_0e0e473596d24668bd10d0b210a3caef"
      }
     },
     "c57a9447ab5346f2be4406dd5e075a41": {
      "model_module": "@jupyter-widgets/controls",
      "model_module_version": "1.5.0",
      "model_name": "VBoxModel",
      "state": {
       "children": [
        "IPY_MODEL_75dc9a4e4d50430e9b28e327718b1fae",
        "IPY_MODEL_2d8e4d66b7f34c3d95b08b12a6c7b9d9"
       ],
       "layout": "IPY_MODEL_dab07b1106144d3699a5851094dc5147"
      }
     },
     "c6545fc82f834477b936af93f8dc0b39": {
      "model_module": "@jupyter-widgets/base",
      "model_module_version": "1.2.0",
      "model_name": "LayoutModel",
      "state": {}
     },
     "c6cc00ed75644fbcaa3deef0d669ca52": {
      "model_module": "@jupyter-widgets/controls",
      "model_module_version": "1.5.0",
      "model_name": "VBoxModel",
      "state": {
       "children": [
        "IPY_MODEL_6c08f04e22fa4d498a1139bcc09559dc",
        "IPY_MODEL_790d3d518c08497cb3e5a32b82df9c2b"
       ],
       "layout": "IPY_MODEL_c9b2dd8f59ba42b5ad50711641579dc4"
      }
     },
     "c715bcdc844349bd85a08aefcfbd0e3b": {
      "model_module": "@jupyter-widgets/controls",
      "model_module_version": "1.5.0",
      "model_name": "LinkModel",
      "state": {
       "source": [
        "IPY_MODEL_89e85eb923e342caa428ad7a91e2a754",
        "value"
       ],
       "target": [
        "IPY_MODEL_f38ca4de69164ab48f4029da3e702e10",
        "value"
       ]
      }
     },
     "c7443e6743224834b2a3aa1008278811": {
      "model_module": "@jupyter-widgets/base",
      "model_module_version": "1.2.0",
      "model_name": "LayoutModel",
      "state": {}
     },
     "c7464f2da2394ebeb61278c122b6ce07": {
      "model_module": "@jupyter-widgets/controls",
      "model_module_version": "1.5.0",
      "model_name": "IntSliderModel",
      "state": {
       "layout": "IPY_MODEL_0f30d9d88d364e789cfc1a1f337e7548",
       "max": 200,
       "readout": false,
       "style": "IPY_MODEL_56f8aff658ee420aa6bf683d5e48da0b",
       "value": 119
      }
     },
     "c74fb2306b9f4531b42cc4cc3575d7ad": {
      "model_module": "@jupyter-widgets/base",
      "model_module_version": "1.2.0",
      "model_name": "LayoutModel",
      "state": {}
     },
     "c7d90cd95eb6409da995c0d6aabb31cd": {
      "model_module": "@jupyter-widgets/controls",
      "model_module_version": "1.5.0",
      "model_name": "DescriptionStyleModel",
      "state": {
       "description_width": ""
      }
     },
     "c7daa65c739743029e6957adb40285b1": {
      "model_module": "@jupyter-widgets/controls",
      "model_module_version": "1.5.0",
      "model_name": "IntSliderModel",
      "state": {
       "layout": "IPY_MODEL_00fb63e41024448e8d69547fe8efac55",
       "max": 200,
       "readout": false,
       "style": "IPY_MODEL_a43027495cfa4ad3ac6221bc582343d9"
      }
     },
     "c7fa192a4c5f4bfea75dcc270e1bc145": {
      "model_module": "@jupyter-widgets/controls",
      "model_module_version": "1.5.0",
      "model_name": "DescriptionStyleModel",
      "state": {
       "description_width": ""
      }
     },
     "c80766c70d5b4b19a6fd7bbc81c60b8c": {
      "model_module": "@jupyter-widgets/base",
      "model_module_version": "1.2.0",
      "model_name": "LayoutModel",
      "state": {}
     },
     "c8d1507a36af457c9499516f281466ea": {
      "model_module": "@jupyter-widgets/controls",
      "model_module_version": "1.5.0",
      "model_name": "IntSliderModel",
      "state": {
       "layout": "IPY_MODEL_fe1902394d0240e9945fde54cd0bb1be",
       "max": 200,
       "readout": false,
       "style": "IPY_MODEL_96a976ab6e984e8ab7983c7b22247ae6"
      }
     },
     "c8d379ccbe8c476caa88df988d279c77": {
      "model_module": "@jupyter-widgets/controls",
      "model_module_version": "1.5.0",
      "model_name": "DescriptionStyleModel",
      "state": {
       "description_width": ""
      }
     },
     "c9b2dd8f59ba42b5ad50711641579dc4": {
      "model_module": "@jupyter-widgets/base",
      "model_module_version": "1.2.0",
      "model_name": "LayoutModel",
      "state": {
       "align_items": "flex-end"
      }
     },
     "c9bad995997d485a8f368cafb749d146": {
      "model_module": "@jupyter-widgets/controls",
      "model_module_version": "1.5.0",
      "model_name": "DescriptionStyleModel",
      "state": {
       "description_width": ""
      }
     },
     "ca49467bc0d84189b2c137dd23986314": {
      "model_module": "@jupyter-widgets/controls",
      "model_module_version": "1.5.0",
      "model_name": "CheckboxModel",
      "state": {
       "description": "Venus",
       "disabled": false,
       "layout": "IPY_MODEL_5f8baa10050e4703bf2bac6659edd01b",
       "style": "IPY_MODEL_4b22fade16994658bb7058ab4731604b",
       "value": true
      }
     },
     "ca85d859e23645ba9321bb5bac3c23a0": {
      "model_module": "@jupyter-widgets/controls",
      "model_module_version": "1.5.0",
      "model_name": "VBoxModel",
      "state": {
       "children": [
        "IPY_MODEL_23492811fa2a456d8a8ac058133a1f59",
        "IPY_MODEL_42c587d791d4450c8a9d63cec7086095"
       ],
       "layout": "IPY_MODEL_72c8d663ecc146d5890c24a218d996f8"
      }
     },
     "caf77574eab845409674bfc30c3f0537": {
      "model_module": "@jupyter-widgets/controls",
      "model_module_version": "1.5.0",
      "model_name": "DescriptionStyleModel",
      "state": {
       "description_width": ""
      }
     },
     "cb19b49a8990497bb594a9bded53e9d1": {
      "model_module": "@jupyter-widgets/base",
      "model_module_version": "1.2.0",
      "model_name": "LayoutModel",
      "state": {}
     },
     "cc17de6374fa411f987f5954b0f39e2e": {
      "model_module": "@jupyter-widgets/controls",
      "model_module_version": "1.5.0",
      "model_name": "IntTextModel",
      "state": {
       "description": "Punkte:",
       "layout": "IPY_MODEL_f7b5f76f4e0148f5b4d6323531ea2804",
       "step": 1,
       "style": "IPY_MODEL_2c0518c5e8fc48908b291d1906be1478"
      }
     },
     "cc5c147d4d6c40aabe72ee66143888ec": {
      "model_module": "@jupyter-widgets/controls",
      "model_module_version": "1.5.0",
      "model_name": "DescriptionStyleModel",
      "state": {
       "description_width": ""
      }
     },
     "cc752090e64848aab24f2b1e244030d4": {
      "model_module": "@jupyter-widgets/controls",
      "model_module_version": "1.5.0",
      "model_name": "DescriptionStyleModel",
      "state": {
       "description_width": ""
      }
     },
     "cca6f08171d0440da2d2bcb9c3edcb7a": {
      "model_module": "@jupyter-widgets/controls",
      "model_module_version": "1.5.0",
      "model_name": "BoxModel",
      "state": {
       "children": [
        "IPY_MODEL_927a16c6c4314b5694bf764e1feda2e1",
        "IPY_MODEL_89192d92686246fd9542c7e466b95827",
        "IPY_MODEL_10428d9d198a4f4380358c2662478ecb"
       ],
       "layout": "IPY_MODEL_b0d50f86e67249549b131610e94ff63d"
      }
     },
     "ccb27158ee4641feae4a32c52470d693": {
      "model_module": "@jupyter-widgets/controls",
      "model_module_version": "1.5.0",
      "model_name": "BoxModel",
      "state": {
       "children": [
        "IPY_MODEL_0d9df07fa4354a08996ad8d89b658530",
        "IPY_MODEL_d3de246f1b2a46a79c3f525a1dcf01c6",
        "IPY_MODEL_96948ad022de46589af13463e4083adf"
       ],
       "layout": "IPY_MODEL_2edae26a326a47f69c603d6dfef4cbb2"
      }
     },
     "cccd7326fbcd4892a0df6324f5211167": {
      "model_module": "@jupyter-widgets/controls",
      "model_module_version": "1.5.0",
      "model_name": "ButtonModel",
      "state": {
       "description": "Spiel eintragen!",
       "layout": "IPY_MODEL_47675bdb599e4f2aa539c9d36f8b0e58",
       "style": "IPY_MODEL_b765bb735adf408989cbc4353650b95d"
      }
     },
     "cd6ed9bab7044225b0453dd55542a42f": {
      "model_module": "@jupyter-widgets/controls",
      "model_module_version": "1.5.0",
      "model_name": "DescriptionStyleModel",
      "state": {
       "description_width": ""
      }
     },
     "cd7da7b197b44f389d4bb2bbac7e119f": {
      "model_module": "@jupyter-widgets/base",
      "model_module_version": "1.2.0",
      "model_name": "LayoutModel",
      "state": {
       "height": "4%",
       "width": "100%"
      }
     },
     "cdbe3954cdbb4168bd33ff3b2ad57bb6": {
      "model_module": "@jupyter-widgets/base",
      "model_module_version": "1.2.0",
      "model_name": "LayoutModel",
      "state": {
       "height": "4%",
       "width": "100%"
      }
     },
     "cdf4649a9a4e4ff4a9908e5ecd46fa2c": {
      "model_module": "@jupyter-widgets/controls",
      "model_module_version": "1.5.0",
      "model_name": "DescriptionStyleModel",
      "state": {
       "description_width": ""
      }
     },
     "cebc7863814f440e85c5790c6f4d77e2": {
      "model_module": "@jupyter-widgets/controls",
      "model_module_version": "1.5.0",
      "model_name": "DescriptionStyleModel",
      "state": {
       "description_width": ""
      }
     },
     "cebe2faa00874d1d9b9708af9539aa2c": {
      "model_module": "@jupyter-widgets/controls",
      "model_module_version": "1.5.0",
      "model_name": "ComboboxModel",
      "state": {
       "description": "Konzern:",
       "ensure_option": false,
       "layout": "IPY_MODEL_903b3fde108140a4b633cbd4d45d4b3c",
       "options": [
        "Ace",
        "Aphrodite",
        "Astrodrill",
        "Arcadian Communities",
        "Arklight",
        "Aridor",
        "Astro Alliance",
        "Celestic",
        "Cheung Shing Mars",
        "Credicor",
        "Ecoline",
        "Factorum",
        "Fractal",
        "Helion",
        "Interplanetare Filmgesellschaft",
        "Inventrix",
        "Lakefront Resorts",
        "Manutec",
        "Marsanto",
        "Mining Guild",
        "Mons Insurance",
        "Morning Star Inc.",
        "Pharmacy Union",
        "Philares",
        "PhoboLog",
        "Point Luna",
        "Polyphemos",
        "Poseidon",
        "Pristar",
        "Recylon",
        "Republik Tharsis",
        "Robinson Industries",
        "Satrun Systems",
        "Septem Tribus",
        "Splice",
        "Stormcraft",
        "Teractor",
        "Terralabs",
        "Thermex",
        "Thorgate",
        "Tycho",
        "United Nations Mars Initiative",
        "Utopia Invest",
        "Valles Trust",
        "Viron",
        "Vitor"
       ],
       "placeholder": "-",
       "style": "IPY_MODEL_c9bad995997d485a8f368cafb749d146"
      }
     },
     "cf4f4229253e4085b6746cfc20a20a09": {
      "model_module": "@jupyter-widgets/controls",
      "model_module_version": "1.5.0",
      "model_name": "LinkModel",
      "state": {
       "source": [
        "IPY_MODEL_d29ceb4019b64c89840423500376b2b0",
        "value"
       ],
       "target": [
        "IPY_MODEL_c7daa65c739743029e6957adb40285b1",
        "value"
       ]
      }
     },
     "cf5b1ff22e9741a883a8d1ff8ec42c93": {
      "model_module": "@jupyter-widgets/controls",
      "model_module_version": "1.5.0",
      "model_name": "ToggleButtonModel",
      "state": {
       "description": "Anna",
       "layout": "IPY_MODEL_a32a0f91070a4e2487171d8f2b8acbf7",
       "style": "IPY_MODEL_9c57fd35cfbe45eea0df20b09a720eb1"
      }
     },
     "cf75a809854642fbb98fe02481fcff35": {
      "model_module": "@jupyter-widgets/base",
      "model_module_version": "1.2.0",
      "model_name": "LayoutModel",
      "state": {}
     },
     "cf849bfc50614247b8de949aa27a8746": {
      "model_module": "@jupyter-widgets/base",
      "model_module_version": "1.2.0",
      "model_name": "LayoutModel",
      "state": {
       "height": "4%",
       "width": "100%"
      }
     },
     "cfd6782495044dc1bfb781f5abeda7ca": {
      "model_module": "@jupyter-widgets/base",
      "model_module_version": "1.2.0",
      "model_name": "LayoutModel",
      "state": {
       "height": "4%",
       "width": "100%"
      }
     },
     "cfea3d32f95a41c3b708e160001f88fa": {
      "model_module": "@jupyter-widgets/controls",
      "model_module_version": "1.5.0",
      "model_name": "DescriptionStyleModel",
      "state": {
       "description_width": ""
      }
     },
     "d076e877a470445da1697fe3db7fc45c": {
      "model_module": "@jupyter-widgets/controls",
      "model_module_version": "1.5.0",
      "model_name": "LinkModel",
      "state": {
       "source": [
        "IPY_MODEL_9a6265b9e4a1428da01e16153424e27a",
        "value"
       ],
       "target": [
        "IPY_MODEL_c8d1507a36af457c9499516f281466ea",
        "value"
       ]
      }
     },
     "d0d2dfcaf98746eeb4acc2b2fdc1e8a2": {
      "model_module": "@jupyter-widgets/controls",
      "model_module_version": "1.5.0",
      "model_name": "SliderStyleModel",
      "state": {
       "description_width": ""
      }
     },
     "d0d894b6504349bcbd523673ad5df9c4": {
      "model_module": "@jupyter-widgets/controls",
      "model_module_version": "1.5.0",
      "model_name": "DescriptionStyleModel",
      "state": {
       "description_width": ""
      }
     },
     "d114f207ae9e4f38972d5611c81b7446": {
      "model_module": "@jupyter-widgets/controls",
      "model_module_version": "1.5.0",
      "model_name": "DescriptionStyleModel",
      "state": {
       "description_width": ""
      }
     },
     "d1e26c0fbbce48e193be15b4a25e1bea": {
      "model_module": "@jupyter-widgets/base",
      "model_module_version": "1.2.0",
      "model_name": "LayoutModel",
      "state": {}
     },
     "d1e9102d7edb4405a021ee0c367cb454": {
      "model_module": "@jupyter-widgets/controls",
      "model_module_version": "1.5.0",
      "model_name": "DropdownModel",
      "state": {
       "_options_labels": [
        "Lax",
        "Felix",
        "Simon",
        "Nick",
        "Steve",
        "Jule",
        "Jakob",
        "Volker",
        "Kulti",
        "Marvman",
        "Elli",
        "Thomas",
        "Anna",
        "Reinhard"
       ],
       "description": "player1",
       "index": 0,
       "layout": "IPY_MODEL_4c33da91d83b4419b6fe8b9ef0077dd1",
       "style": "IPY_MODEL_872e5a0c64664dba9e32d2ce732c0553"
      }
     },
     "d214116ce972415881f1c2643259e9df": {
      "model_module": "@jupyter-widgets/controls",
      "model_module_version": "1.5.0",
      "model_name": "ComboboxModel",
      "state": {
       "description": "Second place: ",
       "ensure_option": false,
       "layout": "IPY_MODEL_74739146c6254f918cf0c094be84e00c",
       "options": [
        "Lax",
        "Felix",
        "Simon",
        "Nick",
        "Steve",
        "Jule",
        "Jakob",
        "Volker",
        "Kulti",
        "Marvman",
        "Elli",
        "Thomas",
        "Anna",
        "Reinhard"
       ],
       "placeholder": "Wähle Spieler",
       "style": "IPY_MODEL_bd3ddd306d784bc18384562e03de57ee"
      }
     },
     "d2744daf994e42d8918261536fb31a01": {
      "model_module": "@jupyter-widgets/base",
      "model_module_version": "1.2.0",
      "model_name": "LayoutModel",
      "state": {}
     },
     "d29ceb4019b64c89840423500376b2b0": {
      "model_module": "@jupyter-widgets/controls",
      "model_module_version": "1.5.0",
      "model_name": "IntTextModel",
      "state": {
       "description": "Punkte:",
       "layout": "IPY_MODEL_902223faed3347219f9458a2a6aedf5e",
       "step": 1,
       "style": "IPY_MODEL_cc752090e64848aab24f2b1e244030d4"
      }
     },
     "d2a6f4b181824f9a850f8b1d76a50220": {
      "model_module": "@jupyter-widgets/controls",
      "model_module_version": "1.5.0",
      "model_name": "IntTextModel",
      "state": {
       "description": "Punkte:",
       "layout": "IPY_MODEL_f95f5430b38044218cd15504a03744ae",
       "step": 1,
       "style": "IPY_MODEL_578b2b8b3beb479c98ae707200a9579e"
      }
     },
     "d3678d4275c043b5a700dbf50cd83247": {
      "model_module": "@jupyter-widgets/controls",
      "model_module_version": "1.5.0",
      "model_name": "ToggleButtonModel",
      "state": {
       "description": "Elli",
       "layout": "IPY_MODEL_ede37ff903db4c489fb6ab3f396a50bf",
       "style": "IPY_MODEL_a35164c51dac41738254b43dc25526a3",
       "value": true
      }
     },
     "d3745dc2be71460b91cbc4f4089f69b8": {
      "model_module": "@jupyter-widgets/controls",
      "model_module_version": "1.5.0",
      "model_name": "IntTextModel",
      "state": {
       "description": "Punkte:",
       "layout": "IPY_MODEL_7c714de5167849b99951c90e220fa58f",
       "step": 1,
       "style": "IPY_MODEL_241cede60ffb45ea9adc09e87c652cb4"
      }
     },
     "d3a34736860d4624926c5a230f0c94d0": {
      "model_module": "@jupyter-widgets/controls",
      "model_module_version": "1.5.0",
      "model_name": "LinkModel",
      "state": {
       "source": [
        "IPY_MODEL_9aed49347c614217bfa98ea3c5d8ad0a",
        "value"
       ],
       "target": [
        "IPY_MODEL_962656d040384e2fa83966ca7f8d9c56",
        "value"
       ]
      }
     },
     "d3d8f5e91fa343f6921745c9d0564db0": {
      "model_module": "@jupyter-widgets/base",
      "model_module_version": "1.2.0",
      "model_name": "LayoutModel",
      "state": {}
     },
     "d3de246f1b2a46a79c3f525a1dcf01c6": {
      "model_module": "@jupyter-widgets/controls",
      "model_module_version": "1.5.0",
      "model_name": "VBoxModel",
      "state": {
       "children": [
        "IPY_MODEL_56eef38d35b14e6d891f5279dd4972d2",
        "IPY_MODEL_4768058e214a406680b5f9bbed50a9d5"
       ],
       "layout": "IPY_MODEL_dc0fa7977dfc44619576517866ae23d0"
      }
     },
     "d3e3426a20e54b45949275d5780c6c4c": {
      "model_module": "@jupyter-widgets/controls",
      "model_module_version": "1.5.0",
      "model_name": "BoxModel",
      "state": {
       "children": [
        "IPY_MODEL_b262bbb7e90f4a8f8dacc7f9fd5ea625",
        "IPY_MODEL_a6bfdb26a82a4bc18451b86adf587cd1",
        "IPY_MODEL_3f0421da3249483f8582bfd65b1697df"
       ],
       "layout": "IPY_MODEL_d3d8f5e91fa343f6921745c9d0564db0"
      }
     },
     "d4c2ce667e664059947d71297ba0c4a8": {
      "model_module": "@jupyter-widgets/base",
      "model_module_version": "1.2.0",
      "model_name": "LayoutModel",
      "state": {}
     },
     "d4f09715970d47039ec3068da6293b19": {
      "model_module": "@jupyter-widgets/controls",
      "model_module_version": "1.5.0",
      "model_name": "ButtonStyleModel",
      "state": {}
     },
     "d524c202816d42fd9e0b17b220d7a675": {
      "model_module": "@jupyter-widgets/base",
      "model_module_version": "1.2.0",
      "model_name": "LayoutModel",
      "state": {}
     },
     "d536100c23e34bfea79dd94e282e5590": {
      "model_module": "@jupyter-widgets/base",
      "model_module_version": "1.2.0",
      "model_name": "LayoutModel",
      "state": {}
     },
     "d5570f06bf5e47e9bc998d10a80250bf": {
      "model_module": "@jupyter-widgets/base",
      "model_module_version": "1.2.0",
      "model_name": "LayoutModel",
      "state": {
       "width": "auto"
      }
     },
     "d605196f1154482e88be3e9ef06de20c": {
      "model_module": "@jupyter-widgets/controls",
      "model_module_version": "1.5.0",
      "model_name": "ToggleButtonModel",
      "state": {
       "description": "Normalize",
       "layout": "IPY_MODEL_a89855bc14b8465aa9fac251d8867b0e",
       "style": "IPY_MODEL_574200b3a9544aeaa8d0c4421e89074c",
       "value": true
      }
     },
     "d656e12d58134d65827420f95b2a5c94": {
      "model_module": "@jupyter-widgets/controls",
      "model_module_version": "1.5.0",
      "model_name": "DatePickerModel",
      "state": {
       "description": "Pick a Date",
       "disabled": false,
       "layout": "IPY_MODEL_fcc5434f9f104001b15fc1d1f1b831e1",
       "style": "IPY_MODEL_ba8f006cfba9462ca5d2f1e32318144e",
       "value": {
        "date": 11,
        "month": 0,
        "year": 2023
       }
      }
     },
     "d6fc178b5e4e4d638e9be849ccd4ef90": {
      "model_module": "@jupyter-widgets/controls",
      "model_module_version": "1.5.0",
      "model_name": "HBoxModel",
      "state": {
       "children": [
        "IPY_MODEL_5a4e0fecbcb64892b36487b4d9fb0e33",
        "IPY_MODEL_7cf4a986bfb94e23aa7b2364cc9579ce"
       ],
       "layout": "IPY_MODEL_ea738ec0df774669a9a0cc2ba02d37e1"
      }
     },
     "d705be6fbb0742efbf5ecabd3f9d68bc": {
      "model_module": "@jupyter-widgets/base",
      "model_module_version": "1.2.0",
      "model_name": "LayoutModel",
      "state": {}
     },
     "d72a935123064ecc8b6c42b010336ede": {
      "model_module": "@jupyter-widgets/controls",
      "model_module_version": "1.5.0",
      "model_name": "ComboboxModel",
      "state": {
       "description": "Konzern:",
       "ensure_option": false,
       "layout": "IPY_MODEL_1333ea07c4cc4409b87f77fea99a4948",
       "options": [
        "Ace",
        "Aphrodite",
        "Astrodrill",
        "Arcadian Communities",
        "Arklight",
        "Aridor",
        "Astro Alliance",
        "Celestic",
        "Cheung Shing Mars",
        "Credicor",
        "Ecoline",
        "Factorum",
        "Fractal",
        "Helion",
        "Interplanetare Filmgesellschaft",
        "Inventrix",
        "Lakefront Resorts",
        "Manutec",
        "Marsanto",
        "Mining Guild",
        "Mons Insurance",
        "Morning Star Inc.",
        "Pharmacy Union",
        "Philares",
        "PhoboLog",
        "Point Luna",
        "Polyphemos",
        "Poseidon",
        "Pristar",
        "Recylon",
        "Republik Tharsis",
        "Robinson Industries",
        "Satrun Systems",
        "Septem Tribus",
        "Splice",
        "Stormcraft",
        "Teractor",
        "Terralabs",
        "Thermex",
        "Thorgate",
        "Tycho",
        "United Nations Mars Initiative",
        "Utopia Invest",
        "Valles Trust",
        "Viron",
        "Vitor"
       ],
       "placeholder": "-",
       "style": "IPY_MODEL_0f37d6b6779a4bd78fb3a7b9ca0d909a"
      }
     },
     "d73fc9f7daad4b6abc5871a91cb70874": {
      "model_module": "@jupyter-widgets/base",
      "model_module_version": "1.2.0",
      "model_name": "LayoutModel",
      "state": {}
     },
     "d762f63dda1d47df9b92e3cc1289ca6e": {
      "model_module": "@jupyter-widgets/base",
      "model_module_version": "1.2.0",
      "model_name": "LayoutModel",
      "state": {
       "width": "70%"
      }
     },
     "d7f59861c4fd45bfb12ab992f289d4c5": {
      "model_module": "@jupyter-widgets/controls",
      "model_module_version": "1.5.0",
      "model_name": "LinkModel",
      "state": {
       "source": [
        "IPY_MODEL_56eef38d35b14e6d891f5279dd4972d2",
        "value"
       ],
       "target": [
        "IPY_MODEL_4768058e214a406680b5f9bbed50a9d5",
        "value"
       ]
      }
     },
     "d87daf25890d4e0eada6ed9c3b7caf19": {
      "model_module": "@jupyter-widgets/base",
      "model_module_version": "1.2.0",
      "model_name": "LayoutModel",
      "state": {}
     },
     "d942d0666ef842089905a98c350ec530": {
      "model_module": "@jupyter-widgets/controls",
      "model_module_version": "1.5.0",
      "model_name": "DescriptionStyleModel",
      "state": {
       "description_width": ""
      }
     },
     "d9995d4dce4a492586ec029a09b09705": {
      "model_module": "@jupyter-widgets/base",
      "model_module_version": "1.2.0",
      "model_name": "LayoutModel",
      "state": {
       "height": "4%",
       "width": "100%"
      }
     },
     "d9c574ef8f964163bb57c3878cdc1da8": {
      "model_module": "@jupyter-widgets/base",
      "model_module_version": "1.2.0",
      "model_name": "LayoutModel",
      "state": {}
     },
     "d9cdc5b428e548fb9cc8af98abe3489c": {
      "model_module": "@jupyter-widgets/base",
      "model_module_version": "1.2.0",
      "model_name": "LayoutModel",
      "state": {}
     },
     "d9fc092ac3a04538840002addc74461d": {
      "model_module": "@jupyter-widgets/controls",
      "model_module_version": "1.5.0",
      "model_name": "SliderStyleModel",
      "state": {
       "description_width": ""
      }
     },
     "da5581b80b6249e28538a385e49f706e": {
      "model_module": "@jupyter-widgets/controls",
      "model_module_version": "1.5.0",
      "model_name": "VBoxModel",
      "state": {
       "children": [
        "IPY_MODEL_93d4ebbd656349d4a6584bec7bfc9778",
        "IPY_MODEL_b14186c01e4c4a94b9959211271735a2"
       ],
       "layout": "IPY_MODEL_4ea0b7ca1940437aa3e7a7bf37dafdb1"
      }
     },
     "daa2c34e34044d2bbca8b97682e02297": {
      "model_module": "@jupyter-widgets/controls",
      "model_module_version": "1.5.0",
      "model_name": "IntTextModel",
      "state": {
       "description": "Punkte:",
       "layout": "IPY_MODEL_4e4adbcc876947f7b55ebc61b6f0a801",
       "step": 1,
       "style": "IPY_MODEL_13d732b6bde94a1b8e3f205684985cca"
      }
     },
     "daacb767a5054cd1bc1a2940234684be": {
      "model_module": "@jupyter-widgets/base",
      "model_module_version": "1.2.0",
      "model_name": "LayoutModel",
      "state": {}
     },
     "dab07b1106144d3699a5851094dc5147": {
      "model_module": "@jupyter-widgets/base",
      "model_module_version": "1.2.0",
      "model_name": "LayoutModel",
      "state": {
       "align_items": "flex-end"
      }
     },
     "dad2953d9ba94b19b2934160208be7c1": {
      "model_module": "@jupyter-widgets/controls",
      "model_module_version": "1.5.0",
      "model_name": "DescriptionStyleModel",
      "state": {
       "description_width": ""
      }
     },
     "db08620c2eab4e00a96051bcfafcdb7c": {
      "model_module": "@jupyter-widgets/controls",
      "model_module_version": "1.5.0",
      "model_name": "BoxModel",
      "state": {
       "children": [
        "IPY_MODEL_8dfd709efa8e4926b574a924d00c0c9a",
        "IPY_MODEL_83ebfdae600b429db051908f21b1e4d3",
        "IPY_MODEL_9cd6b0f809a14b7385fc4328c7326a3e"
       ],
       "layout": "IPY_MODEL_62fb0dc48d374cf79f9bd3f2bcf7e97b"
      }
     },
     "db115f526f614354b648c2381e2c0d25": {
      "model_module": "@jupyter-widgets/base",
      "model_module_version": "1.2.0",
      "model_name": "LayoutModel",
      "state": {}
     },
     "db8fd458b6d640bea29019ac45da1077": {
      "model_module": "@jupyter-widgets/controls",
      "model_module_version": "1.5.0",
      "model_name": "ToggleButtonModel",
      "state": {
       "description": "Volker",
       "layout": "IPY_MODEL_d9995d4dce4a492586ec029a09b09705",
       "style": "IPY_MODEL_943b6a0c329f4f95a9e6077f03cfe28b"
      }
     },
     "dbcb33e47ca1415881bda4c6d7307cc8": {
      "model_module": "@jupyter-widgets/base",
      "model_module_version": "1.2.0",
      "model_name": "LayoutModel",
      "state": {}
     },
     "dc0fa7977dfc44619576517866ae23d0": {
      "model_module": "@jupyter-widgets/base",
      "model_module_version": "1.2.0",
      "model_name": "LayoutModel",
      "state": {
       "align_items": "flex-end"
      }
     },
     "dc37479f1d6b410b9da64bd5496ba707": {
      "model_module": "@jupyter-widgets/controls",
      "model_module_version": "1.5.0",
      "model_name": "LinkModel",
      "state": {
       "source": [
        "IPY_MODEL_1958508df3714bf5b4ecbfb659bbcbb4",
        "value"
       ],
       "target": [
        "IPY_MODEL_4a9abc14327942329f2a22d8d5762017",
        "value"
       ]
      }
     },
     "dc8bc8a5ee78420896456ecc7e626f43": {
      "model_module": "@jupyter-widgets/controls",
      "model_module_version": "1.5.0",
      "model_name": "DescriptionStyleModel",
      "state": {
       "description_width": ""
      }
     },
     "dcc6399b4ef5497a9002b57853ad12c1": {
      "model_module": "@jupyter-widgets/base",
      "model_module_version": "1.2.0",
      "model_name": "LayoutModel",
      "state": {}
     },
     "dd45fd6cf29e4f1d850060791212d221": {
      "model_module": "@jupyter-widgets/controls",
      "model_module_version": "1.5.0",
      "model_name": "DescriptionStyleModel",
      "state": {
       "description_width": ""
      }
     },
     "dd9ad23c5f1b4a709f25b38552c52cf8": {
      "model_module": "@jupyter-widgets/controls",
      "model_module_version": "1.5.0",
      "model_name": "ButtonModel",
      "state": {
       "description": "Submitted",
       "icon": "success",
       "layout": "IPY_MODEL_e60759c7bb774ebeb6592326698b27d9",
       "style": "IPY_MODEL_5433436398534d749eb33a237269a745"
      }
     },
     "de646752af78435a846fa6651d6bdb8c": {
      "model_module": "@jupyter-widgets/controls",
      "model_module_version": "1.5.0",
      "model_name": "SliderStyleModel",
      "state": {
       "description_width": ""
      }
     },
     "de8ca48cac3940c098799b82c5e92cac": {
      "model_module": "@jupyter-widgets/controls",
      "model_module_version": "1.5.0",
      "model_name": "VBoxModel",
      "state": {
       "children": [
        "IPY_MODEL_ad3cc82383044f6ab17b382707d77f0e",
        "IPY_MODEL_0505ca3b81b54e41a4903d3191e9e4cb"
       ],
       "layout": "IPY_MODEL_0e0ae1034a724253aec25b4fb2012b88"
      }
     },
     "deeb3cc33f624667b2fd7874ec0fd7d7": {
      "model_module": "@jupyter-widgets/controls",
      "model_module_version": "1.5.0",
      "model_name": "ButtonStyleModel",
      "state": {}
     },
     "df41d88518104dc296f96752469bf843": {
      "model_module": "@jupyter-widgets/controls",
      "model_module_version": "1.5.0",
      "model_name": "DescriptionStyleModel",
      "state": {
       "description_width": ""
      }
     },
     "df6cecdaeeee42869d71fa6b53da8417": {
      "model_module": "@jupyter-widgets/base",
      "model_module_version": "1.2.0",
      "model_name": "LayoutModel",
      "state": {}
     },
     "df9d59415cb147a38081497301729e04": {
      "model_module": "@jupyter-widgets/controls",
      "model_module_version": "1.5.0",
      "model_name": "SliderStyleModel",
      "state": {
       "description_width": ""
      }
     },
     "dfad3b9b70ca4685a877fe983fb89415": {
      "model_module": "@jupyter-widgets/base",
      "model_module_version": "1.2.0",
      "model_name": "LayoutModel",
      "state": {
       "height": "4%",
       "width": "100%"
      }
     },
     "dfb266ec3e43496fb6cad68126ce7ad6": {
      "model_module": "@jupyter-widgets/controls",
      "model_module_version": "1.5.0",
      "model_name": "SliderStyleModel",
      "state": {
       "description_width": ""
      }
     },
     "e00ed5da0e244207b9240de5c7badf64": {
      "model_module": "@jupyter-widgets/controls",
      "model_module_version": "1.5.0",
      "model_name": "ComboboxModel",
      "state": {
       "description": "Konzern:",
       "ensure_option": false,
       "layout": "IPY_MODEL_53ac3f6d3e634acfafea7ec7827ff87e",
       "options": [
        "Ace",
        "Aphrodite",
        "Astrodrill",
        "Arcadian Communities",
        "Arklight",
        "Aridor",
        "Astro Alliance",
        "Celestic",
        "Cheung Shing Mars",
        "Credicor",
        "Ecoline",
        "Factorum",
        "Fractal",
        "Helion",
        "Interplanetare Filmgesellschaft",
        "Inventrix",
        "Lakefront Resorts",
        "Manutec",
        "Marsanto",
        "Mining Guild",
        "Mons Insurance",
        "Morning Star Inc.",
        "Pharmacy Union",
        "Philares",
        "PhoboLog",
        "Point Luna",
        "Polyphemos",
        "Poseidon",
        "Pristar",
        "Recylon",
        "Republik Tharsis",
        "Robinson Industries",
        "Satrun Systems",
        "Septem Tribus",
        "Splice",
        "Stormcraft",
        "Teractor",
        "Terralabs",
        "Thermex",
        "Thorgate",
        "Tycho",
        "United Nations Mars Initiative",
        "Utopia Invest",
        "Valles Trust",
        "Viron",
        "Vitor"
       ],
       "placeholder": "-",
       "style": "IPY_MODEL_43ec653890474b84bf803093fac9d5b8"
      }
     },
     "e01f8767f09b4f4ab237cf100968e5c4": {
      "model_module": "@jupyter-widgets/controls",
      "model_module_version": "1.5.0",
      "model_name": "IntTextModel",
      "state": {
       "description": "Punkte:",
       "layout": "IPY_MODEL_c6545fc82f834477b936af93f8dc0b39",
       "step": 1,
       "style": "IPY_MODEL_8ae23178162d4736819c8f81f47976d4"
      }
     },
     "e15ed323d76140aca794ba8e81b7e8f3": {
      "model_module": "@jupyter-widgets/controls",
      "model_module_version": "1.5.0",
      "model_name": "BoxModel",
      "state": {
       "children": [
        "IPY_MODEL_e4447a8553484196824a315c6dc16414",
        "IPY_MODEL_c170469480e04344803a5127d11a0ff8",
        "IPY_MODEL_116239fdecbc4a4b971c199b1d972e27"
       ],
       "layout": "IPY_MODEL_a5b2e02fdaef459f8c599af9f9b9664a"
      }
     },
     "e1a80941e11a4e6e91d5f5c004afd059": {
      "model_module": "@jupyter-widgets/controls",
      "model_module_version": "1.5.0",
      "model_name": "ComboboxModel",
      "state": {
       "description": "Konzern:",
       "ensure_option": false,
       "layout": "IPY_MODEL_5dded353723445288b7ea66e85c629f3",
       "options": [
        "Ace",
        "Aphrodite",
        "Astrodrill",
        "Arcadian Communities",
        "Arklight",
        "Aridor",
        "Astro Alliance",
        "Celestic",
        "Cheung Shing Mars",
        "Credicor",
        "Ecoline",
        "Factorum",
        "Fractal",
        "Helion",
        "Interplanetare Filmgesellschaft",
        "Inventrix",
        "Lakefront Resorts",
        "Manutec",
        "Marsanto",
        "Mining Guild",
        "Mons Insurance",
        "Morning Star Inc.",
        "Pharmacy Union",
        "Philares",
        "PhoboLog",
        "Point Luna",
        "Polyphemos",
        "Poseidon",
        "Pristar",
        "Recylon",
        "Republik Tharsis",
        "Robinson Industries",
        "Satrun Systems",
        "Septem Tribus",
        "Splice",
        "Stormcraft",
        "Teractor",
        "Terralabs",
        "Thermex",
        "Thorgate",
        "Tycho",
        "United Nations Mars Initiative",
        "Utopia Invest",
        "Valles Trust",
        "Viron",
        "Vitor"
       ],
       "placeholder": "-",
       "style": "IPY_MODEL_857d151531b24ff4adf0edc09c40208e"
      }
     },
     "e1d21a3fb7494e1f983d3c376f909349": {
      "model_module": "@jupyter-widgets/controls",
      "model_module_version": "1.5.0",
      "model_name": "DescriptionStyleModel",
      "state": {
       "description_width": ""
      }
     },
     "e265ea71168b4fe2b8df625a66e36d58": {
      "model_module": "@jupyter-widgets/controls",
      "model_module_version": "1.5.0",
      "model_name": "LinkModel",
      "state": {
       "source": [
        "IPY_MODEL_41ab95f75fc34b41b0fb5946b4e17b27",
        "value"
       ],
       "target": [
        "IPY_MODEL_837761e27a2b4f00985e728814cc6428",
        "value"
       ]
      }
     },
     "e2c93b98d0ad4a4b81d575e12e6ffb96": {
      "model_module": "@jupyter-widgets/controls",
      "model_module_version": "1.5.0",
      "model_name": "DescriptionStyleModel",
      "state": {
       "description_width": ""
      }
     },
     "e2cbb6866b324245afcd17cf182fdecd": {
      "model_module": "@jupyter-widgets/base",
      "model_module_version": "1.2.0",
      "model_name": "LayoutModel",
      "state": {}
     },
     "e3406294327a4008898c526aa6d54ca8": {
      "model_module": "@jupyter-widgets/base",
      "model_module_version": "1.2.0",
      "model_name": "LayoutModel",
      "state": {}
     },
     "e344d62643a042b7aa4b823a8bdf5662": {
      "model_module": "@jupyter-widgets/controls",
      "model_module_version": "1.5.0",
      "model_name": "DescriptionStyleModel",
      "state": {
       "description_width": ""
      }
     },
     "e3695264b15b4774838ed30673ddc3e1": {
      "model_module": "@jupyter-widgets/controls",
      "model_module_version": "1.5.0",
      "model_name": "DescriptionStyleModel",
      "state": {
       "description_width": ""
      }
     },
     "e3757f3ea55e4940993479bc321f43b6": {
      "model_module": "@jupyter-widgets/controls",
      "model_module_version": "1.5.0",
      "model_name": "DescriptionStyleModel",
      "state": {
       "description_width": ""
      }
     },
     "e3820033663944a08d7b91637c018b31": {
      "model_module": "@jupyter-widgets/base",
      "model_module_version": "1.2.0",
      "model_name": "LayoutModel",
      "state": {
       "width": "auto"
      }
     },
     "e3b4c859e384428fab6797cd852ee682": {
      "model_module": "@jupyter-widgets/base",
      "model_module_version": "1.2.0",
      "model_name": "LayoutModel",
      "state": {}
     },
     "e3c4a6589ce64d59947a3bf109c4382b": {
      "model_module": "@jupyter-widgets/controls",
      "model_module_version": "1.5.0",
      "model_name": "SliderStyleModel",
      "state": {
       "description_width": ""
      }
     },
     "e3d92aac27664531bd835d00992b60f9": {
      "model_module": "@jupyter-widgets/controls",
      "model_module_version": "1.5.0",
      "model_name": "BoxModel",
      "state": {
       "children": [
        "IPY_MODEL_95d67fb50ad44efe9e16d84e347c94c8",
        "IPY_MODEL_fdb677299fe3445f8d4b134f325434ca",
        "IPY_MODEL_849d42456adf45358c32c88c9113595c"
       ],
       "layout": "IPY_MODEL_82acb99aa3d54e92b8102aad3828e8bb"
      }
     },
     "e4370999ed1041a994dbe64290c7b57b": {
      "model_module": "@jupyter-widgets/controls",
      "model_module_version": "1.5.0",
      "model_name": "VBoxModel",
      "state": {
       "_dom_classes": [
        "widget-interact"
       ],
       "children": [
        "IPY_MODEL_8da8404baf794977bdf89ee4ff60a579",
        "IPY_MODEL_acd8fa27d3a4497fa7d0985f30fe9f6e",
        "IPY_MODEL_3c4ba9c8ad4042ee840b7a72e47092d1"
       ],
       "layout": "IPY_MODEL_48cec7d56a294879ab9238133e9690e2"
      }
     },
     "e4447a8553484196824a315c6dc16414": {
      "model_module": "@jupyter-widgets/controls",
      "model_module_version": "1.5.0",
      "model_name": "ComboboxModel",
      "state": {
       "description": "Second place: ",
       "ensure_option": false,
       "layout": "IPY_MODEL_0611f0d609dc4c95a07366d193d573d5",
       "options": [
        "Lax",
        "Felix",
        "Simon",
        "Nick",
        "Steve",
        "Jule",
        "Jakob",
        "Volker",
        "Kulti",
        "Marvman",
        "Elli",
        "Thomas",
        "Anna",
        "Reinhard"
       ],
       "placeholder": "Wähle Spieler",
       "style": "IPY_MODEL_1e7e38f65d684fb6bd3488d8834f2cef"
      }
     },
     "e4497e0988ab4237a98e53588feb2571": {
      "model_module": "@jupyter-widgets/controls",
      "model_module_version": "1.5.0",
      "model_name": "ComboboxModel",
      "state": {
       "description": "Fifth place: ",
       "ensure_option": false,
       "layout": "IPY_MODEL_4b3473d47d6947a698a080df63e30318",
       "options": [
        "Lax",
        "Felix",
        "Simon",
        "Nick",
        "Steve",
        "Jule",
        "Jakob",
        "Volker",
        "Kulti",
        "Marvman",
        "Elli",
        "Thomas",
        "Anna",
        "Reinhard"
       ],
       "placeholder": "Wähle Spieler",
       "style": "IPY_MODEL_e1d21a3fb7494e1f983d3c376f909349"
      }
     },
     "e4c0d342059d4d02826f18334363d823": {
      "model_module": "@jupyter-widgets/base",
      "model_module_version": "1.2.0",
      "model_name": "LayoutModel",
      "state": {}
     },
     "e4ce5ec5f51549449c13ab4a75f4e6cd": {
      "model_module": "@jupyter-widgets/controls",
      "model_module_version": "1.5.0",
      "model_name": "BoxModel",
      "state": {
       "children": [
        "IPY_MODEL_1cb602d2af8d48be83370fc33aedf100",
        "IPY_MODEL_ca49467bc0d84189b2c137dd23986314",
        "IPY_MODEL_352b64152f274788a6dc4c9f0a49c17c",
        "IPY_MODEL_7292d80f963c494f948b69eee1bde071",
        "IPY_MODEL_0a83787c5ba3482496cedee536e47ae3"
       ],
       "layout": "IPY_MODEL_6f154160db6c4279a732a6f26e4c39f0"
      }
     },
     "e4d265ac715645f9ac8a55eae323397c": {
      "model_module": "@jupyter-widgets/controls",
      "model_module_version": "1.5.0",
      "model_name": "ToggleButtonModel",
      "state": {
       "description": "Lax",
       "layout": "IPY_MODEL_0a9f08646cc2440aa45d61f9c2d3ddfc",
       "style": "IPY_MODEL_a87be2cf6f3a47f2a4a302fe7384cdda"
      }
     },
     "e4dfdd9c882e4ed3b5f7a1c7f476b1c6": {
      "model_module": "@jupyter-widgets/controls",
      "model_module_version": "1.5.0",
      "model_name": "ComboboxModel",
      "state": {
       "description": "Third place: ",
       "ensure_option": false,
       "layout": "IPY_MODEL_52f1948b5a99457098903c1036b2b468",
       "options": [
        "Lax",
        "Felix",
        "Simon",
        "Nick",
        "Steve",
        "Jule",
        "Jakob",
        "Volker",
        "Kulti",
        "Marvman",
        "Elli",
        "Thomas",
        "Anna",
        "Reinhard"
       ],
       "placeholder": "Wähle Spieler",
       "style": "IPY_MODEL_59fb037b4bcd478f9f37c3fa9e86e3ca"
      }
     },
     "e4f892c4bee44910ab51fd6911964165": {
      "model_module": "@jupyter-widgets/controls",
      "model_module_version": "1.5.0",
      "model_name": "DatePickerModel",
      "state": {
       "description": "Wann wurde gespielt?",
       "disabled": false,
       "layout": "IPY_MODEL_4f398d0ae50242eb851d1202d143cc8a",
       "style": "IPY_MODEL_47863a6567c54c7a935b83743156367c"
      }
     },
     "e54c7d9d889c42b28ddecfa0cf79fb58": {
      "model_module": "@jupyter-widgets/base",
      "model_module_version": "1.2.0",
      "model_name": "LayoutModel",
      "state": {}
     },
     "e5641c70f52c4919b1754055f978b1a6": {
      "model_module": "@jupyter-widgets/controls",
      "model_module_version": "1.5.0",
      "model_name": "DescriptionStyleModel",
      "state": {
       "description_width": ""
      }
     },
     "e572be47a4f74243953cfcdb9db3eb96": {
      "model_module": "@jupyter-widgets/controls",
      "model_module_version": "1.5.0",
      "model_name": "ComboboxModel",
      "state": {
       "description": "First place: ",
       "ensure_option": false,
       "layout": "IPY_MODEL_59ec7edd1dd1454ba84adf2efec3b59f",
       "options": [
        "Lax",
        "Felix",
        "Simon",
        "Nick",
        "Steve",
        "Jule",
        "Jakob",
        "Volker",
        "Kulti",
        "Marvman",
        "Elli",
        "Thomas",
        "Anna",
        "Reinhard"
       ],
       "placeholder": "Wähle Spieler",
       "style": "IPY_MODEL_1ae3cd7730d24afda02d8c432c81f1b7"
      }
     },
     "e5795208005e4e0e9d5b9ec53e2ca287": {
      "model_module": "@jupyter-widgets/base",
      "model_module_version": "1.2.0",
      "model_name": "LayoutModel",
      "state": {}
     },
     "e5fa0da5a326441898a957f1f16a12ec": {
      "model_module": "@jupyter-widgets/controls",
      "model_module_version": "1.5.0",
      "model_name": "DescriptionStyleModel",
      "state": {
       "description_width": ""
      }
     },
     "e5fc3433c9ab4a429c5fae5531e37325": {
      "model_module": "@jupyter-widgets/controls",
      "model_module_version": "1.5.0",
      "model_name": "IntSliderModel",
      "state": {
       "layout": "IPY_MODEL_f45086891a2d4ac69f85babc8eac7510",
       "max": 200,
       "readout": false,
       "style": "IPY_MODEL_5c0e25aec9e94efc85a8f5022bd990d8"
      }
     },
     "e606231048214d9ca1e4f280d3fa3ab4": {
      "model_module": "@jupyter-widgets/controls",
      "model_module_version": "1.5.0",
      "model_name": "DatePickerModel",
      "state": {
       "description": "Wann wurde gespielt?",
       "disabled": false,
       "layout": "IPY_MODEL_428858c481cd49eb9cded624710c988b",
       "style": "IPY_MODEL_2e7ca0fcd1774f7ebf413ed65e66c5a1"
      }
     },
     "e60759c7bb774ebeb6592326698b27d9": {
      "model_module": "@jupyter-widgets/base",
      "model_module_version": "1.2.0",
      "model_name": "LayoutModel",
      "state": {}
     },
     "e615e3d575d14dc3b1679e30711f9bef": {
      "model_module": "@jupyter-widgets/base",
      "model_module_version": "1.2.0",
      "model_name": "LayoutModel",
      "state": {}
     },
     "e61bcf1a3f5a48159e63c72178caccb1": {
      "model_module": "@jupyter-widgets/controls",
      "model_module_version": "1.5.0",
      "model_name": "IntSliderModel",
      "state": {
       "layout": "IPY_MODEL_d762f63dda1d47df9b92e3cc1289ca6e",
       "max": 200,
       "readout": false,
       "style": "IPY_MODEL_88124f3d3d814a91a6b9b96e66eb8636"
      }
     },
     "e657c1205b574c4499456febe0a57a30": {
      "model_module": "@jupyter-widgets/controls",
      "model_module_version": "1.5.0",
      "model_name": "CheckboxModel",
      "state": {
       "description": "Prelude",
       "disabled": false,
       "layout": "IPY_MODEL_cb19b49a8990497bb594a9bded53e9d1",
       "style": "IPY_MODEL_5962dedf1465484d9e84905e3387cddc",
       "value": true
      }
     },
     "e666e6cb77724943b0675670ee34c37b": {
      "model_module": "@jupyter-widgets/controls",
      "model_module_version": "1.5.0",
      "model_name": "LinkModel",
      "state": {
       "source": [
        "IPY_MODEL_5c169f32c8aa476dac09e618504fcaaa",
        "value"
       ],
       "target": [
        "IPY_MODEL_925937438dca48cab56888664007abac",
        "value"
       ]
      }
     },
     "e715ce455ae24b1f920686506215475e": {
      "model_module": "@jupyter-widgets/base",
      "model_module_version": "1.2.0",
      "model_name": "LayoutModel",
      "state": {}
     },
     "e7b07fa28419428fb03a3f89979cad96": {
      "model_module": "@jupyter-widgets/controls",
      "model_module_version": "1.5.0",
      "model_name": "DescriptionStyleModel",
      "state": {
       "description_width": ""
      }
     },
     "e8061ec404dc41b5b2dfe1af758832d9": {
      "model_module": "@jupyter-widgets/base",
      "model_module_version": "1.2.0",
      "model_name": "LayoutModel",
      "state": {}
     },
     "e846ab75d00741b8b5fbd327069fa5a6": {
      "model_module": "@jupyter-widgets/controls",
      "model_module_version": "1.5.0",
      "model_name": "IntSliderModel",
      "state": {
       "layout": "IPY_MODEL_51e32170959c481aa81db97ee3d462cb",
       "max": 200,
       "readout": false,
       "style": "IPY_MODEL_e3c4a6589ce64d59947a3bf109c4382b"
      }
     },
     "e854da097e8e4820908fc447c3f83e1c": {
      "model_module": "@jupyter-widgets/controls",
      "model_module_version": "1.5.0",
      "model_name": "DescriptionStyleModel",
      "state": {
       "description_width": ""
      }
     },
     "e89af333e52a4f67a52ac59f4c613a83": {
      "model_module": "@jupyter-widgets/controls",
      "model_module_version": "1.5.0",
      "model_name": "ToggleButtonModel",
      "state": {
       "description": "Nick",
       "layout": "IPY_MODEL_cfd6782495044dc1bfb781f5abeda7ca",
       "style": "IPY_MODEL_f2c0d228dee84e3fa8f486c8e5e2561a"
      }
     },
     "e8a04e2e148943a58807fb7e89ee2ec4": {
      "model_module": "@jupyter-widgets/base",
      "model_module_version": "1.2.0",
      "model_name": "LayoutModel",
      "state": {}
     },
     "e90a23f112e844dfa922ed2e8f7b760d": {
      "model_module": "@jupyter-widgets/controls",
      "model_module_version": "1.5.0",
      "model_name": "CheckboxModel",
      "state": {
       "description": "Venus",
       "disabled": false,
       "layout": "IPY_MODEL_9f9fb9582bad413f8e7d2ff262f8bf2a",
       "style": "IPY_MODEL_685e76b89e5947c7bd4f14dfa8e7c174",
       "value": true
      }
     },
     "e96b639cfc49460daf3634b57e401876": {
      "model_module": "@jupyter-widgets/controls",
      "model_module_version": "1.5.0",
      "model_name": "CheckboxModel",
      "state": {
       "description": "Prelude",
       "disabled": false,
       "layout": "IPY_MODEL_bc78ec2502934fea9bbb59b4d00a09f1",
       "style": "IPY_MODEL_14d64fcfe01645c6b28d44a2c484cda3",
       "value": true
      }
     },
     "e9c5e664b466491fbb9c93c70f7c43c0": {
      "model_module": "@jupyter-widgets/controls",
      "model_module_version": "1.5.0",
      "model_name": "BoxModel",
      "state": {
       "children": [
        "IPY_MODEL_e4dfdd9c882e4ed3b5f7a1c7f476b1c6",
        "IPY_MODEL_16d41ca1092d4f76b8e19e8ab0590301",
        "IPY_MODEL_104994fea627486cb666aa807ae3ed70"
       ],
       "layout": "IPY_MODEL_e54c7d9d889c42b28ddecfa0cf79fb58"
      }
     },
     "e9c9ca958edd400ab2090c420f40a1b0": {
      "model_module": "@jupyter-widgets/base",
      "model_module_version": "1.2.0",
      "model_name": "LayoutModel",
      "state": {}
     },
     "ea5fdefb263b4210b205f6fd50b4c559": {
      "model_module": "@jupyter-widgets/base",
      "model_module_version": "1.2.0",
      "model_name": "LayoutModel",
      "state": {}
     },
     "ea738ec0df774669a9a0cc2ba02d37e1": {
      "model_module": "@jupyter-widgets/base",
      "model_module_version": "1.2.0",
      "model_name": "LayoutModel",
      "state": {}
     },
     "eae93b0467aa4bb0ab7154130d508005": {
      "model_module": "@jupyter-widgets/controls",
      "model_module_version": "1.5.0",
      "model_name": "DescriptionStyleModel",
      "state": {
       "description_width": ""
      }
     },
     "eb04f7bd7c51481fbdb79e876c37cd66": {
      "model_module": "@jupyter-widgets/base",
      "model_module_version": "1.2.0",
      "model_name": "LayoutModel",
      "state": {
       "align_items": "flex-end"
      }
     },
     "eb1b31c78ae84711a931cb2851489aaf": {
      "model_module": "@jupyter-widgets/controls",
      "model_module_version": "1.5.0",
      "model_name": "BoxModel",
      "state": {
       "children": [
        "IPY_MODEL_a7e65cdd01be4565b855f6c24d4e2e43",
        "IPY_MODEL_7a4ba6aefa9b4035a1455e8f90336f75",
        "IPY_MODEL_424ff781d6604a009ebafbac84b3a42a"
       ],
       "layout": "IPY_MODEL_90806234f655444898dc4c976098981b"
      }
     },
     "ec1065e9fec447ee8c385864e0c8fa7a": {
      "model_module": "@jupyter-widgets/controls",
      "model_module_version": "1.5.0",
      "model_name": "IntSliderModel",
      "state": {
       "layout": "IPY_MODEL_b4559c175b994d8eb50b2b40a24f5804",
       "max": 200,
       "readout": false,
       "style": "IPY_MODEL_1374ab30122748189d8bf11dd9692d25"
      }
     },
     "ec1457dcc58a4ff693de840861a98f5a": {
      "model_module": "@jupyter-widgets/controls",
      "model_module_version": "1.5.0",
      "model_name": "SliderStyleModel",
      "state": {
       "description_width": ""
      }
     },
     "ec6750f0e8c8431db8546cfb43d58008": {
      "model_module": "@jupyter-widgets/base",
      "model_module_version": "1.2.0",
      "model_name": "LayoutModel",
      "state": {
       "width": "70%"
      }
     },
     "ec7e9b90701d4da581aea7df90715e87": {
      "model_module": "@jupyter-widgets/base",
      "model_module_version": "1.2.0",
      "model_name": "LayoutModel",
      "state": {
       "width": "70%"
      }
     },
     "ecb82ff2fc1b425da902cb876e5e91b5": {
      "model_module": "@jupyter-widgets/controls",
      "model_module_version": "1.5.0",
      "model_name": "IntTextModel",
      "state": {
       "description": "Punkte:",
       "layout": "IPY_MODEL_31f16756992545a586473f0ae1526cb4",
       "step": 1,
       "style": "IPY_MODEL_e344d62643a042b7aa4b823a8bdf5662"
      }
     },
     "edc8ce8f59c74528b3ce27b143093f72": {
      "model_module": "@jupyter-widgets/base",
      "model_module_version": "1.2.0",
      "model_name": "LayoutModel",
      "state": {}
     },
     "edce9cbf81f54eeca7a8ed6e547c7ea6": {
      "model_module": "@jupyter-widgets/base",
      "model_module_version": "1.2.0",
      "model_name": "LayoutModel",
      "state": {}
     },
     "ede37ff903db4c489fb6ab3f396a50bf": {
      "model_module": "@jupyter-widgets/base",
      "model_module_version": "1.2.0",
      "model_name": "LayoutModel",
      "state": {
       "height": "4%",
       "width": "100%"
      }
     },
     "ee0708fcffa3445e91cfd706da9c340b": {
      "model_module": "@jupyter-widgets/base",
      "model_module_version": "1.2.0",
      "model_name": "LayoutModel",
      "state": {}
     },
     "ee568a45db48418c91d9a3f70016c567": {
      "model_module": "@jupyter-widgets/base",
      "model_module_version": "1.2.0",
      "model_name": "LayoutModel",
      "state": {}
     },
     "ee6f0f7437c843599d870d793c4089d3": {
      "model_module": "@jupyter-widgets/base",
      "model_module_version": "1.2.0",
      "model_name": "LayoutModel",
      "state": {}
     },
     "eeba26badd7c4003b71d0093469d4945": {
      "model_module": "@jupyter-widgets/controls",
      "model_module_version": "1.5.0",
      "model_name": "DescriptionStyleModel",
      "state": {
       "description_width": ""
      }
     },
     "eec0f097835d431da9a6c8b110729696": {
      "model_module": "@jupyter-widgets/controls",
      "model_module_version": "1.5.0",
      "model_name": "SliderStyleModel",
      "state": {
       "description_width": ""
      }
     },
     "ef31f463c30048aba1a67f866dccf52d": {
      "model_module": "@jupyter-widgets/controls",
      "model_module_version": "1.5.0",
      "model_name": "ToggleButtonModel",
      "state": {
       "description": "Jule",
       "layout": "IPY_MODEL_a35b982f7b8945d98abb4b7e07858567",
       "style": "IPY_MODEL_6b66f8b490e745a595c034df029c11c2",
       "value": true
      }
     },
     "ef65127cffc94ccfa6ae09ca48929680": {
      "model_module": "@jupyter-widgets/controls",
      "model_module_version": "1.5.0",
      "model_name": "DescriptionStyleModel",
      "state": {
       "description_width": ""
      }
     },
     "f02ad5311d364b00bd8a65b8ec1d4292": {
      "model_module": "@jupyter-widgets/controls",
      "model_module_version": "1.5.0",
      "model_name": "VBoxModel",
      "state": {
       "children": [
        "IPY_MODEL_0b7561d033a347a6af4ebda7988dc973",
        "IPY_MODEL_02dd58c531594f09b1800141ec149ba3"
       ],
       "layout": "IPY_MODEL_b97e1a53d14641d9aa112f09fe198050"
      }
     },
     "f08b99cca0f840dba3356d79fd1d5d19": {
      "model_module": "@jupyter-widgets/controls",
      "model_module_version": "1.5.0",
      "model_name": "DescriptionStyleModel",
      "state": {
       "description_width": ""
      }
     },
     "f08d20166f7d410888b3ca62e1febdd0": {
      "model_module": "@jupyter-widgets/controls",
      "model_module_version": "1.5.0",
      "model_name": "DescriptionStyleModel",
      "state": {
       "description_width": ""
      }
     },
     "f0fffa7264a942d49ba402fb54b36a7c": {
      "model_module": "@jupyter-widgets/controls",
      "model_module_version": "1.5.0",
      "model_name": "ComboboxModel",
      "state": {
       "description": "Second place: ",
       "ensure_option": false,
       "layout": "IPY_MODEL_1c20dc0bc76441a79a2224b12c325ccb",
       "options": [
        "Lax",
        "Felix",
        "Simon",
        "Nick",
        "Steve",
        "Jule",
        "Jakob",
        "Volker",
        "Kulti",
        "Marvman",
        "Elli",
        "Thomas",
        "Anna",
        "Reinhard"
       ],
       "placeholder": "Wähle Spieler",
       "style": "IPY_MODEL_fc85facc534849eaa1f43ae2fa1dd619"
      }
     },
     "f106afff345e41a78ff471b27ef0a9c7": {
      "model_module": "@jupyter-widgets/base",
      "model_module_version": "1.2.0",
      "model_name": "LayoutModel",
      "state": {}
     },
     "f1601dd315dd4dbd98921443ec13d525": {
      "model_module": "@jupyter-widgets/base",
      "model_module_version": "1.2.0",
      "model_name": "LayoutModel",
      "state": {}
     },
     "f17cc81b6b434ef78a637a409a960063": {
      "model_module": "@jupyter-widgets/base",
      "model_module_version": "1.2.0",
      "model_name": "LayoutModel",
      "state": {}
     },
     "f1fd8f19a01d4f3fa1564d994e1cf718": {
      "model_module": "@jupyter-widgets/base",
      "model_module_version": "1.2.0",
      "model_name": "LayoutModel",
      "state": {}
     },
     "f222b023b8914ac480b497d0318e3144": {
      "model_module": "@jupyter-widgets/controls",
      "model_module_version": "1.5.0",
      "model_name": "SliderStyleModel",
      "state": {
       "description_width": ""
      }
     },
     "f26cbc59e69f473a9e59986c56143219": {
      "model_module": "@jupyter-widgets/controls",
      "model_module_version": "1.5.0",
      "model_name": "CheckboxModel",
      "state": {
       "description": "Colonies",
       "disabled": false,
       "layout": "IPY_MODEL_e2cbb6866b324245afcd17cf182fdecd",
       "style": "IPY_MODEL_f4889e47f7c64a70ab0d9b535509c072",
       "value": true
      }
     },
     "f2c0d228dee84e3fa8f486c8e5e2561a": {
      "model_module": "@jupyter-widgets/controls",
      "model_module_version": "1.5.0",
      "model_name": "DescriptionStyleModel",
      "state": {
       "description_width": ""
      }
     },
     "f3086f754e83416197d3bab9ae77e593": {
      "model_module": "@jupyter-widgets/controls",
      "model_module_version": "1.5.0",
      "model_name": "ComboboxModel",
      "state": {
       "description": "First place: ",
       "ensure_option": false,
       "layout": "IPY_MODEL_940c00b237f3469482b46e4f377ae3b0",
       "options": [
        "Lax",
        "Felix",
        "Simon",
        "Nick",
        "Steve",
        "Jule",
        "Jakob",
        "Volker",
        "Kulti",
        "Marvman",
        "Elli",
        "Thomas",
        "Anna",
        "Reinhard"
       ],
       "placeholder": "Choose Someone",
       "style": "IPY_MODEL_5511693c9de4457a8279cf34e1cf1d73",
       "value": "Volker"
      }
     },
     "f38ca4de69164ab48f4029da3e702e10": {
      "model_module": "@jupyter-widgets/controls",
      "model_module_version": "1.5.0",
      "model_name": "IntSliderModel",
      "state": {
       "layout": "IPY_MODEL_15ad0b7b7a434205becae7473db1f230",
       "max": 200,
       "readout": false,
       "style": "IPY_MODEL_8e2598bc44c045c9bd3f101af07e01ce"
      }
     },
     "f3bc702b178d4251b1979d77cb41b98a": {
      "model_module": "@jupyter-widgets/controls",
      "model_module_version": "1.5.0",
      "model_name": "BoxModel",
      "state": {
       "children": [
        "IPY_MODEL_be2fff0cd15d4b3d865218e5182e3d3d",
        "IPY_MODEL_b25a378e65194346bed1f06a390c61db",
        "IPY_MODEL_1f130aae616e4fe9b4a6dc053c4c4220"
       ],
       "layout": "IPY_MODEL_2e4c6c90f23d430baf8d370bc53675b9"
      }
     },
     "f3c84fd1d14145e08d15d75d8a297433": {
      "model_module": "@jupyter-widgets/base",
      "model_module_version": "1.2.0",
      "model_name": "LayoutModel",
      "state": {
       "height": "4%",
       "width": "100%"
      }
     },
     "f41e59d0505c4c4e817eac3ff2a87b57": {
      "model_module": "@jupyter-widgets/controls",
      "model_module_version": "1.5.0",
      "model_name": "LinkModel",
      "state": {
       "source": [
        "IPY_MODEL_d3745dc2be71460b91cbc4f4089f69b8",
        "value"
       ],
       "target": [
        "IPY_MODEL_b977b5bb4d6d48d382cb1ca065497db9",
        "value"
       ]
      }
     },
     "f4485c36c2104b45850aeccbc8033bea": {
      "model_module": "@jupyter-widgets/base",
      "model_module_version": "1.2.0",
      "model_name": "LayoutModel",
      "state": {}
     },
     "f45086891a2d4ac69f85babc8eac7510": {
      "model_module": "@jupyter-widgets/base",
      "model_module_version": "1.2.0",
      "model_name": "LayoutModel",
      "state": {
       "width": "70%"
      }
     },
     "f4889e47f7c64a70ab0d9b535509c072": {
      "model_module": "@jupyter-widgets/controls",
      "model_module_version": "1.5.0",
      "model_name": "DescriptionStyleModel",
      "state": {
       "description_width": ""
      }
     },
     "f48e144d2d914eff8fa469c16b731283": {
      "model_module": "@jupyter-widgets/controls",
      "model_module_version": "1.5.0",
      "model_name": "VBoxModel",
      "state": {
       "children": [
        "IPY_MODEL_a617c1341b494341a23ef06458c059a0",
        "IPY_MODEL_a8713d7b9ac5432ba0ad23a483d552c1"
       ],
       "layout": "IPY_MODEL_94fe98da8bb84014bde53eaef49a6997"
      }
     },
     "f4a5dfb6fc624871a68cb8c1c6b23de7": {
      "model_module": "@jupyter-widgets/controls",
      "model_module_version": "1.5.0",
      "model_name": "ComboboxModel",
      "state": {
       "description": "Konzern:",
       "ensure_option": false,
       "layout": "IPY_MODEL_237bd3bb09dd4011b05cb3bee601e3b2",
       "options": [
        "Ace",
        "Aphrodite",
        "Astrodrill",
        "Arcadian Communities",
        "Arklight",
        "Aridor",
        "Astro Alliance",
        "Celestic",
        "Cheung Shing Mars",
        "Credicor",
        "Ecoline",
        "Factorum",
        "Fractal",
        "Helion",
        "Interplanetare Filmgesellschaft",
        "Inventrix",
        "Lakefront Resorts",
        "Manutec",
        "Marsanto",
        "Mining Guild",
        "Mons Insurance",
        "Morning Star Inc.",
        "Pharmacy Union",
        "Philares",
        "PhoboLog",
        "Point Luna",
        "Polyphemos",
        "Poseidon",
        "Pristar",
        "Recylon",
        "Republik Tharsis",
        "Robinson Industries",
        "Satrun Systems",
        "Septem Tribus",
        "Splice",
        "Stormcraft",
        "Teractor",
        "Terralabs",
        "Thermex",
        "Thorgate",
        "Tycho",
        "United Nations Mars Initiative",
        "Utopia Invest",
        "Valles Trust",
        "Viron",
        "Vitor"
       ],
       "placeholder": "-",
       "style": "IPY_MODEL_0472df0d98744ad59283ca63756169b6"
      }
     },
     "f4a976e9754c4a27861dc939a9f0cc18": {
      "model_module": "@jupyter-widgets/controls",
      "model_module_version": "1.5.0",
      "model_name": "IntSliderModel",
      "state": {
       "layout": "IPY_MODEL_23c8d6721105423394888bbeb870354c",
       "max": 200,
       "readout": false,
       "style": "IPY_MODEL_d0d2dfcaf98746eeb4acc2b2fdc1e8a2"
      }
     },
     "f4f548b2ac4b465ea1e4d5fe58e01917": {
      "model_module": "@jupyter-widgets/controls",
      "model_module_version": "1.5.0",
      "model_name": "DescriptionStyleModel",
      "state": {
       "description_width": ""
      }
     },
     "f4fd2593ba5a45359ddf248ca070fc83": {
      "model_module": "@jupyter-widgets/controls",
      "model_module_version": "1.5.0",
      "model_name": "ComboboxModel",
      "state": {
       "description": "First place: ",
       "ensure_option": false,
       "layout": "IPY_MODEL_04000321b8de4485954a933f8b867a53",
       "options": [
        "Lax",
        "Felix",
        "Simon",
        "Nick",
        "Steve",
        "Jule",
        "Jakob",
        "Volker",
        "Kulti",
        "Marvman",
        "Elli",
        "Thomas",
        "Anna",
        "Reinhard"
       ],
       "placeholder": "Wähle Spieler",
       "style": "IPY_MODEL_c391b0fa46e64421811419fbb75c67ef"
      }
     },
     "f5317614c0d84c059eaaf417e2d73311": {
      "model_module": "@jupyter-widgets/controls",
      "model_module_version": "1.5.0",
      "model_name": "ButtonModel",
      "state": {
       "layout": "IPY_MODEL_97608ef3999e40b7a3459b21b1a74d46",
       "style": "IPY_MODEL_25fa360008df4d8d89f23e1b27a1c34c"
      }
     },
     "f5fafd55b0d4444ead7d9e0d617c3d21": {
      "model_module": "@jupyter-widgets/base",
      "model_module_version": "1.2.0",
      "model_name": "LayoutModel",
      "state": {}
     },
     "f61f5d57347b4b5fb10fec40f6a63dac": {
      "model_module": "@jupyter-widgets/base",
      "model_module_version": "1.2.0",
      "model_name": "LayoutModel",
      "state": {
       "width": "70%"
      }
     },
     "f6d82ad3e2944ff6ab2f8e8435597896": {
      "model_module": "@jupyter-widgets/controls",
      "model_module_version": "1.5.0",
      "model_name": "CheckboxModel",
      "state": {
       "description": "Venus",
       "disabled": false,
       "layout": "IPY_MODEL_ee568a45db48418c91d9a3f70016c567",
       "style": "IPY_MODEL_16fb90abcad441099114693abd13d244",
       "value": true
      }
     },
     "f721cbd498a044bf915cc8a72979543f": {
      "model_module": "@jupyter-widgets/controls",
      "model_module_version": "1.5.0",
      "model_name": "IntTextModel",
      "state": {
       "description": "Punkte:",
       "layout": "IPY_MODEL_13f50a72562948abbd568fe626b522fb",
       "step": 1,
       "style": "IPY_MODEL_a0afadee164b4aa3bdc7dc52d0b17621"
      }
     },
     "f758e998e0e44b00b3310a78ab6ee033": {
      "model_module": "@jupyter-widgets/controls",
      "model_module_version": "1.5.0",
      "model_name": "ToggleButtonModel",
      "state": {
       "description": "Thomas",
       "layout": "IPY_MODEL_6427997f6565497ea7d138b4c4374ab4",
       "style": "IPY_MODEL_019a214340484775a1d6eb28dcaebeec"
      }
     },
     "f77e75522693499fb7761f419dfb4800": {
      "model_module": "@jupyter-widgets/controls",
      "model_module_version": "1.5.0",
      "model_name": "BoxModel",
      "state": {
       "children": [
        "IPY_MODEL_b3567600e85a442ea2e35400b961294f",
        "IPY_MODEL_a4c78d2e81524a739693f806f2a37495",
        "IPY_MODEL_c224cdd0802a4c35b6a163a1f9c5ed77"
       ],
       "layout": "IPY_MODEL_866049bedc204333a84704dc3cca7aa5"
      }
     },
     "f7a0d6a7b5b6472fa4e084a5ae5206b8": {
      "model_module": "@jupyter-widgets/base",
      "model_module_version": "1.2.0",
      "model_name": "LayoutModel",
      "state": {
       "height": "4%",
       "width": "100%"
      }
     },
     "f7b5f76f4e0148f5b4d6323531ea2804": {
      "model_module": "@jupyter-widgets/base",
      "model_module_version": "1.2.0",
      "model_name": "LayoutModel",
      "state": {}
     },
     "f7d68869d9504b2da16e18f298edbd5d": {
      "model_module": "@jupyter-widgets/controls",
      "model_module_version": "1.5.0",
      "model_name": "ToggleButtonModel",
      "state": {
       "description": "Reinhard",
       "layout": "IPY_MODEL_8ad161fb41a342dca2e1a5b1ae3a1cfc",
       "style": "IPY_MODEL_469a1d912a8a4f79bf7594c32f6bd47b",
       "value": true
      }
     },
     "f82dde534b39403ab4d545d07a97408d": {
      "model_module": "@jupyter-widgets/controls",
      "model_module_version": "1.5.0",
      "model_name": "ComboboxModel",
      "state": {
       "description": "Konzern:",
       "ensure_option": false,
       "layout": "IPY_MODEL_440bae690f384f8cba2fed490319f93e",
       "options": [
        "Ace",
        "Aphrodite",
        "Astrodrill",
        "Arcadian Communities",
        "Arklight",
        "Aridor",
        "Astro Alliance",
        "Celestic",
        "Cheung Shing Mars",
        "Credicor",
        "Ecoline",
        "Factorum",
        "Fractal",
        "Helion",
        "Interplanetare Filmgesellschaft",
        "Inventrix",
        "Lakefront Resorts",
        "Manutec",
        "Marsanto",
        "Mining Guild",
        "Mons Insurance",
        "Morning Star Inc.",
        "Pharmacy Union",
        "Philares",
        "PhoboLog",
        "Point Luna",
        "Polyphemos",
        "Poseidon",
        "Pristar",
        "Recylon",
        "Republik Tharsis",
        "Robinson Industries",
        "Satrun Systems",
        "Septem Tribus",
        "Splice",
        "Stormcraft",
        "Teractor",
        "Terralabs",
        "Thermex",
        "Thorgate",
        "Tycho",
        "United Nations Mars Initiative",
        "Utopia Invest",
        "Valles Trust",
        "Viron",
        "Vitor"
       ],
       "placeholder": "-",
       "style": "IPY_MODEL_e3695264b15b4774838ed30673ddc3e1"
      }
     },
     "f8517e9c8b974d61bd4a3efc5c59fb92": {
      "model_module": "@jupyter-widgets/base",
      "model_module_version": "1.2.0",
      "model_name": "LayoutModel",
      "state": {
       "width": "70%"
      }
     },
     "f8736d28574a4e6b9e933b00f2ee503c": {
      "model_module": "@jupyter-widgets/base",
      "model_module_version": "1.2.0",
      "model_name": "LayoutModel",
      "state": {
       "width": "70%"
      }
     },
     "f92b6c951acf4bc1954d9d032718f290": {
      "model_module": "@jupyter-widgets/controls",
      "model_module_version": "1.5.0",
      "model_name": "ComboboxModel",
      "state": {
       "description": "Forth place: ",
       "ensure_option": false,
       "layout": "IPY_MODEL_803108b179944af7a2c62ce47bac815c",
       "options": [
        "Lax",
        "Felix",
        "Simon",
        "Nick",
        "Steve",
        "Jule",
        "Jakob",
        "Volker",
        "Kulti",
        "Marvman",
        "Elli",
        "Thomas",
        "Anna",
        "Reinhard"
       ],
       "placeholder": "Choose Someone",
       "style": "IPY_MODEL_c1cdbd18d81f4e10b9c6d72239fd8c58"
      }
     },
     "f936a68866374167b842a0b3e0e9e996": {
      "model_module": "@jupyter-widgets/controls",
      "model_module_version": "1.5.0",
      "model_name": "ComboboxModel",
      "state": {
       "description": "Forth place: ",
       "ensure_option": false,
       "layout": "IPY_MODEL_d73fc9f7daad4b6abc5871a91cb70874",
       "options": [
        "Lax",
        "Felix",
        "Simon",
        "Nick",
        "Steve",
        "Jule",
        "Jakob",
        "Volker",
        "Kulti",
        "Marvman",
        "Elli",
        "Thomas",
        "Anna",
        "Reinhard"
       ],
       "placeholder": "Wähle Spieler",
       "style": "IPY_MODEL_49e6a69dd1564e989409508feb97891f"
      }
     },
     "f94720f355044432b4bfe39b26a9a1f1": {
      "model_module": "@jupyter-widgets/controls",
      "model_module_version": "1.5.0",
      "model_name": "LinkModel",
      "state": {
       "source": [
        "IPY_MODEL_8dd46cac8218411bb838fa26a317fd90",
        "value"
       ],
       "target": [
        "IPY_MODEL_0149d18cdf904c0cbfcc0f5f21199acd",
        "value"
       ]
      }
     },
     "f95f5430b38044218cd15504a03744ae": {
      "model_module": "@jupyter-widgets/base",
      "model_module_version": "1.2.0",
      "model_name": "LayoutModel",
      "state": {}
     },
     "f97db1e1334d432796aa64db93bc300f": {
      "model_module": "@jupyter-widgets/controls",
      "model_module_version": "1.5.0",
      "model_name": "SliderStyleModel",
      "state": {
       "description_width": ""
      }
     },
     "f9f751bdc1484ae4a1ef43ea60f0221e": {
      "model_module": "@jupyter-widgets/controls",
      "model_module_version": "1.5.0",
      "model_name": "ComboboxModel",
      "state": {
       "description": "Konzern:",
       "ensure_option": false,
       "layout": "IPY_MODEL_809f09839d284215b2227009397ec5c0",
       "options": [
        "Ace",
        "Aphrodite",
        "Astrodrill",
        "Arcadian Communities",
        "Arklight",
        "Aridor",
        "Astro Alliance",
        "Celestic",
        "Cheung Shing Mars",
        "Credicor",
        "Ecoline",
        "Factorum",
        "Fractal",
        "Helion",
        "Interplanetare Filmgesellschaft",
        "Inventrix",
        "Lakefront Resorts",
        "Manutec",
        "Marsanto",
        "Mining Guild",
        "Mons Insurance",
        "Morning Star Inc.",
        "Pharmacy Union",
        "Philares",
        "PhoboLog",
        "Point Luna",
        "Polyphemos",
        "Poseidon",
        "Pristar",
        "Recylon",
        "Republik Tharsis",
        "Robinson Industries",
        "Satrun Systems",
        "Septem Tribus",
        "Splice",
        "Stormcraft",
        "Teractor",
        "Terralabs",
        "Thermex",
        "Thorgate",
        "Tycho",
        "United Nations Mars Initiative",
        "Utopia Invest",
        "Valles Trust",
        "Viron",
        "Vitor"
       ],
       "placeholder": "-",
       "style": "IPY_MODEL_91a6a0e067454efaa42157a467da9401"
      }
     },
     "fa2a39168563446ea546fd83d7c7904f": {
      "model_module": "@jupyter-widgets/controls",
      "model_module_version": "1.5.0",
      "model_name": "ButtonStyleModel",
      "state": {}
     },
     "fb64b159de45485d85e5fdf35318373e": {
      "model_module": "@jupyter-widgets/base",
      "model_module_version": "1.2.0",
      "model_name": "LayoutModel",
      "state": {}
     },
     "fb95ca1836834842a28326c19d8d7e7c": {
      "model_module": "@jupyter-widgets/controls",
      "model_module_version": "1.5.0",
      "model_name": "ButtonStyleModel",
      "state": {}
     },
     "fbf495638939468d8828caf185814683": {
      "model_module": "@jupyter-widgets/controls",
      "model_module_version": "1.5.0",
      "model_name": "SliderStyleModel",
      "state": {
       "description_width": ""
      }
     },
     "fc83bc50b4784ecdbdb890913795ed90": {
      "model_module": "@jupyter-widgets/base",
      "model_module_version": "1.2.0",
      "model_name": "LayoutModel",
      "state": {}
     },
     "fc85facc534849eaa1f43ae2fa1dd619": {
      "model_module": "@jupyter-widgets/controls",
      "model_module_version": "1.5.0",
      "model_name": "DescriptionStyleModel",
      "state": {
       "description_width": ""
      }
     },
     "fcc5434f9f104001b15fc1d1f1b831e1": {
      "model_module": "@jupyter-widgets/base",
      "model_module_version": "1.2.0",
      "model_name": "LayoutModel",
      "state": {}
     },
     "fd3e259a07de4a39b1a2596d53188535": {
      "model_module": "@jupyter-widgets/controls",
      "model_module_version": "1.5.0",
      "model_name": "SliderStyleModel",
      "state": {
       "description_width": ""
      }
     },
     "fd4ccfe824b747eb8bd327cdb3d940e3": {
      "model_module": "@jupyter-widgets/controls",
      "model_module_version": "1.5.0",
      "model_name": "DescriptionStyleModel",
      "state": {
       "description_width": ""
      }
     },
     "fdb677299fe3445f8d4b134f325434ca": {
      "model_module": "@jupyter-widgets/controls",
      "model_module_version": "1.5.0",
      "model_name": "VBoxModel",
      "state": {
       "children": [
        "IPY_MODEL_4f68060d115549d68abfd1bbe0bdfae5",
        "IPY_MODEL_fdeeb51f5fe748f88738a42462f3407f"
       ],
       "layout": "IPY_MODEL_1f5499cca6264f0d884f01981fbb80f5"
      }
     },
     "fdeeb51f5fe748f88738a42462f3407f": {
      "model_module": "@jupyter-widgets/controls",
      "model_module_version": "1.5.0",
      "model_name": "IntSliderModel",
      "state": {
       "layout": "IPY_MODEL_34bcf0601fdf4bda91696fdaed5521f4",
       "max": 200,
       "readout": false,
       "style": "IPY_MODEL_f97db1e1334d432796aa64db93bc300f"
      }
     },
     "fe1902394d0240e9945fde54cd0bb1be": {
      "model_module": "@jupyter-widgets/base",
      "model_module_version": "1.2.0",
      "model_name": "LayoutModel",
      "state": {
       "width": "70%"
      }
     },
     "fe20211ffa484be3a1770617ffe0f1f0": {
      "model_module": "@jupyter-widgets/base",
      "model_module_version": "1.2.0",
      "model_name": "LayoutModel",
      "state": {}
     },
     "fe9c4eb81acb4308b3e24c50e75147b9": {
      "model_module": "@jupyter-widgets/controls",
      "model_module_version": "1.5.0",
      "model_name": "ButtonStyleModel",
      "state": {}
     },
     "feb1b8410b6045ab960ed4d1973e4327": {
      "model_module": "@jupyter-widgets/controls",
      "model_module_version": "1.5.0",
      "model_name": "ButtonModel",
      "state": {
       "description": "Submit result!",
       "layout": "IPY_MODEL_e8a04e2e148943a58807fb7e89ee2ec4",
       "style": "IPY_MODEL_47f0d60a7453436b91b305f1b494e1fc"
      }
     },
     "ff6009ee987d47a1bbb17f2299506ea3": {
      "model_module": "@jupyter-widgets/controls",
      "model_module_version": "1.5.0",
      "model_name": "DescriptionStyleModel",
      "state": {
       "description_width": ""
      }
     },
     "ff90592032f548e494afad0495972e69": {
      "model_module": "@jupyter-widgets/base",
      "model_module_version": "1.2.0",
      "model_name": "LayoutModel",
      "state": {}
     },
     "ffa79dbc54ab4bfcaf5c27eea7f7b446": {
      "model_module": "@jupyter-widgets/base",
      "model_module_version": "1.2.0",
      "model_name": "LayoutModel",
      "state": {}
     },
     "ffefd0dd4dca42df8afbc65bf57351c4": {
      "model_module": "@jupyter-widgets/base",
      "model_module_version": "1.2.0",
      "model_name": "LayoutModel",
      "state": {}
     }
    },
    "version_major": 2,
    "version_minor": 0
   }
  }
 },
 "nbformat": 4,
 "nbformat_minor": 5
}
